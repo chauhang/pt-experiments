{
 "cells": [
  {
   "cell_type": "markdown",
   "id": "4e0ba635",
   "metadata": {},
   "source": [
    "### Imports"
   ]
  },
  {
   "cell_type": "code",
   "execution_count": 1,
   "id": "270f52da",
   "metadata": {},
   "outputs": [],
   "source": [
    "import xml.etree.ElementTree as ET\n",
    "import pandas as pd\n",
    "from tqdm import tqdm"
   ]
  },
  {
   "cell_type": "code",
   "execution_count": 19,
   "id": "b239459a",
   "metadata": {},
   "outputs": [],
   "source": []
  },
  {
   "cell_type": "markdown",
   "id": "a3a5bff8",
   "metadata": {},
   "source": [
    "### Parse the Posts.xml. \n",
    "\n",
    "Note: This step may take around 20-30 mins"
   ]
  },
  {
   "cell_type": "code",
   "execution_count": 2,
   "id": "6c2e2956",
   "metadata": {},
   "outputs": [],
   "source": [
    "tree = ET.parse('Posts.xml')"
   ]
  },
  {
   "cell_type": "code",
   "execution_count": null,
   "id": "a32656e0",
   "metadata": {},
   "outputs": [],
   "source": []
  },
  {
   "cell_type": "markdown",
   "id": "b355688d",
   "metadata": {},
   "source": [
    "### Extract necessary fields from xml"
   ]
  },
  {
   "cell_type": "code",
   "execution_count": 3,
   "id": "95d4c113",
   "metadata": {},
   "outputs": [],
   "source": [
    "root = tree.getroot()"
   ]
  },
  {
   "cell_type": "code",
   "execution_count": 105,
   "id": "0bab8e23",
   "metadata": {},
   "outputs": [
    {
     "name": "stderr",
     "output_type": "stream",
     "text": [
      "100%|███████████████████████████████████████████████████████████████████████████████████████████████████████████████████████████████████████████████████████| 57721548/57721548 [02:00<00:00, 480581.42it/s]\n"
     ]
    }
   ],
   "source": [
    "pt_title = []\n",
    "pt_post_id = []\n",
    "pt_post_type_id = []\n",
    "pt_accepted_answer_id = []\n",
    "pt_creation_date = []\n",
    "pt_score = []\n",
    "pt_body = []\n",
    "pt_tags = []\n",
    "pt_parent_id = []\n",
    "\n",
    "# Iterate through the elements in the XML file\n",
    "for post in tqdm(root):\n",
    "    # Extract the necessary information\n",
    "    post_id = post.get('Id')\n",
    "    post_type_id = post.get('PostTypeId')\n",
    "    accepted_answer_id = post.get('AcceptedAnswerId')\n",
    "    creation_date = post.get('CreationDate')\n",
    "    score = post.get('Score')\n",
    "    body = post.get('Body')\n",
    "    tag = post.get(\"Tags\")\n",
    "    title = post.get(\"Title\")\n",
    "    parent_id = post.get(\"ParentId\")\n",
    "    \n",
    "    # Print the extracted information\n",
    "#     if tag and \"pytorch\" in tag:\n",
    "#         print('Post ID:', post_id)\n",
    "#         print('Post Type ID:', post_type_id)\n",
    "#         print('Accepted Answer ID:', accepted_answer_id)\n",
    "#         print('Creation Date:', creation_date)\n",
    "#         print('Score:', score)\n",
    "#         print('Body:', body)\n",
    "#         print(\"Tags: \", tag)\n",
    "    pt_post_id.append(post_id)\n",
    "    pt_post_type_id.append(post_type_id)\n",
    "    pt_accepted_answer_id.append(accepted_answer_id)\n",
    "    pt_creation_date.append(creation_date)\n",
    "    pt_score.append(score)\n",
    "    pt_body.append(body)\n",
    "    pt_tags.append(tag)\n",
    "    pt_title.append(title)\n",
    "    pt_parent_id.append(parent_id)\n",
    "    \n",
    "    "
   ]
  },
  {
   "cell_type": "code",
   "execution_count": 106,
   "id": "fbf9c6a6",
   "metadata": {},
   "outputs": [
    {
     "data": {
      "text/plain": [
       "57721548"
      ]
     },
     "execution_count": 106,
     "metadata": {},
     "output_type": "execute_result"
    }
   ],
   "source": [
    "len(pt_post_id)"
   ]
  },
  {
   "cell_type": "code",
   "execution_count": null,
   "id": "7ed3d6c5",
   "metadata": {},
   "outputs": [],
   "source": []
  },
  {
   "cell_type": "code",
   "execution_count": 107,
   "id": "3fd4c24e",
   "metadata": {},
   "outputs": [],
   "source": [
    "questions_df = pd.DataFrame({\n",
    "    \"pt_post_id\" : pt_post_id,\n",
    "    \"pt_post_type_id\": pt_post_type_id,\n",
    "    \"pt_accepted_answer_id\": pt_accepted_answer_id,\n",
    "    \"pt_creation_date\": pt_creation_date,\n",
    "    \"pt_score\": pt_score,\n",
    "    \"pt_title\": pt_title,\n",
    "    \"pt_body\": pt_body,\n",
    "    \"pt_tags\": pt_tags,\n",
    "    \"pt_parent_id\": pt_parent_id\n",
    "})"
   ]
  },
  {
   "cell_type": "code",
   "execution_count": 108,
   "id": "39be1e74",
   "metadata": {},
   "outputs": [
    {
     "data": {
      "text/plain": [
       "(57721548, 9)"
      ]
     },
     "execution_count": 108,
     "metadata": {},
     "output_type": "execute_result"
    }
   ],
   "source": [
    "questions_df.shape"
   ]
  },
  {
   "cell_type": "code",
   "execution_count": 188,
   "id": "5f41b980",
   "metadata": {},
   "outputs": [
    {
     "data": {
      "text/plain": [
       "(23273009, 9)"
      ]
     },
     "execution_count": 188,
     "metadata": {},
     "output_type": "execute_result"
    }
   ],
   "source": [
    "questions_df[questions_df.pt_post_type_id == \"1\"].shape"
   ]
  },
  {
   "cell_type": "markdown",
   "id": "cffd56fa",
   "metadata": {},
   "source": [
    "### Query and extract pytorch posts"
   ]
  },
  {
   "cell_type": "code",
   "execution_count": 109,
   "id": "f54f76cc",
   "metadata": {},
   "outputs": [],
   "source": [
    "questions_df[\"pt_tags\"] = questions_df[\"pt_tags\"].str.lower()"
   ]
  },
  {
   "cell_type": "code",
   "execution_count": 110,
   "id": "909a845d",
   "metadata": {},
   "outputs": [],
   "source": [
    "pt_questions_df = questions_df[(questions_df[\"pt_tags\"].notna()) & (questions_df[\"pt_tags\"].str.contains(\"pytorch\"))]"
   ]
  },
  {
   "cell_type": "markdown",
   "id": "4f92f9d6",
   "metadata": {},
   "source": [
    "### Lets split the dataframe into two parts\n",
    "\n",
    "1. Questions which has accepted answer\n",
    "2. Questions which doesn't have accepted answers"
   ]
  },
  {
   "cell_type": "code",
   "execution_count": 111,
   "id": "beb95f16",
   "metadata": {},
   "outputs": [],
   "source": [
    "questions_with_accepted_df = pt_questions_df[pt_questions_df.pt_accepted_answer_id.notna()]\n",
    "questions_without_accepted_df = pt_questions_df[pt_questions_df.pt_accepted_answer_id.isnull()]"
   ]
  },
  {
   "cell_type": "code",
   "execution_count": 112,
   "id": "d645701e",
   "metadata": {},
   "outputs": [],
   "source": [
    "assert pt_questions_df.shape[0] == (questions_with_accepted_df.shape[0] + questions_without_accepted_df.shape[0])"
   ]
  },
  {
   "cell_type": "markdown",
   "id": "71de5f8b",
   "metadata": {},
   "source": [
    "### For Each question in questions_with_accepted_df, lets query the database and find out the accepted answer post. \n",
    "\n",
    "To find the accepted answer from db, we need to query `AcceptedAnswerId` from question and search for `Id` as `AcceptedAnswerId` and `PostTypeId` == \"2\""
   ]
  },
  {
   "cell_type": "code",
   "execution_count": 113,
   "id": "4c1b1f8a",
   "metadata": {},
   "outputs": [
    {
     "data": {
      "text/plain": [
       "(7558, 9)"
      ]
     },
     "execution_count": 113,
     "metadata": {},
     "output_type": "execute_result"
    }
   ],
   "source": [
    "questions_with_accepted_df.shape"
   ]
  },
  {
   "cell_type": "code",
   "execution_count": 114,
   "id": "79382cf9",
   "metadata": {},
   "outputs": [],
   "source": [
    "accepted_answer_df = questions_df[questions_df.pt_post_id.isin(questions_with_accepted_df.pt_accepted_answer_id)]"
   ]
  },
  {
   "cell_type": "code",
   "execution_count": 115,
   "id": "4e03b53f",
   "metadata": {},
   "outputs": [],
   "source": [
    "assert questions_with_accepted_df.shape[0] == accepted_answer_df.shape[0]"
   ]
  },
  {
   "cell_type": "code",
   "execution_count": 116,
   "id": "7d6f2d0d",
   "metadata": {},
   "outputs": [],
   "source": [
    "accepted_answer_body_list = accepted_answer_df.pt_body.tolist()"
   ]
  },
  {
   "cell_type": "code",
   "execution_count": 117,
   "id": "83ccdadf",
   "metadata": {},
   "outputs": [
    {
     "name": "stderr",
     "output_type": "stream",
     "text": [
      "/tmp/ipykernel_27762/2583851467.py:1: SettingWithCopyWarning: \n",
      "A value is trying to be set on a copy of a slice from a DataFrame.\n",
      "Try using .loc[row_indexer,col_indexer] = value instead\n",
      "\n",
      "See the caveats in the documentation: https://pandas.pydata.org/pandas-docs/stable/user_guide/indexing.html#returning-a-view-versus-a-copy\n",
      "  questions_with_accepted_df[\"pt_answer\"] = accepted_answer_body_list\n"
     ]
    }
   ],
   "source": [
    "questions_with_accepted_df[\"pt_answer\"] = accepted_answer_body_list"
   ]
  },
  {
   "cell_type": "code",
   "execution_count": 118,
   "id": "1db8d4c0",
   "metadata": {},
   "outputs": [
    {
     "data": {
      "text/html": [
       "<div>\n",
       "<style scoped>\n",
       "    .dataframe tbody tr th:only-of-type {\n",
       "        vertical-align: middle;\n",
       "    }\n",
       "\n",
       "    .dataframe tbody tr th {\n",
       "        vertical-align: top;\n",
       "    }\n",
       "\n",
       "    .dataframe thead th {\n",
       "        text-align: right;\n",
       "    }\n",
       "</style>\n",
       "<table border=\"1\" class=\"dataframe\">\n",
       "  <thead>\n",
       "    <tr style=\"text-align: right;\">\n",
       "      <th></th>\n",
       "      <th>pt_post_id</th>\n",
       "      <th>pt_post_type_id</th>\n",
       "      <th>pt_accepted_answer_id</th>\n",
       "      <th>pt_creation_date</th>\n",
       "      <th>pt_score</th>\n",
       "      <th>pt_title</th>\n",
       "      <th>pt_body</th>\n",
       "      <th>pt_tags</th>\n",
       "      <th>pt_parent_id</th>\n",
       "      <th>pt_answer</th>\n",
       "    </tr>\n",
       "  </thead>\n",
       "  <tbody>\n",
       "    <tr>\n",
       "      <th>27837861</th>\n",
       "      <td>34750268</td>\n",
       "      <td>1</td>\n",
       "      <td>34762233</td>\n",
       "      <td>2016-01-12T17:36:25.473</td>\n",
       "      <td>9</td>\n",
       "      <td>Extracting the top-k value-indices from a 1-D ...</td>\n",
       "      <td>&lt;p&gt;Given a 1-D tensor in Torch (&lt;code&gt;torch.Te...</td>\n",
       "      <td>&lt;python&gt;&lt;lua&gt;&lt;pytorch&gt;&lt;torch&gt;</td>\n",
       "      <td>None</td>\n",
       "      <td>&lt;p&gt;As of pull request &lt;a href=\"https://github....</td>\n",
       "    </tr>\n",
       "    <tr>\n",
       "      <th>30769673</th>\n",
       "      <td>38543850</td>\n",
       "      <td>1</td>\n",
       "      <td>38676842</td>\n",
       "      <td>2016-07-23T16:15:43.967</td>\n",
       "      <td>40</td>\n",
       "      <td>How to Display Custom Images in Tensorboard (e...</td>\n",
       "      <td>&lt;p&gt;The &lt;a href=\"https://github.com/tensorflow/...</td>\n",
       "      <td>&lt;python&gt;&lt;tensorflow&gt;&lt;matplotlib&gt;&lt;pytorch&gt;&lt;tens...</td>\n",
       "      <td>None</td>\n",
       "      <td>&lt;p&gt;It is quite easy to do if you have the imag...</td>\n",
       "    </tr>\n",
       "    <tr>\n",
       "      <th>33236300</th>\n",
       "      <td>41767005</td>\n",
       "      <td>1</td>\n",
       "      <td>43824857</td>\n",
       "      <td>2017-01-20T15:22:08.063</td>\n",
       "      <td>11</td>\n",
       "      <td>Python wheels: cp27mu not supported</td>\n",
       "      <td>&lt;p&gt;I'm trying to install pytorch (&lt;a href=\"htt...</td>\n",
       "      <td>&lt;python&gt;&lt;linux&gt;&lt;unicode&gt;&lt;pytorch&gt;</td>\n",
       "      <td>None</td>\n",
       "      <td>&lt;p&gt;Yes, that is possible. Just create the obje...</td>\n",
       "    </tr>\n",
       "    <tr>\n",
       "      <th>33307877</th>\n",
       "      <td>41861354</td>\n",
       "      <td>1</td>\n",
       "      <td>54261158</td>\n",
       "      <td>2017-01-25T20:45:35.297</td>\n",
       "      <td>8</td>\n",
       "      <td>Loading Torch7 trained models (.t7) in PyTorch</td>\n",
       "      <td>&lt;p&gt;I am using Torch7 library for implementing ...</td>\n",
       "      <td>&lt;python&gt;&lt;lua&gt;&lt;pytorch&gt;&lt;torch&gt;&lt;pre-trained-model&gt;</td>\n",
       "      <td>None</td>\n",
       "      <td>&lt;p&gt;&lt;code&gt;view()&lt;/code&gt; reshapes the tensor wit...</td>\n",
       "    </tr>\n",
       "    <tr>\n",
       "      <th>33355427</th>\n",
       "      <td>41924453</td>\n",
       "      <td>1</td>\n",
       "      <td>42054194</td>\n",
       "      <td>2017-01-29T18:31:24.687</td>\n",
       "      <td>65</td>\n",
       "      <td>PyTorch: How to use DataLoaders for custom Dat...</td>\n",
       "      <td>&lt;p&gt;How to make use of the &lt;code&gt;torch.utils.da...</td>\n",
       "      <td>&lt;python&gt;&lt;torch&gt;&lt;pytorch&gt;</td>\n",
       "      <td>None</td>\n",
       "      <td>&lt;p&gt;While you will not get as detailed informat...</td>\n",
       "    </tr>\n",
       "  </tbody>\n",
       "</table>\n",
       "</div>"
      ],
      "text/plain": [
       "         pt_post_id pt_post_type_id pt_accepted_answer_id  \\\n",
       "27837861   34750268               1              34762233   \n",
       "30769673   38543850               1              38676842   \n",
       "33236300   41767005               1              43824857   \n",
       "33307877   41861354               1              54261158   \n",
       "33355427   41924453               1              42054194   \n",
       "\n",
       "                 pt_creation_date pt_score  \\\n",
       "27837861  2016-01-12T17:36:25.473        9   \n",
       "30769673  2016-07-23T16:15:43.967       40   \n",
       "33236300  2017-01-20T15:22:08.063       11   \n",
       "33307877  2017-01-25T20:45:35.297        8   \n",
       "33355427  2017-01-29T18:31:24.687       65   \n",
       "\n",
       "                                                   pt_title  \\\n",
       "27837861  Extracting the top-k value-indices from a 1-D ...   \n",
       "30769673  How to Display Custom Images in Tensorboard (e...   \n",
       "33236300                Python wheels: cp27mu not supported   \n",
       "33307877     Loading Torch7 trained models (.t7) in PyTorch   \n",
       "33355427  PyTorch: How to use DataLoaders for custom Dat...   \n",
       "\n",
       "                                                    pt_body  \\\n",
       "27837861  <p>Given a 1-D tensor in Torch (<code>torch.Te...   \n",
       "30769673  <p>The <a href=\"https://github.com/tensorflow/...   \n",
       "33236300  <p>I'm trying to install pytorch (<a href=\"htt...   \n",
       "33307877  <p>I am using Torch7 library for implementing ...   \n",
       "33355427  <p>How to make use of the <code>torch.utils.da...   \n",
       "\n",
       "                                                    pt_tags pt_parent_id  \\\n",
       "27837861                      <python><lua><pytorch><torch>         None   \n",
       "30769673  <python><tensorflow><matplotlib><pytorch><tens...         None   \n",
       "33236300                  <python><linux><unicode><pytorch>         None   \n",
       "33307877   <python><lua><pytorch><torch><pre-trained-model>         None   \n",
       "33355427                           <python><torch><pytorch>         None   \n",
       "\n",
       "                                                  pt_answer  \n",
       "27837861  <p>As of pull request <a href=\"https://github....  \n",
       "30769673  <p>It is quite easy to do if you have the imag...  \n",
       "33236300  <p>Yes, that is possible. Just create the obje...  \n",
       "33307877  <p><code>view()</code> reshapes the tensor wit...  \n",
       "33355427  <p>While you will not get as detailed informat...  "
      ]
     },
     "execution_count": 118,
     "metadata": {},
     "output_type": "execute_result"
    }
   ],
   "source": [
    "questions_with_accepted_df.head()"
   ]
  },
  {
   "cell_type": "code",
   "execution_count": null,
   "id": "7e23da1b",
   "metadata": {},
   "outputs": [],
   "source": []
  },
  {
   "cell_type": "markdown",
   "id": "b8b8e889",
   "metadata": {},
   "source": [
    "### For questions without accepted answers"
   ]
  },
  {
   "cell_type": "markdown",
   "id": "3c786988",
   "metadata": {},
   "source": [
    "#### From the whole dump lets extract the rows which contains only answers"
   ]
  },
  {
   "cell_type": "code",
   "execution_count": 120,
   "id": "b6916d8f",
   "metadata": {},
   "outputs": [],
   "source": [
    "answers_df = questions_df[questions_df.pt_post_type_id == \"2\"]"
   ]
  },
  {
   "cell_type": "code",
   "execution_count": 121,
   "id": "d90724ee",
   "metadata": {},
   "outputs": [
    {
     "data": {
      "text/plain": [
       "(34337401, 9)"
      ]
     },
     "execution_count": 121,
     "metadata": {},
     "output_type": "execute_result"
    }
   ],
   "source": [
    "answers_df.shape"
   ]
  },
  {
   "cell_type": "markdown",
   "id": "577a5c99",
   "metadata": {},
   "source": [
    "#### Extract the rows where the parent id matches the post id of not accepted df"
   ]
  },
  {
   "cell_type": "code",
   "execution_count": 162,
   "id": "168ceb7c",
   "metadata": {},
   "outputs": [
    {
     "data": {
      "text/plain": [
       "(12279, 9)"
      ]
     },
     "execution_count": 162,
     "metadata": {},
     "output_type": "execute_result"
    }
   ],
   "source": [
    "questions_without_accepted_df.shape"
   ]
  },
  {
   "cell_type": "code",
   "execution_count": 163,
   "id": "270eb17c",
   "metadata": {},
   "outputs": [],
   "source": [
    "answers_not_accepted_df = answers_df[answers_df.pt_parent_id.isin(questions_without_accepted_df.pt_post_id)]"
   ]
  },
  {
   "cell_type": "code",
   "execution_count": 164,
   "id": "803b72b9",
   "metadata": {},
   "outputs": [
    {
     "data": {
      "text/plain": [
       "(8596, 9)"
      ]
     },
     "execution_count": 164,
     "metadata": {},
     "output_type": "execute_result"
    }
   ],
   "source": [
    "answers_not_accepted_df.shape"
   ]
  },
  {
   "cell_type": "code",
   "execution_count": 165,
   "id": "2acad7f7",
   "metadata": {},
   "outputs": [
    {
     "data": {
      "text/plain": [
       "6638"
      ]
     },
     "execution_count": 165,
     "metadata": {},
     "output_type": "execute_result"
    }
   ],
   "source": [
    "answers_not_accepted_df.pt_parent_id.nunique()"
   ]
  },
  {
   "cell_type": "code",
   "execution_count": 166,
   "id": "fb9910f2",
   "metadata": {},
   "outputs": [
    {
     "name": "stderr",
     "output_type": "stream",
     "text": [
      "/tmp/ipykernel_27762/1522789096.py:1: SettingWithCopyWarning: \n",
      "A value is trying to be set on a copy of a slice from a DataFrame\n",
      "\n",
      "See the caveats in the documentation: https://pandas.pydata.org/pandas-docs/stable/user_guide/indexing.html#returning-a-view-versus-a-copy\n",
      "  answers_not_accepted_df.sort_values(by=[\"pt_score\"], inplace=True, ascending=False)\n"
     ]
    }
   ],
   "source": [
    "answers_not_accepted_df.sort_values(by=[\"pt_score\"], inplace=True, ascending=False)"
   ]
  },
  {
   "cell_type": "code",
   "execution_count": 167,
   "id": "1a27886d",
   "metadata": {},
   "outputs": [
    {
     "name": "stderr",
     "output_type": "stream",
     "text": [
      "/tmp/ipykernel_27762/2539725451.py:1: SettingWithCopyWarning: \n",
      "A value is trying to be set on a copy of a slice from a DataFrame.\n",
      "Try using .loc[row_indexer,col_indexer] = value instead\n",
      "\n",
      "See the caveats in the documentation: https://pandas.pydata.org/pandas-docs/stable/user_guide/indexing.html#returning-a-view-versus-a-copy\n",
      "  answers_not_accepted_df[\"pt_score\"] = answers_not_accepted_df[\"pt_score\"].astype(int)\n"
     ]
    }
   ],
   "source": [
    "answers_not_accepted_df[\"pt_score\"] = answers_not_accepted_df[\"pt_score\"].astype(int)"
   ]
  },
  {
   "cell_type": "code",
   "execution_count": 168,
   "id": "aa1a1e34",
   "metadata": {},
   "outputs": [],
   "source": [
    "parent_id_with_max_score_df = answers_not_accepted_df[answers_not_accepted_df.pt_score>=0].groupby(\"pt_parent_id\", sort=False)[\"pt_score\"].max().reset_index()\n",
    "\n"
   ]
  },
  {
   "cell_type": "code",
   "execution_count": 169,
   "id": "97ebda07",
   "metadata": {},
   "outputs": [
    {
     "data": {
      "text/plain": [
       "Index(['pt_parent_id', 'pt_score'], dtype='object')"
      ]
     },
     "execution_count": 169,
     "metadata": {},
     "output_type": "execute_result"
    }
   ],
   "source": [
    "parent_id_with_max_score_df.columns"
   ]
  },
  {
   "cell_type": "code",
   "execution_count": 170,
   "id": "ed28d60c",
   "metadata": {},
   "outputs": [],
   "source": [
    "answers_not_accepted_df = answers_not_accepted_df.merge(parent_id_with_max_score_df, on=['pt_parent_id', 'pt_score'], how=\"inner\")[[\"pt_parent_id\", \"pt_body\"]]"
   ]
  },
  {
   "cell_type": "code",
   "execution_count": 171,
   "id": "37667080",
   "metadata": {},
   "outputs": [],
   "source": [
    "answers_not_accepted_df.rename(columns={\"pt_parent_id\": \"pt_post_id\", \"pt_body\": \"pt_answer\"}, inplace=True)"
   ]
  },
  {
   "cell_type": "code",
   "execution_count": 173,
   "id": "bf929fd6",
   "metadata": {},
   "outputs": [
    {
     "data": {
      "text/plain": [
       "(7035, 2)"
      ]
     },
     "execution_count": 173,
     "metadata": {},
     "output_type": "execute_result"
    }
   ],
   "source": [
    "answers_not_accepted_df.shape"
   ]
  },
  {
   "cell_type": "code",
   "execution_count": 176,
   "id": "097d73e6",
   "metadata": {},
   "outputs": [],
   "source": [
    "answers_without_accepted_df = questions_without_accepted_df.merge(answers_not_accepted_df, on=\"pt_post_id\", how=\"inner\")"
   ]
  },
  {
   "cell_type": "code",
   "execution_count": 178,
   "id": "7fff37e2",
   "metadata": {},
   "outputs": [
    {
     "data": {
      "text/plain": [
       "(7035, 10)"
      ]
     },
     "execution_count": 178,
     "metadata": {},
     "output_type": "execute_result"
    }
   ],
   "source": [
    "answers_without_accepted_df.shape"
   ]
  },
  {
   "cell_type": "code",
   "execution_count": 180,
   "id": "e5dc29e2",
   "metadata": {},
   "outputs": [
    {
     "data": {
      "text/plain": [
       "(7558, 10)"
      ]
     },
     "execution_count": 180,
     "metadata": {},
     "output_type": "execute_result"
    }
   ],
   "source": [
    "questions_with_accepted_df.shape"
   ]
  },
  {
   "cell_type": "code",
   "execution_count": 181,
   "id": "fdab229a",
   "metadata": {},
   "outputs": [
    {
     "data": {
      "text/plain": [
       "Index(['pt_post_id', 'pt_post_type_id', 'pt_accepted_answer_id',\n",
       "       'pt_creation_date', 'pt_score', 'pt_title', 'pt_body', 'pt_tags',\n",
       "       'pt_parent_id', 'pt_answer'],\n",
       "      dtype='object')"
      ]
     },
     "execution_count": 181,
     "metadata": {},
     "output_type": "execute_result"
    }
   ],
   "source": [
    "questions_with_accepted_df.columns"
   ]
  },
  {
   "cell_type": "code",
   "execution_count": 182,
   "id": "2a244f30",
   "metadata": {},
   "outputs": [
    {
     "data": {
      "text/plain": [
       "Index(['pt_post_id', 'pt_post_type_id', 'pt_accepted_answer_id',\n",
       "       'pt_creation_date', 'pt_score', 'pt_title', 'pt_body', 'pt_tags',\n",
       "       'pt_parent_id', 'pt_answer'],\n",
       "      dtype='object')"
      ]
     },
     "execution_count": 182,
     "metadata": {},
     "output_type": "execute_result"
    }
   ],
   "source": [
    "answers_without_accepted_df.columns"
   ]
  },
  {
   "cell_type": "code",
   "execution_count": 183,
   "id": "0479af2e",
   "metadata": {},
   "outputs": [],
   "source": [
    "pt_question_answers_df = pd.concat([questions_with_accepted_df, answers_without_accepted_df], axis=0)"
   ]
  },
  {
   "cell_type": "code",
   "execution_count": 185,
   "id": "d83caf97",
   "metadata": {},
   "outputs": [],
   "source": [
    "pt_question_answers_df.to_csv(\"pt_question_answers.csv\")"
   ]
  },
  {
   "cell_type": "code",
   "execution_count": null,
   "id": "3bb27542",
   "metadata": {},
   "outputs": [],
   "source": []
  },
  {
   "cell_type": "code",
   "execution_count": null,
   "id": "d2376471",
   "metadata": {},
   "outputs": [],
   "source": []
  }
 ],
 "metadata": {
  "kernelspec": {
   "display_name": "Python 3 (ipykernel)",
   "language": "python",
   "name": "python3"
  },
  "language_info": {
   "codemirror_mode": {
    "name": "ipython",
    "version": 3
   },
   "file_extension": ".py",
   "mimetype": "text/x-python",
   "name": "python",
   "nbconvert_exporter": "python",
   "pygments_lexer": "ipython3",
   "version": "3.9.15"
  }
 },
 "nbformat": 4,
 "nbformat_minor": 5
}
