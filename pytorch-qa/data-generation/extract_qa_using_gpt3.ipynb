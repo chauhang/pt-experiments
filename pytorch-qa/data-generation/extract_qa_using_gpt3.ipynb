{
 "cells": [
  {
   "cell_type": "code",
   "execution_count": 1,
   "metadata": {
    "ExecuteTime": {
     "end_time": "2023-04-11T14:21:27.994041Z",
     "start_time": "2023-04-11T14:21:27.992040Z"
    }
   },
   "outputs": [],
   "source": [
    "# ! pip install -U openai"
   ]
  },
  {
   "cell_type": "code",
   "execution_count": 1,
   "metadata": {
    "ExecuteTime": {
     "end_time": "2023-04-12T09:05:33.957040Z",
     "start_time": "2023-04-12T09:05:33.952145Z"
    }
   },
   "outputs": [],
   "source": [
    "import pandas as pd"
   ]
  },
  {
   "cell_type": "code",
   "execution_count": 10,
   "metadata": {
    "ExecuteTime": {
     "end_time": "2023-04-12T09:05:46.561518Z",
     "start_time": "2023-04-12T09:05:46.554042Z"
    }
   },
   "outputs": [],
   "source": [
    "df = pd.read_csv(\"top_1000_so_links.csv\")"
   ]
  },
  {
   "cell_type": "code",
   "execution_count": 13,
   "metadata": {},
   "outputs": [],
   "source": [
    "import requests\n",
    "import time\n",
    "from tqdm import tqdm\n",
    "import os\n",
    "import openai\n",
    "import concurrent.futures\n",
    "\n",
    "# Insert your openai key here\n",
    "api_key = ''\n",
    "\n",
    "def get_qa(prompt):\n",
    "    try:\n",
    "        completion = openai.ChatCompletion.create(\n",
    "            model=\"gpt-3.5-turbo\", api_key=api_key,\n",
    "            messages=[\n",
    "                {\"role\": \"user\", \"content\": prompt}\n",
    "            ]\n",
    "        )\n",
    "\n",
    "        qa = completion.choices[0].message.content\n",
    "\n",
    "    except requests.exceptions.RequestException as e:\n",
    "        print(f'Request failed with error: {str(e)}.')\n",
    "    return qa\n",
    "\n",
    "def get_qa_for_url(url):\n",
    "    prompt = f\"extract question and answer from the url - {url}\"\n",
    "    qa = get_qa(prompt)\n",
    "    return qa\n"
   ]
  },
  {
   "cell_type": "code",
   "execution_count": 14,
   "metadata": {},
   "outputs": [
    {
     "name": "stderr",
     "output_type": "stream",
     "text": [
      "100%|████████████████████████████████████████████████████████████████████████████████████████████████████████████████████████████████████████████████████████████████████| 100/100 [02:21<00:00,  1.42s/it]\n"
     ]
    }
   ],
   "source": [
    "\n",
    "num_rows_start = 0\n",
    "num_rows_end = 100\n",
    "\n",
    "# Assuming df is defined elsewhere\n",
    "urls = df[\"link\"][num_rows_start:num_rows_end].tolist()\n",
    "\n",
    "# Define the maximum number of concurrent requests to make\n",
    "max_workers = 8\n",
    "\n",
    "resp = []\n",
    "with concurrent.futures.ThreadPoolExecutor(max_workers=max_workers) as executor:\n",
    "    # Submit a job for each URL\n",
    "    futures = [executor.submit(get_qa_for_url, url) for url in urls]\n",
    "\n",
    "    # Iterate over the completed futures as they finish and add the results to resp\n",
    "    for future in tqdm(concurrent.futures.as_completed(futures), total=len(futures)):\n",
    "        resp.append(future.result())"
   ]
  },
  {
   "cell_type": "code",
   "execution_count": 1,
   "metadata": {
    "ExecuteTime": {
     "end_time": "2023-04-12T09:31:59.708651Z",
     "start_time": "2023-04-12T09:31:59.699680Z"
    }
   },
   "outputs": [],
   "source": [
    "# resp"
   ]
  },
  {
   "cell_type": "code",
   "execution_count": 15,
   "metadata": {
    "ExecuteTime": {
     "end_time": "2023-04-12T09:32:01.891996Z",
     "start_time": "2023-04-12T09:32:01.888264Z"
    }
   },
   "outputs": [],
   "source": [
    "question_list = []\n",
    "answer_list = []\n",
    "for text in resp:\n",
    "    split = text.split(\"Answer:\")\n",
    "    question = split[0].split(\"Question:\")[-1]\n",
    "    answer = split[-1]\n",
    "    question_list.append(question)\n",
    "    answer_list.append(answer)\n"
   ]
  },
  {
   "cell_type": "code",
   "execution_count": null,
   "metadata": {},
   "outputs": [],
   "source": []
  },
  {
   "cell_type": "code",
   "execution_count": 16,
   "metadata": {
    "ExecuteTime": {
     "end_time": "2023-04-12T09:32:06.518003Z",
     "start_time": "2023-04-12T09:32:06.514661Z"
    }
   },
   "outputs": [],
   "source": [
    "out_df = pd.DataFrame({\n",
    "    \"question\": question_list,\n",
    "    \"answer\": answer_list\n",
    "})"
   ]
  },
  {
   "cell_type": "code",
   "execution_count": 17,
   "metadata": {
    "ExecuteTime": {
     "end_time": "2023-04-12T09:32:06.804012Z",
     "start_time": "2023-04-12T09:32:06.794200Z"
    }
   },
   "outputs": [
    {
     "data": {
      "text/html": [
       "<div>\n",
       "<style scoped>\n",
       "    .dataframe tbody tr th:only-of-type {\n",
       "        vertical-align: middle;\n",
       "    }\n",
       "\n",
       "    .dataframe tbody tr th {\n",
       "        vertical-align: top;\n",
       "    }\n",
       "\n",
       "    .dataframe thead th {\n",
       "        text-align: right;\n",
       "    }\n",
       "</style>\n",
       "<table border=\"1\" class=\"dataframe\">\n",
       "  <thead>\n",
       "    <tr style=\"text-align: right;\">\n",
       "      <th></th>\n",
       "      <th>question</th>\n",
       "      <th>answer</th>\n",
       "    </tr>\n",
       "  </thead>\n",
       "  <tbody>\n",
       "    <tr>\n",
       "      <th>0</th>\n",
       "      <td>Why do we need to call zero_grad() in PyTorch?\\n</td>\n",
       "      <td>In PyTorch, backpropagation on a tensor that ...</td>\n",
       "    </tr>\n",
       "    <tr>\n",
       "      <th>1</th>\n",
       "      <td>How do I save a trained model in PyTorch?\\n\\n</td>\n",
       "      <td>You can save a trained PyTorch model by using...</td>\n",
       "    </tr>\n",
       "    <tr>\n",
       "      <th>2</th>\n",
       "      <td>What's the difference between reshape and vie...</td>\n",
       "      <td>The reshape() and view() functions in PyTorch...</td>\n",
       "    </tr>\n",
       "    <tr>\n",
       "      <th>3</th>\n",
       "      <td>What does model.eval() do in PyTorch?\\n</td>\n",
       "      <td>The `model.eval()` method sets the model to e...</td>\n",
       "    </tr>\n",
       "    <tr>\n",
       "      <th>4</th>\n",
       "      <td>What does view() do in PyTorch?\\n</td>\n",
       "      <td>The view() method in PyTorch is used to resha...</td>\n",
       "    </tr>\n",
       "    <tr>\n",
       "      <th>...</th>\n",
       "      <td>...</td>\n",
       "      <td>...</td>\n",
       "    </tr>\n",
       "    <tr>\n",
       "      <th>95</th>\n",
       "      <td>CUDA error: CUBLAS_STATUS_ALLOC_FAILED when c...</td>\n",
       "      <td>This error indicates that there was not enoug...</td>\n",
       "    </tr>\n",
       "    <tr>\n",
       "      <th>96</th>\n",
       "      <td>How to display custom images in TensorBoard (...</td>\n",
       "      <td>You can display custom images in TensorBoard ...</td>\n",
       "    </tr>\n",
       "    <tr>\n",
       "      <th>97</th>\n",
       "      <td>Issues installing PyTorch 1.4: \"No matching d...</td>\n",
       "      <td>This error message usually appears when you a...</td>\n",
       "    </tr>\n",
       "    <tr>\n",
       "      <th>98</th>\n",
       "      <td>Reshaping a tensor with padding in PyTorch\\n\\n</td>\n",
       "      <td>Here's one way to do it:\\n\\n```\\nimport torch...</td>\n",
       "    </tr>\n",
       "    <tr>\n",
       "      <th>99</th>\n",
       "      <td>Using torch.nn.DataParallel with a custom CUD...</td>\n",
       "      <td>\\n\\nTo use DataParallel with custom CUDA exte...</td>\n",
       "    </tr>\n",
       "  </tbody>\n",
       "</table>\n",
       "<p>100 rows × 2 columns</p>\n",
       "</div>"
      ],
      "text/plain": [
       "                                             question  \\\n",
       "0    Why do we need to call zero_grad() in PyTorch?\\n   \n",
       "1       How do I save a trained model in PyTorch?\\n\\n   \n",
       "2    What's the difference between reshape and vie...   \n",
       "3             What does model.eval() do in PyTorch?\\n   \n",
       "4                   What does view() do in PyTorch?\\n   \n",
       "..                                                ...   \n",
       "95   CUDA error: CUBLAS_STATUS_ALLOC_FAILED when c...   \n",
       "96   How to display custom images in TensorBoard (...   \n",
       "97   Issues installing PyTorch 1.4: \"No matching d...   \n",
       "98     Reshaping a tensor with padding in PyTorch\\n\\n   \n",
       "99   Using torch.nn.DataParallel with a custom CUD...   \n",
       "\n",
       "                                               answer  \n",
       "0    In PyTorch, backpropagation on a tensor that ...  \n",
       "1    You can save a trained PyTorch model by using...  \n",
       "2    The reshape() and view() functions in PyTorch...  \n",
       "3    The `model.eval()` method sets the model to e...  \n",
       "4    The view() method in PyTorch is used to resha...  \n",
       "..                                                ...  \n",
       "95   This error indicates that there was not enoug...  \n",
       "96   You can display custom images in TensorBoard ...  \n",
       "97   This error message usually appears when you a...  \n",
       "98   Here's one way to do it:\\n\\n```\\nimport torch...  \n",
       "99   \\n\\nTo use DataParallel with custom CUDA exte...  \n",
       "\n",
       "[100 rows x 2 columns]"
      ]
     },
     "execution_count": 17,
     "metadata": {},
     "output_type": "execute_result"
    }
   ],
   "source": [
    "out_df"
   ]
  },
  {
   "cell_type": "code",
   "execution_count": null,
   "metadata": {},
   "outputs": [],
   "source": []
  },
  {
   "cell_type": "code",
   "execution_count": 171,
   "metadata": {
    "ExecuteTime": {
     "end_time": "2023-04-12T09:32:11.281984Z",
     "start_time": "2023-04-12T09:32:11.276072Z"
    }
   },
   "outputs": [],
   "source": [
    "out_df.to_csv(\"data/qa-0to100.csv\", index=False)"
   ]
  },
  {
   "cell_type": "code",
   "execution_count": null,
   "metadata": {},
   "outputs": [],
   "source": []
  },
  {
   "cell_type": "markdown",
   "metadata": {},
   "source": [
    "### Concat all data"
   ]
  },
  {
   "cell_type": "code",
   "execution_count": 172,
   "metadata": {
    "ExecuteTime": {
     "end_time": "2023-04-12T10:12:23.956020Z",
     "start_time": "2023-04-12T10:12:23.952727Z"
    }
   },
   "outputs": [],
   "source": [
    "csv_files = os.listdir(\"data\")"
   ]
  },
  {
   "cell_type": "code",
   "execution_count": 173,
   "metadata": {
    "ExecuteTime": {
     "end_time": "2023-04-12T10:12:25.438467Z",
     "start_time": "2023-04-12T10:12:25.391310Z"
    }
   },
   "outputs": [],
   "source": [
    "list_of_dataframes = []\n",
    "\n",
    "for file in csv_files:\n",
    "    df = pd.read_csv(\"data/\" + file)\n",
    "    list_of_dataframes.append(df)\n",
    "\n",
    "concatenated_df = pd.concat(list_of_dataframes, ignore_index=True)\n"
   ]
  },
  {
   "cell_type": "code",
   "execution_count": 174,
   "metadata": {
    "ExecuteTime": {
     "end_time": "2023-04-12T10:12:26.012204Z",
     "start_time": "2023-04-12T10:12:26.008646Z"
    }
   },
   "outputs": [
    {
     "data": {
      "text/plain": [
       "(1001, 2)"
      ]
     },
     "execution_count": 174,
     "metadata": {},
     "output_type": "execute_result"
    }
   ],
   "source": [
    "concatenated_df.shape"
   ]
  },
  {
   "cell_type": "code",
   "execution_count": 175,
   "metadata": {
    "ExecuteTime": {
     "end_time": "2023-04-12T10:12:29.141720Z",
     "start_time": "2023-04-12T10:12:29.109339Z"
    }
   },
   "outputs": [],
   "source": [
    "concatenated_df.to_csv(\"concatenated_df.csv\", index=False)"
   ]
  },
  {
   "cell_type": "markdown",
   "metadata": {},
   "source": [
    "## concat sa and forum data"
   ]
  },
  {
   "cell_type": "code",
   "execution_count": 273,
   "metadata": {},
   "outputs": [],
   "source": [
    "df1 = pd.read_csv('concatenated_df.csv')\n",
    "df2 = pd.read_csv('pytorch_discuss_first_1000.csv')\n",
    "df2 = df2.drop('Unnamed: 0', axis=1)"
   ]
  },
  {
   "cell_type": "code",
   "execution_count": 274,
   "metadata": {},
   "outputs": [
    {
     "data": {
      "text/html": [
       "<div>\n",
       "<style scoped>\n",
       "    .dataframe tbody tr th:only-of-type {\n",
       "        vertical-align: middle;\n",
       "    }\n",
       "\n",
       "    .dataframe tbody tr th {\n",
       "        vertical-align: top;\n",
       "    }\n",
       "\n",
       "    .dataframe thead th {\n",
       "        text-align: right;\n",
       "    }\n",
       "</style>\n",
       "<table border=\"1\" class=\"dataframe\">\n",
       "  <thead>\n",
       "    <tr style=\"text-align: right;\">\n",
       "      <th></th>\n",
       "      <th>question</th>\n",
       "      <th>answer</th>\n",
       "    </tr>\n",
       "  </thead>\n",
       "  <tbody>\n",
       "    <tr>\n",
       "      <th>0</th>\n",
       "      <td>\\n\\nPytorch Dataloader fails when the number o...</td>\n",
       "      <td>\\n\\nThis is expected behavior because when the...</td>\n",
       "    </tr>\n",
       "    <tr>\n",
       "      <th>1</th>\n",
       "      <td>\"Multi-dimensional inputs in PyTorch linear m...</td>\n",
       "      <td>\"The PyTorch nn.Linear module expects a 2D in...</td>\n",
       "    </tr>\n",
       "    <tr>\n",
       "      <th>2</th>\n",
       "      <td>Fixing the seed for torch.random.split()\\n\\n</td>\n",
       "      <td>To fix the seed for torch.random.split(), you...</td>\n",
       "    </tr>\n",
       "    <tr>\n",
       "      <th>3</th>\n",
       "      <td>What is the best way of tqdm for data loader?...</td>\n",
       "      <td>This question is subjective as there can be d...</td>\n",
       "    </tr>\n",
       "    <tr>\n",
       "      <th>4</th>\n",
       "      <td>How do I add some Gaussian noise to a tensor ...</td>\n",
       "      <td>There are multiple ways to add Gaussian noise...</td>\n",
       "    </tr>\n",
       "    <tr>\n",
       "      <th>...</th>\n",
       "      <td>...</td>\n",
       "      <td>...</td>\n",
       "    </tr>\n",
       "    <tr>\n",
       "      <th>1678</th>\n",
       "      <td>How can I reset the weights of a PyTorch model?</td>\n",
       "      <td>You can reset the weights of a PyTorch model b...</td>\n",
       "    </tr>\n",
       "    <tr>\n",
       "      <th>1679</th>\n",
       "      <td>How to change the weights of a PyTorch model?</td>\n",
       "      <td>There are a few ways to change the weights of ...</td>\n",
       "    </tr>\n",
       "    <tr>\n",
       "      <th>1680</th>\n",
       "      <td>There is no specific question mentioned in the...</td>\n",
       "      <td>There is no answer possible without a specific...</td>\n",
       "    </tr>\n",
       "    <tr>\n",
       "      <th>1681</th>\n",
       "      <td>Q: Can't call numpy on variable that requires ...</td>\n",
       "      <td>Q: Can't call numpy on variable that requires ...</td>\n",
       "    </tr>\n",
       "    <tr>\n",
       "      <th>1682</th>\n",
       "      <td>Adding functionality: Hessian and Fisher infor...</td>\n",
       "      <td>There is currently no built-in functionality f...</td>\n",
       "    </tr>\n",
       "  </tbody>\n",
       "</table>\n",
       "<p>1683 rows × 2 columns</p>\n",
       "</div>"
      ],
      "text/plain": [
       "                                               question  \\\n",
       "0     \\n\\nPytorch Dataloader fails when the number o...   \n",
       "1      \"Multi-dimensional inputs in PyTorch linear m...   \n",
       "2          Fixing the seed for torch.random.split()\\n\\n   \n",
       "3      What is the best way of tqdm for data loader?...   \n",
       "4      How do I add some Gaussian noise to a tensor ...   \n",
       "...                                                 ...   \n",
       "1678    How can I reset the weights of a PyTorch model?   \n",
       "1679      How to change the weights of a PyTorch model?   \n",
       "1680  There is no specific question mentioned in the...   \n",
       "1681  Q: Can't call numpy on variable that requires ...   \n",
       "1682  Adding functionality: Hessian and Fisher infor...   \n",
       "\n",
       "                                                 answer  \n",
       "0     \\n\\nThis is expected behavior because when the...  \n",
       "1      \"The PyTorch nn.Linear module expects a 2D in...  \n",
       "2      To fix the seed for torch.random.split(), you...  \n",
       "3      This question is subjective as there can be d...  \n",
       "4      There are multiple ways to add Gaussian noise...  \n",
       "...                                                 ...  \n",
       "1678  You can reset the weights of a PyTorch model b...  \n",
       "1679  There are a few ways to change the weights of ...  \n",
       "1680  There is no answer possible without a specific...  \n",
       "1681  Q: Can't call numpy on variable that requires ...  \n",
       "1682  There is currently no built-in functionality f...  \n",
       "\n",
       "[1683 rows x 2 columns]"
      ]
     },
     "execution_count": 274,
     "metadata": {},
     "output_type": "execute_result"
    }
   ],
   "source": [
    "df_merged = pd.concat([df1, df2], axis=0)\n",
    "df_merged = df_merged.reset_index(drop=True)\n",
    "df_merged"
   ]
  },
  {
   "cell_type": "markdown",
   "metadata": {},
   "source": [
    "## data cleaning"
   ]
  },
  {
   "cell_type": "code",
   "execution_count": 275,
   "metadata": {},
   "outputs": [
    {
     "data": {
      "text/plain": [
       "question    0\n",
       "answer      0\n",
       "dtype: int64"
      ]
     },
     "execution_count": 275,
     "metadata": {},
     "output_type": "execute_result"
    }
   ],
   "source": [
    "df_merged.isna().sum()"
   ]
  },
  {
   "cell_type": "code",
   "execution_count": 276,
   "metadata": {},
   "outputs": [
    {
     "data": {
      "text/html": [
       "<div>\n",
       "<style scoped>\n",
       "    .dataframe tbody tr th:only-of-type {\n",
       "        vertical-align: middle;\n",
       "    }\n",
       "\n",
       "    .dataframe tbody tr th {\n",
       "        vertical-align: top;\n",
       "    }\n",
       "\n",
       "    .dataframe thead th {\n",
       "        text-align: right;\n",
       "    }\n",
       "</style>\n",
       "<table border=\"1\" class=\"dataframe\">\n",
       "  <thead>\n",
       "    <tr style=\"text-align: right;\">\n",
       "      <th></th>\n",
       "      <th>question</th>\n",
       "      <th>answer</th>\n",
       "    </tr>\n",
       "  </thead>\n",
       "  <tbody>\n",
       "  </tbody>\n",
       "</table>\n",
       "</div>"
      ],
      "text/plain": [
       "Empty DataFrame\n",
       "Columns: [question, answer]\n",
       "Index: []"
      ]
     },
     "execution_count": 276,
     "metadata": {},
     "output_type": "execute_result"
    }
   ],
   "source": [
    "duplicates = df_merged[df_merged.duplicated()]\n",
    "duplicates"
   ]
  },
  {
   "cell_type": "code",
   "execution_count": 277,
   "metadata": {},
   "outputs": [],
   "source": [
    "# replace '\\n\\n' with '\\n'\n",
    "# remove first and last '\\n'\n",
    "# remove first and last space\n",
    "# remove first and last '\"'\n",
    "\n",
    "df_merged['question'] = df_merged['question'].replace('\\n\\n', '\\n', regex=True).str.strip(' ').str.strip('\\n').str.strip('\"')\n",
    "df_merged['answer'] = df_merged['answer'].replace('\\n\\n', '\\n', regex=True).str.strip(' ').str.strip('\\n').str.strip('\"')"
   ]
  },
  {
   "cell_type": "code",
   "execution_count": 278,
   "metadata": {},
   "outputs": [],
   "source": [
    "# remove None yet and N/A in answer\n",
    "\n",
    "df_merged = df_merged[df_merged['answer'] != 'None yet']\n",
    "df_merged = df_merged[df_merged['answer'] != 'None yet.']\n",
    "df_merged = df_merged[df_merged['answer'] != 'None']\n",
    "df_merged = df_merged[df_merged['answer'] != 'N/A']\n",
    "\n",
    "for index, row in df_merged.iterrows():\n",
    "    if len(row['answer']) < 90:\n",
    "        df_merged = df_merged.drop(index)"
   ]
  },
  {
   "cell_type": "code",
   "execution_count": 279,
   "metadata": {},
   "outputs": [
    {
     "data": {
      "text/html": [
       "<div>\n",
       "<style scoped>\n",
       "    .dataframe tbody tr th:only-of-type {\n",
       "        vertical-align: middle;\n",
       "    }\n",
       "\n",
       "    .dataframe tbody tr th {\n",
       "        vertical-align: top;\n",
       "    }\n",
       "\n",
       "    .dataframe thead th {\n",
       "        text-align: right;\n",
       "    }\n",
       "</style>\n",
       "<table border=\"1\" class=\"dataframe\">\n",
       "  <thead>\n",
       "    <tr style=\"text-align: right;\">\n",
       "      <th></th>\n",
       "      <th>question</th>\n",
       "      <th>answer</th>\n",
       "    </tr>\n",
       "  </thead>\n",
       "  <tbody>\n",
       "    <tr>\n",
       "      <th>0</th>\n",
       "      <td>Pytorch Dataloader fails when the number of ex...</td>\n",
       "      <td>This is expected behavior because when the num...</td>\n",
       "    </tr>\n",
       "    <tr>\n",
       "      <th>1</th>\n",
       "      <td>Multi-dimensional inputs in PyTorch linear met...</td>\n",
       "      <td>The PyTorch nn.Linear module expects a 2D inpu...</td>\n",
       "    </tr>\n",
       "    <tr>\n",
       "      <th>2</th>\n",
       "      <td>Fixing the seed for torch.random.split()</td>\n",
       "      <td>To fix the seed for torch.random.split(), you ...</td>\n",
       "    </tr>\n",
       "    <tr>\n",
       "      <th>3</th>\n",
       "      <td>What is the best way of tqdm for data loader?</td>\n",
       "      <td>This question is subjective as there can be di...</td>\n",
       "    </tr>\n",
       "    <tr>\n",
       "      <th>4</th>\n",
       "      <td>How do I add some Gaussian noise to a tensor i...</td>\n",
       "      <td>There are multiple ways to add Gaussian noise ...</td>\n",
       "    </tr>\n",
       "    <tr>\n",
       "      <th>...</th>\n",
       "      <td>...</td>\n",
       "      <td>...</td>\n",
       "    </tr>\n",
       "    <tr>\n",
       "      <th>1520</th>\n",
       "      <td>How to create batches of a list of varying dim...</td>\n",
       "      <td>This can be done using the `nn.utils.rnn.pad_s...</td>\n",
       "    </tr>\n",
       "    <tr>\n",
       "      <th>1521</th>\n",
       "      <td>How to extract probabilities?</td>\n",
       "      <td>There are a few different ways to extract prob...</td>\n",
       "    </tr>\n",
       "    <tr>\n",
       "      <th>1522</th>\n",
       "      <td>How can I reset the weights of a PyTorch model?</td>\n",
       "      <td>You can reset the weights of a PyTorch model b...</td>\n",
       "    </tr>\n",
       "    <tr>\n",
       "      <th>1523</th>\n",
       "      <td>How to change the weights of a PyTorch model?</td>\n",
       "      <td>There are a few ways to change the weights of ...</td>\n",
       "    </tr>\n",
       "    <tr>\n",
       "      <th>1524</th>\n",
       "      <td>Adding functionality: Hessian and Fisher infor...</td>\n",
       "      <td>There is currently no built-in functionality f...</td>\n",
       "    </tr>\n",
       "  </tbody>\n",
       "</table>\n",
       "<p>1525 rows × 2 columns</p>\n",
       "</div>"
      ],
      "text/plain": [
       "                                               question  \\\n",
       "0     Pytorch Dataloader fails when the number of ex...   \n",
       "1     Multi-dimensional inputs in PyTorch linear met...   \n",
       "2              Fixing the seed for torch.random.split()   \n",
       "3         What is the best way of tqdm for data loader?   \n",
       "4     How do I add some Gaussian noise to a tensor i...   \n",
       "...                                                 ...   \n",
       "1520  How to create batches of a list of varying dim...   \n",
       "1521                      How to extract probabilities?   \n",
       "1522    How can I reset the weights of a PyTorch model?   \n",
       "1523      How to change the weights of a PyTorch model?   \n",
       "1524  Adding functionality: Hessian and Fisher infor...   \n",
       "\n",
       "                                                 answer  \n",
       "0     This is expected behavior because when the num...  \n",
       "1     The PyTorch nn.Linear module expects a 2D inpu...  \n",
       "2     To fix the seed for torch.random.split(), you ...  \n",
       "3     This question is subjective as there can be di...  \n",
       "4     There are multiple ways to add Gaussian noise ...  \n",
       "...                                                 ...  \n",
       "1520  This can be done using the `nn.utils.rnn.pad_s...  \n",
       "1521  There are a few different ways to extract prob...  \n",
       "1522  You can reset the weights of a PyTorch model b...  \n",
       "1523  There are a few ways to change the weights of ...  \n",
       "1524  There is currently no built-in functionality f...  \n",
       "\n",
       "[1525 rows x 2 columns]"
      ]
     },
     "execution_count": 279,
     "metadata": {},
     "output_type": "execute_result"
    }
   ],
   "source": [
    "# remove rows contain same value in all column\n",
    "\n",
    "row_counts = df_merged.nunique(axis=1)\n",
    "\n",
    "# filter the dataframe to show rows with only one unique value\n",
    "df_merged = df_merged[row_counts != 1]\n",
    "df_merged = df_merged.reset_index(drop=True)\n",
    "df_merged"
   ]
  },
  {
   "cell_type": "code",
   "execution_count": 281,
   "metadata": {},
   "outputs": [],
   "source": [
    "df_merged.to_csv(\"df_sa_forum.csv\", index=False)"
   ]
  },
  {
   "cell_type": "code",
   "execution_count": null,
   "metadata": {},
   "outputs": [],
   "source": []
  }
 ],
 "metadata": {
  "kernelspec": {
   "display_name": "Python 3",
   "language": "python",
   "name": "python3"
  },
  "language_info": {
   "codemirror_mode": {
    "name": "ipython",
    "version": 3
   },
   "file_extension": ".py",
   "mimetype": "text/x-python",
   "name": "python",
   "nbconvert_exporter": "python",
   "pygments_lexer": "ipython3",
   "version": "3.8.2"
  }
 },
 "nbformat": 4,
 "nbformat_minor": 4
}
