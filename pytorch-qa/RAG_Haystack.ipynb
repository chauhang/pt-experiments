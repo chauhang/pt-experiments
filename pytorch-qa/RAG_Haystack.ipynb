{
 "cells": [
  {
   "cell_type": "code",
   "execution_count": 16,
   "id": "11bc2af4",
   "metadata": {},
   "outputs": [
    {
     "data": {
      "text/html": [
       "<div>\n",
       "<style scoped>\n",
       "    .dataframe tbody tr th:only-of-type {\n",
       "        vertical-align: middle;\n",
       "    }\n",
       "\n",
       "    .dataframe tbody tr th {\n",
       "        vertical-align: top;\n",
       "    }\n",
       "\n",
       "    .dataframe thead th {\n",
       "        text-align: right;\n",
       "    }\n",
       "</style>\n",
       "<table border=\"1\" class=\"dataframe\">\n",
       "  <thead>\n",
       "    <tr style=\"text-align: right;\">\n",
       "      <th></th>\n",
       "      <th>pt_post_id</th>\n",
       "      <th>pt_post_type_id</th>\n",
       "      <th>pt_accepted_answer_id</th>\n",
       "      <th>pt_creation_date</th>\n",
       "      <th>pt_score</th>\n",
       "      <th>pt_title</th>\n",
       "      <th>pt_body</th>\n",
       "      <th>pt_tags</th>\n",
       "      <th>pt_parent_id</th>\n",
       "      <th>context</th>\n",
       "      <th>pt_answer</th>\n",
       "      <th>question</th>\n",
       "    </tr>\n",
       "  </thead>\n",
       "  <tbody>\n",
       "    <tr>\n",
       "      <th>0</th>\n",
       "      <td>34750268</td>\n",
       "      <td>1</td>\n",
       "      <td>34762233.0</td>\n",
       "      <td>2016-01-12T17:36:25.473</td>\n",
       "      <td>9</td>\n",
       "      <td>Extracting the top-k value-indices from a 1-D Tensor</td>\n",
       "      <td>&lt;p&gt;Given a 1-D tensor in Torch (&lt;code&gt;torch.Tensor&lt;/code&gt;), containing value...</td>\n",
       "      <td>&lt;python&gt;&lt;lua&gt;&lt;pytorch&gt;&lt;torch&gt;</td>\n",
       "      <td>NaN</td>\n",
       "      <td>&lt;p&gt;Just loop through the tensor and run your compare:&lt;/p&gt;\\n\\n&lt;pre&gt;&lt;code&gt;requ...</td>\n",
       "      <td>&lt;p&gt;As of pull request &lt;a href=\"https://github.com/torch/torch7/pull/496\" rel...</td>\n",
       "      <td>Extracting the top-k value-indices from a 1-D Tensor &lt;p&gt;Given a 1-D tensor i...</td>\n",
       "    </tr>\n",
       "    <tr>\n",
       "      <th>1</th>\n",
       "      <td>38543850</td>\n",
       "      <td>1</td>\n",
       "      <td>38676842.0</td>\n",
       "      <td>2016-07-23T16:15:43.967</td>\n",
       "      <td>40</td>\n",
       "      <td>How to Display Custom Images in Tensorboard (e.g. Matplotlib Plots)?</td>\n",
       "      <td>&lt;p&gt;The &lt;a href=\"https://github.com/tensorflow/tensorflow/blob/master/tensorf...</td>\n",
       "      <td>&lt;python&gt;&lt;tensorflow&gt;&lt;matplotlib&gt;&lt;pytorch&gt;&lt;tensorboard&gt;</td>\n",
       "      <td>NaN</td>\n",
       "      <td>&lt;p&gt;It is quite easy to do if you have the image in a memory buffer. Below, I...</td>\n",
       "      <td>&lt;p&gt;It is quite easy to do if you have the image in a memory buffer. Below, I...</td>\n",
       "      <td>How to Display Custom Images in Tensorboard (e.g. Matplotlib Plots)? &lt;p&gt;The ...</td>\n",
       "    </tr>\n",
       "    <tr>\n",
       "      <th>2</th>\n",
       "      <td>41767005</td>\n",
       "      <td>1</td>\n",
       "      <td>43824857.0</td>\n",
       "      <td>2017-01-20T15:22:08.063</td>\n",
       "      <td>11</td>\n",
       "      <td>Python wheels: cp27mu not supported</td>\n",
       "      <td>&lt;p&gt;I'm trying to install pytorch (&lt;a href=\"http://pytorch.org/\" rel=\"norefer...</td>\n",
       "      <td>&lt;python&gt;&lt;linux&gt;&lt;unicode&gt;&lt;pytorch&gt;</td>\n",
       "      <td>NaN</td>\n",
       "      <td>&lt;p&gt;This is exactly that. \\nRecompile python under slack with --enable-unicod...</td>\n",
       "      <td>&lt;p&gt;This is exactly that. \\nRecompile python under slack with --enable-unicod...</td>\n",
       "      <td>Python wheels: cp27mu not supported &lt;p&gt;I'm trying to install pytorch (&lt;a hre...</td>\n",
       "    </tr>\n",
       "    <tr>\n",
       "      <th>3</th>\n",
       "      <td>41861354</td>\n",
       "      <td>1</td>\n",
       "      <td>54261158.0</td>\n",
       "      <td>2017-01-25T20:45:35.297</td>\n",
       "      <td>8</td>\n",
       "      <td>Loading Torch7 trained models (.t7) in PyTorch</td>\n",
       "      <td>&lt;p&gt;I am using Torch7 library for implementing neural networks.  Mostly, I re...</td>\n",
       "      <td>&lt;python&gt;&lt;lua&gt;&lt;pytorch&gt;&lt;torch&gt;&lt;pre-trained-model&gt;</td>\n",
       "      <td>NaN</td>\n",
       "      <td>&lt;p&gt;The correct function is &lt;code&gt;load_lua&lt;/code&gt;:&lt;/p&gt;\\n\\n&lt;pre&gt;&lt;code&gt;from tor...</td>\n",
       "      <td>&lt;p&gt;As of PyTorch 1.0 &lt;code&gt;torch.utils.serialization&lt;/code&gt; is completely re...</td>\n",
       "      <td>Loading Torch7 trained models (.t7) in PyTorch &lt;p&gt;I am using Torch7 library ...</td>\n",
       "    </tr>\n",
       "    <tr>\n",
       "      <th>4</th>\n",
       "      <td>41924453</td>\n",
       "      <td>1</td>\n",
       "      <td>42054194.0</td>\n",
       "      <td>2017-01-29T18:31:24.687</td>\n",
       "      <td>65</td>\n",
       "      <td>PyTorch: How to use DataLoaders for custom Datasets</td>\n",
       "      <td>&lt;p&gt;How to make use of the &lt;code&gt;torch.utils.data.Dataset&lt;/code&gt; and &lt;code&gt;to...</td>\n",
       "      <td>&lt;python&gt;&lt;torch&gt;&lt;pytorch&gt;</td>\n",
       "      <td>NaN</td>\n",
       "      <td>&lt;p&gt;Yes, that is possible. Just create the objects by yourself, e.g.&lt;/p&gt;\\n\\n&lt;...</td>\n",
       "      <td>&lt;p&gt;Yes, that is possible. Just create the objects by yourself, e.g.&lt;/p&gt;\\n\\n&lt;...</td>\n",
       "      <td>PyTorch: How to use DataLoaders for custom Datasets &lt;p&gt;How to make use of th...</td>\n",
       "    </tr>\n",
       "    <tr>\n",
       "      <th>...</th>\n",
       "      <td>...</td>\n",
       "      <td>...</td>\n",
       "      <td>...</td>\n",
       "      <td>...</td>\n",
       "      <td>...</td>\n",
       "      <td>...</td>\n",
       "      <td>...</td>\n",
       "      <td>...</td>\n",
       "      <td>...</td>\n",
       "      <td>...</td>\n",
       "      <td>...</td>\n",
       "      <td>...</td>\n",
       "    </tr>\n",
       "    <tr>\n",
       "      <th>10758</th>\n",
       "      <td>74612146</td>\n",
       "      <td>1</td>\n",
       "      <td>NaN</td>\n",
       "      <td>2022-11-29T09:54:30.430</td>\n",
       "      <td>0</td>\n",
       "      <td>Is it possible to perform quantization on densenet169 and how?</td>\n",
       "      <td>&lt;p&gt;I have been trying to performing quantization on a densenet model without...</td>\n",
       "      <td>&lt;machine-learning&gt;&lt;pytorch&gt;&lt;artificial-intelligence&gt;&lt;densenet&gt;&lt;static-quanti...</td>\n",
       "      <td>NaN</td>\n",
       "      <td>&lt;p&gt;Here's how to do this on DenseNet169 from torchvision:&lt;/p&gt;\\n&lt;pre class=\"l...</td>\n",
       "      <td>&lt;p&gt;Here's how to do this on DenseNet169 from torchvision:&lt;/p&gt;\\n&lt;pre class=\"l...</td>\n",
       "      <td>NaN</td>\n",
       "    </tr>\n",
       "    <tr>\n",
       "      <th>10759</th>\n",
       "      <td>74637151</td>\n",
       "      <td>1</td>\n",
       "      <td>NaN</td>\n",
       "      <td>2022-12-01T05:08:37.150</td>\n",
       "      <td>1</td>\n",
       "      <td>Why when the batch size increased, the epoch time will also increasing?</td>\n",
       "      <td>&lt;p&gt;Epoch time means the time required to train for an epoch.&lt;/p&gt;\\n&lt;p&gt;From my...</td>\n",
       "      <td>&lt;deep-learning&gt;&lt;pytorch&gt;</td>\n",
       "      <td>NaN</td>\n",
       "      <td>&lt;p&gt;As you already noticed, there are many factors that may affect epoch-time...</td>\n",
       "      <td>&lt;p&gt;As you already noticed, there are many factors that may affect epoch-time...</td>\n",
       "      <td>NaN</td>\n",
       "    </tr>\n",
       "    <tr>\n",
       "      <th>10760</th>\n",
       "      <td>74642594</td>\n",
       "      <td>1</td>\n",
       "      <td>NaN</td>\n",
       "      <td>2022-12-01T13:23:27.277</td>\n",
       "      <td>0</td>\n",
       "      <td>Why does StableDiffusionPipeline return black images when generating multipl...</td>\n",
       "      <td>&lt;p&gt;I am using the &lt;a href=\"https://github.com/huggingface/diffusers/tree/mai...</td>\n",
       "      <td>&lt;python&gt;&lt;pytorch&gt;&lt;apple-m1&gt;&lt;huggingface-transformers&gt;&lt;stable-diffusion&gt;</td>\n",
       "      <td>NaN</td>\n",
       "      <td>&lt;p&gt;Apparently it is indeed an Apple Silicon (M1/M2) issue, of which Hugging ...</td>\n",
       "      <td>&lt;p&gt;Apparently it is indeed an Apple Silicon (M1/M2) issue, of which Hugging ...</td>\n",
       "      <td>NaN</td>\n",
       "    </tr>\n",
       "    <tr>\n",
       "      <th>10761</th>\n",
       "      <td>74671399</td>\n",
       "      <td>1</td>\n",
       "      <td>NaN</td>\n",
       "      <td>2022-12-03T22:46:46.443</td>\n",
       "      <td>1</td>\n",
       "      <td>Locating tags in a string in PHP (with respect to the string with tags removed)</td>\n",
       "      <td>&lt;p&gt;I want to create a function that labels the location of certain HTML tags...</td>\n",
       "      <td>&lt;php&gt;&lt;string&gt;&lt;pytorch&gt;&lt;label&gt;&lt;italics&gt;</td>\n",
       "      <td>NaN</td>\n",
       "      <td>&lt;p&gt;I think I've got something. How about this:&lt;/p&gt;\\n&lt;pre&gt;&lt;code&gt;function labe...</td>\n",
       "      <td>&lt;p&gt;I think I've got something. How about this:&lt;/p&gt;\\n&lt;pre&gt;&lt;code&gt;function labe...</td>\n",
       "      <td>NaN</td>\n",
       "    </tr>\n",
       "    <tr>\n",
       "      <th>10762</th>\n",
       "      <td>74679922</td>\n",
       "      <td>1</td>\n",
       "      <td>NaN</td>\n",
       "      <td>2022-12-04T18:58:11.630</td>\n",
       "      <td>0</td>\n",
       "      <td>BGR to RGB for CUB_200 images by Image.split()</td>\n",
       "      <td>&lt;p&gt;I am creating a PyTorch dataset and dataloader from CUB_200. When reading...</td>\n",
       "      <td>&lt;python&gt;&lt;image&gt;&lt;pytorch&gt;&lt;pytorch-dataloader&gt;</td>\n",
       "      <td>NaN</td>\n",
       "      <td>&lt;p&gt;I would strongly recommend you use skimage.io to load your images, not op...</td>\n",
       "      <td>&lt;p&gt;I would strongly recommend you use skimage.io to load your images, not op...</td>\n",
       "      <td>NaN</td>\n",
       "    </tr>\n",
       "  </tbody>\n",
       "</table>\n",
       "<p>10763 rows × 12 columns</p>\n",
       "</div>"
      ],
      "text/plain": [
       "       pt_post_id  pt_post_type_id  pt_accepted_answer_id  \\\n",
       "0        34750268                1             34762233.0   \n",
       "1        38543850                1             38676842.0   \n",
       "2        41767005                1             43824857.0   \n",
       "3        41861354                1             54261158.0   \n",
       "4        41924453                1             42054194.0   \n",
       "...           ...              ...                    ...   \n",
       "10758    74612146                1                    NaN   \n",
       "10759    74637151                1                    NaN   \n",
       "10760    74642594                1                    NaN   \n",
       "10761    74671399                1                    NaN   \n",
       "10762    74679922                1                    NaN   \n",
       "\n",
       "              pt_creation_date  pt_score  \\\n",
       "0      2016-01-12T17:36:25.473         9   \n",
       "1      2016-07-23T16:15:43.967        40   \n",
       "2      2017-01-20T15:22:08.063        11   \n",
       "3      2017-01-25T20:45:35.297         8   \n",
       "4      2017-01-29T18:31:24.687        65   \n",
       "...                        ...       ...   \n",
       "10758  2022-11-29T09:54:30.430         0   \n",
       "10759  2022-12-01T05:08:37.150         1   \n",
       "10760  2022-12-01T13:23:27.277         0   \n",
       "10761  2022-12-03T22:46:46.443         1   \n",
       "10762  2022-12-04T18:58:11.630         0   \n",
       "\n",
       "                                                                              pt_title  \\\n",
       "0                                 Extracting the top-k value-indices from a 1-D Tensor   \n",
       "1                 How to Display Custom Images in Tensorboard (e.g. Matplotlib Plots)?   \n",
       "2                                                  Python wheels: cp27mu not supported   \n",
       "3                                       Loading Torch7 trained models (.t7) in PyTorch   \n",
       "4                                  PyTorch: How to use DataLoaders for custom Datasets   \n",
       "...                                                                                ...   \n",
       "10758                   Is it possible to perform quantization on densenet169 and how?   \n",
       "10759          Why when the batch size increased, the epoch time will also increasing?   \n",
       "10760  Why does StableDiffusionPipeline return black images when generating multipl...   \n",
       "10761  Locating tags in a string in PHP (with respect to the string with tags removed)   \n",
       "10762                                   BGR to RGB for CUB_200 images by Image.split()   \n",
       "\n",
       "                                                                               pt_body  \\\n",
       "0      <p>Given a 1-D tensor in Torch (<code>torch.Tensor</code>), containing value...   \n",
       "1      <p>The <a href=\"https://github.com/tensorflow/tensorflow/blob/master/tensorf...   \n",
       "2      <p>I'm trying to install pytorch (<a href=\"http://pytorch.org/\" rel=\"norefer...   \n",
       "3      <p>I am using Torch7 library for implementing neural networks.  Mostly, I re...   \n",
       "4      <p>How to make use of the <code>torch.utils.data.Dataset</code> and <code>to...   \n",
       "...                                                                                ...   \n",
       "10758  <p>I have been trying to performing quantization on a densenet model without...   \n",
       "10759  <p>Epoch time means the time required to train for an epoch.</p>\\n<p>From my...   \n",
       "10760  <p>I am using the <a href=\"https://github.com/huggingface/diffusers/tree/mai...   \n",
       "10761  <p>I want to create a function that labels the location of certain HTML tags...   \n",
       "10762  <p>I am creating a PyTorch dataset and dataloader from CUB_200. When reading...   \n",
       "\n",
       "                                                                               pt_tags  \\\n",
       "0                                                        <python><lua><pytorch><torch>   \n",
       "1                               <python><tensorflow><matplotlib><pytorch><tensorboard>   \n",
       "2                                                    <python><linux><unicode><pytorch>   \n",
       "3                                     <python><lua><pytorch><torch><pre-trained-model>   \n",
       "4                                                             <python><torch><pytorch>   \n",
       "...                                                                                ...   \n",
       "10758  <machine-learning><pytorch><artificial-intelligence><densenet><static-quanti...   \n",
       "10759                                                         <deep-learning><pytorch>   \n",
       "10760          <python><pytorch><apple-m1><huggingface-transformers><stable-diffusion>   \n",
       "10761                                           <php><string><pytorch><label><italics>   \n",
       "10762                                     <python><image><pytorch><pytorch-dataloader>   \n",
       "\n",
       "       pt_parent_id  \\\n",
       "0               NaN   \n",
       "1               NaN   \n",
       "2               NaN   \n",
       "3               NaN   \n",
       "4               NaN   \n",
       "...             ...   \n",
       "10758           NaN   \n",
       "10759           NaN   \n",
       "10760           NaN   \n",
       "10761           NaN   \n",
       "10762           NaN   \n",
       "\n",
       "                                                                               context  \\\n",
       "0      <p>Just loop through the tensor and run your compare:</p>\\n\\n<pre><code>requ...   \n",
       "1      <p>It is quite easy to do if you have the image in a memory buffer. Below, I...   \n",
       "2      <p>This is exactly that. \\nRecompile python under slack with --enable-unicod...   \n",
       "3      <p>The correct function is <code>load_lua</code>:</p>\\n\\n<pre><code>from tor...   \n",
       "4      <p>Yes, that is possible. Just create the objects by yourself, e.g.</p>\\n\\n<...   \n",
       "...                                                                                ...   \n",
       "10758  <p>Here's how to do this on DenseNet169 from torchvision:</p>\\n<pre class=\"l...   \n",
       "10759  <p>As you already noticed, there are many factors that may affect epoch-time...   \n",
       "10760  <p>Apparently it is indeed an Apple Silicon (M1/M2) issue, of which Hugging ...   \n",
       "10761  <p>I think I've got something. How about this:</p>\\n<pre><code>function labe...   \n",
       "10762  <p>I would strongly recommend you use skimage.io to load your images, not op...   \n",
       "\n",
       "                                                                             pt_answer  \\\n",
       "0      <p>As of pull request <a href=\"https://github.com/torch/torch7/pull/496\" rel...   \n",
       "1      <p>It is quite easy to do if you have the image in a memory buffer. Below, I...   \n",
       "2      <p>This is exactly that. \\nRecompile python under slack with --enable-unicod...   \n",
       "3      <p>As of PyTorch 1.0 <code>torch.utils.serialization</code> is completely re...   \n",
       "4      <p>Yes, that is possible. Just create the objects by yourself, e.g.</p>\\n\\n<...   \n",
       "...                                                                                ...   \n",
       "10758  <p>Here's how to do this on DenseNet169 from torchvision:</p>\\n<pre class=\"l...   \n",
       "10759  <p>As you already noticed, there are many factors that may affect epoch-time...   \n",
       "10760  <p>Apparently it is indeed an Apple Silicon (M1/M2) issue, of which Hugging ...   \n",
       "10761  <p>I think I've got something. How about this:</p>\\n<pre><code>function labe...   \n",
       "10762  <p>I would strongly recommend you use skimage.io to load your images, not op...   \n",
       "\n",
       "                                                                              question  \n",
       "0      Extracting the top-k value-indices from a 1-D Tensor <p>Given a 1-D tensor i...  \n",
       "1      How to Display Custom Images in Tensorboard (e.g. Matplotlib Plots)? <p>The ...  \n",
       "2      Python wheels: cp27mu not supported <p>I'm trying to install pytorch (<a hre...  \n",
       "3      Loading Torch7 trained models (.t7) in PyTorch <p>I am using Torch7 library ...  \n",
       "4      PyTorch: How to use DataLoaders for custom Datasets <p>How to make use of th...  \n",
       "...                                                                                ...  \n",
       "10758                                                                              NaN  \n",
       "10759                                                                              NaN  \n",
       "10760                                                                              NaN  \n",
       "10761                                                                              NaN  \n",
       "10762                                                                              NaN  \n",
       "\n",
       "[10763 rows x 12 columns]"
      ]
     },
     "execution_count": 16,
     "metadata": {},
     "output_type": "execute_result"
    }
   ],
   "source": [
    "import pandas as pd\n",
    "import re\n",
    "\n",
    "df = pd.read_csv(\"pt_question_answers.csv\")\n",
    "\n",
    "df"
   ]
  },
  {
   "cell_type": "code",
   "execution_count": 4,
   "id": "ac0cb0cc",
   "metadata": {},
   "outputs": [
    {
     "name": "stderr",
     "output_type": "stream",
     "text": [
      "/tmp/ipykernel_1629/696361460.py:13: SettingWithCopyWarning: \n",
      "A value is trying to be set on a copy of a slice from a DataFrame.\n",
      "Try using .loc[row_indexer,col_indexer] = value instead\n",
      "\n",
      "See the caveats in the documentation: https://pandas.pydata.org/pandas-docs/stable/user_guide/indexing.html#returning-a-view-versus-a-copy\n",
      "  df[\"text\"] = df[\"text\"].apply(lambda x: cleanhtml(x))\n",
      "/tmp/ipykernel_1629/696361460.py:15: SettingWithCopyWarning: \n",
      "A value is trying to be set on a copy of a slice from a DataFrame.\n",
      "Try using .loc[row_indexer,col_indexer] = value instead\n",
      "\n",
      "See the caveats in the documentation: https://pandas.pydata.org/pandas-docs/stable/user_guide/indexing.html#returning-a-view-versus-a-copy\n",
      "  df[\"text\"] = df[\"text\"].str.lower()\n"
     ]
    },
    {
     "data": {
      "text/html": [
       "<div>\n",
       "<style scoped>\n",
       "    .dataframe tbody tr th:only-of-type {\n",
       "        vertical-align: middle;\n",
       "    }\n",
       "\n",
       "    .dataframe tbody tr th {\n",
       "        vertical-align: top;\n",
       "    }\n",
       "\n",
       "    .dataframe thead th {\n",
       "        text-align: right;\n",
       "    }\n",
       "</style>\n",
       "<table border=\"1\" class=\"dataframe\">\n",
       "  <thead>\n",
       "    <tr style=\"text-align: right;\">\n",
       "      <th></th>\n",
       "      <th>text</th>\n",
       "    </tr>\n",
       "  </thead>\n",
       "  <tbody>\n",
       "    <tr>\n",
       "      <th>0</th>\n",
       "      <td>question: extracting the top-k value-indices f...</td>\n",
       "    </tr>\n",
       "    <tr>\n",
       "      <th>1</th>\n",
       "      <td>question: how to display custom images in tens...</td>\n",
       "    </tr>\n",
       "    <tr>\n",
       "      <th>2</th>\n",
       "      <td>question: python wheels: cp27mu not supported\\...</td>\n",
       "    </tr>\n",
       "    <tr>\n",
       "      <th>3</th>\n",
       "      <td>question: loading torch7 trained models (.t7) ...</td>\n",
       "    </tr>\n",
       "    <tr>\n",
       "      <th>4</th>\n",
       "      <td>question: pytorch: how to use dataloaders for ...</td>\n",
       "    </tr>\n",
       "    <tr>\n",
       "      <th>...</th>\n",
       "      <td>...</td>\n",
       "    </tr>\n",
       "    <tr>\n",
       "      <th>10758</th>\n",
       "      <td>question: is it possible to perform quantizati...</td>\n",
       "    </tr>\n",
       "    <tr>\n",
       "      <th>10759</th>\n",
       "      <td>question: why when the batch size increased, t...</td>\n",
       "    </tr>\n",
       "    <tr>\n",
       "      <th>10760</th>\n",
       "      <td>question: why does stablediffusionpipeline ret...</td>\n",
       "    </tr>\n",
       "    <tr>\n",
       "      <th>10761</th>\n",
       "      <td>question: locating tags in a string in php (wi...</td>\n",
       "    </tr>\n",
       "    <tr>\n",
       "      <th>10762</th>\n",
       "      <td>question: bgr to rgb for cub_200 images by ima...</td>\n",
       "    </tr>\n",
       "  </tbody>\n",
       "</table>\n",
       "<p>10763 rows × 1 columns</p>\n",
       "</div>"
      ],
      "text/plain": [
       "                                                    text\n",
       "0      question: extracting the top-k value-indices f...\n",
       "1      question: how to display custom images in tens...\n",
       "2      question: python wheels: cp27mu not supported\\...\n",
       "3      question: loading torch7 trained models (.t7) ...\n",
       "4      question: pytorch: how to use dataloaders for ...\n",
       "...                                                  ...\n",
       "10758  question: is it possible to perform quantizati...\n",
       "10759  question: why when the batch size increased, t...\n",
       "10760  question: why does stablediffusionpipeline ret...\n",
       "10761  question: locating tags in a string in php (wi...\n",
       "10762  question: bgr to rgb for cub_200 images by ima...\n",
       "\n",
       "[10763 rows x 1 columns]"
      ]
     },
     "execution_count": 4,
     "metadata": {},
     "output_type": "execute_result"
    }
   ],
   "source": [
    "\n",
    "\n",
    "\n",
    "# df[\"text\"] = \"question: \" + df[\"pt_title\"] + \"\\n\" + df[\"pt_body\"] + \"\\n\" + \"answer: \" + df[\"context\"]\n",
    "df[\"text\"] = \"question: \" + df[\"pt_title\"] + \"\\n\" + \"answer: \" + df[\"pt_answer\"]\n",
    "\n",
    "\n",
    "df = df[[\"text\"]]\n",
    "\n",
    "CLEANR = re.compile('<.*?>') \n",
    "\n",
    "def cleanhtml(raw_html):\n",
    "  cleantext = re.sub(CLEANR, '', raw_html)\n",
    "  return cleantext\n",
    "\n",
    "df[\"text\"] = df[\"text\"].apply(lambda x: cleanhtml(x))\n",
    "\n",
    "df[\"text\"] = df[\"text\"].str.lower()\n",
    "\n",
    "\n",
    "df"
   ]
  },
  {
   "cell_type": "code",
   "execution_count": null,
   "id": "2103717d",
   "metadata": {},
   "outputs": [],
   "source": []
  },
  {
   "cell_type": "code",
   "execution_count": 5,
   "id": "bf5a3f7d",
   "metadata": {},
   "outputs": [],
   "source": [
    "from haystack import Document\n",
    "\n",
    "\n",
    "# Use data to initialize Document objects\n",
    "#titles = list(df[\"pt_title\"].values)\n",
    "#texts = list(df[\"pt_answer\"].values)\n",
    "texts = list(df[\"text\"].values)\n",
    "documents = []\n",
    "#for title, text in zip(titles, texts):\n",
    "for text in texts:\n",
    "    documents.append(Document(content=text))\n"
   ]
  },
  {
   "cell_type": "code",
   "execution_count": 6,
   "id": "44fdf043",
   "metadata": {},
   "outputs": [
    {
     "data": {
      "text/plain": [
       "10763"
      ]
     },
     "execution_count": 6,
     "metadata": {},
     "output_type": "execute_result"
    }
   ],
   "source": [
    "len(documents)"
   ]
  },
  {
   "cell_type": "code",
   "execution_count": 7,
   "id": "47e20a18",
   "metadata": {},
   "outputs": [
    {
     "data": {
      "text/plain": [
       "<Document: {'content': 'question: extracting the top-k value-indices from a 1-d tensor\\nanswer: as of pull request #496 torch now includes a built-in api named torch.topk. example:\\n\\n&gt; t = torch.tensor{9, 1, 8, 2, 7, 3, 6, 4, 5}\\n\\n-- obtain the 3 smallest elements\\n&gt; res = t:topk(3)\\n&gt; print(res)\\n 1\\n 2\\n 3\\n[torch.doubletensor of size 3]\\n\\n-- you can also get the indices in addition\\n&gt; res, ind = t:topk(3)\\n&gt; print(ind)\\n 2\\n 4\\n 6\\n[torch.longtensor of size 3]\\n\\n-- alternatively you can obtain the k largest elements as follow\\n-- (see the api documentation for more details)\\n&gt; res = t:topk(3, true)\\n&gt; print(res)\\n 9\\n 8\\n 7\\n[torch.doubletensor of size 3]\\n\\n\\nat the time of writing the cpu implementation follows a sort and narrow approach (there are plans to improve it in the future). that being said an optimized gpu implementation for cutorch is currently being reviewed.\\n', 'content_type': 'text', 'score': None, 'meta': {}, 'id_hash_keys': ['content'], 'embedding': None, 'id': '963ddd692746dfa56caeb0fe11f5d1b'}>"
      ]
     },
     "execution_count": 7,
     "metadata": {},
     "output_type": "execute_result"
    }
   ],
   "source": [
    "documents[0]"
   ]
  },
  {
   "cell_type": "code",
   "execution_count": 8,
   "id": "16d0e16b",
   "metadata": {},
   "outputs": [
    {
     "name": "stderr",
     "output_type": "stream",
     "text": [
      "/opt/conda/envs/pytorch/lib/python3.9/site-packages/transformers/models/bart/configuration_bart.py:179: UserWarning: Please make sure the config includes `forced_bos_token_id=0` in future versions. The config can simply be saved and uploaded again to be fixed.\n",
      "  warnings.warn(\n",
      "The tokenizer class you load from this checkpoint is not the same type as the class this function is called from. It may result in unexpected tokenization. \n",
      "The tokenizer class you load from this checkpoint is 'RagTokenizer'. \n",
      "The class this function is called from is 'DPRQuestionEncoderTokenizer'.\n",
      "The tokenizer class you load from this checkpoint is not the same type as the class this function is called from. It may result in unexpected tokenization. \n",
      "The tokenizer class you load from this checkpoint is 'RagTokenizer'. \n",
      "The class this function is called from is 'DPRQuestionEncoderTokenizerFast'.\n",
      "The tokenizer class you load from this checkpoint is not the same type as the class this function is called from. It may result in unexpected tokenization. \n",
      "The tokenizer class you load from this checkpoint is 'RagTokenizer'. \n",
      "The class this function is called from is 'BartTokenizer'.\n",
      "The tokenizer class you load from this checkpoint is not the same type as the class this function is called from. It may result in unexpected tokenization. \n",
      "The tokenizer class you load from this checkpoint is 'RagTokenizer'. \n",
      "The class this function is called from is 'BartTokenizerFast'.\n",
      "Some weights of the model checkpoint at facebook/rag-token-nq were not used when initializing RagTokenForGeneration: ['rag.question_encoder.question_encoder.bert_model.pooler.dense.bias', 'rag.question_encoder.question_encoder.bert_model.pooler.dense.weight']\n",
      "- This IS expected if you are initializing RagTokenForGeneration from the checkpoint of a model trained on another task or with another architecture (e.g. initializing a BertForSequenceClassification model from a BertForPreTraining model).\n",
      "- This IS NOT expected if you are initializing RagTokenForGeneration from the checkpoint of a model that you expect to be exactly identical (initializing a BertForSequenceClassification model from a BertForSequenceClassification model).\n",
      "Some weights of RagTokenForGeneration were not initialized from the model checkpoint at facebook/rag-token-nq and are newly initialized: ['rag.generator.lm_head.weight']\n",
      "You should probably TRAIN this model on a down-stream task to be able to use it for predictions and inference.\n"
     ]
    }
   ],
   "source": [
    "from haystack.document_stores import FAISSDocumentStore\n",
    "from haystack.nodes import RAGenerator, DensePassageRetriever,EmbeddingRetriever\n",
    "\n",
    "\n",
    "# Initialize FAISS document store.\n",
    "# Set `return_embedding` to `True`, so generator doesn't have to perform re-embedding\n",
    "document_store = FAISSDocumentStore(faiss_index_factory_str=\"Flat\", return_embedding=True)\n",
    "\n",
    "# Initialize DPR Retriever to encode documents, encode question and query documents\n",
    "retriever = EmbeddingRetriever(document_store=document_store,\n",
    "                              embedding_model=\"sentence-transformers/multi-qa-mpnet-base-dot-v1\",\n",
    "                               model_format=\"sentence_transformers\")\n",
    "\n",
    "# Initialize DPR Retriever to encode documents, encode question and query documents\n",
    "# retriever = DensePassageRetriever(\n",
    "#     document_store=document_store,\n",
    "#     query_embedding_model=\"facebook/dpr-question_encoder-single-nq-base\",\n",
    "#     passage_embedding_model=\"facebook/dpr-ctx_encoder-single-nq-base\",\n",
    "#     use_gpu=True,\n",
    "#     embed_title=True,\n",
    "# )\n",
    "\n"
   ]
  },
  {
   "cell_type": "code",
   "execution_count": 9,
   "id": "e3a00688",
   "metadata": {},
   "outputs": [
    {
     "data": {
      "application/vnd.jupyter.widget-view+json": {
       "model_id": "5b0819fb41de4121a12631fb7ddbedb0",
       "version_major": 2,
       "version_minor": 0
      },
      "text/plain": [
       "Writing Documents:   0%|          | 0/10763 [00:00<?, ?it/s]"
      ]
     },
     "metadata": {},
     "output_type": "display_data"
    },
    {
     "data": {
      "application/vnd.jupyter.widget-view+json": {
       "model_id": "6d0790b48ed94b48ac46d47bacee2402",
       "version_major": 2,
       "version_minor": 0
      },
      "text/plain": [
       "Updating Embedding:   0%|          | 0/10763 [00:00<?, ? docs/s]"
      ]
     },
     "metadata": {},
     "output_type": "display_data"
    },
    {
     "data": {
      "application/vnd.jupyter.widget-view+json": {
       "model_id": "829ea1aff96c464ea2df8b85b7b23a85",
       "version_major": 2,
       "version_minor": 0
      },
      "text/plain": [
       "Batches:   0%|          | 0/313 [00:00<?, ?it/s]"
      ]
     },
     "metadata": {},
     "output_type": "display_data"
    },
    {
     "data": {
      "application/vnd.jupyter.widget-view+json": {
       "model_id": "76066889e7ec4e3ba3d185dc01bdc964",
       "version_major": 2,
       "version_minor": 0
      },
      "text/plain": [
       "Batches:   0%|          | 0/24 [00:00<?, ?it/s]"
      ]
     },
     "metadata": {},
     "output_type": "display_data"
    }
   ],
   "source": [
    "# Delete existing documents in documents store\n",
    "document_store.delete_documents()\n",
    "\n",
    "# Write documents to document store\n",
    "document_store.write_documents(documents)\n",
    "\n",
    "# Add documents embeddings to index\n",
    "document_store.update_embeddings(retriever=retriever)\n"
   ]
  },
  {
   "cell_type": "code",
   "execution_count": 13,
   "id": "b05fd91a",
   "metadata": {},
   "outputs": [
    {
     "name": "stderr",
     "output_type": "stream",
     "text": [
      "/opt/conda/envs/pytorch/lib/python3.9/site-packages/transformers/models/bart/configuration_bart.py:179: UserWarning: Please make sure the config includes `forced_bos_token_id=0` in future versions. The config can simply be saved and uploaded again to be fixed.\n",
      "  warnings.warn(\n",
      "The tokenizer class you load from this checkpoint is not the same type as the class this function is called from. It may result in unexpected tokenization. \n",
      "The tokenizer class you load from this checkpoint is 'RagTokenizer'. \n",
      "The class this function is called from is 'DPRQuestionEncoderTokenizer'.\n",
      "The tokenizer class you load from this checkpoint is not the same type as the class this function is called from. It may result in unexpected tokenization. \n",
      "The tokenizer class you load from this checkpoint is 'RagTokenizer'. \n",
      "The class this function is called from is 'DPRQuestionEncoderTokenizerFast'.\n",
      "The tokenizer class you load from this checkpoint is not the same type as the class this function is called from. It may result in unexpected tokenization. \n",
      "The tokenizer class you load from this checkpoint is 'RagTokenizer'. \n",
      "The class this function is called from is 'BartTokenizer'.\n",
      "The tokenizer class you load from this checkpoint is not the same type as the class this function is called from. It may result in unexpected tokenization. \n",
      "The tokenizer class you load from this checkpoint is 'RagTokenizer'. \n",
      "The class this function is called from is 'BartTokenizerFast'.\n",
      "Some weights of the model checkpoint at facebook/rag-token-nq were not used when initializing RagTokenForGeneration: ['rag.question_encoder.question_encoder.bert_model.pooler.dense.bias', 'rag.question_encoder.question_encoder.bert_model.pooler.dense.weight']\n",
      "- This IS expected if you are initializing RagTokenForGeneration from the checkpoint of a model trained on another task or with another architecture (e.g. initializing a BertForSequenceClassification model from a BertForPreTraining model).\n",
      "- This IS NOT expected if you are initializing RagTokenForGeneration from the checkpoint of a model that you expect to be exactly identical (initializing a BertForSequenceClassification model from a BertForSequenceClassification model).\n",
      "Some weights of RagTokenForGeneration were not initialized from the model checkpoint at facebook/rag-token-nq and are newly initialized: ['rag.generator.lm_head.weight']\n",
      "You should probably TRAIN this model on a down-stream task to be able to use it for predictions and inference.\n"
     ]
    }
   ],
   "source": [
    "# Initialize RAG Generator\n",
    "generator = RAGenerator(\n",
    "    model_name_or_path=\"facebook/rag-token-nq\",\n",
    "    use_gpu=True,\n",
    "    top_k=1,\n",
    "    max_length=512,\n",
    "    min_length=10,\n",
    "    embed_title=True,\n",
    "    num_beams=10,\n",
    ")\n"
   ]
  },
  {
   "cell_type": "code",
   "execution_count": 11,
   "id": "0700b23c",
   "metadata": {},
   "outputs": [
    {
     "data": {
      "text/plain": [
       "['How do I check if PyTorch is using the GPU?\\n',\n",
       " 'How do I save a trained model in PyTorch?\\n',\n",
       " 'What does .view() do in PyTorch?\\n',\n",
       " 'Why do we need to call zero_grad() in PyTorch?\\n',\n",
       " 'How do I print the model summary in PyTorch?\\n',\n",
       " 'How do I initialize weights in PyTorch?\\n',\n",
       " 'What does model.eval() do in pytorch?\\n',\n",
       " \"What's the difference between reshape and view in pytorch?\\n\",\n",
       " 'What does model.train() do in PyTorch?\\n',\n",
       " 'What does .contiguous() do in PyTorch?\\n']"
      ]
     },
     "execution_count": 11,
     "metadata": {},
     "output_type": "execute_result"
    }
   ],
   "source": [
    "top_10_questions = pd.read_csv(\"top100questions.csv\").iloc[:10].question.tolist()\n",
    "\n",
    "top_10_questions"
   ]
  },
  {
   "cell_type": "code",
   "execution_count": 14,
   "id": "896a6ce7",
   "metadata": {},
   "outputs": [
    {
     "data": {
      "application/vnd.jupyter.widget-view+json": {
       "model_id": "af71fe02da9247b1bcab97f758d25f7d",
       "version_major": 2,
       "version_minor": 0
      },
      "text/plain": [
       "Batches:   0%|          | 0/1 [00:00<?, ?it/s]"
      ]
     },
     "metadata": {},
     "output_type": "display_data"
    },
    {
     "name": "stdout",
     "output_type": "stream",
     "text": [
      "\n",
      "Query: How do I check if PyTorch is using the GPU?\n",
      "\n",
      "Answers:\n",
      "[{'answer': ' import torch. is / is not a device'}]\n"
     ]
    },
    {
     "data": {
      "application/vnd.jupyter.widget-view+json": {
       "model_id": "88c579249ee1427dbbbdfb413e05b56f",
       "version_major": 2,
       "version_minor": 0
      },
      "text/plain": [
       "Batches:   0%|          | 0/1 [00:00<?, ?it/s]"
      ]
     },
     "metadata": {},
     "output_type": "display_data"
    },
    {
     "name": "stdout",
     "output_type": "stream",
     "text": [
      "\n",
      "Query: How do I save a trained model in PyTorch?\n",
      "\n",
      "Answers:\n",
      "[{'answer': ' fabulac Rabindra née saha'}]\n"
     ]
    },
    {
     "data": {
      "application/vnd.jupyter.widget-view+json": {
       "model_id": "9faa2e90e1594f23bf68a06ab0611105",
       "version_major": 2,
       "version_minor": 0
      },
      "text/plain": [
       "Batches:   0%|          | 0/1 [00:00<?, ?it/s]"
      ]
     },
     "metadata": {},
     "output_type": "display_data"
    },
    {
     "name": "stdout",
     "output_type": "stream",
     "text": [
      "\n",
      "Query: What does .view() do in PyTorch?\n",
      "\n",
      "Answers:\n",
      "[{'answer': ' horrifictorch. size ( 0.1 )'}]\n"
     ]
    },
    {
     "data": {
      "application/vnd.jupyter.widget-view+json": {
       "model_id": "ca40094837a94881b94db0bc8bb12bda",
       "version_major": 2,
       "version_minor": 0
      },
      "text/plain": [
       "Batches:   0%|          | 0/1 [00:00<?, ?it/s]"
      ]
     },
     "metadata": {},
     "output_type": "display_data"
    },
    {
     "name": "stdout",
     "output_type": "stream",
     "text": [
      "\n",
      "Query: Why do we need to call zero_grad() in PyTorch?\n",
      "\n",
      "Answers:\n",
      "[{'answer': ' when using momentum j, j.b. 2018'}]\n"
     ]
    },
    {
     "data": {
      "application/vnd.jupyter.widget-view+json": {
       "model_id": "250d4f3a323e40058e7835aeb4633578",
       "version_major": 2,
       "version_minor": 0
      },
      "text/plain": [
       "Batches:   0%|          | 0/1 [00:00<?, ?it/s]"
      ]
     },
     "metadata": {},
     "output_type": "display_data"
    },
    {
     "name": "stdout",
     "output_type": "stream",
     "text": [
      "\n",
      "Query: How do I print the model summary in PyTorch?\n",
      "\n",
      "Answers:\n",
      "[{'answer': ' print ( m1, PDF ).'}]\n"
     ]
    },
    {
     "data": {
      "application/vnd.jupyter.widget-view+json": {
       "model_id": "0a39ac41dbd6474a8d9ae1ece14a542a",
       "version_major": 2,
       "version_minor": 0
      },
      "text/plain": [
       "Batches:   0%|          | 0/1 [00:00<?, ?it/s]"
      ]
     },
     "metadata": {},
     "output_type": "display_data"
    },
    {
     "name": "stdout",
     "output_type": "stream",
     "text": [
      "\n",
      "Query: How do I initialize weights in PyTorch?\n",
      "\n",
      "Answers:\n",
      "[{'answer': ' at random ( regardless of whether it isometric )'}]\n"
     ]
    },
    {
     "data": {
      "application/vnd.jupyter.widget-view+json": {
       "model_id": "529b2f8704574d29a5149c159211c45b",
       "version_major": 2,
       "version_minor": 0
      },
      "text/plain": [
       "Batches:   0%|          | 0/1 [00:00<?, ?it/s]"
      ]
     },
     "metadata": {},
     "output_type": "display_data"
    },
    {
     "name": "stdout",
     "output_type": "stream",
     "text": [
      "\n",
      "Query: What does model.eval() do in pytorch?\n",
      "\n",
      "Answers:\n",
      "[{'answer': ' model.eval. no_grad, etc'}]\n"
     ]
    },
    {
     "data": {
      "application/vnd.jupyter.widget-view+json": {
       "model_id": "809426ff140e479091ecd5892a00557d",
       "version_major": 2,
       "version_minor": 0
      },
      "text/plain": [
       "Batches:   0%|          | 0/1 [00:00<?, ?it/s]"
      ]
     },
     "metadata": {},
     "output_type": "display_data"
    },
    {
     "name": "stdout",
     "output_type": "stream",
     "text": [
      "\n",
      "Query: What's the difference between reshape and view in pytorch?\n",
      "\n",
      "Answers:\n",
      "[{'answer': ' torch. reshape ( 0 : 1 )'}]\n"
     ]
    },
    {
     "data": {
      "application/vnd.jupyter.widget-view+json": {
       "model_id": "f4ad38912746410ba883ce88302f529e",
       "version_major": 2,
       "version_minor": 0
      },
      "text/plain": [
       "Batches:   0%|          | 0/1 [00:00<?, ?it/s]"
      ]
     },
     "metadata": {},
     "output_type": "display_data"
    },
    {
     "name": "stdout",
     "output_type": "stream",
     "text": [
      "\n",
      "Query: What does model.train() do in PyTorch?\n",
      "\n",
      "Answers:\n",
      "[{'answer': ' ⁄ 2 : model.train ( mode )'}]\n"
     ]
    },
    {
     "data": {
      "application/vnd.jupyter.widget-view+json": {
       "model_id": "da3dbe3add5848aa83779772b5cdb256",
       "version_major": 2,
       "version_minor": 0
      },
      "text/plain": [
       "Batches:   0%|          | 0/1 [00:00<?, ?it/s]"
      ]
     },
     "metadata": {},
     "output_type": "display_data"
    },
    {
     "name": "stdout",
     "output_type": "stream",
     "text": [
      "\n",
      "Query: What does .contiguous() do in PyTorch?\n",
      "\n",
      "Answers:\n",
      "[{'answer': ' notoriously paraphylicia pleasonton ( u.s. )'}]\n"
     ]
    }
   ],
   "source": [
    "# Or alternatively use the Pipeline class\n",
    "from haystack.pipelines import GenerativeQAPipeline\n",
    "from haystack.utils import print_answers\n",
    "\n",
    "pipe = GenerativeQAPipeline(generator=generator, retriever=retriever)\n",
    "for question in top_10_questions:\n",
    "    res = pipe.run(query=question, params={\"Generator\": {\"top_k\": 1}, \"Retriever\": {\"top_k\": 3}})\n",
    "    print_answers(res, details=\"minimum\")\n"
   ]
  },
  {
   "cell_type": "code",
   "execution_count": null,
   "id": "ba8f7504",
   "metadata": {},
   "outputs": [],
   "source": []
  }
 ],
 "metadata": {
  "kernelspec": {
   "display_name": "Python 3 (ipykernel)",
   "language": "python",
   "name": "python3"
  },
  "language_info": {
   "codemirror_mode": {
    "name": "ipython",
    "version": 3
   },
   "file_extension": ".py",
   "mimetype": "text/x-python",
   "name": "python",
   "nbconvert_exporter": "python",
   "pygments_lexer": "ipython3",
   "version": "3.9.15"
  }
 },
 "nbformat": 4,
 "nbformat_minor": 5
}
