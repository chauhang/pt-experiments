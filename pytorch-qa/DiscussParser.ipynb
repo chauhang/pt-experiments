{
 "cells": [
  {
   "cell_type": "markdown",
   "metadata": {},
   "source": [
    "### Find solved posts"
   ]
  },
  {
   "cell_type": "code",
   "execution_count": 2,
   "metadata": {
    "ExecuteTime": {
     "end_time": "2023-04-21T18:18:03.035809Z",
     "start_time": "2023-04-21T18:02:12.531667Z"
    }
   },
   "outputs": [
    {
     "name": "stderr",
     "output_type": "stream",
     "text": [
      "100%|██████████| 1236/1236 [15:50<00:00,  1.30it/s]\n"
     ]
    }
   ],
   "source": [
    "import requests\n",
    "import pandas as pd\n",
    "from concurrent.futures import ThreadPoolExecutor, as_completed\n",
    "from tqdm import tqdm\n",
    "\n",
    "period = 'all'\n",
    "host = \"https://discuss.pytorch.org\"\n",
    "total_pages = 1236\n",
    "\n",
    "solved_post_list = []\n",
    "\n",
    "def fetch_page(page):\n",
    "    resp = requests.get(host+f'/top.json?page={page}&period={period}&per_page=100').json()\n",
    "    df = pd.DataFrame(resp[\"topic_list\"][\"topics\"])\n",
    "    df = df.loc[df.has_accepted_answer == True, [\"id\", \"title\"]]\n",
    "    return df\n",
    "\n",
    "with ThreadPoolExecutor(max_workers=4) as executor:\n",
    "    futures = [executor.submit(fetch_page, page) for page in range(total_pages)]\n",
    "    for future in tqdm(as_completed(futures), total=total_pages):\n",
    "        solved_post_list.append(future.result())\n"
   ]
  },
  {
   "cell_type": "code",
   "execution_count": 4,
   "metadata": {
    "ExecuteTime": {
     "end_time": "2023-04-21T18:20:04.365375Z",
     "start_time": "2023-04-21T18:20:04.156291Z"
    }
   },
   "outputs": [],
   "source": [
    "pd.concat(solved_post_list, ignore_index=True).to_csv(\"discuss_solved_id.csv\", index=False)"
   ]
  },
  {
   "cell_type": "code",
   "execution_count": null,
   "metadata": {},
   "outputs": [],
   "source": []
  },
  {
   "cell_type": "code",
   "execution_count": null,
   "metadata": {},
   "outputs": [],
   "source": []
  },
  {
   "cell_type": "code",
   "execution_count": null,
   "metadata": {},
   "outputs": [],
   "source": []
  },
  {
   "cell_type": "markdown",
   "metadata": {},
   "source": [
    "### Extract post contents"
   ]
  },
  {
   "cell_type": "code",
   "execution_count": 7,
   "metadata": {
    "ExecuteTime": {
     "end_time": "2023-04-21T18:22:36.803384Z",
     "start_time": "2023-04-21T18:22:36.755881Z"
    }
   },
   "outputs": [
    {
     "data": {
      "text/html": [
       "<div>\n",
       "<style scoped>\n",
       "    .dataframe tbody tr th:only-of-type {\n",
       "        vertical-align: middle;\n",
       "    }\n",
       "\n",
       "    .dataframe tbody tr th {\n",
       "        vertical-align: top;\n",
       "    }\n",
       "\n",
       "    .dataframe thead th {\n",
       "        text-align: right;\n",
       "    }\n",
       "</style>\n",
       "<table border=\"1\" class=\"dataframe\">\n",
       "  <thead>\n",
       "    <tr style=\"text-align: right;\">\n",
       "      <th></th>\n",
       "      <th>id</th>\n",
       "      <th>title</th>\n",
       "    </tr>\n",
       "  </thead>\n",
       "  <tbody>\n",
       "    <tr>\n",
       "      <th>0</th>\n",
       "      <td>3663</td>\n",
       "      <td>Torch.from_numpy not support negative strides</td>\n",
       "    </tr>\n",
       "    <tr>\n",
       "      <th>1</th>\n",
       "      <td>14944</td>\n",
       "      <td>What is the difference between BCEWithLogitsLo...</td>\n",
       "    </tr>\n",
       "    <tr>\n",
       "      <th>2</th>\n",
       "      <td>18689</td>\n",
       "      <td>Beginner: Should ReLU/sigmoid be called in the...</td>\n",
       "    </tr>\n",
       "    <tr>\n",
       "      <th>3</th>\n",
       "      <td>1041</td>\n",
       "      <td>How to change the default device of GPU? devic...</td>\n",
       "    </tr>\n",
       "    <tr>\n",
       "      <th>4</th>\n",
       "      <td>2152</td>\n",
       "      <td>How to train the network with multiple branches</td>\n",
       "    </tr>\n",
       "    <tr>\n",
       "      <th>...</th>\n",
       "      <td>...</td>\n",
       "      <td>...</td>\n",
       "    </tr>\n",
       "    <tr>\n",
       "      <th>13283</th>\n",
       "      <td>176713</td>\n",
       "      <td>Best way to implement series of weighted rando...</td>\n",
       "    </tr>\n",
       "    <tr>\n",
       "      <th>13284</th>\n",
       "      <td>177807</td>\n",
       "      <td>Batch_norm causes RuntimeError: Expected all t...</td>\n",
       "    </tr>\n",
       "    <tr>\n",
       "      <th>13285</th>\n",
       "      <td>178060</td>\n",
       "      <td>Scale gradient without scaling loss values</td>\n",
       "    </tr>\n",
       "    <tr>\n",
       "      <th>13286</th>\n",
       "      <td>177926</td>\n",
       "      <td>Transform normalization</td>\n",
       "    </tr>\n",
       "    <tr>\n",
       "      <th>13287</th>\n",
       "      <td>178096</td>\n",
       "      <td>Parameters of model</td>\n",
       "    </tr>\n",
       "  </tbody>\n",
       "</table>\n",
       "<p>13288 rows × 2 columns</p>\n",
       "</div>"
      ],
      "text/plain": [
       "           id                                              title\n",
       "0        3663      Torch.from_numpy not support negative strides\n",
       "1       14944  What is the difference between BCEWithLogitsLo...\n",
       "2       18689  Beginner: Should ReLU/sigmoid be called in the...\n",
       "3        1041  How to change the default device of GPU? devic...\n",
       "4        2152    How to train the network with multiple branches\n",
       "...       ...                                                ...\n",
       "13283  176713  Best way to implement series of weighted rando...\n",
       "13284  177807  Batch_norm causes RuntimeError: Expected all t...\n",
       "13285  178060         Scale gradient without scaling loss values\n",
       "13286  177926                            Transform normalization\n",
       "13287  178096                                Parameters of model\n",
       "\n",
       "[13288 rows x 2 columns]"
      ]
     },
     "execution_count": 7,
     "metadata": {},
     "output_type": "execute_result"
    }
   ],
   "source": [
    "solved_ids_df = pd.read_csv(\"discuss_solved_id.csv\")\n",
    "\n",
    "solved_ids_df"
   ]
  },
  {
   "cell_type": "code",
   "execution_count": 31,
   "metadata": {
    "ExecuteTime": {
     "end_time": "2023-04-21T18:28:49.052943Z",
     "start_time": "2023-04-21T18:28:49.036884Z"
    }
   },
   "outputs": [
    {
     "data": {
      "text/plain": [
       "'What is the difference between BCEWithLogitsLoss and MultiLabelSoftMarginLoss'"
      ]
     },
     "execution_count": 31,
     "metadata": {},
     "output_type": "execute_result"
    }
   ],
   "source": [
    "solved_ids_df.loc[1, \"title\"]"
   ]
  },
  {
   "cell_type": "code",
   "execution_count": 25,
   "metadata": {
    "ExecuteTime": {
     "end_time": "2023-04-21T18:28:00.409449Z",
     "start_time": "2023-04-21T18:28:00.401202Z"
    }
   },
   "outputs": [],
   "source": [
    "title = \"14944\""
   ]
  },
  {
   "cell_type": "code",
   "execution_count": 26,
   "metadata": {
    "ExecuteTime": {
     "end_time": "2023-04-21T18:28:00.996900Z",
     "start_time": "2023-04-21T18:28:00.983503Z"
    }
   },
   "outputs": [],
   "source": [
    "def _process_cooked(cooked):\n",
    "    bs = BSHTML(cooked)\n",
    "    p = ' '.join([x.get_text() for x in bs.find_all('p')])\n",
    "    return p"
   ]
  },
  {
   "cell_type": "code",
   "execution_count": 27,
   "metadata": {
    "ExecuteTime": {
     "end_time": "2023-04-21T18:28:11.354910Z",
     "start_time": "2023-04-21T18:28:07.905334Z"
    }
   },
   "outputs": [],
   "source": [
    "r = requests.get(host+f'/t/{title}/posts.json').json()"
   ]
  },
  {
   "cell_type": "code",
   "execution_count": 28,
   "metadata": {
    "ExecuteTime": {
     "end_time": "2023-04-21T18:28:11.376975Z",
     "start_time": "2023-04-21T18:28:11.360514Z"
    }
   },
   "outputs": [
    {
     "data": {
      "text/plain": [
       "'14944? I think there is no difference between BCEWithLogitsLoss and MultiLabelSoftMarginLoss. BCEWithLogitsLoss = One Sigmoid Layer + BCELoss (solved numerically unstable problem) MultiLabelSoftMargin’s fomula is also same with BCEWithLogitsLoss. One difference is BCEWithLogitsLoss has a ‘weight’ parameter, MultiLabelSoftMarginLoss no has) BCEWithLogitsLoss  :\\n MultiLabelSoftMarginLoss  :\\n The two formula is exactly the same except for the weight value.'"
      ]
     },
     "execution_count": 28,
     "metadata": {},
     "output_type": "execute_result"
    }
   ],
   "source": [
    "from bs4 import BeautifulSoup as BSHTML\n",
    "q = title + '? ' + _process_cooked(r['post_stream']['posts'][0]['cooked'])\n",
    "\n",
    "q"
   ]
  },
  {
   "cell_type": "code",
   "execution_count": 29,
   "metadata": {
    "ExecuteTime": {
     "end_time": "2023-04-21T18:28:12.237103Z",
     "start_time": "2023-04-21T18:28:12.222614Z"
    }
   },
   "outputs": [
    {
     "data": {
      "text/plain": [
       "'You are right. Both loss functions seem to return the same loss values:'"
      ]
     },
     "execution_count": 29,
     "metadata": {},
     "output_type": "execute_result"
    }
   ],
   "source": [
    "a = _process_cooked([x['cooked'] for x in r['post_stream']['posts'] if x['accepted_answer'] is True][0])\n",
    "\n",
    "a"
   ]
  },
  {
   "cell_type": "code",
   "execution_count": null,
   "metadata": {},
   "outputs": [],
   "source": []
  }
 ],
 "metadata": {
  "kernelspec": {
   "display_name": "Python 3",
   "language": "python",
   "name": "python3"
  },
  "language_info": {
   "codemirror_mode": {
    "name": "ipython",
    "version": 3
   },
   "file_extension": ".py",
   "mimetype": "text/x-python",
   "name": "python",
   "nbconvert_exporter": "python",
   "pygments_lexer": "ipython3",
   "version": "3.8.2"
  }
 },
 "nbformat": 4,
 "nbformat_minor": 4
}
