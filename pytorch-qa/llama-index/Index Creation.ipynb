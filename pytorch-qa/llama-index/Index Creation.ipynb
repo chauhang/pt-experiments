{
 "cells": [
  {
   "cell_type": "code",
   "execution_count": 1,
   "id": "dcc78e5d",
   "metadata": {},
   "outputs": [],
   "source": [
    "import os\n",
    "import torch\n",
    "import nest_asyncio\n",
    "from dotenv import load_dotenv\n",
    "\n",
    "from transformers import pipeline, TextStreamer\n",
    "\n",
    "from llama_index import download_loader, SummaryPrompt, LLMPredictor, GithubRepositoryReader, GPTVectorStoreIndex, GPTTreeIndex, GPTListIndex, PromptHelper, SimpleDirectoryReader, load_index_from_storage, StorageContext, ServiceContext, LangchainEmbedding\n",
    "from llama_index.langchain_helpers.text_splitter import TokenTextSplitter\n",
    "from llama_index.node_parser import SimpleNodeParser, NodeParser\n",
    "\n",
    "from langchain.llms import HuggingFacePipeline\n",
    "from langchain.embeddings import HuggingFaceEmbeddings\n",
    "\n",
    "load_dotenv()\n",
    "nest_asyncio.apply()"
   ]
  },
  {
   "cell_type": "code",
   "execution_count": 2,
   "id": "99c05c51",
   "metadata": {},
   "outputs": [],
   "source": [
    "# define prompt helper\n",
    "# set maximum input size\n",
    "max_input_size = 512\n",
    "# set number of output tokens\n",
    "num_output = 128\n",
    "# set maximum chunk overlap\n",
    "max_chunk_overlap = 20\n",
    "prompt_helper = PromptHelper(max_input_size, num_output, max_chunk_overlap)"
   ]
  },
  {
   "cell_type": "markdown",
   "id": "f78b5d27",
   "metadata": {},
   "source": [
    "## Define LLM"
   ]
  },
  {
   "cell_type": "code",
   "execution_count": 3,
   "id": "30c63946",
   "metadata": {},
   "outputs": [],
   "source": [
    "generate_text = pipeline(model=\"databricks/dolly-v2-12b\", torch_dtype=torch.bfloat16,\n",
    "                         trust_remote_code=True, device_map=\"auto\", return_full_text=True)\n",
    "\n",
    "hf_pipeline = HuggingFacePipeline(pipeline=generate_text)\n",
    "llm_predictor = LLMPredictor(llm=hf_pipeline)"
   ]
  },
  {
   "cell_type": "markdown",
   "id": "f6fedf70",
   "metadata": {},
   "source": [
    "## Define Embedding model"
   ]
  },
  {
   "cell_type": "code",
   "execution_count": 6,
   "id": "79ee1525",
   "metadata": {
    "scrolled": true
   },
   "outputs": [
    {
     "name": "stderr",
     "output_type": "stream",
     "text": [
      "INFO:sentence_transformers.SentenceTransformer:Load pretrained SentenceTransformer: sentence-transformers/all-mpnet-base-v2\n",
      "INFO:sentence_transformers.SentenceTransformer:Use pytorch device: cuda\n"
     ]
    }
   ],
   "source": [
    "embed_model = LangchainEmbedding(HuggingFaceEmbeddings())"
   ]
  },
  {
   "cell_type": "code",
   "execution_count": 7,
   "id": "9e5412cb",
   "metadata": {},
   "outputs": [],
   "source": [
    "service_context = ServiceContext.from_defaults(llm_predictor=llm_predictor, prompt_helper=prompt_helper, embed_model=embed_model)"
   ]
  },
  {
   "cell_type": "code",
   "execution_count": 8,
   "id": "a39d05a6",
   "metadata": {},
   "outputs": [],
   "source": [
    "text_splitter = TokenTextSplitter(separator=\" \", chunk_size=256, chunk_overlap=20)\n",
    "parser = SimpleNodeParser(text_splitter=text_splitter)"
   ]
  },
  {
   "cell_type": "markdown",
   "id": "986de0ff",
   "metadata": {},
   "source": [
    "# RSS feed data collector"
   ]
  },
  {
   "cell_type": "code",
   "execution_count": 4,
   "id": "143417c0",
   "metadata": {},
   "outputs": [],
   "source": [
    "# RSS Feed\n",
    "RssReader = download_loader(\"RssReader\")\n",
    "\n",
    "reader = RssReader()\n",
    "rss_feed_documents = reader.load_data([\n",
    "    \"https://pytorch.org/feed.xml\",\n",
    "])\n",
    "\n",
    "rss_feed_nodes = parser.get_nodes_from_documents(rss_feed_documents)\n",
    "rss_feed_index = GPTVectorStoreIndex(rss_feed_nodes, service_context=service_context)"
   ]
  },
  {
   "cell_type": "markdown",
   "id": "d8cd502b",
   "metadata": {},
   "source": [
    "## GitHub data collector"
   ]
  },
  {
   "cell_type": "code",
   "execution_count": 5,
   "id": "537b3a6a",
   "metadata": {
    "scrolled": false
   },
   "outputs": [],
   "source": [
    "# GitHub Repo\n",
    "download_loader(\"GithubRepositoryReader\")\n",
    "\n",
    "from llama_index.readers.llamahub_modules.github_repo import GithubRepositoryReader, GithubClient\n",
    "\n",
    "github_client = GithubClient(os.getenv(\"GITHUB_TOKEN\"))\n",
    "loader = GithubRepositoryReader(\n",
    "    github_client,\n",
    "    owner =                  \"pytorch\",\n",
    "    repo =                   \"pytorch.github.io\",\n",
    "    filter_directories =     ([\"docs\", \"_posts\", \"_getting_started\", \"_news\", \"_mobile\"], GithubRepositoryReader.FilterType.INCLUDE),\n",
    "    filter_file_extensions = ([\".md\"], GithubRepositoryReader.FilterType.INCLUDE),\n",
    "    verbose =                False,\n",
    "    concurrent_requests =    10,\n",
    ")\n",
    "\n",
    "loader = GithubRepositoryReader(\n",
    "    github_token=os.getenv(\"GITHUB_TOKEN\"),\n",
    "    owner=\"jagadeeshi2i\",\n",
    "    repo=\"pytorch.github.io-1\",\n",
    "    use_parser=False,\n",
    "    verbose=False,\n",
    "    concurrent_requests = 10\n",
    ")\n",
    "github_docs = loader.load_data(branch=\"master\")\n",
    "github_site_nodes = parser.get_nodes_from_documents(github_docs)\n",
    "github_site_index = GPTVectorStoreIndex(github_site_nodes, service_context=service_context)"
   ]
  },
  {
   "cell_type": "markdown",
   "id": "6fd43dfe",
   "metadata": {},
   "source": [
    "## Vector data collector"
   ]
  },
  {
   "cell_type": "code",
   "execution_count": 6,
   "id": "1ea2bc1b",
   "metadata": {
    "scrolled": false
   },
   "outputs": [],
   "source": [
    "# PyTorch Docs\n",
    "pytorch_docs = SimpleDirectoryReader(input_files = ['./faiss/index.pkl']).load_data()\n",
    "pytorch_docs_nodes = parser.get_nodes_from_documents(pytorch_docs)\n",
    "pytorch_docs_index = GPTVectorStoreIndex(pytorch_docs_nodes, service_context=service_context)"
   ]
  },
  {
   "cell_type": "markdown",
   "id": "73b47dee",
   "metadata": {},
   "source": [
    "## ChatGPT Plugin data collector"
   ]
  },
  {
   "cell_type": "code",
   "execution_count": null,
   "id": "0d15faf8",
   "metadata": {},
   "outputs": [],
   "source": [
    "ChatGPTRetrievalPluginReader = download_loader(\"ChatGPTRetrievalPluginReader\")\n",
    "\n",
    "bearer_token = os.getenv(\"BEARER_TOKEN\")\n",
    "reader = ChatGPTRetrievalPluginReader(\n",
    "    endpoint_url=\"http://localhost:8000\",\n",
    "    bearer_token=bearer_token\n",
    ")\n",
    "\n",
    "plugin_documents = reader.load_data(\"text query\")\n",
    "plugin_nodes = parser.get_nodes_from_documents(plugin_documents)\n",
    "plugin_index = GPTVectorStoreIndex(plugin_nodes, service_context=service_context)\n",
    "plugin_index.storage_context.persist(persist_dir=\"plugin_data\")\"\""
   ]
  },
  {
   "cell_type": "markdown",
   "id": "8b73ce8e",
   "metadata": {},
   "source": [
    "## Save index"
   ]
  },
  {
   "cell_type": "code",
   "execution_count": null,
   "id": "fc487fb3",
   "metadata": {},
   "outputs": [],
   "source": [
    "rss_index_id = rss_feed_index.index_id\n",
    "rss_feed_index.storage_context.persist(persist_dir=\"rss_feed\")\n",
    "pytorch_docs_index_id = pytorch_docs_index.index_id\n",
    "pytorch_docs_index.storage_context.persist(persist_dir=\"pytorch_data\")\n",
    "github_site_index_id = github_site_index.index_id\n",
    "github_site_index.storage_context.persist(persist_dir=\"github_data\")"
   ]
  }
 ],
 "metadata": {
  "kernelspec": {
   "display_name": "Python 3 (ipykernel)",
   "language": "python",
   "name": "python3"
  },
  "language_info": {
   "codemirror_mode": {
    "name": "ipython",
    "version": 3
   },
   "file_extension": ".py",
   "mimetype": "text/x-python",
   "name": "python",
   "nbconvert_exporter": "python",
   "pygments_lexer": "ipython3",
   "version": "3.10.9"
  }
 },
 "nbformat": 4,
 "nbformat_minor": 5
}
