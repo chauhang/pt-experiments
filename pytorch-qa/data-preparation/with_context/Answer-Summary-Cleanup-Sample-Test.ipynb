{
 "cells": [
  {
   "cell_type": "code",
   "execution_count": 3,
   "metadata": {
    "ExecuteTime": {
     "end_time": "2023-06-26T09:21:19.904327Z",
     "start_time": "2023-06-26T09:21:19.900654Z"
    }
   },
   "outputs": [],
   "source": [
    "import pandas as pd\n",
    "import re\n",
    "import concurrent.futures\n",
    "import requests\n",
    "import openai\n",
    "from tqdm import tqdm\n",
    "tqdm.pandas()"
   ]
  },
  {
   "cell_type": "code",
   "execution_count": 2,
   "metadata": {
    "ExecuteTime": {
     "end_time": "2023-06-26T09:17:56.722993Z",
     "start_time": "2023-06-26T09:17:56.719015Z"
    }
   },
   "outputs": [],
   "source": [
    "def cleanhtml(raw_html):\n",
    "    CLEANR = re.compile('<.*?>')\n",
    "    cleantext = re.sub(CLEANR, '', raw_html)\n",
    "    return cleantext\n",
    "    \n",
    "def clean_data(df):\n",
    "    df[\"pt_answer\"] = df[\"pt_answer\"].apply(lambda x: cleanhtml(x))\n",
    "\n",
    "    df[\"question\"] = df[\"pt_title\"].str.lower() + \"\\n\" + df[\"pt_body\"]\n",
    "    df[\"question\"] = df[\"question\"].apply(lambda x: cleanhtml(x))\n",
    "    df[\"answer\"] = df[\"pt_answer\"].str.lower()\n",
    "\n",
    "    df = df[['pt_post_id','question', 'answer']]\n",
    "    return df\n",
    "    \n",
    "\n",
    "## get qa and link to post\n",
    "def get_url(df):\n",
    "    url = []\n",
    "    for index, row in df.iterrows():\n",
    "        url.append(f\"https://stackoverflow.com/questions/{row['pt_post_id']}/\")\n",
    "    \n",
    "    df['source'] = url\n",
    "\n",
    "    return df"
   ]
  },
  {
   "cell_type": "markdown",
   "metadata": {},
   "source": [
    "### Download the file pt_question_answers.csv from https://github.com/chauhang/pt-experiments/blob/pytorch-qa/pytorch-qa/pt_question_answers.csv"
   ]
  },
  {
   "cell_type": "code",
   "execution_count": 3,
   "metadata": {
    "ExecuteTime": {
     "end_time": "2023-06-26T09:17:58.184254Z",
     "start_time": "2023-06-26T09:17:57.654693Z"
    }
   },
   "outputs": [
    {
     "data": {
      "text/plain": [
       "(10763, 12)"
      ]
     },
     "execution_count": 3,
     "metadata": {},
     "output_type": "execute_result"
    }
   ],
   "source": [
    "df = pd.read_csv('pt_question_answers.csv')\n",
    "df.shape"
   ]
  },
  {
   "cell_type": "code",
   "execution_count": 4,
   "metadata": {
    "ExecuteTime": {
     "end_time": "2023-06-26T09:17:59.918507Z",
     "start_time": "2023-06-26T09:17:59.262952Z"
    }
   },
   "outputs": [],
   "source": [
    "df = clean_data(df)\n",
    "df = get_url(df)\n",
    "df = df[['question','answer','source']]"
   ]
  },
  {
   "cell_type": "code",
   "execution_count": 5,
   "metadata": {
    "ExecuteTime": {
     "end_time": "2023-06-26T09:18:00.657928Z",
     "start_time": "2023-06-26T09:18:00.646091Z"
    }
   },
   "outputs": [
    {
     "data": {
      "text/plain": [
       "(5000, 3)"
      ]
     },
     "execution_count": 5,
     "metadata": {},
     "output_type": "execute_result"
    }
   ],
   "source": [
    "df = df[:5000]\n",
    "\n",
    "df.shape"
   ]
  },
  {
   "cell_type": "markdown",
   "metadata": {},
   "source": [
    "### Set your openai key here"
   ]
  },
  {
   "cell_type": "code",
   "execution_count": 6,
   "metadata": {
    "ExecuteTime": {
     "end_time": "2023-06-26T09:18:02.295649Z",
     "start_time": "2023-06-26T09:18:02.293029Z"
    }
   },
   "outputs": [],
   "source": [
    "OPENAI_API_KEY=\"\""
   ]
  },
  {
   "cell_type": "code",
   "execution_count": 7,
   "metadata": {
    "ExecuteTime": {
     "end_time": "2023-06-26T09:18:03.732391Z",
     "start_time": "2023-06-26T09:18:03.728272Z"
    }
   },
   "outputs": [],
   "source": [
    "def get_qa_openai(prompt, index):\n",
    "    try:\n",
    "        completion = openai.ChatCompletion.create(\n",
    "                model=\"gpt-3.5-turbo\", api_key = OPENAI_API_KEY,\n",
    "                messages=prompt\n",
    "                )\n",
    "\n",
    "        resp = completion.choices[0].message.content\n",
    "\n",
    "    except requests.exceptions.RequestException as e:\n",
    "        print(f'Request failed with error: {str(e)}.')\n",
    "        print(f'Waiting for 3 minutes before trying again...')\n",
    "        time.sleep(180)\n",
    "    \n",
    "    return (resp, index)"
   ]
  },
  {
   "cell_type": "code",
   "execution_count": 172,
   "metadata": {
    "ExecuteTime": {
     "end_time": "2023-06-26T09:27:00.162131Z",
     "start_time": "2023-06-26T09:21:22.350579Z"
    }
   },
   "outputs": [
    {
     "name": "stderr",
     "output_type": "stream",
     "text": [
      "  1%|▌                                        | 71/5000 [00:26<21:52,  3.75it/s]"
     ]
    },
    {
     "name": "stdout",
     "output_type": "stream",
     "text": [
      "generated an exception: This model's maximum context length is 4097 tokens. However, your messages resulted in 4747 tokens. Please reduce the length of the messages.\n"
     ]
    },
    {
     "name": "stderr",
     "output_type": "stream",
     "text": [
      "  5%|█▊                                      | 228/5000 [01:19<32:41,  2.43it/s]"
     ]
    },
    {
     "name": "stdout",
     "output_type": "stream",
     "text": [
      "generated an exception: The server is overloaded or not ready yet.\n"
     ]
    },
    {
     "name": "stderr",
     "output_type": "stream",
     "text": [
      "  5%|██▏                                     | 274/5000 [01:38<26:07,  3.01it/s]"
     ]
    },
    {
     "name": "stdout",
     "output_type": "stream",
     "text": [
      "generated an exception: The server is overloaded or not ready yet.\n"
     ]
    },
    {
     "name": "stderr",
     "output_type": "stream",
     "text": [
      "  6%|██▎                                     | 296/5000 [01:45<13:26,  5.84it/s]"
     ]
    },
    {
     "name": "stdout",
     "output_type": "stream",
     "text": [
      "generated an exception: The server is overloaded or not ready yet.\n"
     ]
    },
    {
     "name": "stderr",
     "output_type": "stream",
     "text": [
      "  6%|██▍                                     | 309/5000 [01:49<27:38,  2.83it/s]"
     ]
    },
    {
     "name": "stdout",
     "output_type": "stream",
     "text": [
      "generated an exception: The server is overloaded or not ready yet.\n"
     ]
    },
    {
     "name": "stderr",
     "output_type": "stream",
     "text": [
      "  9%|███▋                                    | 464/5000 [02:51<45:40,  1.66it/s]"
     ]
    },
    {
     "name": "stdout",
     "output_type": "stream",
     "text": [
      "generated an exception: The server is overloaded or not ready yet.\n"
     ]
    },
    {
     "name": "stderr",
     "output_type": "stream",
     "text": [
      " 12%|████▋                                   | 582/5000 [03:46<38:47,  1.90it/s]"
     ]
    },
    {
     "name": "stdout",
     "output_type": "stream",
     "text": [
      "generated an exception: The server is overloaded or not ready yet.\n",
      "generated an exception: The server is overloaded or not ready yet.\n"
     ]
    },
    {
     "name": "stderr",
     "output_type": "stream",
     "text": [
      " 12%|████▋                                   | 590/5000 [03:49<30:25,  2.42it/s]"
     ]
    },
    {
     "name": "stdout",
     "output_type": "stream",
     "text": [
      "generated an exception: The server is overloaded or not ready yet.\n"
     ]
    },
    {
     "name": "stderr",
     "output_type": "stream",
     "text": [
      " 16%|██████▎                                 | 790/5000 [05:16<23:42,  2.96it/s]"
     ]
    },
    {
     "name": "stdout",
     "output_type": "stream",
     "text": [
      "generated an exception: The server is overloaded or not ready yet.\n"
     ]
    },
    {
     "name": "stderr",
     "output_type": "stream",
     "text": [
      " 18%|███████▏                                | 902/5000 [06:05<24:37,  2.77it/s]"
     ]
    },
    {
     "name": "stdout",
     "output_type": "stream",
     "text": [
      "generated an exception: Bad gateway. {\"error\":{\"code\":502,\"message\":\"Bad gateway.\",\"param\":null,\"type\":\"cf_bad_gateway\"}} 502 {'error': {'code': 502, 'message': 'Bad gateway.', 'param': None, 'type': 'cf_bad_gateway'}} {'Date': 'Tue, 27 Jun 2023 11:02:23 GMT', 'Content-Type': 'application/json', 'Content-Length': '84', 'Connection': 'keep-alive', 'X-Frame-Options': 'SAMEORIGIN', 'Referrer-Policy': 'same-origin', 'Cache-Control': 'private, max-age=0, no-store, no-cache, must-revalidate, post-check=0, pre-check=0', 'Expires': 'Thu, 01 Jan 1970 00:00:01 GMT', 'Server': 'cloudflare', 'CF-RAY': '7ddd2abf9bc9c387-SEA', 'alt-svc': 'h3=\":443\"; ma=86400'}\n"
     ]
    },
    {
     "name": "stderr",
     "output_type": "stream",
     "text": [
      " 18%|███████▎                                | 912/5000 [06:08<24:53,  2.74it/s]"
     ]
    },
    {
     "name": "stdout",
     "output_type": "stream",
     "text": [
      "generated an exception: Rate limit reached for default-gpt-3.5-turbo in organization org-oXRtqZdWlsnmtry277X001Hu on tokens per min. Limit: 90000 / min. Current: 88730 / min. Contact us through our help center at help.openai.com if you continue to have issues.\n"
     ]
    },
    {
     "name": "stderr",
     "output_type": "stream",
     "text": [
      " 19%|███████▍                                | 929/5000 [06:15<24:54,  2.72it/s]"
     ]
    },
    {
     "name": "stdout",
     "output_type": "stream",
     "text": [
      "generated an exception: Rate limit reached for default-gpt-3.5-turbo in organization org-oXRtqZdWlsnmtry277X001Hu on tokens per min. Limit: 90000 / min. Current: 86731 / min. Contact us through our help center at help.openai.com if you continue to have issues.\n"
     ]
    },
    {
     "name": "stderr",
     "output_type": "stream",
     "text": [
      " 19%|███████▋                                | 956/5000 [06:27<20:20,  3.31it/s]"
     ]
    },
    {
     "name": "stdout",
     "output_type": "stream",
     "text": [
      "generated an exception: Rate limit reached for default-gpt-3.5-turbo in organization org-oXRtqZdWlsnmtry277X001Hu on tokens per min. Limit: 90000 / min. Current: 88204 / min. Contact us through our help center at help.openai.com if you continue to have issues.\n"
     ]
    },
    {
     "name": "stderr",
     "output_type": "stream",
     "text": [
      " 19%|███████▋                                | 962/5000 [06:28<11:18,  5.95it/s]"
     ]
    },
    {
     "name": "stdout",
     "output_type": "stream",
     "text": [
      "generated an exception: Rate limit reached for default-gpt-3.5-turbo in organization org-oXRtqZdWlsnmtry277X001Hu on tokens per min. Limit: 90000 / min. Current: 89277 / min. Contact us through our help center at help.openai.com if you continue to have issues.\n"
     ]
    },
    {
     "name": "stderr",
     "output_type": "stream",
     "text": [
      " 20%|███████▊                                | 978/5000 [06:35<25:43,  2.61it/s]"
     ]
    },
    {
     "name": "stdout",
     "output_type": "stream",
     "text": [
      "generated an exception: Bad gateway. {\"error\":{\"code\":502,\"message\":\"Bad gateway.\",\"param\":null,\"type\":\"cf_bad_gateway\"}} 502 {'error': {'code': 502, 'message': 'Bad gateway.', 'param': None, 'type': 'cf_bad_gateway'}} {'Date': 'Tue, 27 Jun 2023 11:02:53 GMT', 'Content-Type': 'application/json', 'Content-Length': '84', 'Connection': 'keep-alive', 'X-Frame-Options': 'SAMEORIGIN', 'Referrer-Policy': 'same-origin', 'Cache-Control': 'private, max-age=0, no-store, no-cache, must-revalidate, post-check=0, pre-check=0', 'Expires': 'Thu, 01 Jan 1970 00:00:01 GMT', 'Server': 'cloudflare', 'CF-RAY': '7ddd2b8a69d2c698-SEA', 'alt-svc': 'h3=\":443\"; ma=86400'}\n"
     ]
    },
    {
     "name": "stderr",
     "output_type": "stream",
     "text": [
      " 20%|███████▊                                | 979/5000 [06:36<26:36,  2.52it/s]"
     ]
    },
    {
     "name": "stdout",
     "output_type": "stream",
     "text": [
      "generated an exception: Rate limit reached for default-gpt-3.5-turbo in organization org-oXRtqZdWlsnmtry277X001Hu on tokens per min. Limit: 90000 / min. Current: 88365 / min. Contact us through our help center at help.openai.com if you continue to have issues.\n"
     ]
    },
    {
     "name": "stderr",
     "output_type": "stream",
     "text": [
      " 20%|███████▊                                | 984/5000 [06:38<29:38,  2.26it/s]"
     ]
    },
    {
     "name": "stdout",
     "output_type": "stream",
     "text": [
      "generated an exception: The server is overloaded or not ready yet.\n"
     ]
    },
    {
     "name": "stderr",
     "output_type": "stream",
     "text": [
      " 20%|███████▉                                | 989/5000 [06:39<24:08,  2.77it/s]"
     ]
    },
    {
     "name": "stdout",
     "output_type": "stream",
     "text": [
      "generated an exception: Rate limit reached for default-gpt-3.5-turbo in organization org-oXRtqZdWlsnmtry277X001Hu on tokens per min. Limit: 90000 / min. Current: 89309 / min. Contact us through our help center at help.openai.com if you continue to have issues.\n",
      "generated an exception: Rate limit reached for default-gpt-3.5-turbo in organization org-oXRtqZdWlsnmtry277X001Hu on tokens per min. Limit: 90000 / min. Current: 89190 / min. Contact us through our help center at help.openai.com if you continue to have issues.\n"
     ]
    },
    {
     "name": "stderr",
     "output_type": "stream",
     "text": [
      " 20%|███████▉                                | 995/5000 [06:40<09:37,  6.94it/s]"
     ]
    },
    {
     "name": "stdout",
     "output_type": "stream",
     "text": [
      "generated an exception: Rate limit reached for default-gpt-3.5-turbo in organization org-oXRtqZdWlsnmtry277X001Hu on tokens per min. Limit: 90000 / min. Current: 89160 / min. Contact us through our help center at help.openai.com if you continue to have issues.\n",
      "generated an exception: Rate limit reached for default-gpt-3.5-turbo in organization org-oXRtqZdWlsnmtry277X001Hu on tokens per min. Limit: 90000 / min. Current: 89961 / min. Contact us through our help center at help.openai.com if you continue to have issues.\n",
      "generated an exception: Rate limit reached for default-gpt-3.5-turbo in organization org-oXRtqZdWlsnmtry277X001Hu on tokens per min. Limit: 90000 / min. Current: 89852 / min. Contact us through our help center at help.openai.com if you continue to have issues.\n"
     ]
    },
    {
     "name": "stderr",
     "output_type": "stream",
     "text": [
      " 20%|███████▊                               | 1001/5000 [06:40<05:41, 11.72it/s]"
     ]
    },
    {
     "name": "stdout",
     "output_type": "stream",
     "text": [
      "generated an exception: Rate limit reached for default-gpt-3.5-turbo in organization org-oXRtqZdWlsnmtry277X001Hu on tokens per min. Limit: 90000 / min. Current: 89746 / min. Contact us through our help center at help.openai.com if you continue to have issues.\n",
      "generated an exception: Rate limit reached for default-gpt-3.5-turbo in organization org-oXRtqZdWlsnmtry277X001Hu on tokens per min. Limit: 90000 / min. Current: 89676 / min. Contact us through our help center at help.openai.com if you continue to have issues.\n",
      "generated an exception: Rate limit reached for default-gpt-3.5-turbo in organization org-oXRtqZdWlsnmtry277X001Hu on tokens per min. Limit: 90000 / min. Current: 89639 / min. Contact us through our help center at help.openai.com if you continue to have issues.\n",
      "generated an exception: Rate limit reached for default-gpt-3.5-turbo in organization org-oXRtqZdWlsnmtry277X001Hu on tokens per min. Limit: 90000 / min. Current: 89915 / min. Contact us through our help center at help.openai.com if you continue to have issues.\n",
      "generated an exception: Rate limit reached for default-gpt-3.5-turbo in organization org-oXRtqZdWlsnmtry277X001Hu on tokens per min. Limit: 90000 / min. Current: 89736 / min. Contact us through our help center at help.openai.com if you continue to have issues.\n"
     ]
    },
    {
     "name": "stderr",
     "output_type": "stream",
     "text": [
      " 20%|███████▉                               | 1017/5000 [06:47<17:55,  3.70it/s]"
     ]
    },
    {
     "name": "stdout",
     "output_type": "stream",
     "text": [
      "generated an exception: Rate limit reached for default-gpt-3.5-turbo in organization org-oXRtqZdWlsnmtry277X001Hu on tokens per min. Limit: 90000 / min. Current: 89602 / min. Contact us through our help center at help.openai.com if you continue to have issues.\n",
      "generated an exception: Rate limit reached for default-gpt-3.5-turbo in organization org-oXRtqZdWlsnmtry277X001Hu on tokens per min. Limit: 90000 / min. Current: 89353 / min. Contact us through our help center at help.openai.com if you continue to have issues.\n"
     ]
    },
    {
     "name": "stderr",
     "output_type": "stream",
     "text": [
      " 20%|███████▉                               | 1022/5000 [06:48<14:48,  4.48it/s]"
     ]
    },
    {
     "name": "stdout",
     "output_type": "stream",
     "text": [
      "generated an exception: Rate limit reached for default-gpt-3.5-turbo in organization org-oXRtqZdWlsnmtry277X001Hu on tokens per min. Limit: 90000 / min. Current: 89641 / min. Contact us through our help center at help.openai.com if you continue to have issues.\n"
     ]
    },
    {
     "name": "stderr",
     "output_type": "stream",
     "text": [
      " 21%|████████                               | 1031/5000 [06:53<28:34,  2.32it/s]"
     ]
    },
    {
     "name": "stdout",
     "output_type": "stream",
     "text": [
      "generated an exception: Rate limit reached for default-gpt-3.5-turbo in organization org-oXRtqZdWlsnmtry277X001Hu on tokens per min. Limit: 90000 / min. Current: 87232 / min. Contact us through our help center at help.openai.com if you continue to have issues.\n"
     ]
    },
    {
     "name": "stderr",
     "output_type": "stream",
     "text": [
      " 21%|████████                               | 1041/5000 [06:57<14:12,  4.64it/s]"
     ]
    },
    {
     "name": "stdout",
     "output_type": "stream",
     "text": [
      "generated an exception: This model's maximum context length is 4097 tokens. However, your messages resulted in 4339 tokens. Please reduce the length of the messages.\n",
      "generated an exception: Rate limit reached for default-gpt-3.5-turbo in organization org-oXRtqZdWlsnmtry277X001Hu on tokens per min. Limit: 90000 / min. Current: 87889 / min. Contact us through our help center at help.openai.com if you continue to have issues.\n"
     ]
    },
    {
     "name": "stderr",
     "output_type": "stream",
     "text": [
      " 21%|████████▏                              | 1048/5000 [07:00<16:14,  4.06it/s]"
     ]
    },
    {
     "name": "stdout",
     "output_type": "stream",
     "text": [
      "generated an exception: The server is overloaded or not ready yet.\n",
      "generated an exception: Rate limit reached for default-gpt-3.5-turbo in organization org-oXRtqZdWlsnmtry277X001Hu on tokens per min. Limit: 90000 / min. Current: 89768 / min. Contact us through our help center at help.openai.com if you continue to have issues.\n"
     ]
    },
    {
     "name": "stderr",
     "output_type": "stream",
     "text": [
      " 21%|████████▏                              | 1053/5000 [07:00<09:50,  6.69it/s]"
     ]
    },
    {
     "name": "stdout",
     "output_type": "stream",
     "text": [
      "generated an exception: Rate limit reached for default-gpt-3.5-turbo in organization org-oXRtqZdWlsnmtry277X001Hu on tokens per min. Limit: 90000 / min. Current: 89774 / min. Contact us through our help center at help.openai.com if you continue to have issues.\n",
      "generated an exception: Rate limit reached for default-gpt-3.5-turbo in organization org-oXRtqZdWlsnmtry277X001Hu on tokens per min. Limit: 90000 / min. Current: 89653 / min. Contact us through our help center at help.openai.com if you continue to have issues.\n",
      "generated an exception: Rate limit reached for default-gpt-3.5-turbo in organization org-oXRtqZdWlsnmtry277X001Hu on tokens per min. Limit: 90000 / min. Current: 89540 / min. Contact us through our help center at help.openai.com if you continue to have issues.\n"
     ]
    },
    {
     "name": "stderr",
     "output_type": "stream",
     "text": [
      " 21%|████████▏                              | 1055/5000 [07:00<08:22,  7.86it/s]"
     ]
    },
    {
     "name": "stdout",
     "output_type": "stream",
     "text": [
      "generated an exception: Rate limit reached for default-gpt-3.5-turbo in organization org-oXRtqZdWlsnmtry277X001Hu on tokens per min. Limit: 90000 / min. Current: 89278 / min. Contact us through our help center at help.openai.com if you continue to have issues.\n"
     ]
    },
    {
     "name": "stderr",
     "output_type": "stream",
     "text": [
      " 21%|████████▎                              | 1059/5000 [07:01<08:27,  7.77it/s]"
     ]
    },
    {
     "name": "stdout",
     "output_type": "stream",
     "text": [
      "generated an exception: Rate limit reached for default-gpt-3.5-turbo in organization org-oXRtqZdWlsnmtry277X001Hu on tokens per min. Limit: 90000 / min. Current: 89455 / min. Contact us through our help center at help.openai.com if you continue to have issues.\n"
     ]
    },
    {
     "name": "stderr",
     "output_type": "stream",
     "text": [
      " 21%|████████▎                              | 1070/5000 [07:06<23:10,  2.83it/s]"
     ]
    },
    {
     "name": "stdout",
     "output_type": "stream",
     "text": [
      "generated an exception: Rate limit reached for default-gpt-3.5-turbo in organization org-oXRtqZdWlsnmtry277X001Hu on tokens per min. Limit: 90000 / min. Current: 89015 / min. Contact us through our help center at help.openai.com if you continue to have issues.\n"
     ]
    },
    {
     "name": "stderr",
     "output_type": "stream",
     "text": [
      " 22%|████████▍                              | 1083/5000 [07:11<16:55,  3.86it/s]"
     ]
    },
    {
     "name": "stdout",
     "output_type": "stream",
     "text": [
      "generated an exception: Rate limit reached for default-gpt-3.5-turbo in organization org-oXRtqZdWlsnmtry277X001Hu on tokens per min. Limit: 90000 / min. Current: 89111 / min. Contact us through our help center at help.openai.com if you continue to have issues.\n"
     ]
    },
    {
     "name": "stderr",
     "output_type": "stream",
     "text": [
      " 24%|█████████▎                             | 1193/5000 [08:08<33:25,  1.90it/s]"
     ]
    },
    {
     "name": "stdout",
     "output_type": "stream",
     "text": [
      "generated an exception: Bad gateway. {\"error\":{\"code\":502,\"message\":\"Bad gateway.\",\"param\":null,\"type\":\"cf_bad_gateway\"}} 502 {'error': {'code': 502, 'message': 'Bad gateway.', 'param': None, 'type': 'cf_bad_gateway'}} {'Date': 'Tue, 27 Jun 2023 11:04:27 GMT', 'Content-Type': 'application/json', 'Content-Length': '84', 'Connection': 'keep-alive', 'X-Frame-Options': 'SAMEORIGIN', 'Referrer-Policy': 'same-origin', 'Cache-Control': 'private, max-age=0, no-store, no-cache, must-revalidate, post-check=0, pre-check=0', 'Expires': 'Thu, 01 Jan 1970 00:00:01 GMT', 'Server': 'cloudflare', 'CF-RAY': '7ddd2db52c23c4e3-SEA', 'alt-svc': 'h3=\":443\"; ma=86400'}\n"
     ]
    },
    {
     "name": "stderr",
     "output_type": "stream",
     "text": [
      " 24%|█████████▎                             | 1201/5000 [08:11<19:00,  3.33it/s]"
     ]
    },
    {
     "name": "stdout",
     "output_type": "stream",
     "text": [
      "generated an exception: The server is overloaded or not ready yet.\n"
     ]
    },
    {
     "name": "stderr",
     "output_type": "stream",
     "text": [
      " 24%|█████████▍                             | 1209/5000 [08:14<17:08,  3.68it/s]"
     ]
    },
    {
     "name": "stdout",
     "output_type": "stream",
     "text": [
      "generated an exception: This model's maximum context length is 4097 tokens. However, your messages resulted in 4469 tokens. Please reduce the length of the messages.\n"
     ]
    },
    {
     "name": "stderr",
     "output_type": "stream",
     "text": [
      " 25%|█████████▌                             | 1229/5000 [08:23<19:09,  3.28it/s]"
     ]
    },
    {
     "name": "stdout",
     "output_type": "stream",
     "text": [
      "generated an exception: The server is overloaded or not ready yet.\n"
     ]
    },
    {
     "name": "stderr",
     "output_type": "stream",
     "text": [
      " 26%|██████████                             | 1295/5000 [08:49<14:15,  4.33it/s]"
     ]
    },
    {
     "name": "stdout",
     "output_type": "stream",
     "text": [
      "generated an exception: Bad gateway. {\"error\":{\"code\":502,\"message\":\"Bad gateway.\",\"param\":null,\"type\":\"cf_bad_gateway\"}} 502 {'error': {'code': 502, 'message': 'Bad gateway.', 'param': None, 'type': 'cf_bad_gateway'}} {'Date': 'Tue, 27 Jun 2023 11:05:07 GMT', 'Content-Type': 'application/json', 'Content-Length': '84', 'Connection': 'keep-alive', 'X-Frame-Options': 'SAMEORIGIN', 'Referrer-Policy': 'same-origin', 'Cache-Control': 'private, max-age=0, no-store, no-cache, must-revalidate, post-check=0, pre-check=0', 'Expires': 'Thu, 01 Jan 1970 00:00:01 GMT', 'Server': 'cloudflare', 'CF-RAY': '7ddd2eb90eaf276b-SEA', 'alt-svc': 'h3=\":443\"; ma=86400'}\n"
     ]
    },
    {
     "name": "stderr",
     "output_type": "stream",
     "text": [
      " 27%|██████████▌                            | 1358/5000 [09:16<15:17,  3.97it/s]"
     ]
    },
    {
     "name": "stdout",
     "output_type": "stream",
     "text": [
      "generated an exception: The server is overloaded or not ready yet.\n"
     ]
    },
    {
     "name": "stderr",
     "output_type": "stream",
     "text": [
      " 29%|███████████▎                           | 1451/5000 [09:52<14:47,  4.00it/s]"
     ]
    },
    {
     "name": "stdout",
     "output_type": "stream",
     "text": [
      "generated an exception: Rate limit reached for default-gpt-3.5-turbo in organization org-oXRtqZdWlsnmtry277X001Hu on tokens per min. Limit: 90000 / min. Current: 89253 / min. Contact us through our help center at help.openai.com if you continue to have issues.\n",
      "generated an exception: Rate limit reached for default-gpt-3.5-turbo in organization org-oXRtqZdWlsnmtry277X001Hu on tokens per min. Limit: 90000 / min. Current: 89013 / min. Contact us through our help center at help.openai.com if you continue to have issues.\n"
     ]
    },
    {
     "name": "stderr",
     "output_type": "stream",
     "text": [
      " 29%|███████████▎                           | 1456/5000 [09:53<10:11,  5.80it/s]"
     ]
    },
    {
     "name": "stdout",
     "output_type": "stream",
     "text": [
      "generated an exception: Rate limit reached for default-gpt-3.5-turbo in organization org-oXRtqZdWlsnmtry277X001Hu on tokens per min. Limit: 90000 / min. Current: 89544 / min. Contact us through our help center at help.openai.com if you continue to have issues.\n"
     ]
    },
    {
     "name": "stderr",
     "output_type": "stream",
     "text": [
      " 29%|███████████▍                           | 1459/5000 [09:53<06:35,  8.96it/s]"
     ]
    },
    {
     "name": "stdout",
     "output_type": "stream",
     "text": [
      "generated an exception: Rate limit reached for default-gpt-3.5-turbo in organization org-oXRtqZdWlsnmtry277X001Hu on tokens per min. Limit: 90000 / min. Current: 89495 / min. Contact us through our help center at help.openai.com if you continue to have issues.\n"
     ]
    },
    {
     "name": "stderr",
     "output_type": "stream",
     "text": [
      " 29%|███████████▍                           | 1463/5000 [09:55<16:29,  3.57it/s]"
     ]
    },
    {
     "name": "stdout",
     "output_type": "stream",
     "text": [
      "generated an exception: Rate limit reached for default-gpt-3.5-turbo in organization org-oXRtqZdWlsnmtry277X001Hu on tokens per min. Limit: 90000 / min. Current: 88705 / min. Contact us through our help center at help.openai.com if you continue to have issues.\n"
     ]
    },
    {
     "name": "stderr",
     "output_type": "stream",
     "text": [
      " 29%|███████████▍                           | 1472/5000 [09:57<14:41,  4.00it/s]"
     ]
    },
    {
     "name": "stdout",
     "output_type": "stream",
     "text": [
      "generated an exception: Rate limit reached for default-gpt-3.5-turbo in organization org-oXRtqZdWlsnmtry277X001Hu on tokens per min. Limit: 90000 / min. Current: 89400 / min. Contact us through our help center at help.openai.com if you continue to have issues.\n"
     ]
    },
    {
     "name": "stderr",
     "output_type": "stream",
     "text": [
      " 30%|███████████▌                           | 1475/5000 [09:58<09:16,  6.34it/s]"
     ]
    },
    {
     "name": "stdout",
     "output_type": "stream",
     "text": [
      "generated an exception: Rate limit reached for default-gpt-3.5-turbo in organization org-oXRtqZdWlsnmtry277X001Hu on tokens per min. Limit: 90000 / min. Current: 89418 / min. Contact us through our help center at help.openai.com if you continue to have issues.\n",
      "generated an exception: Rate limit reached for default-gpt-3.5-turbo in organization org-oXRtqZdWlsnmtry277X001Hu on tokens per min. Limit: 90000 / min. Current: 89770 / min. Contact us through our help center at help.openai.com if you continue to have issues.\n"
     ]
    },
    {
     "name": "stderr",
     "output_type": "stream",
     "text": [
      " 30%|███████████▌                           | 1478/5000 [09:58<07:54,  7.42it/s]"
     ]
    },
    {
     "name": "stdout",
     "output_type": "stream",
     "text": [
      "generated an exception: Rate limit reached for default-gpt-3.5-turbo in organization org-oXRtqZdWlsnmtry277X001Hu on tokens per min. Limit: 90000 / min. Current: 89706 / min. Contact us through our help center at help.openai.com if you continue to have issues.\n",
      "generated an exception: Rate limit reached for default-gpt-3.5-turbo in organization org-oXRtqZdWlsnmtry277X001Hu on tokens per min. Limit: 90000 / min. Current: 89571 / min. Contact us through our help center at help.openai.com if you continue to have issues.\n"
     ]
    },
    {
     "name": "stderr",
     "output_type": "stream",
     "text": [
      " 30%|███████████▌                           | 1480/5000 [09:58<10:46,  5.45it/s]"
     ]
    },
    {
     "name": "stdout",
     "output_type": "stream",
     "text": [
      "generated an exception: Rate limit reached for default-gpt-3.5-turbo in organization org-oXRtqZdWlsnmtry277X001Hu on tokens per min. Limit: 90000 / min. Current: 89378 / min. Contact us through our help center at help.openai.com if you continue to have issues.\n"
     ]
    },
    {
     "name": "stderr",
     "output_type": "stream",
     "text": [
      " 30%|███████████▌                           | 1482/5000 [09:59<16:46,  3.50it/s]"
     ]
    },
    {
     "name": "stdout",
     "output_type": "stream",
     "text": [
      "generated an exception: Rate limit reached for default-gpt-3.5-turbo in organization org-oXRtqZdWlsnmtry277X001Hu on tokens per min. Limit: 90000 / min. Current: 88814 / min. Contact us through our help center at help.openai.com if you continue to have issues.\n"
     ]
    },
    {
     "name": "stderr",
     "output_type": "stream",
     "text": [
      " 30%|███████████▌                           | 1484/5000 [10:00<16:02,  3.65it/s]"
     ]
    },
    {
     "name": "stdout",
     "output_type": "stream",
     "text": [
      "generated an exception: Rate limit reached for default-gpt-3.5-turbo in organization org-oXRtqZdWlsnmtry277X001Hu on tokens per min. Limit: 90000 / min. Current: 89359 / min. Contact us through our help center at help.openai.com if you continue to have issues.\n"
     ]
    },
    {
     "name": "stderr",
     "output_type": "stream",
     "text": [
      " 30%|███████████▌                           | 1490/5000 [10:01<10:17,  5.68it/s]"
     ]
    },
    {
     "name": "stdout",
     "output_type": "stream",
     "text": [
      "generated an exception: Rate limit reached for default-gpt-3.5-turbo in organization org-oXRtqZdWlsnmtry277X001Hu on tokens per min. Limit: 90000 / min. Current: 89782 / min. Contact us through our help center at help.openai.com if you continue to have issues.\n"
     ]
    },
    {
     "name": "stderr",
     "output_type": "stream",
     "text": [
      " 30%|███████████▋                           | 1492/5000 [10:01<09:30,  6.15it/s]"
     ]
    },
    {
     "name": "stdout",
     "output_type": "stream",
     "text": [
      "generated an exception: Rate limit reached for default-gpt-3.5-turbo in organization org-oXRtqZdWlsnmtry277X001Hu on tokens per min. Limit: 90000 / min. Current: 89470 / min. Contact us through our help center at help.openai.com if you continue to have issues.\n"
     ]
    },
    {
     "name": "stderr",
     "output_type": "stream",
     "text": [
      " 30%|███████████▋                           | 1497/5000 [10:03<12:24,  4.71it/s]"
     ]
    },
    {
     "name": "stdout",
     "output_type": "stream",
     "text": [
      "generated an exception: Rate limit reached for default-gpt-3.5-turbo in organization org-oXRtqZdWlsnmtry277X001Hu on tokens per min. Limit: 90000 / min. Current: 89597 / min. Contact us through our help center at help.openai.com if you continue to have issues.\n"
     ]
    },
    {
     "name": "stderr",
     "output_type": "stream",
     "text": [
      " 30%|███████████▋                           | 1500/5000 [10:03<09:34,  6.09it/s]"
     ]
    },
    {
     "name": "stdout",
     "output_type": "stream",
     "text": [
      "generated an exception: Rate limit reached for default-gpt-3.5-turbo in organization org-oXRtqZdWlsnmtry277X001Hu on tokens per min. Limit: 90000 / min. Current: 89687 / min. Contact us through our help center at help.openai.com if you continue to have issues.\n",
      "generated an exception: Rate limit reached for default-gpt-3.5-turbo in organization org-oXRtqZdWlsnmtry277X001Hu on tokens per min. Limit: 90000 / min. Current: 89613 / min. Contact us through our help center at help.openai.com if you continue to have issues.\n"
     ]
    },
    {
     "name": "stderr",
     "output_type": "stream",
     "text": [
      " 30%|███████████▋                           | 1502/5000 [10:04<12:42,  4.59it/s]"
     ]
    },
    {
     "name": "stdout",
     "output_type": "stream",
     "text": [
      "generated an exception: Rate limit reached for default-gpt-3.5-turbo in organization org-oXRtqZdWlsnmtry277X001Hu on tokens per min. Limit: 90000 / min. Current: 89610 / min. Contact us through our help center at help.openai.com if you continue to have issues.\n"
     ]
    },
    {
     "name": "stderr",
     "output_type": "stream",
     "text": [
      " 30%|███████████▋                           | 1503/5000 [10:04<13:21,  4.36it/s]"
     ]
    },
    {
     "name": "stdout",
     "output_type": "stream",
     "text": [
      "generated an exception: Rate limit reached for default-gpt-3.5-turbo in organization org-oXRtqZdWlsnmtry277X001Hu on tokens per min. Limit: 90000 / min. Current: 89199 / min. Contact us through our help center at help.openai.com if you continue to have issues.\n"
     ]
    },
    {
     "name": "stderr",
     "output_type": "stream",
     "text": [
      " 30%|███████████▊                           | 1519/5000 [10:08<07:34,  7.66it/s]"
     ]
    },
    {
     "name": "stdout",
     "output_type": "stream",
     "text": [
      "generated an exception: Rate limit reached for default-gpt-3.5-turbo in organization org-oXRtqZdWlsnmtry277X001Hu on tokens per min. Limit: 90000 / min. Current: 89399 / min. Contact us through our help center at help.openai.com if you continue to have issues.\n",
      "generated an exception: Rate limit reached for default-gpt-3.5-turbo in organization org-oXRtqZdWlsnmtry277X001Hu on tokens per min. Limit: 90000 / min. Current: 89593 / min. Contact us through our help center at help.openai.com if you continue to have issues.\n"
     ]
    },
    {
     "name": "stderr",
     "output_type": "stream",
     "text": [
      " 30%|███████████▊                           | 1521/5000 [10:08<06:36,  8.76it/s]"
     ]
    },
    {
     "name": "stdout",
     "output_type": "stream",
     "text": [
      "generated an exception: Rate limit reached for default-gpt-3.5-turbo in organization org-oXRtqZdWlsnmtry277X001Hu on tokens per min. Limit: 90000 / min. Current: 89486 / min. Contact us through our help center at help.openai.com if you continue to have issues.\n",
      "generated an exception: Rate limit reached for default-gpt-3.5-turbo in organization org-oXRtqZdWlsnmtry277X001Hu on tokens per min. Limit: 90000 / min. Current: 89403 / min. Contact us through our help center at help.openai.com if you continue to have issues.\n"
     ]
    },
    {
     "name": "stderr",
     "output_type": "stream",
     "text": [
      " 31%|███████████▉                           | 1526/5000 [10:09<05:25, 10.66it/s]"
     ]
    },
    {
     "name": "stdout",
     "output_type": "stream",
     "text": [
      "generated an exception: Rate limit reached for default-gpt-3.5-turbo in organization org-oXRtqZdWlsnmtry277X001Hu on tokens per min. Limit: 90000 / min. Current: 89718 / min. Contact us through our help center at help.openai.com if you continue to have issues.\n",
      "generated an exception: Rate limit reached for default-gpt-3.5-turbo in organization org-oXRtqZdWlsnmtry277X001Hu on tokens per min. Limit: 90000 / min. Current: 89874 / min. Contact us through our help center at help.openai.com if you continue to have issues.\n",
      "generated an exception: Rate limit reached for default-gpt-3.5-turbo in organization org-oXRtqZdWlsnmtry277X001Hu on tokens per min. Limit: 90000 / min. Current: 89735 / min. Contact us through our help center at help.openai.com if you continue to have issues.\n"
     ]
    },
    {
     "name": "stderr",
     "output_type": "stream",
     "text": [
      " 31%|███████████▉                           | 1530/5000 [10:09<06:47,  8.51it/s]"
     ]
    },
    {
     "name": "stdout",
     "output_type": "stream",
     "text": [
      "generated an exception: Rate limit reached for default-gpt-3.5-turbo in organization org-oXRtqZdWlsnmtry277X001Hu on tokens per min. Limit: 90000 / min. Current: 89481 / min. Contact us through our help center at help.openai.com if you continue to have issues.\n"
     ]
    },
    {
     "name": "stderr",
     "output_type": "stream",
     "text": [
      " 31%|███████████▉                           | 1531/5000 [10:10<08:57,  6.45it/s]"
     ]
    },
    {
     "name": "stdout",
     "output_type": "stream",
     "text": [
      "generated an exception: Rate limit reached for default-gpt-3.5-turbo in organization org-oXRtqZdWlsnmtry277X001Hu on tokens per min. Limit: 90000 / min. Current: 89709 / min. Contact us through our help center at help.openai.com if you continue to have issues.\n",
      "generated an exception: Rate limit reached for default-gpt-3.5-turbo in organization org-oXRtqZdWlsnmtry277X001Hu on tokens per min. Limit: 90000 / min. Current: 89589 / min. Contact us through our help center at help.openai.com if you continue to have issues.\n"
     ]
    },
    {
     "name": "stderr",
     "output_type": "stream",
     "text": [
      " 31%|████████████                           | 1547/5000 [10:15<16:36,  3.47it/s]"
     ]
    },
    {
     "name": "stdout",
     "output_type": "stream",
     "text": [
      "generated an exception: Rate limit reached for default-gpt-3.5-turbo in organization org-oXRtqZdWlsnmtry277X001Hu on tokens per min. Limit: 90000 / min. Current: 89017 / min. Contact us through our help center at help.openai.com if you continue to have issues.\n"
     ]
    },
    {
     "name": "stderr",
     "output_type": "stream",
     "text": [
      " 31%|████████████                           | 1553/5000 [10:17<11:27,  5.01it/s]"
     ]
    },
    {
     "name": "stdout",
     "output_type": "stream",
     "text": [
      "generated an exception: Rate limit reached for default-gpt-3.5-turbo in organization org-oXRtqZdWlsnmtry277X001Hu on tokens per min. Limit: 90000 / min. Current: 87737 / min. Contact us through our help center at help.openai.com if you continue to have issues.\n"
     ]
    },
    {
     "name": "stderr",
     "output_type": "stream",
     "text": [
      " 31%|████████████▏                          | 1559/5000 [10:18<08:00,  7.17it/s]"
     ]
    },
    {
     "name": "stdout",
     "output_type": "stream",
     "text": [
      "generated an exception: Rate limit reached for default-gpt-3.5-turbo in organization org-oXRtqZdWlsnmtry277X001Hu on tokens per min. Limit: 90000 / min. Current: 89519 / min. Contact us through our help center at help.openai.com if you continue to have issues.\n",
      "generated an exception: Rate limit reached for default-gpt-3.5-turbo in organization org-oXRtqZdWlsnmtry277X001Hu on tokens per min. Limit: 90000 / min. Current: 89568 / min. Contact us through our help center at help.openai.com if you continue to have issues.\n",
      "generated an exception: Rate limit reached for default-gpt-3.5-turbo in organization org-oXRtqZdWlsnmtry277X001Hu on tokens per min. Limit: 90000 / min. Current: 89322 / min. Contact us through our help center at help.openai.com if you continue to have issues.\n"
     ]
    },
    {
     "name": "stderr",
     "output_type": "stream",
     "text": [
      " 31%|████████████▏                          | 1561/5000 [10:18<06:42,  8.55it/s]"
     ]
    },
    {
     "name": "stdout",
     "output_type": "stream",
     "text": [
      "generated an exception: Rate limit reached for default-gpt-3.5-turbo in organization org-oXRtqZdWlsnmtry277X001Hu on tokens per min. Limit: 90000 / min. Current: 89739 / min. Contact us through our help center at help.openai.com if you continue to have issues.\n",
      "generated an exception: Rate limit reached for default-gpt-3.5-turbo in organization org-oXRtqZdWlsnmtry277X001Hu on tokens per min. Limit: 90000 / min. Current: 89648 / min. Contact us through our help center at help.openai.com if you continue to have issues.\n",
      "generated an exception: Rate limit reached for default-gpt-3.5-turbo in organization org-oXRtqZdWlsnmtry277X001Hu on tokens per min. Limit: 90000 / min. Current: 89611 / min. Contact us through our help center at help.openai.com if you continue to have issues.\n"
     ]
    },
    {
     "name": "stderr",
     "output_type": "stream",
     "text": [
      " 31%|████████████▏                          | 1563/5000 [10:18<08:38,  6.63it/s]"
     ]
    },
    {
     "name": "stdout",
     "output_type": "stream",
     "text": [
      "generated an exception: Rate limit reached for default-gpt-3.5-turbo in organization org-oXRtqZdWlsnmtry277X001Hu on tokens per min. Limit: 90000 / min. Current: 89493 / min. Contact us through our help center at help.openai.com if you continue to have issues.\n",
      "generated an exception: Rate limit reached for default-gpt-3.5-turbo in organization org-oXRtqZdWlsnmtry277X001Hu on tokens per min. Limit: 90000 / min. Current: 89385 / min. Contact us through our help center at help.openai.com if you continue to have issues.\n"
     ]
    },
    {
     "name": "stderr",
     "output_type": "stream",
     "text": [
      " 31%|████████████▎                          | 1571/5000 [10:20<08:08,  7.02it/s]"
     ]
    },
    {
     "name": "stdout",
     "output_type": "stream",
     "text": [
      "generated an exception: Rate limit reached for default-gpt-3.5-turbo in organization org-oXRtqZdWlsnmtry277X001Hu on tokens per min. Limit: 90000 / min. Current: 89036 / min. Contact us through our help center at help.openai.com if you continue to have issues.\n",
      "generated an exception: Rate limit reached for default-gpt-3.5-turbo in organization org-oXRtqZdWlsnmtry277X001Hu on tokens per min. Limit: 90000 / min. Current: 89486 / min. Contact us through our help center at help.openai.com if you continue to have issues.\n"
     ]
    },
    {
     "name": "stderr",
     "output_type": "stream",
     "text": [
      " 31%|████████████▎                          | 1573/5000 [10:20<06:25,  8.89it/s]"
     ]
    },
    {
     "name": "stdout",
     "output_type": "stream",
     "text": [
      "generated an exception: Rate limit reached for default-gpt-3.5-turbo in organization org-oXRtqZdWlsnmtry277X001Hu on tokens per min. Limit: 90000 / min. Current: 89320 / min. Contact us through our help center at help.openai.com if you continue to have issues.\n"
     ]
    },
    {
     "name": "stderr",
     "output_type": "stream",
     "text": [
      " 32%|████████████▎                          | 1577/5000 [10:20<06:21,  8.97it/s]"
     ]
    },
    {
     "name": "stdout",
     "output_type": "stream",
     "text": [
      "generated an exception: Rate limit reached for default-gpt-3.5-turbo in organization org-oXRtqZdWlsnmtry277X001Hu on tokens per min. Limit: 90000 / min. Current: 89641 / min. Contact us through our help center at help.openai.com if you continue to have issues.\n",
      "generated an exception: Rate limit reached for default-gpt-3.5-turbo in organization org-oXRtqZdWlsnmtry277X001Hu on tokens per min. Limit: 90000 / min. Current: 89446 / min. Contact us through our help center at help.openai.com if you continue to have issues.\n",
      "generated an exception: Rate limit reached for default-gpt-3.5-turbo in organization org-oXRtqZdWlsnmtry277X001Hu on tokens per min. Limit: 90000 / min. Current: 89563 / min. Contact us through our help center at help.openai.com if you continue to have issues.\n"
     ]
    },
    {
     "name": "stderr",
     "output_type": "stream",
     "text": [
      " 32%|████████████▎                          | 1579/5000 [10:21<07:34,  7.52it/s]"
     ]
    },
    {
     "name": "stdout",
     "output_type": "stream",
     "text": [
      "generated an exception: Rate limit reached for default-gpt-3.5-turbo in organization org-oXRtqZdWlsnmtry277X001Hu on tokens per min. Limit: 90000 / min. Current: 89282 / min. Contact us through our help center at help.openai.com if you continue to have issues.\n",
      "generated an exception: Rate limit reached for default-gpt-3.5-turbo in organization org-oXRtqZdWlsnmtry277X001Hu on tokens per min. Limit: 90000 / min. Current: 89403 / min. Contact us through our help center at help.openai.com if you continue to have issues.\n"
     ]
    },
    {
     "name": "stderr",
     "output_type": "stream",
     "text": [
      " 32%|████████████▎                          | 1581/5000 [10:21<06:58,  8.17it/s]"
     ]
    },
    {
     "name": "stdout",
     "output_type": "stream",
     "text": [
      "generated an exception: Rate limit reached for default-gpt-3.5-turbo in organization org-oXRtqZdWlsnmtry277X001Hu on tokens per min. Limit: 90000 / min. Current: 89281 / min. Contact us through our help center at help.openai.com if you continue to have issues.\n",
      "generated an exception: Rate limit reached for default-gpt-3.5-turbo in organization org-oXRtqZdWlsnmtry277X001Hu on tokens per min. Limit: 90000 / min. Current: 89674 / min. Contact us through our help center at help.openai.com if you continue to have issues.\n"
     ]
    },
    {
     "name": "stderr",
     "output_type": "stream",
     "text": [
      " 32%|████████████▍                          | 1595/5000 [10:25<14:27,  3.92it/s]"
     ]
    },
    {
     "name": "stdout",
     "output_type": "stream",
     "text": [
      "generated an exception: Rate limit reached for default-gpt-3.5-turbo in organization org-oXRtqZdWlsnmtry277X001Hu on tokens per min. Limit: 90000 / min. Current: 89569 / min. Contact us through our help center at help.openai.com if you continue to have issues.\n"
     ]
    },
    {
     "name": "stderr",
     "output_type": "stream",
     "text": [
      " 32%|████████████▌                          | 1603/5000 [10:28<15:33,  3.64it/s]"
     ]
    },
    {
     "name": "stdout",
     "output_type": "stream",
     "text": [
      "generated an exception: Rate limit reached for default-gpt-3.5-turbo in organization org-oXRtqZdWlsnmtry277X001Hu on tokens per min. Limit: 90000 / min. Current: 89696 / min. Contact us through our help center at help.openai.com if you continue to have issues.\n"
     ]
    },
    {
     "name": "stderr",
     "output_type": "stream",
     "text": [
      " 32%|████████████▌                          | 1610/5000 [10:30<15:21,  3.68it/s]"
     ]
    },
    {
     "name": "stdout",
     "output_type": "stream",
     "text": [
      "generated an exception: Rate limit reached for default-gpt-3.5-turbo in organization org-oXRtqZdWlsnmtry277X001Hu on tokens per min. Limit: 90000 / min. Current: 89891 / min. Contact us through our help center at help.openai.com if you continue to have issues.\n"
     ]
    },
    {
     "name": "stderr",
     "output_type": "stream",
     "text": [
      " 32%|████████████▌                          | 1611/5000 [10:31<14:29,  3.90it/s]"
     ]
    },
    {
     "name": "stdout",
     "output_type": "stream",
     "text": [
      "generated an exception: Rate limit reached for default-gpt-3.5-turbo in organization org-oXRtqZdWlsnmtry277X001Hu on tokens per min. Limit: 90000 / min. Current: 89525 / min. Contact us through our help center at help.openai.com if you continue to have issues.\n"
     ]
    },
    {
     "name": "stderr",
     "output_type": "stream",
     "text": [
      " 32%|████████████▌                          | 1616/5000 [10:31<08:57,  6.30it/s]"
     ]
    },
    {
     "name": "stdout",
     "output_type": "stream",
     "text": [
      "generated an exception: Rate limit reached for default-gpt-3.5-turbo in organization org-oXRtqZdWlsnmtry277X001Hu on tokens per min. Limit: 90000 / min. Current: 89387 / min. Contact us through our help center at help.openai.com if you continue to have issues.\n",
      "generated an exception: Rate limit reached for default-gpt-3.5-turbo in organization org-oXRtqZdWlsnmtry277X001Hu on tokens per min. Limit: 90000 / min. Current: 89267 / min. Contact us through our help center at help.openai.com if you continue to have issues.\n",
      "generated an exception: Rate limit reached for default-gpt-3.5-turbo in organization org-oXRtqZdWlsnmtry277X001Hu on tokens per min. Limit: 90000 / min. Current: 89730 / min. Contact us through our help center at help.openai.com if you continue to have issues.\n",
      "generated an exception: Rate limit reached for default-gpt-3.5-turbo in organization org-oXRtqZdWlsnmtry277X001Hu on tokens per min. Limit: 90000 / min. Current: 89819 / min. Contact us through our help center at help.openai.com if you continue to have issues.\n"
     ]
    },
    {
     "name": "stderr",
     "output_type": "stream",
     "text": [
      " 33%|████████████▊                          | 1645/5000 [10:45<13:22,  4.18it/s]"
     ]
    },
    {
     "name": "stdout",
     "output_type": "stream",
     "text": [
      "generated an exception: Rate limit reached for default-gpt-3.5-turbo in organization org-oXRtqZdWlsnmtry277X001Hu on tokens per min. Limit: 90000 / min. Current: 88588 / min. Contact us through our help center at help.openai.com if you continue to have issues.\n"
     ]
    },
    {
     "name": "stderr",
     "output_type": "stream",
     "text": [
      " 33%|████████████▉                          | 1651/5000 [10:45<08:56,  6.24it/s]"
     ]
    },
    {
     "name": "stdout",
     "output_type": "stream",
     "text": [
      "generated an exception: Rate limit reached for default-gpt-3.5-turbo in organization org-oXRtqZdWlsnmtry277X001Hu on tokens per min. Limit: 90000 / min. Current: 89726 / min. Contact us through our help center at help.openai.com if you continue to have issues.\n"
     ]
    },
    {
     "name": "stderr",
     "output_type": "stream",
     "text": [
      " 33%|████████████▉                          | 1663/5000 [10:53<26:25,  2.10it/s]"
     ]
    },
    {
     "name": "stdout",
     "output_type": "stream",
     "text": [
      "generated an exception: The server is overloaded or not ready yet.\n"
     ]
    },
    {
     "name": "stderr",
     "output_type": "stream",
     "text": [
      " 33%|█████████████                          | 1669/5000 [10:56<32:56,  1.69it/s]"
     ]
    },
    {
     "name": "stdout",
     "output_type": "stream",
     "text": [
      "generated an exception: The server is overloaded or not ready yet.\n"
     ]
    },
    {
     "name": "stderr",
     "output_type": "stream",
     "text": [
      " 34%|█████████████                          | 1675/5000 [11:01<33:46,  1.64it/s]"
     ]
    },
    {
     "name": "stdout",
     "output_type": "stream",
     "text": [
      "generated an exception: Bad gateway. {\"error\":{\"code\":502,\"message\":\"Bad gateway.\",\"param\":null,\"type\":\"cf_bad_gateway\"}} 502 {'error': {'code': 502, 'message': 'Bad gateway.', 'param': None, 'type': 'cf_bad_gateway'}} {'Date': 'Tue, 27 Jun 2023 11:07:19 GMT', 'Content-Type': 'application/json', 'Content-Length': '84', 'Connection': 'keep-alive', 'X-Frame-Options': 'SAMEORIGIN', 'Referrer-Policy': 'same-origin', 'Cache-Control': 'private, max-age=0, no-store, no-cache, must-revalidate, post-check=0, pre-check=0', 'Expires': 'Thu, 01 Jan 1970 00:00:01 GMT', 'Server': 'cloudflare', 'CF-RAY': '7ddd31abfa10c69c-SEA', 'alt-svc': 'h3=\":443\"; ma=86400'}\n"
     ]
    },
    {
     "name": "stderr",
     "output_type": "stream",
     "text": [
      " 34%|█████████████▏                         | 1693/5000 [11:08<29:39,  1.86it/s]"
     ]
    },
    {
     "name": "stdout",
     "output_type": "stream",
     "text": [
      "generated an exception: The server is overloaded or not ready yet.\n"
     ]
    },
    {
     "name": "stderr",
     "output_type": "stream",
     "text": [
      " 35%|█████████████▋                         | 1753/5000 [11:31<08:48,  6.15it/s]"
     ]
    },
    {
     "name": "stdout",
     "output_type": "stream",
     "text": [
      "generated an exception: Rate limit reached for default-gpt-3.5-turbo in organization org-oXRtqZdWlsnmtry277X001Hu on tokens per min. Limit: 90000 / min. Current: 89384 / min. Contact us through our help center at help.openai.com if you continue to have issues.\n",
      "generated an exception: Rate limit reached for default-gpt-3.5-turbo in organization org-oXRtqZdWlsnmtry277X001Hu on tokens per min. Limit: 90000 / min. Current: 89277 / min. Contact us through our help center at help.openai.com if you continue to have issues.\n"
     ]
    },
    {
     "name": "stderr",
     "output_type": "stream",
     "text": [
      " 35%|█████████████▋                         | 1761/5000 [11:35<15:37,  3.46it/s]"
     ]
    },
    {
     "name": "stdout",
     "output_type": "stream",
     "text": [
      "generated an exception: Rate limit reached for default-gpt-3.5-turbo in organization org-oXRtqZdWlsnmtry277X001Hu on tokens per min. Limit: 90000 / min. Current: 87090 / min. Contact us through our help center at help.openai.com if you continue to have issues.\n"
     ]
    },
    {
     "name": "stderr",
     "output_type": "stream",
     "text": [
      " 36%|█████████████▊                         | 1777/5000 [11:42<26:17,  2.04it/s]"
     ]
    },
    {
     "name": "stdout",
     "output_type": "stream",
     "text": [
      "generated an exception: The server is overloaded or not ready yet.\n"
     ]
    },
    {
     "name": "stderr",
     "output_type": "stream",
     "text": [
      " 36%|█████████████▉                         | 1787/5000 [11:46<14:51,  3.60it/s]"
     ]
    },
    {
     "name": "stdout",
     "output_type": "stream",
     "text": [
      "generated an exception: The server is overloaded or not ready yet.\n"
     ]
    },
    {
     "name": "stderr",
     "output_type": "stream",
     "text": [
      " 37%|██████████████▍                        | 1858/5000 [12:21<17:09,  3.05it/s]"
     ]
    },
    {
     "name": "stdout",
     "output_type": "stream",
     "text": [
      "generated an exception: This model's maximum context length is 4097 tokens. However, your messages resulted in 4493 tokens. Please reduce the length of the messages.\n"
     ]
    },
    {
     "name": "stderr",
     "output_type": "stream",
     "text": [
      " 38%|██████████████▋                        | 1888/5000 [12:35<11:38,  4.46it/s]"
     ]
    },
    {
     "name": "stdout",
     "output_type": "stream",
     "text": [
      "generated an exception: The server is overloaded or not ready yet.\n"
     ]
    },
    {
     "name": "stderr",
     "output_type": "stream",
     "text": [
      " 41%|████████████████                       | 2058/5000 [13:58<25:42,  1.91it/s]"
     ]
    },
    {
     "name": "stdout",
     "output_type": "stream",
     "text": [
      "generated an exception: Bad gateway. {\"error\":{\"code\":502,\"message\":\"Bad gateway.\",\"param\":null,\"type\":\"cf_bad_gateway\"}} 502 {'error': {'code': 502, 'message': 'Bad gateway.', 'param': None, 'type': 'cf_bad_gateway'}} {'Date': 'Tue, 27 Jun 2023 11:10:16 GMT', 'Content-Type': 'application/json', 'Content-Length': '84', 'Connection': 'keep-alive', 'X-Frame-Options': 'SAMEORIGIN', 'Referrer-Policy': 'same-origin', 'Cache-Control': 'private, max-age=0, no-store, no-cache, must-revalidate, post-check=0, pre-check=0', 'Expires': 'Thu, 01 Jan 1970 00:00:01 GMT', 'Server': 'cloudflare', 'CF-RAY': '7ddd3245ee39c4c3-SEA', 'alt-svc': 'h3=\":443\"; ma=86400'}\n"
     ]
    },
    {
     "name": "stderr",
     "output_type": "stream",
     "text": [
      " 42%|████████████████▏                      | 2078/5000 [14:05<15:25,  3.16it/s]"
     ]
    },
    {
     "name": "stdout",
     "output_type": "stream",
     "text": [
      "generated an exception: Rate limit reached for default-gpt-3.5-turbo in organization org-oXRtqZdWlsnmtry277X001Hu on tokens per min. Limit: 90000 / min. Current: 89225 / min. Contact us through our help center at help.openai.com if you continue to have issues.\n"
     ]
    },
    {
     "name": "stderr",
     "output_type": "stream",
     "text": [
      " 42%|████████████████▎                      | 2084/5000 [14:08<15:39,  3.11it/s]"
     ]
    },
    {
     "name": "stdout",
     "output_type": "stream",
     "text": [
      "generated an exception: Rate limit reached for default-gpt-3.5-turbo in organization org-oXRtqZdWlsnmtry277X001Hu on tokens per min. Limit: 90000 / min. Current: 86843 / min. Contact us through our help center at help.openai.com if you continue to have issues.\n",
      "generated an exception: The server is overloaded or not ready yet.\n"
     ]
    },
    {
     "name": "stderr",
     "output_type": "stream",
     "text": [
      " 42%|████████████████▎                      | 2096/5000 [14:12<13:08,  3.68it/s]"
     ]
    },
    {
     "name": "stdout",
     "output_type": "stream",
     "text": [
      "generated an exception: Rate limit reached for default-gpt-3.5-turbo in organization org-oXRtqZdWlsnmtry277X001Hu on tokens per min. Limit: 90000 / min. Current: 88471 / min. Contact us through our help center at help.openai.com if you continue to have issues.\n",
      "generated an exception: Rate limit reached for default-gpt-3.5-turbo in organization org-oXRtqZdWlsnmtry277X001Hu on tokens per min. Limit: 90000 / min. Current: 89354 / min. Contact us through our help center at help.openai.com if you continue to have issues.\n"
     ]
    },
    {
     "name": "stderr",
     "output_type": "stream",
     "text": [
      " 42%|████████████████▍                      | 2100/5000 [14:13<12:01,  4.02it/s]"
     ]
    },
    {
     "name": "stdout",
     "output_type": "stream",
     "text": [
      "generated an exception: Rate limit reached for default-gpt-3.5-turbo in organization org-oXRtqZdWlsnmtry277X001Hu on tokens per min. Limit: 90000 / min. Current: 89373 / min. Contact us through our help center at help.openai.com if you continue to have issues.\n"
     ]
    },
    {
     "name": "stderr",
     "output_type": "stream",
     "text": [
      " 42%|████████████████▍                      | 2106/5000 [14:14<09:19,  5.17it/s]"
     ]
    },
    {
     "name": "stdout",
     "output_type": "stream",
     "text": [
      "generated an exception: Rate limit reached for default-gpt-3.5-turbo in organization org-oXRtqZdWlsnmtry277X001Hu on tokens per min. Limit: 90000 / min. Current: 88612 / min. Contact us through our help center at help.openai.com if you continue to have issues.\n"
     ]
    },
    {
     "name": "stderr",
     "output_type": "stream",
     "text": [
      " 42%|████████████████▍                      | 2110/5000 [14:15<08:14,  5.84it/s]"
     ]
    },
    {
     "name": "stdout",
     "output_type": "stream",
     "text": [
      "generated an exception: Rate limit reached for default-gpt-3.5-turbo in organization org-oXRtqZdWlsnmtry277X001Hu on tokens per min. Limit: 90000 / min. Current: 89152 / min. Contact us through our help center at help.openai.com if you continue to have issues.\n",
      "generated an exception: Rate limit reached for default-gpt-3.5-turbo in organization org-oXRtqZdWlsnmtry277X001Hu on tokens per min. Limit: 90000 / min. Current: 88952 / min. Contact us through our help center at help.openai.com if you continue to have issues.\n"
     ]
    },
    {
     "name": "stderr",
     "output_type": "stream",
     "text": [
      " 42%|████████████████▍                      | 2112/5000 [14:15<07:08,  6.74it/s]"
     ]
    },
    {
     "name": "stdout",
     "output_type": "stream",
     "text": [
      "generated an exception: Rate limit reached for default-gpt-3.5-turbo in organization org-oXRtqZdWlsnmtry277X001Hu on tokens per min. Limit: 90000 / min. Current: 89630 / min. Contact us through our help center at help.openai.com if you continue to have issues.\n"
     ]
    },
    {
     "name": "stderr",
     "output_type": "stream",
     "text": [
      " 43%|████████████████▉                      | 2164/5000 [14:39<17:37,  2.68it/s]"
     ]
    },
    {
     "name": "stdout",
     "output_type": "stream",
     "text": [
      "generated an exception: This model's maximum context length is 4097 tokens. However, your messages resulted in 5494 tokens. Please reduce the length of the messages.\n"
     ]
    },
    {
     "name": "stderr",
     "output_type": "stream",
     "text": [
      " 44%|█████████████████▎                     | 2213/5000 [14:59<16:58,  2.74it/s]"
     ]
    },
    {
     "name": "stdout",
     "output_type": "stream",
     "text": [
      "generated an exception: Rate limit reached for default-gpt-3.5-turbo in organization org-oXRtqZdWlsnmtry277X001Hu on tokens per min. Limit: 90000 / min. Current: 89118 / min. Contact us through our help center at help.openai.com if you continue to have issues.\n"
     ]
    },
    {
     "name": "stderr",
     "output_type": "stream",
     "text": [
      " 44%|█████████████████▎                     | 2217/5000 [14:59<08:27,  5.48it/s]"
     ]
    },
    {
     "name": "stdout",
     "output_type": "stream",
     "text": [
      "generated an exception: Rate limit reached for default-gpt-3.5-turbo in organization org-oXRtqZdWlsnmtry277X001Hu on tokens per min. Limit: 90000 / min. Current: 89705 / min. Contact us through our help center at help.openai.com if you continue to have issues.\n",
      "generated an exception: Rate limit reached for default-gpt-3.5-turbo in organization org-oXRtqZdWlsnmtry277X001Hu on tokens per min. Limit: 90000 / min. Current: 89775 / min. Contact us through our help center at help.openai.com if you continue to have issues.\n"
     ]
    },
    {
     "name": "stderr",
     "output_type": "stream",
     "text": [
      " 44%|█████████████████▎                     | 2221/5000 [14:59<05:40,  8.17it/s]"
     ]
    },
    {
     "name": "stdout",
     "output_type": "stream",
     "text": [
      "generated an exception: Rate limit reached for default-gpt-3.5-turbo in organization org-oXRtqZdWlsnmtry277X001Hu on tokens per min. Limit: 90000 / min. Current: 89660 / min. Contact us through our help center at help.openai.com if you continue to have issues.\n",
      "generated an exception: Rate limit reached for default-gpt-3.5-turbo in organization org-oXRtqZdWlsnmtry277X001Hu on tokens per min. Limit: 90000 / min. Current: 89549 / min. Contact us through our help center at help.openai.com if you continue to have issues.\n",
      "generated an exception: Rate limit reached for default-gpt-3.5-turbo in organization org-oXRtqZdWlsnmtry277X001Hu on tokens per min. Limit: 90000 / min. Current: 89503 / min. Contact us through our help center at help.openai.com if you continue to have issues.\n"
     ]
    },
    {
     "name": "stderr",
     "output_type": "stream",
     "text": [
      " 45%|█████████████████▍                     | 2231/5000 [15:03<08:59,  5.13it/s]"
     ]
    },
    {
     "name": "stdout",
     "output_type": "stream",
     "text": [
      "generated an exception: Rate limit reached for default-gpt-3.5-turbo in organization org-oXRtqZdWlsnmtry277X001Hu on tokens per min. Limit: 90000 / min. Current: 89693 / min. Contact us through our help center at help.openai.com if you continue to have issues.\n"
     ]
    },
    {
     "name": "stderr",
     "output_type": "stream",
     "text": [
      " 45%|█████████████████▍                     | 2243/5000 [15:08<09:24,  4.88it/s]"
     ]
    },
    {
     "name": "stdout",
     "output_type": "stream",
     "text": [
      "generated an exception: Rate limit reached for default-gpt-3.5-turbo in organization org-oXRtqZdWlsnmtry277X001Hu on tokens per min. Limit: 90000 / min. Current: 89180 / min. Contact us through our help center at help.openai.com if you continue to have issues.\n"
     ]
    },
    {
     "name": "stderr",
     "output_type": "stream",
     "text": [
      " 45%|█████████████████▌                     | 2245/5000 [15:08<07:01,  6.54it/s]"
     ]
    },
    {
     "name": "stdout",
     "output_type": "stream",
     "text": [
      "generated an exception: Rate limit reached for default-gpt-3.5-turbo in organization org-oXRtqZdWlsnmtry277X001Hu on tokens per min. Limit: 90000 / min. Current: 89234 / min. Contact us through our help center at help.openai.com if you continue to have issues.\n"
     ]
    },
    {
     "name": "stderr",
     "output_type": "stream",
     "text": [
      " 45%|█████████████████▌                     | 2247/5000 [15:08<06:45,  6.80it/s]"
     ]
    },
    {
     "name": "stdout",
     "output_type": "stream",
     "text": [
      "generated an exception: Rate limit reached for default-gpt-3.5-turbo in organization org-oXRtqZdWlsnmtry277X001Hu on tokens per min. Limit: 90000 / min. Current: 89559 / min. Contact us through our help center at help.openai.com if you continue to have issues.\n",
      "generated an exception: Rate limit reached for default-gpt-3.5-turbo in organization org-oXRtqZdWlsnmtry277X001Hu on tokens per min. Limit: 90000 / min. Current: 89544 / min. Contact us through our help center at help.openai.com if you continue to have issues.\n",
      "generated an exception: Rate limit reached for default-gpt-3.5-turbo in organization org-oXRtqZdWlsnmtry277X001Hu on tokens per min. Limit: 90000 / min. Current: 89421 / min. Contact us through our help center at help.openai.com if you continue to have issues.\n"
     ]
    },
    {
     "name": "stderr",
     "output_type": "stream",
     "text": [
      " 45%|█████████████████▌                     | 2250/5000 [15:08<06:05,  7.53it/s]"
     ]
    },
    {
     "name": "stdout",
     "output_type": "stream",
     "text": [
      "generated an exception: Rate limit reached for default-gpt-3.5-turbo in organization org-oXRtqZdWlsnmtry277X001Hu on tokens per min. Limit: 90000 / min. Current: 89632 / min. Contact us through our help center at help.openai.com if you continue to have issues.\n"
     ]
    },
    {
     "name": "stderr",
     "output_type": "stream",
     "text": [
      " 45%|█████████████████▌                     | 2254/5000 [15:09<05:04,  9.03it/s]"
     ]
    },
    {
     "name": "stdout",
     "output_type": "stream",
     "text": [
      "generated an exception: Rate limit reached for default-gpt-3.5-turbo in organization org-oXRtqZdWlsnmtry277X001Hu on tokens per min. Limit: 90000 / min. Current: 89712 / min. Contact us through our help center at help.openai.com if you continue to have issues.\n",
      "generated an exception: Rate limit reached for default-gpt-3.5-turbo in organization org-oXRtqZdWlsnmtry277X001Hu on tokens per min. Limit: 90000 / min. Current: 89718 / min. Contact us through our help center at help.openai.com if you continue to have issues.\n"
     ]
    },
    {
     "name": "stderr",
     "output_type": "stream",
     "text": [
      " 45%|█████████████████▌                     | 2257/5000 [15:09<07:28,  6.11it/s]"
     ]
    },
    {
     "name": "stdout",
     "output_type": "stream",
     "text": [
      "generated an exception: Rate limit reached for default-gpt-3.5-turbo in organization org-oXRtqZdWlsnmtry277X001Hu on tokens per min. Limit: 90000 / min. Current: 89803 / min. Contact us through our help center at help.openai.com if you continue to have issues.\n",
      "generated an exception: Rate limit reached for default-gpt-3.5-turbo in organization org-oXRtqZdWlsnmtry277X001Hu on tokens per min. Limit: 90000 / min. Current: 89544 / min. Contact us through our help center at help.openai.com if you continue to have issues.\n"
     ]
    },
    {
     "name": "stderr",
     "output_type": "stream",
     "text": [
      " 45%|█████████████████▋                     | 2260/5000 [15:10<05:16,  8.65it/s]"
     ]
    },
    {
     "name": "stdout",
     "output_type": "stream",
     "text": [
      "generated an exception: Rate limit reached for default-gpt-3.5-turbo in organization org-oXRtqZdWlsnmtry277X001Hu on tokens per min. Limit: 90000 / min. Current: 89414 / min. Contact us through our help center at help.openai.com if you continue to have issues.\n",
      "generated an exception: Rate limit reached for default-gpt-3.5-turbo in organization org-oXRtqZdWlsnmtry277X001Hu on tokens per min. Limit: 90000 / min. Current: 89903 / min. Contact us through our help center at help.openai.com if you continue to have issues.\n",
      "generated an exception: Rate limit reached for default-gpt-3.5-turbo in organization org-oXRtqZdWlsnmtry277X001Hu on tokens per min. Limit: 90000 / min. Current: 89788 / min. Contact us through our help center at help.openai.com if you continue to have issues.\n"
     ]
    },
    {
     "name": "stderr",
     "output_type": "stream",
     "text": [
      " 45%|█████████████████▋                     | 2265/5000 [15:10<03:32, 12.85it/s]"
     ]
    },
    {
     "name": "stdout",
     "output_type": "stream",
     "text": [
      "generated an exception: Rate limit reached for default-gpt-3.5-turbo in organization org-oXRtqZdWlsnmtry277X001Hu on tokens per min. Limit: 90000 / min. Current: 89678 / min. Contact us through our help center at help.openai.com if you continue to have issues.\n",
      "generated an exception: Rate limit reached for default-gpt-3.5-turbo in organization org-oXRtqZdWlsnmtry277X001Hu on tokens per min. Limit: 90000 / min. Current: 89569 / min. Contact us through our help center at help.openai.com if you continue to have issues.\n"
     ]
    },
    {
     "name": "stderr",
     "output_type": "stream",
     "text": [
      " 45%|█████████████████▋                     | 2267/5000 [15:10<03:46, 12.08it/s]"
     ]
    },
    {
     "name": "stdout",
     "output_type": "stream",
     "text": [
      "generated an exception: Rate limit reached for default-gpt-3.5-turbo in organization org-oXRtqZdWlsnmtry277X001Hu on tokens per min. Limit: 90000 / min. Current: 89789 / min. Contact us through our help center at help.openai.com if you continue to have issues.\n"
     ]
    },
    {
     "name": "stderr",
     "output_type": "stream",
     "text": [
      " 45%|█████████████████▋                     | 2273/5000 [15:11<08:04,  5.63it/s]"
     ]
    },
    {
     "name": "stdout",
     "output_type": "stream",
     "text": [
      "generated an exception: Rate limit reached for default-gpt-3.5-turbo in organization org-oXRtqZdWlsnmtry277X001Hu on tokens per min. Limit: 90000 / min. Current: 89178 / min. Contact us through our help center at help.openai.com if you continue to have issues.\n"
     ]
    },
    {
     "name": "stderr",
     "output_type": "stream",
     "text": [
      " 46%|█████████████████▊                     | 2283/5000 [15:18<16:20,  2.77it/s]"
     ]
    },
    {
     "name": "stdout",
     "output_type": "stream",
     "text": [
      "generated an exception: Rate limit reached for default-gpt-3.5-turbo in organization org-oXRtqZdWlsnmtry277X001Hu on tokens per min. Limit: 90000 / min. Current: 89541 / min. Contact us through our help center at help.openai.com if you continue to have issues.\n"
     ]
    },
    {
     "name": "stderr",
     "output_type": "stream",
     "text": [
      " 46%|█████████████████▊                     | 2287/5000 [15:19<12:15,  3.69it/s]"
     ]
    },
    {
     "name": "stdout",
     "output_type": "stream",
     "text": [
      "generated an exception: Rate limit reached for default-gpt-3.5-turbo in organization org-oXRtqZdWlsnmtry277X001Hu on tokens per min. Limit: 90000 / min. Current: 89310 / min. Contact us through our help center at help.openai.com if you continue to have issues.\n"
     ]
    },
    {
     "name": "stderr",
     "output_type": "stream",
     "text": [
      " 46%|██████████████████                     | 2313/5000 [15:28<07:25,  6.03it/s]"
     ]
    },
    {
     "name": "stdout",
     "output_type": "stream",
     "text": [
      "generated an exception: Rate limit reached for default-gpt-3.5-turbo in organization org-oXRtqZdWlsnmtry277X001Hu on tokens per min. Limit: 90000 / min. Current: 89922 / min. Contact us through our help center at help.openai.com if you continue to have issues.\n",
      "generated an exception: Rate limit reached for default-gpt-3.5-turbo in organization org-oXRtqZdWlsnmtry277X001Hu on tokens per min. Limit: 90000 / min. Current: 89813 / min. Contact us through our help center at help.openai.com if you continue to have issues.\n"
     ]
    },
    {
     "name": "stderr",
     "output_type": "stream",
     "text": [
      " 46%|██████████████████                     | 2315/5000 [15:28<06:54,  6.48it/s]"
     ]
    },
    {
     "name": "stdout",
     "output_type": "stream",
     "text": [
      "generated an exception: Rate limit reached for default-gpt-3.5-turbo in organization org-oXRtqZdWlsnmtry277X001Hu on tokens per min. Limit: 90000 / min. Current: 89811 / min. Contact us through our help center at help.openai.com if you continue to have issues.\n",
      "generated an exception: Rate limit reached for default-gpt-3.5-turbo in organization org-oXRtqZdWlsnmtry277X001Hu on tokens per min. Limit: 90000 / min. Current: 89541 / min. Contact us through our help center at help.openai.com if you continue to have issues.\n"
     ]
    },
    {
     "name": "stderr",
     "output_type": "stream",
     "text": [
      " 46%|██████████████████                     | 2317/5000 [15:30<15:15,  2.93it/s]"
     ]
    },
    {
     "name": "stdout",
     "output_type": "stream",
     "text": [
      "generated an exception: Rate limit reached for default-gpt-3.5-turbo in organization org-oXRtqZdWlsnmtry277X001Hu on tokens per min. Limit: 90000 / min. Current: 88955 / min. Contact us through our help center at help.openai.com if you continue to have issues.\n"
     ]
    },
    {
     "name": "stderr",
     "output_type": "stream",
     "text": [
      " 46%|██████████████████                     | 2323/5000 [15:31<08:42,  5.12it/s]"
     ]
    },
    {
     "name": "stdout",
     "output_type": "stream",
     "text": [
      "generated an exception: Rate limit reached for default-gpt-3.5-turbo in organization org-oXRtqZdWlsnmtry277X001Hu on tokens per min. Limit: 90000 / min. Current: 89468 / min. Contact us through our help center at help.openai.com if you continue to have issues.\n",
      "generated an exception: Rate limit reached for default-gpt-3.5-turbo in organization org-oXRtqZdWlsnmtry277X001Hu on tokens per min. Limit: 90000 / min. Current: 89221 / min. Contact us through our help center at help.openai.com if you continue to have issues.\n"
     ]
    },
    {
     "name": "stderr",
     "output_type": "stream",
     "text": [
      " 47%|██████████████████▏                    | 2326/5000 [15:31<07:56,  5.61it/s]"
     ]
    },
    {
     "name": "stdout",
     "output_type": "stream",
     "text": [
      "generated an exception: Rate limit reached for default-gpt-3.5-turbo in organization org-oXRtqZdWlsnmtry277X001Hu on tokens per min. Limit: 90000 / min. Current: 89890 / min. Contact us through our help center at help.openai.com if you continue to have issues.\n",
      "generated an exception: Rate limit reached for default-gpt-3.5-turbo in organization org-oXRtqZdWlsnmtry277X001Hu on tokens per min. Limit: 90000 / min. Current: 89770 / min. Contact us through our help center at help.openai.com if you continue to have issues.\n"
     ]
    },
    {
     "name": "stderr",
     "output_type": "stream",
     "text": [
      " 47%|██████████████████▏                    | 2330/5000 [15:32<06:10,  7.20it/s]"
     ]
    },
    {
     "name": "stdout",
     "output_type": "stream",
     "text": [
      "generated an exception: Rate limit reached for default-gpt-3.5-turbo in organization org-oXRtqZdWlsnmtry277X001Hu on tokens per min. Limit: 90000 / min. Current: 89555 / min. Contact us through our help center at help.openai.com if you continue to have issues.\n",
      "generated an exception: Rate limit reached for default-gpt-3.5-turbo in organization org-oXRtqZdWlsnmtry277X001Hu on tokens per min. Limit: 90000 / min. Current: 89650 / min. Contact us through our help center at help.openai.com if you continue to have issues.\n"
     ]
    },
    {
     "name": "stderr",
     "output_type": "stream",
     "text": [
      " 47%|██████████████████▏                    | 2332/5000 [15:33<12:08,  3.66it/s]"
     ]
    },
    {
     "name": "stdout",
     "output_type": "stream",
     "text": [
      "generated an exception: Rate limit reached for default-gpt-3.5-turbo in organization org-oXRtqZdWlsnmtry277X001Hu on tokens per min. Limit: 90000 / min. Current: 88616 / min. Contact us through our help center at help.openai.com if you continue to have issues.\n"
     ]
    },
    {
     "name": "stderr",
     "output_type": "stream",
     "text": [
      " 47%|██████████████████▏                    | 2339/5000 [15:34<07:52,  5.63it/s]"
     ]
    },
    {
     "name": "stdout",
     "output_type": "stream",
     "text": [
      "generated an exception: Rate limit reached for default-gpt-3.5-turbo in organization org-oXRtqZdWlsnmtry277X001Hu on tokens per min. Limit: 90000 / min. Current: 89565 / min. Contact us through our help center at help.openai.com if you continue to have issues.\n",
      "generated an exception: Rate limit reached for default-gpt-3.5-turbo in organization org-oXRtqZdWlsnmtry277X001Hu on tokens per min. Limit: 90000 / min. Current: 89419 / min. Contact us through our help center at help.openai.com if you continue to have issues.\n"
     ]
    },
    {
     "name": "stderr",
     "output_type": "stream",
     "text": [
      " 47%|██████████████████▎                    | 2344/5000 [15:34<04:31,  9.80it/s]"
     ]
    },
    {
     "name": "stdout",
     "output_type": "stream",
     "text": [
      "generated an exception: Rate limit reached for default-gpt-3.5-turbo in organization org-oXRtqZdWlsnmtry277X001Hu on tokens per min. Limit: 90000 / min. Current: 89670 / min. Contact us through our help center at help.openai.com if you continue to have issues.\n",
      "generated an exception: Rate limit reached for default-gpt-3.5-turbo in organization org-oXRtqZdWlsnmtry277X001Hu on tokens per min. Limit: 90000 / min. Current: 89662 / min. Contact us through our help center at help.openai.com if you continue to have issues.\n",
      "generated an exception: Rate limit reached for default-gpt-3.5-turbo in organization org-oXRtqZdWlsnmtry277X001Hu on tokens per min. Limit: 90000 / min. Current: 89562 / min. Contact us through our help center at help.openai.com if you continue to have issues.\n",
      "generated an exception: Rate limit reached for default-gpt-3.5-turbo in organization org-oXRtqZdWlsnmtry277X001Hu on tokens per min. Limit: 90000 / min. Current: 89798 / min. Contact us through our help center at help.openai.com if you continue to have issues.\n"
     ]
    },
    {
     "name": "stderr",
     "output_type": "stream",
     "text": [
      " 47%|██████████████████▎                    | 2348/5000 [15:35<03:56, 11.24it/s]"
     ]
    },
    {
     "name": "stdout",
     "output_type": "stream",
     "text": [
      "generated an exception: Rate limit reached for default-gpt-3.5-turbo in organization org-oXRtqZdWlsnmtry277X001Hu on tokens per min. Limit: 90000 / min. Current: 89687 / min. Contact us through our help center at help.openai.com if you continue to have issues.\n",
      "generated an exception: Rate limit reached for default-gpt-3.5-turbo in organization org-oXRtqZdWlsnmtry277X001Hu on tokens per min. Limit: 90000 / min. Current: 89581 / min. Contact us through our help center at help.openai.com if you continue to have issues.\n",
      "generated an exception: Rate limit reached for default-gpt-3.5-turbo in organization org-oXRtqZdWlsnmtry277X001Hu on tokens per min. Limit: 90000 / min. Current: 89465 / min. Contact us through our help center at help.openai.com if you continue to have issues.\n"
     ]
    },
    {
     "name": "stderr",
     "output_type": "stream",
     "text": [
      " 47%|██████████████████▌                    | 2373/5000 [15:46<12:21,  3.54it/s]"
     ]
    },
    {
     "name": "stdout",
     "output_type": "stream",
     "text": [
      "generated an exception: Rate limit reached for default-gpt-3.5-turbo in organization org-oXRtqZdWlsnmtry277X001Hu on tokens per min. Limit: 90000 / min. Current: 89168 / min. Contact us through our help center at help.openai.com if you continue to have issues.\n"
     ]
    },
    {
     "name": "stderr",
     "output_type": "stream",
     "text": [
      " 48%|██████████████████▌                    | 2377/5000 [15:47<07:41,  5.68it/s]"
     ]
    },
    {
     "name": "stdout",
     "output_type": "stream",
     "text": [
      "generated an exception: Rate limit reached for default-gpt-3.5-turbo in organization org-oXRtqZdWlsnmtry277X001Hu on tokens per min. Limit: 90000 / min. Current: 89423 / min. Contact us through our help center at help.openai.com if you continue to have issues.\n",
      "generated an exception: Rate limit reached for default-gpt-3.5-turbo in organization org-oXRtqZdWlsnmtry277X001Hu on tokens per min. Limit: 90000 / min. Current: 89299 / min. Contact us through our help center at help.openai.com if you continue to have issues.\n",
      "generated an exception: Rate limit reached for default-gpt-3.5-turbo in organization org-oXRtqZdWlsnmtry277X001Hu on tokens per min. Limit: 90000 / min. Current: 89164 / min. Contact us through our help center at help.openai.com if you continue to have issues.\n"
     ]
    },
    {
     "name": "stderr",
     "output_type": "stream",
     "text": [
      " 48%|██████████████████▌                    | 2379/5000 [15:47<07:28,  5.84it/s]"
     ]
    },
    {
     "name": "stdout",
     "output_type": "stream",
     "text": [
      "generated an exception: Rate limit reached for default-gpt-3.5-turbo in organization org-oXRtqZdWlsnmtry277X001Hu on tokens per min. Limit: 90000 / min. Current: 89432 / min. Contact us through our help center at help.openai.com if you continue to have issues.\n"
     ]
    },
    {
     "name": "stderr",
     "output_type": "stream",
     "text": [
      " 48%|██████████████████▋                    | 2395/5000 [15:55<18:10,  2.39it/s]"
     ]
    },
    {
     "name": "stdout",
     "output_type": "stream",
     "text": [
      "generated an exception: Rate limit reached for default-gpt-3.5-turbo in organization org-oXRtqZdWlsnmtry277X001Hu on tokens per min. Limit: 90000 / min. Current: 87309 / min. Contact us through our help center at help.openai.com if you continue to have issues.\n"
     ]
    },
    {
     "name": "stderr",
     "output_type": "stream",
     "text": [
      " 48%|██████████████████▊                    | 2419/5000 [16:03<06:08,  7.01it/s]"
     ]
    },
    {
     "name": "stdout",
     "output_type": "stream",
     "text": [
      "generated an exception: Rate limit reached for default-gpt-3.5-turbo in organization org-oXRtqZdWlsnmtry277X001Hu on tokens per min. Limit: 90000 / min. Current: 89530 / min. Contact us through our help center at help.openai.com if you continue to have issues.\n",
      "generated an exception: The server is overloaded or not ready yet.\n",
      "generated an exception: Rate limit reached for default-gpt-3.5-turbo in organization org-oXRtqZdWlsnmtry277X001Hu on tokens per min. Limit: 90000 / min. Current: 89416 / min. Contact us through our help center at help.openai.com if you continue to have issues.\n",
      "generated an exception: Rate limit reached for default-gpt-3.5-turbo in organization org-oXRtqZdWlsnmtry277X001Hu on tokens per min. Limit: 90000 / min. Current: 89576 / min. Contact us through our help center at help.openai.com if you continue to have issues.\n"
     ]
    },
    {
     "name": "stderr",
     "output_type": "stream",
     "text": [
      " 48%|██████████████████▉                    | 2421/5000 [16:03<05:16,  8.15it/s]"
     ]
    },
    {
     "name": "stdout",
     "output_type": "stream",
     "text": [
      "generated an exception: Rate limit reached for default-gpt-3.5-turbo in organization org-oXRtqZdWlsnmtry277X001Hu on tokens per min. Limit: 90000 / min. Current: 89455 / min. Contact us through our help center at help.openai.com if you continue to have issues.\n",
      "generated an exception: Rate limit reached for default-gpt-3.5-turbo in organization org-oXRtqZdWlsnmtry277X001Hu on tokens per min. Limit: 90000 / min. Current: 89337 / min. Contact us through our help center at help.openai.com if you continue to have issues.\n",
      "generated an exception: Rate limit reached for default-gpt-3.5-turbo in organization org-oXRtqZdWlsnmtry277X001Hu on tokens per min. Limit: 90000 / min. Current: 89259 / min. Contact us through our help center at help.openai.com if you continue to have issues.\n"
     ]
    },
    {
     "name": "stderr",
     "output_type": "stream",
     "text": [
      " 51%|███████████████████▊                   | 2543/5000 [16:53<09:35,  4.27it/s]"
     ]
    },
    {
     "name": "stdout",
     "output_type": "stream",
     "text": [
      "generated an exception: Rate limit reached for default-gpt-3.5-turbo in organization org-oXRtqZdWlsnmtry277X001Hu on tokens per min. Limit: 90000 / min. Current: 89629 / min. Contact us through our help center at help.openai.com if you continue to have issues.\n",
      "generated an exception: Rate limit reached for default-gpt-3.5-turbo in organization org-oXRtqZdWlsnmtry277X001Hu on tokens per min. Limit: 90000 / min. Current: 89620 / min. Contact us through our help center at help.openai.com if you continue to have issues.\n"
     ]
    },
    {
     "name": "stderr",
     "output_type": "stream",
     "text": [
      " 51%|███████████████████▉                   | 2551/5000 [16:54<07:07,  5.72it/s]"
     ]
    },
    {
     "name": "stdout",
     "output_type": "stream",
     "text": [
      "generated an exception: Rate limit reached for default-gpt-3.5-turbo in organization org-oXRtqZdWlsnmtry277X001Hu on tokens per min. Limit: 90000 / min. Current: 89551 / min. Contact us through our help center at help.openai.com if you continue to have issues.\n",
      "generated an exception: Rate limit reached for default-gpt-3.5-turbo in organization org-oXRtqZdWlsnmtry277X001Hu on tokens per min. Limit: 90000 / min. Current: 89775 / min. Contact us through our help center at help.openai.com if you continue to have issues.\n",
      "generated an exception: Rate limit reached for default-gpt-3.5-turbo in organization org-oXRtqZdWlsnmtry277X001Hu on tokens per min. Limit: 90000 / min. Current: 89647 / min. Contact us through our help center at help.openai.com if you continue to have issues.\n"
     ]
    },
    {
     "name": "stderr",
     "output_type": "stream",
     "text": [
      " 51%|███████████████████▉                   | 2556/5000 [16:55<04:26,  9.15it/s]"
     ]
    },
    {
     "name": "stdout",
     "output_type": "stream",
     "text": [
      "generated an exception: Rate limit reached for default-gpt-3.5-turbo in organization org-oXRtqZdWlsnmtry277X001Hu on tokens per min. Limit: 90000 / min. Current: 89467 / min. Contact us through our help center at help.openai.com if you continue to have issues.\n"
     ]
    },
    {
     "name": "stderr",
     "output_type": "stream",
     "text": [
      " 51%|███████████████████▉                   | 2559/5000 [16:55<03:25, 11.85it/s]"
     ]
    },
    {
     "name": "stdout",
     "output_type": "stream",
     "text": [
      "generated an exception: Rate limit reached for default-gpt-3.5-turbo in organization org-oXRtqZdWlsnmtry277X001Hu on tokens per min. Limit: 90000 / min. Current: 89794 / min. Contact us through our help center at help.openai.com if you continue to have issues.\n",
      "generated an exception: Rate limit reached for default-gpt-3.5-turbo in organization org-oXRtqZdWlsnmtry277X001Hu on tokens per min. Limit: 90000 / min. Current: 89750 / min. Contact us through our help center at help.openai.com if you continue to have issues.\n",
      "generated an exception: Rate limit reached for default-gpt-3.5-turbo in organization org-oXRtqZdWlsnmtry277X001Hu on tokens per min. Limit: 90000 / min. Current: 89818 / min. Contact us through our help center at help.openai.com if you continue to have issues.\n"
     ]
    },
    {
     "name": "stderr",
     "output_type": "stream",
     "text": [
      " 51%|███████████████████▉                   | 2561/5000 [16:55<03:44, 10.89it/s]"
     ]
    },
    {
     "name": "stdout",
     "output_type": "stream",
     "text": [
      "generated an exception: Rate limit reached for default-gpt-3.5-turbo in organization org-oXRtqZdWlsnmtry277X001Hu on tokens per min. Limit: 90000 / min. Current: 89614 / min. Contact us through our help center at help.openai.com if you continue to have issues.\n",
      "generated an exception: Rate limit reached for default-gpt-3.5-turbo in organization org-oXRtqZdWlsnmtry277X001Hu on tokens per min. Limit: 90000 / min. Current: 89483 / min. Contact us through our help center at help.openai.com if you continue to have issues.\n"
     ]
    },
    {
     "name": "stderr",
     "output_type": "stream",
     "text": [
      " 51%|████████████████████                   | 2566/5000 [16:56<04:29,  9.02it/s]"
     ]
    },
    {
     "name": "stdout",
     "output_type": "stream",
     "text": [
      "generated an exception: Rate limit reached for default-gpt-3.5-turbo in organization org-oXRtqZdWlsnmtry277X001Hu on tokens per min. Limit: 90000 / min. Current: 89810 / min. Contact us through our help center at help.openai.com if you continue to have issues.\n",
      "generated an exception: Rate limit reached for default-gpt-3.5-turbo in organization org-oXRtqZdWlsnmtry277X001Hu on tokens per min. Limit: 90000 / min. Current: 89735 / min. Contact us through our help center at help.openai.com if you continue to have issues.\n",
      "generated an exception: Rate limit reached for default-gpt-3.5-turbo in organization org-oXRtqZdWlsnmtry277X001Hu on tokens per min. Limit: 90000 / min. Current: 89713 / min. Contact us through our help center at help.openai.com if you continue to have issues.\n"
     ]
    },
    {
     "name": "stderr",
     "output_type": "stream",
     "text": [
      " 51%|████████████████████                   | 2570/5000 [16:56<03:19, 12.21it/s]"
     ]
    },
    {
     "name": "stdout",
     "output_type": "stream",
     "text": [
      "generated an exception: Rate limit reached for default-gpt-3.5-turbo in organization org-oXRtqZdWlsnmtry277X001Hu on tokens per min. Limit: 90000 / min. Current: 89601 / min. Contact us through our help center at help.openai.com if you continue to have issues.\n",
      "generated an exception: Rate limit reached for default-gpt-3.5-turbo in organization org-oXRtqZdWlsnmtry277X001Hu on tokens per min. Limit: 90000 / min. Current: 89719 / min. Contact us through our help center at help.openai.com if you continue to have issues.\n",
      "generated an exception: Rate limit reached for default-gpt-3.5-turbo in organization org-oXRtqZdWlsnmtry277X001Hu on tokens per min. Limit: 90000 / min. Current: 89602 / min. Contact us through our help center at help.openai.com if you continue to have issues.\n"
     ]
    },
    {
     "name": "stderr",
     "output_type": "stream",
     "text": [
      " 51%|████████████████████                   | 2572/5000 [16:56<03:13, 12.52it/s]"
     ]
    },
    {
     "name": "stdout",
     "output_type": "stream",
     "text": [
      "generated an exception: Rate limit reached for default-gpt-3.5-turbo in organization org-oXRtqZdWlsnmtry277X001Hu on tokens per min. Limit: 90000 / min. Current: 89497 / min. Contact us through our help center at help.openai.com if you continue to have issues.\n"
     ]
    },
    {
     "name": "stderr",
     "output_type": "stream",
     "text": [
      " 52%|████████████████████▎                  | 2598/5000 [17:08<08:28,  4.72it/s]"
     ]
    },
    {
     "name": "stdout",
     "output_type": "stream",
     "text": [
      "generated an exception: Bad gateway. {\"error\":{\"code\":502,\"message\":\"Bad gateway.\",\"param\":null,\"type\":\"cf_bad_gateway\"}} 502 {'error': {'code': 502, 'message': 'Bad gateway.', 'param': None, 'type': 'cf_bad_gateway'}} {'Date': 'Tue, 27 Jun 2023 11:13:26 GMT', 'Content-Type': 'application/json', 'Content-Length': '84', 'Connection': 'keep-alive', 'X-Frame-Options': 'SAMEORIGIN', 'Referrer-Policy': 'same-origin', 'Cache-Control': 'private, max-age=0, no-store, no-cache, must-revalidate, post-check=0, pre-check=0', 'Expires': 'Thu, 01 Jan 1970 00:00:01 GMT', 'Server': 'cloudflare', 'CF-RAY': '7ddd3af7aba4307c-SEA', 'alt-svc': 'h3=\":443\"; ma=86400'}\n"
     ]
    },
    {
     "name": "stderr",
     "output_type": "stream",
     "text": [
      " 52%|████████████████████▎                  | 2608/5000 [17:11<06:32,  6.09it/s]"
     ]
    },
    {
     "name": "stdout",
     "output_type": "stream",
     "text": [
      "generated an exception: Rate limit reached for default-gpt-3.5-turbo in organization org-oXRtqZdWlsnmtry277X001Hu on tokens per min. Limit: 90000 / min. Current: 89300 / min. Contact us through our help center at help.openai.com if you continue to have issues.\n",
      "generated an exception: Rate limit reached for default-gpt-3.5-turbo in organization org-oXRtqZdWlsnmtry277X001Hu on tokens per min. Limit: 90000 / min. Current: 89729 / min. Contact us through our help center at help.openai.com if you continue to have issues.\n"
     ]
    },
    {
     "name": "stderr",
     "output_type": "stream",
     "text": [
      " 52%|████████████████████▎                  | 2610/5000 [17:12<15:11,  2.62it/s]"
     ]
    },
    {
     "name": "stdout",
     "output_type": "stream",
     "text": [
      "generated an exception: Rate limit reached for default-gpt-3.5-turbo in organization org-oXRtqZdWlsnmtry277X001Hu on tokens per min. Limit: 90000 / min. Current: 88716 / min. Contact us through our help center at help.openai.com if you continue to have issues.\n"
     ]
    },
    {
     "name": "stderr",
     "output_type": "stream",
     "text": [
      " 52%|████████████████████▍                  | 2617/5000 [17:14<09:11,  4.32it/s]"
     ]
    },
    {
     "name": "stdout",
     "output_type": "stream",
     "text": [
      "generated an exception: Rate limit reached for default-gpt-3.5-turbo in organization org-oXRtqZdWlsnmtry277X001Hu on tokens per min. Limit: 90000 / min. Current: 88291 / min. Contact us through our help center at help.openai.com if you continue to have issues.\n",
      "generated an exception: Rate limit reached for default-gpt-3.5-turbo in organization org-oXRtqZdWlsnmtry277X001Hu on tokens per min. Limit: 90000 / min. Current: 89600 / min. Contact us through our help center at help.openai.com if you continue to have issues.\n"
     ]
    },
    {
     "name": "stderr",
     "output_type": "stream",
     "text": [
      " 52%|████████████████████▍                  | 2619/5000 [17:14<07:59,  4.96it/s]"
     ]
    },
    {
     "name": "stdout",
     "output_type": "stream",
     "text": [
      "generated an exception: Rate limit reached for default-gpt-3.5-turbo in organization org-oXRtqZdWlsnmtry277X001Hu on tokens per min. Limit: 90000 / min. Current: 89237 / min. Contact us through our help center at help.openai.com if you continue to have issues.\n"
     ]
    },
    {
     "name": "stderr",
     "output_type": "stream",
     "text": [
      " 53%|████████████████████▍                  | 2627/5000 [17:15<03:49, 10.36it/s]"
     ]
    },
    {
     "name": "stdout",
     "output_type": "stream",
     "text": [
      "generated an exception: Rate limit reached for default-gpt-3.5-turbo in organization org-oXRtqZdWlsnmtry277X001Hu on tokens per min. Limit: 90000 / min. Current: 89577 / min. Contact us through our help center at help.openai.com if you continue to have issues.\n",
      "generated an exception: Rate limit reached for default-gpt-3.5-turbo in organization org-oXRtqZdWlsnmtry277X001Hu on tokens per min. Limit: 90000 / min. Current: 89572 / min. Contact us through our help center at help.openai.com if you continue to have issues.\n",
      "generated an exception: Rate limit reached for default-gpt-3.5-turbo in organization org-oXRtqZdWlsnmtry277X001Hu on tokens per min. Limit: 90000 / min. Current: 89452 / min. Contact us through our help center at help.openai.com if you continue to have issues.\n"
     ]
    },
    {
     "name": "stderr",
     "output_type": "stream",
     "text": [
      " 53%|████████████████████▌                  | 2631/5000 [17:16<05:34,  7.07it/s]"
     ]
    },
    {
     "name": "stdout",
     "output_type": "stream",
     "text": [
      "generated an exception: Rate limit reached for default-gpt-3.5-turbo in organization org-oXRtqZdWlsnmtry277X001Hu on tokens per min. Limit: 90000 / min. Current: 89741 / min. Contact us through our help center at help.openai.com if you continue to have issues.\n",
      "generated an exception: Rate limit reached for default-gpt-3.5-turbo in organization org-oXRtqZdWlsnmtry277X001Hu on tokens per min. Limit: 90000 / min. Current: 89621 / min. Contact us through our help center at help.openai.com if you continue to have issues.\n",
      "generated an exception: Rate limit reached for default-gpt-3.5-turbo in organization org-oXRtqZdWlsnmtry277X001Hu on tokens per min. Limit: 90000 / min. Current: 89488 / min. Contact us through our help center at help.openai.com if you continue to have issues.\n"
     ]
    },
    {
     "name": "stderr",
     "output_type": "stream",
     "text": [
      " 53%|████████████████████▋                  | 2654/5000 [17:26<11:41,  3.35it/s]"
     ]
    },
    {
     "name": "stdout",
     "output_type": "stream",
     "text": [
      "generated an exception: Rate limit reached for default-gpt-3.5-turbo in organization org-oXRtqZdWlsnmtry277X001Hu on tokens per min. Limit: 90000 / min. Current: 88072 / min. Contact us through our help center at help.openai.com if you continue to have issues.\n"
     ]
    },
    {
     "name": "stderr",
     "output_type": "stream",
     "text": [
      " 53%|████████████████████▊                  | 2664/5000 [17:27<02:59, 12.99it/s]"
     ]
    },
    {
     "name": "stdout",
     "output_type": "stream",
     "text": [
      "generated an exception: Rate limit reached for default-gpt-3.5-turbo in organization org-oXRtqZdWlsnmtry277X001Hu on tokens per min. Limit: 90000 / min. Current: 89898 / min. Contact us through our help center at help.openai.com if you continue to have issues.\n",
      "generated an exception: Rate limit reached for default-gpt-3.5-turbo in organization org-oXRtqZdWlsnmtry277X001Hu on tokens per min. Limit: 90000 / min. Current: 89791 / min. Contact us through our help center at help.openai.com if you continue to have issues.\n",
      "generated an exception: Rate limit reached for default-gpt-3.5-turbo in organization org-oXRtqZdWlsnmtry277X001Hu on tokens per min. Limit: 90000 / min. Current: 89792 / min. Contact us through our help center at help.openai.com if you continue to have issues.\n",
      "generated an exception: Rate limit reached for default-gpt-3.5-turbo in organization org-oXRtqZdWlsnmtry277X001Hu on tokens per min. Limit: 90000 / min. Current: 89948 / min. Contact us through our help center at help.openai.com if you continue to have issues.\n",
      "generated an exception: Rate limit reached for default-gpt-3.5-turbo in organization org-oXRtqZdWlsnmtry277X001Hu on tokens per min. Limit: 90000 / min. Current: 89927 / min. Contact us through our help center at help.openai.com if you continue to have issues.\n"
     ]
    },
    {
     "name": "stderr",
     "output_type": "stream",
     "text": [
      " 53%|████████████████████▊                  | 2671/5000 [17:27<02:01, 19.22it/s]"
     ]
    },
    {
     "name": "stdout",
     "output_type": "stream",
     "text": [
      "generated an exception: Rate limit reached for default-gpt-3.5-turbo in organization org-oXRtqZdWlsnmtry277X001Hu on tokens per min. Limit: 90000 / min. Current: 89841 / min. Contact us through our help center at help.openai.com if you continue to have issues.\n",
      "generated an exception: Rate limit reached for default-gpt-3.5-turbo in organization org-oXRtqZdWlsnmtry277X001Hu on tokens per min. Limit: 90000 / min. Current: 89752 / min. Contact us through our help center at help.openai.com if you continue to have issues.\n",
      "generated an exception: Rate limit reached for default-gpt-3.5-turbo in organization org-oXRtqZdWlsnmtry277X001Hu on tokens per min. Limit: 90000 / min. Current: 89730 / min. Contact us through our help center at help.openai.com if you continue to have issues.\n",
      "generated an exception: Rate limit reached for default-gpt-3.5-turbo in organization org-oXRtqZdWlsnmtry277X001Hu on tokens per min. Limit: 90000 / min. Current: 89621 / min. Contact us through our help center at help.openai.com if you continue to have issues.\n",
      "generated an exception: Rate limit reached for default-gpt-3.5-turbo in organization org-oXRtqZdWlsnmtry277X001Hu on tokens per min. Limit: 90000 / min. Current: 89599 / min. Contact us through our help center at help.openai.com if you continue to have issues.\n"
     ]
    },
    {
     "name": "stderr",
     "output_type": "stream",
     "text": [
      " 53%|████████████████████▊                  | 2674/5000 [17:27<02:27, 15.75it/s]"
     ]
    },
    {
     "name": "stdout",
     "output_type": "stream",
     "text": [
      "generated an exception: Rate limit reached for default-gpt-3.5-turbo in organization org-oXRtqZdWlsnmtry277X001Hu on tokens per min. Limit: 90000 / min. Current: 89590 / min. Contact us through our help center at help.openai.com if you continue to have issues.\n",
      "generated an exception: Rate limit reached for default-gpt-3.5-turbo in organization org-oXRtqZdWlsnmtry277X001Hu on tokens per min. Limit: 90000 / min. Current: 89550 / min. Contact us through our help center at help.openai.com if you continue to have issues.\n",
      "generated an exception: Rate limit reached for default-gpt-3.5-turbo in organization org-oXRtqZdWlsnmtry277X001Hu on tokens per min. Limit: 90000 / min. Current: 89760 / min. Contact us through our help center at help.openai.com if you continue to have issues.\n",
      "generated an exception: Rate limit reached for default-gpt-3.5-turbo in organization org-oXRtqZdWlsnmtry277X001Hu on tokens per min. Limit: 90000 / min. Current: 89638 / min. Contact us through our help center at help.openai.com if you continue to have issues.\n"
     ]
    },
    {
     "name": "stderr",
     "output_type": "stream",
     "text": [
      " 54%|████████████████████▉                  | 2680/5000 [17:28<04:01,  9.60it/s]"
     ]
    },
    {
     "name": "stdout",
     "output_type": "stream",
     "text": [
      "generated an exception: Rate limit reached for default-gpt-3.5-turbo in organization org-oXRtqZdWlsnmtry277X001Hu on tokens per min. Limit: 90000 / min. Current: 89750 / min. Contact us through our help center at help.openai.com if you continue to have issues.\n",
      "generated an exception: Rate limit reached for default-gpt-3.5-turbo in organization org-oXRtqZdWlsnmtry277X001Hu on tokens per min. Limit: 90000 / min. Current: 89570 / min. Contact us through our help center at help.openai.com if you continue to have issues.\n",
      "generated an exception: Rate limit reached for default-gpt-3.5-turbo in organization org-oXRtqZdWlsnmtry277X001Hu on tokens per min. Limit: 90000 / min. Current: 89529 / min. Contact us through our help center at help.openai.com if you continue to have issues.\n",
      "generated an exception: Rate limit reached for default-gpt-3.5-turbo in organization org-oXRtqZdWlsnmtry277X001Hu on tokens per min. Limit: 90000 / min. Current: 89464 / min. Contact us through our help center at help.openai.com if you continue to have issues.\n"
     ]
    },
    {
     "name": "stderr",
     "output_type": "stream",
     "text": [
      " 54%|████████████████████▉                  | 2684/5000 [17:31<12:52,  3.00it/s]"
     ]
    },
    {
     "name": "stdout",
     "output_type": "stream",
     "text": [
      "generated an exception: The server is overloaded or not ready yet.\n"
     ]
    },
    {
     "name": "stderr",
     "output_type": "stream",
     "text": [
      " 54%|█████████████████████                  | 2699/5000 [17:36<10:02,  3.82it/s]"
     ]
    },
    {
     "name": "stdout",
     "output_type": "stream",
     "text": [
      "generated an exception: Rate limit reached for default-gpt-3.5-turbo in organization org-oXRtqZdWlsnmtry277X001Hu on tokens per min. Limit: 90000 / min. Current: 88913 / min. Contact us through our help center at help.openai.com if you continue to have issues.\n"
     ]
    },
    {
     "name": "stderr",
     "output_type": "stream",
     "text": [
      " 55%|█████████████████████▎                 | 2726/5000 [17:47<09:51,  3.84it/s]"
     ]
    },
    {
     "name": "stdout",
     "output_type": "stream",
     "text": [
      "generated an exception: Bad gateway. {\"error\":{\"code\":502,\"message\":\"Bad gateway.\",\"param\":null,\"type\":\"cf_bad_gateway\"}} 502 {'error': {'code': 502, 'message': 'Bad gateway.', 'param': None, 'type': 'cf_bad_gateway'}} {'Date': 'Tue, 27 Jun 2023 11:14:05 GMT', 'Content-Type': 'application/json', 'Content-Length': '84', 'Connection': 'keep-alive', 'X-Frame-Options': 'SAMEORIGIN', 'Referrer-Policy': 'same-origin', 'Cache-Control': 'private, max-age=0, no-store, no-cache, must-revalidate, post-check=0, pre-check=0', 'Expires': 'Thu, 01 Jan 1970 00:00:01 GMT', 'Server': 'cloudflare', 'CF-RAY': '7ddd3be12c88094c-SEA', 'alt-svc': 'h3=\":443\"; ma=86400'}\n",
      "generated an exception: Rate limit reached for default-gpt-3.5-turbo in organization org-oXRtqZdWlsnmtry277X001Hu on tokens per min. Limit: 90000 / min. Current: 88332 / min. Contact us through our help center at help.openai.com if you continue to have issues.\n"
     ]
    },
    {
     "name": "stderr",
     "output_type": "stream",
     "text": [
      " 55%|█████████████████████▎                 | 2728/5000 [17:47<07:51,  4.81it/s]"
     ]
    },
    {
     "name": "stdout",
     "output_type": "stream",
     "text": [
      "generated an exception: Rate limit reached for default-gpt-3.5-turbo in organization org-oXRtqZdWlsnmtry277X001Hu on tokens per min. Limit: 90000 / min. Current: 89571 / min. Contact us through our help center at help.openai.com if you continue to have issues.\n"
     ]
    },
    {
     "name": "stderr",
     "output_type": "stream",
     "text": [
      " 55%|█████████████████████▎                 | 2736/5000 [17:49<07:33,  5.00it/s]"
     ]
    },
    {
     "name": "stdout",
     "output_type": "stream",
     "text": [
      "generated an exception: Rate limit reached for default-gpt-3.5-turbo in organization org-oXRtqZdWlsnmtry277X001Hu on tokens per min. Limit: 90000 / min. Current: 89266 / min. Contact us through our help center at help.openai.com if you continue to have issues.\n",
      "generated an exception: Rate limit reached for default-gpt-3.5-turbo in organization org-oXRtqZdWlsnmtry277X001Hu on tokens per min. Limit: 90000 / min. Current: 89253 / min. Contact us through our help center at help.openai.com if you continue to have issues.\n"
     ]
    },
    {
     "name": "stderr",
     "output_type": "stream",
     "text": [
      " 55%|█████████████████████▎                 | 2740/5000 [17:50<04:28,  8.42it/s]"
     ]
    },
    {
     "name": "stdout",
     "output_type": "stream",
     "text": [
      "generated an exception: Rate limit reached for default-gpt-3.5-turbo in organization org-oXRtqZdWlsnmtry277X001Hu on tokens per min. Limit: 90000 / min. Current: 89364 / min. Contact us through our help center at help.openai.com if you continue to have issues.\n",
      "generated an exception: Rate limit reached for default-gpt-3.5-turbo in organization org-oXRtqZdWlsnmtry277X001Hu on tokens per min. Limit: 90000 / min. Current: 89249 / min. Contact us through our help center at help.openai.com if you continue to have issues.\n",
      "generated an exception: Rate limit reached for default-gpt-3.5-turbo in organization org-oXRtqZdWlsnmtry277X001Hu on tokens per min. Limit: 90000 / min. Current: 89765 / min. Contact us through our help center at help.openai.com if you continue to have issues.\n"
     ]
    },
    {
     "name": "stderr",
     "output_type": "stream",
     "text": [
      " 55%|█████████████████████▍                 | 2742/5000 [17:50<03:57,  9.53it/s]"
     ]
    },
    {
     "name": "stdout",
     "output_type": "stream",
     "text": [
      "generated an exception: Rate limit reached for default-gpt-3.5-turbo in organization org-oXRtqZdWlsnmtry277X001Hu on tokens per min. Limit: 90000 / min. Current: 89645 / min. Contact us through our help center at help.openai.com if you continue to have issues.\n",
      "generated an exception: Rate limit reached for default-gpt-3.5-turbo in organization org-oXRtqZdWlsnmtry277X001Hu on tokens per min. Limit: 90000 / min. Current: 89537 / min. Contact us through our help center at help.openai.com if you continue to have issues.\n"
     ]
    },
    {
     "name": "stderr",
     "output_type": "stream",
     "text": [
      " 55%|█████████████████████▍                 | 2745/5000 [17:50<06:05,  6.17it/s]"
     ]
    },
    {
     "name": "stdout",
     "output_type": "stream",
     "text": [
      "generated an exception: Rate limit reached for default-gpt-3.5-turbo in organization org-oXRtqZdWlsnmtry277X001Hu on tokens per min. Limit: 90000 / min. Current: 89659 / min. Contact us through our help center at help.openai.com if you continue to have issues.\n"
     ]
    },
    {
     "name": "stderr",
     "output_type": "stream",
     "text": [
      " 55%|█████████████████████▍                 | 2749/5000 [17:52<08:47,  4.27it/s]"
     ]
    },
    {
     "name": "stdout",
     "output_type": "stream",
     "text": [
      "generated an exception: Bad gateway. {\"error\":{\"code\":502,\"message\":\"Bad gateway.\",\"param\":null,\"type\":\"cf_bad_gateway\"}} 502 {'error': {'code': 502, 'message': 'Bad gateway.', 'param': None, 'type': 'cf_bad_gateway'}} {'Date': 'Tue, 27 Jun 2023 11:14:10 GMT', 'Content-Type': 'application/json', 'Content-Length': '84', 'Connection': 'keep-alive', 'X-Frame-Options': 'SAMEORIGIN', 'Referrer-Policy': 'same-origin', 'Cache-Control': 'private, max-age=0, no-store, no-cache, must-revalidate, post-check=0, pre-check=0', 'Expires': 'Thu, 01 Jan 1970 00:00:01 GMT', 'Server': 'cloudflare', 'CF-RAY': '7ddd3bf28a16c51d-SEA', 'alt-svc': 'h3=\":443\"; ma=86400'}\n"
     ]
    },
    {
     "name": "stderr",
     "output_type": "stream",
     "text": [
      " 55%|█████████████████████▌                 | 2758/5000 [17:52<03:11, 11.74it/s]"
     ]
    },
    {
     "name": "stdout",
     "output_type": "stream",
     "text": [
      "generated an exception: Rate limit reached for default-gpt-3.5-turbo in organization org-oXRtqZdWlsnmtry277X001Hu on tokens per min. Limit: 90000 / min. Current: 89820 / min. Contact us through our help center at help.openai.com if you continue to have issues.\n",
      "generated an exception: Rate limit reached for default-gpt-3.5-turbo in organization org-oXRtqZdWlsnmtry277X001Hu on tokens per min. Limit: 90000 / min. Current: 89796 / min. Contact us through our help center at help.openai.com if you continue to have issues.\n",
      "generated an exception: Rate limit reached for default-gpt-3.5-turbo in organization org-oXRtqZdWlsnmtry277X001Hu on tokens per min. Limit: 90000 / min. Current: 89687 / min. Contact us through our help center at help.openai.com if you continue to have issues.\n",
      "generated an exception: Rate limit reached for default-gpt-3.5-turbo in organization org-oXRtqZdWlsnmtry277X001Hu on tokens per min. Limit: 90000 / min. Current: 89671 / min. Contact us through our help center at help.openai.com if you continue to have issues.\n",
      "generated an exception: Rate limit reached for default-gpt-3.5-turbo in organization org-oXRtqZdWlsnmtry277X001Hu on tokens per min. Limit: 90000 / min. Current: 89812 / min. Contact us through our help center at help.openai.com if you continue to have issues.\n",
      "generated an exception: Rate limit reached for default-gpt-3.5-turbo in organization org-oXRtqZdWlsnmtry277X001Hu on tokens per min. Limit: 90000 / min. Current: 89804 / min. Contact us through our help center at help.openai.com if you continue to have issues.\n"
     ]
    },
    {
     "name": "stderr",
     "output_type": "stream",
     "text": [
      " 55%|█████████████████████▌                 | 2763/5000 [17:52<02:07, 17.54it/s]"
     ]
    },
    {
     "name": "stdout",
     "output_type": "stream",
     "text": [
      "generated an exception: Rate limit reached for default-gpt-3.5-turbo in organization org-oXRtqZdWlsnmtry277X001Hu on tokens per min. Limit: 90000 / min. Current: 89774 / min. Contact us through our help center at help.openai.com if you continue to have issues.\n",
      "generated an exception: Rate limit reached for default-gpt-3.5-turbo in organization org-oXRtqZdWlsnmtry277X001Hu on tokens per min. Limit: 90000 / min. Current: 89703 / min. Contact us through our help center at help.openai.com if you continue to have issues.\n",
      "generated an exception: Rate limit reached for default-gpt-3.5-turbo in organization org-oXRtqZdWlsnmtry277X001Hu on tokens per min. Limit: 90000 / min. Current: 89962 / min. Contact us through our help center at help.openai.com if you continue to have issues.\n",
      "generated an exception: Rate limit reached for default-gpt-3.5-turbo in organization org-oXRtqZdWlsnmtry277X001Hu on tokens per min. Limit: 90000 / min. Current: 89748 / min. Contact us through our help center at help.openai.com if you continue to have issues.\n",
      "generated an exception: Rate limit reached for default-gpt-3.5-turbo in organization org-oXRtqZdWlsnmtry277X001Hu on tokens per min. Limit: 90000 / min. Current: 89865 / min. Contact us through our help center at help.openai.com if you continue to have issues.\n",
      "generated an exception: Rate limit reached for default-gpt-3.5-turbo in organization org-oXRtqZdWlsnmtry277X001Hu on tokens per min. Limit: 90000 / min. Current: 89830 / min. Contact us through our help center at help.openai.com if you continue to have issues.\n"
     ]
    },
    {
     "name": "stderr",
     "output_type": "stream",
     "text": [
      " 55%|█████████████████████▌                 | 2766/5000 [17:53<01:57, 19.02it/s]"
     ]
    },
    {
     "name": "stdout",
     "output_type": "stream",
     "text": [
      "generated an exception: Rate limit reached for default-gpt-3.5-turbo in organization org-oXRtqZdWlsnmtry277X001Hu on tokens per min. Limit: 90000 / min. Current: 89747 / min. Contact us through our help center at help.openai.com if you continue to have issues.\n",
      "generated an exception: Rate limit reached for default-gpt-3.5-turbo in organization org-oXRtqZdWlsnmtry277X001Hu on tokens per min. Limit: 90000 / min. Current: 89709 / min. Contact us through our help center at help.openai.com if you continue to have issues.\n",
      "generated an exception: Rate limit reached for default-gpt-3.5-turbo in organization org-oXRtqZdWlsnmtry277X001Hu on tokens per min. Limit: 90000 / min. Current: 89781 / min. Contact us through our help center at help.openai.com if you continue to have issues.\n"
     ]
    },
    {
     "name": "stderr",
     "output_type": "stream",
     "text": [
      " 55%|█████████████████████▌                 | 2772/5000 [17:53<02:10, 17.07it/s]"
     ]
    },
    {
     "name": "stdout",
     "output_type": "stream",
     "text": [
      "generated an exception: Rate limit reached for default-gpt-3.5-turbo in organization org-oXRtqZdWlsnmtry277X001Hu on tokens per min. Limit: 90000 / min. Current: 89628 / min. Contact us through our help center at help.openai.com if you continue to have issues.\n",
      "generated an exception: Rate limit reached for default-gpt-3.5-turbo in organization org-oXRtqZdWlsnmtry277X001Hu on tokens per min. Limit: 90000 / min. Current: 89864 / min. Contact us through our help center at help.openai.com if you continue to have issues.\n",
      "generated an exception: Rate limit reached for default-gpt-3.5-turbo in organization org-oXRtqZdWlsnmtry277X001Hu on tokens per min. Limit: 90000 / min. Current: 89729 / min. Contact us through our help center at help.openai.com if you continue to have issues.\n"
     ]
    },
    {
     "name": "stderr",
     "output_type": "stream",
     "text": [
      " 56%|█████████████████████▋                 | 2776/5000 [17:53<02:13, 16.69it/s]"
     ]
    },
    {
     "name": "stdout",
     "output_type": "stream",
     "text": [
      "generated an exception: Rate limit reached for default-gpt-3.5-turbo in organization org-oXRtqZdWlsnmtry277X001Hu on tokens per min. Limit: 90000 / min. Current: 89651 / min. Contact us through our help center at help.openai.com if you continue to have issues.\n",
      "generated an exception: Rate limit reached for default-gpt-3.5-turbo in organization org-oXRtqZdWlsnmtry277X001Hu on tokens per min. Limit: 90000 / min. Current: 89761 / min. Contact us through our help center at help.openai.com if you continue to have issues.\n"
     ]
    },
    {
     "name": "stderr",
     "output_type": "stream",
     "text": [
      " 56%|█████████████████████▋                 | 2778/5000 [17:53<02:22, 15.63it/s]"
     ]
    },
    {
     "name": "stdout",
     "output_type": "stream",
     "text": [
      "generated an exception: Rate limit reached for default-gpt-3.5-turbo in organization org-oXRtqZdWlsnmtry277X001Hu on tokens per min. Limit: 90000 / min. Current: 89628 / min. Contact us through our help center at help.openai.com if you continue to have issues.\n",
      "generated an exception: Rate limit reached for default-gpt-3.5-turbo in organization org-oXRtqZdWlsnmtry277X001Hu on tokens per min. Limit: 90000 / min. Current: 89877 / min. Contact us through our help center at help.openai.com if you continue to have issues.\n",
      "generated an exception: Rate limit reached for default-gpt-3.5-turbo in organization org-oXRtqZdWlsnmtry277X001Hu on tokens per min. Limit: 90000 / min. Current: 89764 / min. Contact us through our help center at help.openai.com if you continue to have issues.\n"
     ]
    },
    {
     "name": "stderr",
     "output_type": "stream",
     "text": [
      " 56%|█████████████████████▋                 | 2784/5000 [17:54<02:03, 17.94it/s]"
     ]
    },
    {
     "name": "stdout",
     "output_type": "stream",
     "text": [
      "generated an exception: Rate limit reached for default-gpt-3.5-turbo in organization org-oXRtqZdWlsnmtry277X001Hu on tokens per min. Limit: 90000 / min. Current: 89700 / min. Contact us through our help center at help.openai.com if you continue to have issues.\n",
      "generated an exception: Rate limit reached for default-gpt-3.5-turbo in organization org-oXRtqZdWlsnmtry277X001Hu on tokens per min. Limit: 90000 / min. Current: 89657 / min. Contact us through our help center at help.openai.com if you continue to have issues.\n",
      "generated an exception: Rate limit reached for default-gpt-3.5-turbo in organization org-oXRtqZdWlsnmtry277X001Hu on tokens per min. Limit: 90000 / min. Current: 89571 / min. Contact us through our help center at help.openai.com if you continue to have issues.\n",
      "generated an exception: Rate limit reached for default-gpt-3.5-turbo in organization org-oXRtqZdWlsnmtry277X001Hu on tokens per min. Limit: 90000 / min. Current: 89540 / min. Contact us through our help center at help.openai.com if you continue to have issues.\n",
      "generated an exception: Rate limit reached for default-gpt-3.5-turbo in organization org-oXRtqZdWlsnmtry277X001Hu on tokens per min. Limit: 90000 / min. Current: 89422 / min. Contact us through our help center at help.openai.com if you continue to have issues.\n",
      "generated an exception: Rate limit reached for default-gpt-3.5-turbo in organization org-oXRtqZdWlsnmtry277X001Hu on tokens per min. Limit: 90000 / min. Current: 89412 / min. Contact us through our help center at help.openai.com if you continue to have issues.\n"
     ]
    },
    {
     "name": "stderr",
     "output_type": "stream",
     "text": [
      " 56%|█████████████████████▊                 | 2789/5000 [17:54<01:50, 20.05it/s]"
     ]
    },
    {
     "name": "stdout",
     "output_type": "stream",
     "text": [
      "generated an exception: Rate limit reached for default-gpt-3.5-turbo in organization org-oXRtqZdWlsnmtry277X001Hu on tokens per min. Limit: 90000 / min. Current: 89312 / min. Contact us through our help center at help.openai.com if you continue to have issues.\n",
      "generated an exception: Rate limit reached for default-gpt-3.5-turbo in organization org-oXRtqZdWlsnmtry277X001Hu on tokens per min. Limit: 90000 / min. Current: 89308 / min. Contact us through our help center at help.openai.com if you continue to have issues.\n",
      "generated an exception: Rate limit reached for default-gpt-3.5-turbo in organization org-oXRtqZdWlsnmtry277X001Hu on tokens per min. Limit: 90000 / min. Current: 89572 / min. Contact us through our help center at help.openai.com if you continue to have issues.\n"
     ]
    },
    {
     "name": "stderr",
     "output_type": "stream",
     "text": [
      " 56%|█████████████████████▊                 | 2793/5000 [17:54<01:45, 20.99it/s]"
     ]
    },
    {
     "name": "stdout",
     "output_type": "stream",
     "text": [
      "generated an exception: Rate limit reached for default-gpt-3.5-turbo in organization org-oXRtqZdWlsnmtry277X001Hu on tokens per min. Limit: 90000 / min. Current: 89462 / min. Contact us through our help center at help.openai.com if you continue to have issues.\n",
      "generated an exception: Rate limit reached for default-gpt-3.5-turbo in organization org-oXRtqZdWlsnmtry277X001Hu on tokens per min. Limit: 90000 / min. Current: 89460 / min. Contact us through our help center at help.openai.com if you continue to have issues.\n",
      "generated an exception: Rate limit reached for default-gpt-3.5-turbo in organization org-oXRtqZdWlsnmtry277X001Hu on tokens per min. Limit: 90000 / min. Current: 89525 / min. Contact us through our help center at help.openai.com if you continue to have issues.\n",
      "generated an exception: Rate limit reached for default-gpt-3.5-turbo in organization org-oXRtqZdWlsnmtry277X001Hu on tokens per min. Limit: 90000 / min. Current: 89830 / min. Contact us through our help center at help.openai.com if you continue to have issues.\n"
     ]
    },
    {
     "name": "stderr",
     "output_type": "stream",
     "text": [
      " 56%|█████████████████████▊                 | 2799/5000 [17:54<02:09, 17.00it/s]"
     ]
    },
    {
     "name": "stdout",
     "output_type": "stream",
     "text": [
      "generated an exception: Rate limit reached for default-gpt-3.5-turbo in organization org-oXRtqZdWlsnmtry277X001Hu on tokens per min. Limit: 90000 / min. Current: 89560 / min. Contact us through our help center at help.openai.com if you continue to have issues.\n",
      "generated an exception: Rate limit reached for default-gpt-3.5-turbo in organization org-oXRtqZdWlsnmtry277X001Hu on tokens per min. Limit: 90000 / min. Current: 89535 / min. Contact us through our help center at help.openai.com if you continue to have issues.\n",
      "generated an exception: Rate limit reached for default-gpt-3.5-turbo in organization org-oXRtqZdWlsnmtry277X001Hu on tokens per min. Limit: 90000 / min. Current: 89420 / min. Contact us through our help center at help.openai.com if you continue to have issues.\n",
      "generated an exception: Rate limit reached for default-gpt-3.5-turbo in organization org-oXRtqZdWlsnmtry277X001Hu on tokens per min. Limit: 90000 / min. Current: 89637 / min. Contact us through our help center at help.openai.com if you continue to have issues.\n"
     ]
    },
    {
     "name": "stderr",
     "output_type": "stream",
     "text": [
      " 56%|█████████████████████▊                 | 2801/5000 [17:55<04:15,  8.62it/s]"
     ]
    },
    {
     "name": "stdout",
     "output_type": "stream",
     "text": [
      "generated an exception: Rate limit reached for default-gpt-3.5-turbo in organization org-oXRtqZdWlsnmtry277X001Hu on tokens per min. Limit: 90000 / min. Current: 89258 / min. Contact us through our help center at help.openai.com if you continue to have issues.\n"
     ]
    },
    {
     "name": "stderr",
     "output_type": "stream",
     "text": [
      " 56%|█████████████████████▉                 | 2805/5000 [17:56<04:21,  8.39it/s]"
     ]
    },
    {
     "name": "stdout",
     "output_type": "stream",
     "text": [
      "generated an exception: Rate limit reached for default-gpt-3.5-turbo in organization org-oXRtqZdWlsnmtry277X001Hu on tokens per min. Limit: 90000 / min. Current: 89650 / min. Contact us through our help center at help.openai.com if you continue to have issues.\n"
     ]
    },
    {
     "name": "stderr",
     "output_type": "stream",
     "text": [
      " 56%|█████████████████████▉                 | 2807/5000 [17:56<04:01,  9.10it/s]"
     ]
    },
    {
     "name": "stdout",
     "output_type": "stream",
     "text": [
      "generated an exception: Rate limit reached for default-gpt-3.5-turbo in organization org-oXRtqZdWlsnmtry277X001Hu on tokens per min. Limit: 90000 / min. Current: 89568 / min. Contact us through our help center at help.openai.com if you continue to have issues.\n"
     ]
    },
    {
     "name": "stderr",
     "output_type": "stream",
     "text": [
      " 56%|█████████████████████▉                 | 2813/5000 [17:58<06:58,  5.23it/s]"
     ]
    },
    {
     "name": "stdout",
     "output_type": "stream",
     "text": [
      "generated an exception: Rate limit reached for default-gpt-3.5-turbo in organization org-oXRtqZdWlsnmtry277X001Hu on tokens per min. Limit: 90000 / min. Current: 89330 / min. Contact us through our help center at help.openai.com if you continue to have issues.\n",
      "generated an exception: Rate limit reached for default-gpt-3.5-turbo in organization org-oXRtqZdWlsnmtry277X001Hu on tokens per min. Limit: 90000 / min. Current: 88994 / min. Contact us through our help center at help.openai.com if you continue to have issues.\n"
     ]
    },
    {
     "name": "stderr",
     "output_type": "stream",
     "text": [
      " 56%|█████████████████████▉                 | 2815/5000 [17:58<06:50,  5.32it/s]"
     ]
    },
    {
     "name": "stdout",
     "output_type": "stream",
     "text": [
      "generated an exception: Rate limit reached for default-gpt-3.5-turbo in organization org-oXRtqZdWlsnmtry277X001Hu on tokens per min. Limit: 90000 / min. Current: 89282 / min. Contact us through our help center at help.openai.com if you continue to have issues.\n"
     ]
    },
    {
     "name": "stderr",
     "output_type": "stream",
     "text": [
      " 56%|█████████████████████▉                 | 2819/5000 [17:59<06:26,  5.64it/s]"
     ]
    },
    {
     "name": "stdout",
     "output_type": "stream",
     "text": [
      "generated an exception: Rate limit reached for default-gpt-3.5-turbo in organization org-oXRtqZdWlsnmtry277X001Hu on tokens per min. Limit: 90000 / min. Current: 89189 / min. Contact us through our help center at help.openai.com if you continue to have issues.\n"
     ]
    },
    {
     "name": "stderr",
     "output_type": "stream",
     "text": [
      " 57%|██████████████████████                 | 2826/5000 [18:00<06:33,  5.53it/s]"
     ]
    },
    {
     "name": "stdout",
     "output_type": "stream",
     "text": [
      "generated an exception: Rate limit reached for default-gpt-3.5-turbo in organization org-oXRtqZdWlsnmtry277X001Hu on tokens per min. Limit: 90000 / min. Current: 88665 / min. Contact us through our help center at help.openai.com if you continue to have issues.\n"
     ]
    },
    {
     "name": "stderr",
     "output_type": "stream",
     "text": [
      " 57%|██████████████████████                 | 2835/5000 [18:01<02:43, 13.24it/s]"
     ]
    },
    {
     "name": "stdout",
     "output_type": "stream",
     "text": [
      "generated an exception: Rate limit reached for default-gpt-3.5-turbo in organization org-oXRtqZdWlsnmtry277X001Hu on tokens per min. Limit: 90000 / min. Current: 89933 / min. Contact us through our help center at help.openai.com if you continue to have issues.\n",
      "generated an exception: Rate limit reached for default-gpt-3.5-turbo in organization org-oXRtqZdWlsnmtry277X001Hu on tokens per min. Limit: 90000 / min. Current: 89928 / min. Contact us through our help center at help.openai.com if you continue to have issues.\n",
      "generated an exception: Rate limit reached for default-gpt-3.5-turbo in organization org-oXRtqZdWlsnmtry277X001Hu on tokens per min. Limit: 90000 / min. Current: 89929 / min. Contact us through our help center at help.openai.com if you continue to have issues.\n",
      "generated an exception: Rate limit reached for default-gpt-3.5-turbo in organization org-oXRtqZdWlsnmtry277X001Hu on tokens per min. Limit: 90000 / min. Current: 89814 / min. Contact us through our help center at help.openai.com if you continue to have issues.\n",
      "generated an exception: Rate limit reached for default-gpt-3.5-turbo in organization org-oXRtqZdWlsnmtry277X001Hu on tokens per min. Limit: 90000 / min. Current: 89736 / min. Contact us through our help center at help.openai.com if you continue to have issues.\n"
     ]
    },
    {
     "name": "stderr",
     "output_type": "stream",
     "text": [
      " 57%|██████████████████████▏                | 2839/5000 [18:01<02:40, 13.49it/s]"
     ]
    },
    {
     "name": "stdout",
     "output_type": "stream",
     "text": [
      "generated an exception: Rate limit reached for default-gpt-3.5-turbo in organization org-oXRtqZdWlsnmtry277X001Hu on tokens per min. Limit: 90000 / min. Current: 89615 / min. Contact us through our help center at help.openai.com if you continue to have issues.\n",
      "generated an exception: Rate limit reached for default-gpt-3.5-turbo in organization org-oXRtqZdWlsnmtry277X001Hu on tokens per min. Limit: 90000 / min. Current: 89506 / min. Contact us through our help center at help.openai.com if you continue to have issues.\n",
      "generated an exception: Rate limit reached for default-gpt-3.5-turbo in organization org-oXRtqZdWlsnmtry277X001Hu on tokens per min. Limit: 90000 / min. Current: 89386 / min. Contact us through our help center at help.openai.com if you continue to have issues.\n"
     ]
    },
    {
     "name": "stderr",
     "output_type": "stream",
     "text": [
      " 57%|██████████████████████▏                | 2846/5000 [18:02<01:50, 19.55it/s]"
     ]
    },
    {
     "name": "stdout",
     "output_type": "stream",
     "text": [
      "generated an exception: Rate limit reached for default-gpt-3.5-turbo in organization org-oXRtqZdWlsnmtry277X001Hu on tokens per min. Limit: 90000 / min. Current: 89282 / min. Contact us through our help center at help.openai.com if you continue to have issues.\n",
      "generated an exception: Rate limit reached for default-gpt-3.5-turbo in organization org-oXRtqZdWlsnmtry277X001Hu on tokens per min. Limit: 90000 / min. Current: 89129 / min. Contact us through our help center at help.openai.com if you continue to have issues.\n",
      "generated an exception: Rate limit reached for default-gpt-3.5-turbo in organization org-oXRtqZdWlsnmtry277X001Hu on tokens per min. Limit: 90000 / min. Current: 89128 / min. Contact us through our help center at help.openai.com if you continue to have issues.\n",
      "generated an exception: Rate limit reached for default-gpt-3.5-turbo in organization org-oXRtqZdWlsnmtry277X001Hu on tokens per min. Limit: 90000 / min. Current: 89072 / min. Contact us through our help center at help.openai.com if you continue to have issues.\n",
      "generated an exception: Rate limit reached for default-gpt-3.5-turbo in organization org-oXRtqZdWlsnmtry277X001Hu on tokens per min. Limit: 90000 / min. Current: 89062 / min. Contact us through our help center at help.openai.com if you continue to have issues.\n",
      "generated an exception: Rate limit reached for default-gpt-3.5-turbo in organization org-oXRtqZdWlsnmtry277X001Hu on tokens per min. Limit: 90000 / min. Current: 89001 / min. Contact us through our help center at help.openai.com if you continue to have issues.\n",
      "generated an exception: Rate limit reached for default-gpt-3.5-turbo in organization org-oXRtqZdWlsnmtry277X001Hu on tokens per min. Limit: 90000 / min. Current: 88956 / min. Contact us through our help center at help.openai.com if you continue to have issues.\n"
     ]
    },
    {
     "name": "stderr",
     "output_type": "stream",
     "text": [
      " 57%|██████████████████████▏                | 2849/5000 [18:02<01:47, 20.05it/s]"
     ]
    },
    {
     "name": "stdout",
     "output_type": "stream",
     "text": [
      "generated an exception: Rate limit reached for default-gpt-3.5-turbo in organization org-oXRtqZdWlsnmtry277X001Hu on tokens per min. Limit: 90000 / min. Current: 89739 / min. Contact us through our help center at help.openai.com if you continue to have issues.\n",
      "generated an exception: Rate limit reached for default-gpt-3.5-turbo in organization org-oXRtqZdWlsnmtry277X001Hu on tokens per min. Limit: 90000 / min. Current: 89625 / min. Contact us through our help center at help.openai.com if you continue to have issues.\n",
      "generated an exception: Rate limit reached for default-gpt-3.5-turbo in organization org-oXRtqZdWlsnmtry277X001Hu on tokens per min. Limit: 90000 / min. Current: 89597 / min. Contact us through our help center at help.openai.com if you continue to have issues.\n"
     ]
    },
    {
     "name": "stderr",
     "output_type": "stream",
     "text": [
      " 57%|██████████████████████▏                | 2852/5000 [18:02<02:05, 17.14it/s]"
     ]
    },
    {
     "name": "stdout",
     "output_type": "stream",
     "text": [
      "generated an exception: Rate limit reached for default-gpt-3.5-turbo in organization org-oXRtqZdWlsnmtry277X001Hu on tokens per min. Limit: 90000 / min. Current: 89894 / min. Contact us through our help center at help.openai.com if you continue to have issues.\n",
      "generated an exception: Rate limit reached for default-gpt-3.5-turbo in organization org-oXRtqZdWlsnmtry277X001Hu on tokens per min. Limit: 90000 / min. Current: 89698 / min. Contact us through our help center at help.openai.com if you continue to have issues.\n"
     ]
    },
    {
     "name": "stderr",
     "output_type": "stream",
     "text": [
      " 57%|██████████████████████▎                | 2854/5000 [18:02<02:33, 14.01it/s]"
     ]
    },
    {
     "name": "stdout",
     "output_type": "stream",
     "text": [
      "generated an exception: Rate limit reached for default-gpt-3.5-turbo in organization org-oXRtqZdWlsnmtry277X001Hu on tokens per min. Limit: 90000 / min. Current: 89967 / min. Contact us through our help center at help.openai.com if you continue to have issues.\n",
      "generated an exception: Rate limit reached for default-gpt-3.5-turbo in organization org-oXRtqZdWlsnmtry277X001Hu on tokens per min. Limit: 90000 / min. Current: 89833 / min. Contact us through our help center at help.openai.com if you continue to have issues.\n"
     ]
    },
    {
     "name": "stderr",
     "output_type": "stream",
     "text": [
      " 57%|██████████████████████▎                | 2856/5000 [18:03<03:55,  9.11it/s]"
     ]
    },
    {
     "name": "stdout",
     "output_type": "stream",
     "text": [
      "generated an exception: Rate limit reached for default-gpt-3.5-turbo in organization org-oXRtqZdWlsnmtry277X001Hu on tokens per min. Limit: 90000 / min. Current: 89622 / min. Contact us through our help center at help.openai.com if you continue to have issues.\n"
     ]
    },
    {
     "name": "stderr",
     "output_type": "stream",
     "text": [
      " 57%|██████████████████████▍                | 2869/5000 [18:08<10:45,  3.30it/s]"
     ]
    },
    {
     "name": "stdout",
     "output_type": "stream",
     "text": [
      "generated an exception: Rate limit reached for default-gpt-3.5-turbo in organization org-oXRtqZdWlsnmtry277X001Hu on tokens per min. Limit: 90000 / min. Current: 89696 / min. Contact us through our help center at help.openai.com if you continue to have issues.\n",
      "generated an exception: Rate limit reached for default-gpt-3.5-turbo in organization org-oXRtqZdWlsnmtry277X001Hu on tokens per min. Limit: 90000 / min. Current: 89581 / min. Contact us through our help center at help.openai.com if you continue to have issues.\n"
     ]
    },
    {
     "name": "stderr",
     "output_type": "stream",
     "text": [
      " 57%|██████████████████████▍                | 2871/5000 [18:09<09:41,  3.66it/s]"
     ]
    },
    {
     "name": "stdout",
     "output_type": "stream",
     "text": [
      "generated an exception: Rate limit reached for default-gpt-3.5-turbo in organization org-oXRtqZdWlsnmtry277X001Hu on tokens per min. Limit: 90000 / min. Current: 88823 / min. Contact us through our help center at help.openai.com if you continue to have issues.\n"
     ]
    },
    {
     "name": "stderr",
     "output_type": "stream",
     "text": [
      " 58%|██████████████████████▍                | 2877/5000 [18:10<05:34,  6.34it/s]"
     ]
    },
    {
     "name": "stdout",
     "output_type": "stream",
     "text": [
      "generated an exception: Rate limit reached for default-gpt-3.5-turbo in organization org-oXRtqZdWlsnmtry277X001Hu on tokens per min. Limit: 90000 / min. Current: 89070 / min. Contact us through our help center at help.openai.com if you continue to have issues.\n"
     ]
    },
    {
     "name": "stderr",
     "output_type": "stream",
     "text": [
      " 58%|██████████████████████▍                | 2882/5000 [18:12<08:37,  4.10it/s]"
     ]
    },
    {
     "name": "stdout",
     "output_type": "stream",
     "text": [
      "generated an exception: Rate limit reached for default-gpt-3.5-turbo in organization org-oXRtqZdWlsnmtry277X001Hu on tokens per min. Limit: 90000 / min. Current: 88066 / min. Contact us through our help center at help.openai.com if you continue to have issues.\n"
     ]
    },
    {
     "name": "stderr",
     "output_type": "stream",
     "text": [
      " 58%|██████████████████████▌                | 2886/5000 [18:12<05:26,  6.48it/s]"
     ]
    },
    {
     "name": "stdout",
     "output_type": "stream",
     "text": [
      "generated an exception: Rate limit reached for default-gpt-3.5-turbo in organization org-oXRtqZdWlsnmtry277X001Hu on tokens per min. Limit: 90000 / min. Current: 89700 / min. Contact us through our help center at help.openai.com if you continue to have issues.\n",
      "generated an exception: Rate limit reached for default-gpt-3.5-turbo in organization org-oXRtqZdWlsnmtry277X001Hu on tokens per min. Limit: 90000 / min. Current: 89581 / min. Contact us through our help center at help.openai.com if you continue to have issues.\n",
      "generated an exception: Rate limit reached for default-gpt-3.5-turbo in organization org-oXRtqZdWlsnmtry277X001Hu on tokens per min. Limit: 90000 / min. Current: 89461 / min. Contact us through our help center at help.openai.com if you continue to have issues.\n"
     ]
    },
    {
     "name": "stderr",
     "output_type": "stream",
     "text": [
      " 58%|██████████████████████▌                | 2889/5000 [18:13<06:07,  5.74it/s]"
     ]
    },
    {
     "name": "stdout",
     "output_type": "stream",
     "text": [
      "generated an exception: Rate limit reached for default-gpt-3.5-turbo in organization org-oXRtqZdWlsnmtry277X001Hu on tokens per min. Limit: 90000 / min. Current: 89290 / min. Contact us through our help center at help.openai.com if you continue to have issues.\n",
      "generated an exception: Rate limit reached for default-gpt-3.5-turbo in organization org-oXRtqZdWlsnmtry277X001Hu on tokens per min. Limit: 90000 / min. Current: 89174 / min. Contact us through our help center at help.openai.com if you continue to have issues.\n"
     ]
    },
    {
     "name": "stderr",
     "output_type": "stream",
     "text": [
      " 58%|██████████████████████▌                | 2892/5000 [18:13<06:52,  5.11it/s]"
     ]
    },
    {
     "name": "stdout",
     "output_type": "stream",
     "text": [
      "generated an exception: Rate limit reached for default-gpt-3.5-turbo in organization org-oXRtqZdWlsnmtry277X001Hu on tokens per min. Limit: 90000 / min. Current: 89576 / min. Contact us through our help center at help.openai.com if you continue to have issues.\n"
     ]
    },
    {
     "name": "stderr",
     "output_type": "stream",
     "text": [
      " 58%|██████████████████████▌                | 2899/5000 [18:16<12:08,  2.88it/s]"
     ]
    },
    {
     "name": "stdout",
     "output_type": "stream",
     "text": [
      "generated an exception: Rate limit reached for default-gpt-3.5-turbo in organization org-oXRtqZdWlsnmtry277X001Hu on tokens per min. Limit: 90000 / min. Current: 88440 / min. Contact us through our help center at help.openai.com if you continue to have issues.\n"
     ]
    },
    {
     "name": "stderr",
     "output_type": "stream",
     "text": [
      " 58%|██████████████████████▋                | 2903/5000 [18:17<10:23,  3.36it/s]"
     ]
    },
    {
     "name": "stdout",
     "output_type": "stream",
     "text": [
      "generated an exception: Rate limit reached for default-gpt-3.5-turbo in organization org-oXRtqZdWlsnmtry277X001Hu on tokens per min. Limit: 90000 / min. Current: 89330 / min. Contact us through our help center at help.openai.com if you continue to have issues.\n"
     ]
    },
    {
     "name": "stderr",
     "output_type": "stream",
     "text": [
      " 58%|██████████████████████▋                | 2907/5000 [18:18<08:40,  4.02it/s]"
     ]
    },
    {
     "name": "stdout",
     "output_type": "stream",
     "text": [
      "generated an exception: Rate limit reached for default-gpt-3.5-turbo in organization org-oXRtqZdWlsnmtry277X001Hu on tokens per min. Limit: 90000 / min. Current: 89068 / min. Contact us through our help center at help.openai.com if you continue to have issues.\n"
     ]
    },
    {
     "name": "stderr",
     "output_type": "stream",
     "text": [
      " 58%|██████████████████████▋                | 2909/5000 [18:18<07:42,  4.52it/s]"
     ]
    },
    {
     "name": "stdout",
     "output_type": "stream",
     "text": [
      "generated an exception: Rate limit reached for default-gpt-3.5-turbo in organization org-oXRtqZdWlsnmtry277X001Hu on tokens per min. Limit: 90000 / min. Current: 88905 / min. Contact us through our help center at help.openai.com if you continue to have issues.\n"
     ]
    },
    {
     "name": "stderr",
     "output_type": "stream",
     "text": [
      " 58%|██████████████████████▋                | 2914/5000 [18:20<10:26,  3.33it/s]"
     ]
    },
    {
     "name": "stdout",
     "output_type": "stream",
     "text": [
      "generated an exception: Rate limit reached for default-gpt-3.5-turbo in organization org-oXRtqZdWlsnmtry277X001Hu on tokens per min. Limit: 90000 / min. Current: 88806 / min. Contact us through our help center at help.openai.com if you continue to have issues.\n"
     ]
    },
    {
     "name": "stderr",
     "output_type": "stream",
     "text": [
      " 59%|██████████████████████▊                | 2928/5000 [18:24<04:45,  7.25it/s]"
     ]
    },
    {
     "name": "stdout",
     "output_type": "stream",
     "text": [
      "generated an exception: Rate limit reached for default-gpt-3.5-turbo in organization org-oXRtqZdWlsnmtry277X001Hu on tokens per min. Limit: 90000 / min. Current: 88845 / min. Contact us through our help center at help.openai.com if you continue to have issues.\n",
      "generated an exception: Rate limit reached for default-gpt-3.5-turbo in organization org-oXRtqZdWlsnmtry277X001Hu on tokens per min. Limit: 90000 / min. Current: 89281 / min. Contact us through our help center at help.openai.com if you continue to have issues.\n",
      "generated an exception: Rate limit reached for default-gpt-3.5-turbo in organization org-oXRtqZdWlsnmtry277X001Hu on tokens per min. Limit: 90000 / min. Current: 89232 / min. Contact us through our help center at help.openai.com if you continue to have issues.\n",
      "generated an exception: Rate limit reached for default-gpt-3.5-turbo in organization org-oXRtqZdWlsnmtry277X001Hu on tokens per min. Limit: 90000 / min. Current: 89550 / min. Contact us through our help center at help.openai.com if you continue to have issues.\n"
     ]
    },
    {
     "name": "stderr",
     "output_type": "stream",
     "text": [
      " 59%|██████████████████████▊                | 2930/5000 [18:24<06:35,  5.24it/s]"
     ]
    },
    {
     "name": "stdout",
     "output_type": "stream",
     "text": [
      "generated an exception: Rate limit reached for default-gpt-3.5-turbo in organization org-oXRtqZdWlsnmtry277X001Hu on tokens per min. Limit: 90000 / min. Current: 89348 / min. Contact us through our help center at help.openai.com if you continue to have issues.\n"
     ]
    },
    {
     "name": "stderr",
     "output_type": "stream",
     "text": [
      " 59%|██████████████████████▉                | 2934/5000 [18:25<07:34,  4.54it/s]"
     ]
    },
    {
     "name": "stdout",
     "output_type": "stream",
     "text": [
      "generated an exception: Rate limit reached for default-gpt-3.5-turbo in organization org-oXRtqZdWlsnmtry277X001Hu on tokens per min. Limit: 90000 / min. Current: 89820 / min. Contact us through our help center at help.openai.com if you continue to have issues.\n"
     ]
    },
    {
     "name": "stderr",
     "output_type": "stream",
     "text": [
      " 59%|██████████████████████▉                | 2937/5000 [18:26<05:32,  6.20it/s]"
     ]
    },
    {
     "name": "stdout",
     "output_type": "stream",
     "text": [
      "generated an exception: Rate limit reached for default-gpt-3.5-turbo in organization org-oXRtqZdWlsnmtry277X001Hu on tokens per min. Limit: 90000 / min. Current: 89706 / min. Contact us through our help center at help.openai.com if you continue to have issues.\n"
     ]
    },
    {
     "name": "stderr",
     "output_type": "stream",
     "text": [
      " 59%|██████████████████████▉                | 2941/5000 [18:26<04:28,  7.66it/s]"
     ]
    },
    {
     "name": "stdout",
     "output_type": "stream",
     "text": [
      "generated an exception: Rate limit reached for default-gpt-3.5-turbo in organization org-oXRtqZdWlsnmtry277X001Hu on tokens per min. Limit: 90000 / min. Current: 89762 / min. Contact us through our help center at help.openai.com if you continue to have issues.\n",
      "generated an exception: Rate limit reached for default-gpt-3.5-turbo in organization org-oXRtqZdWlsnmtry277X001Hu on tokens per min. Limit: 90000 / min. Current: 89559 / min. Contact us through our help center at help.openai.com if you continue to have issues.\n",
      "generated an exception: Rate limit reached for default-gpt-3.5-turbo in organization org-oXRtqZdWlsnmtry277X001Hu on tokens per min. Limit: 90000 / min. Current: 89484 / min. Contact us through our help center at help.openai.com if you continue to have issues.\n"
     ]
    },
    {
     "name": "stderr",
     "output_type": "stream",
     "text": [
      " 59%|██████████████████████▉                | 2945/5000 [18:27<05:51,  5.85it/s]"
     ]
    },
    {
     "name": "stdout",
     "output_type": "stream",
     "text": [
      "generated an exception: Rate limit reached for default-gpt-3.5-turbo in organization org-oXRtqZdWlsnmtry277X001Hu on tokens per min. Limit: 90000 / min. Current: 89221 / min. Contact us through our help center at help.openai.com if you continue to have issues.\n",
      "generated an exception: Rate limit reached for default-gpt-3.5-turbo in organization org-oXRtqZdWlsnmtry277X001Hu on tokens per min. Limit: 90000 / min. Current: 89097 / min. Contact us through our help center at help.openai.com if you continue to have issues.\n"
     ]
    },
    {
     "name": "stderr",
     "output_type": "stream",
     "text": [
      " 59%|███████████████████████                | 2951/5000 [18:31<16:32,  2.07it/s]"
     ]
    },
    {
     "name": "stdout",
     "output_type": "stream",
     "text": [
      "generated an exception: Rate limit reached for default-gpt-3.5-turbo in organization org-oXRtqZdWlsnmtry277X001Hu on tokens per min. Limit: 90000 / min. Current: 87846 / min. Contact us through our help center at help.openai.com if you continue to have issues.\n"
     ]
    },
    {
     "name": "stderr",
     "output_type": "stream",
     "text": [
      " 59%|███████████████████████                | 2959/5000 [18:32<07:44,  4.39it/s]"
     ]
    },
    {
     "name": "stdout",
     "output_type": "stream",
     "text": [
      "generated an exception: Rate limit reached for default-gpt-3.5-turbo in organization org-oXRtqZdWlsnmtry277X001Hu on tokens per min. Limit: 90000 / min. Current: 89551 / min. Contact us through our help center at help.openai.com if you continue to have issues.\n",
      "generated an exception: Rate limit reached for default-gpt-3.5-turbo in organization org-oXRtqZdWlsnmtry277X001Hu on tokens per min. Limit: 90000 / min. Current: 89319 / min. Contact us through our help center at help.openai.com if you continue to have issues.\n"
     ]
    },
    {
     "name": "stderr",
     "output_type": "stream",
     "text": [
      " 59%|███████████████████████                | 2962/5000 [18:33<05:37,  6.03it/s]"
     ]
    },
    {
     "name": "stdout",
     "output_type": "stream",
     "text": [
      "generated an exception: Rate limit reached for default-gpt-3.5-turbo in organization org-oXRtqZdWlsnmtry277X001Hu on tokens per min. Limit: 90000 / min. Current: 89593 / min. Contact us through our help center at help.openai.com if you continue to have issues.\n",
      "generated an exception: Rate limit reached for default-gpt-3.5-turbo in organization org-oXRtqZdWlsnmtry277X001Hu on tokens per min. Limit: 90000 / min. Current: 89482 / min. Contact us through our help center at help.openai.com if you continue to have issues.\n",
      "generated an exception: Rate limit reached for default-gpt-3.5-turbo in organization org-oXRtqZdWlsnmtry277X001Hu on tokens per min. Limit: 90000 / min. Current: 89367 / min. Contact us through our help center at help.openai.com if you continue to have issues.\n"
     ]
    },
    {
     "name": "stderr",
     "output_type": "stream",
     "text": [
      " 59%|███████████████████████▏               | 2969/5000 [18:34<05:10,  6.55it/s]"
     ]
    },
    {
     "name": "stdout",
     "output_type": "stream",
     "text": [
      "generated an exception: Rate limit reached for default-gpt-3.5-turbo in organization org-oXRtqZdWlsnmtry277X001Hu on tokens per min. Limit: 90000 / min. Current: 89182 / min. Contact us through our help center at help.openai.com if you continue to have issues.\n"
     ]
    },
    {
     "name": "stderr",
     "output_type": "stream",
     "text": [
      " 59%|███████████████████████▏               | 2971/5000 [18:34<05:37,  6.02it/s]"
     ]
    },
    {
     "name": "stdout",
     "output_type": "stream",
     "text": [
      "generated an exception: Rate limit reached for default-gpt-3.5-turbo in organization org-oXRtqZdWlsnmtry277X001Hu on tokens per min. Limit: 90000 / min. Current: 88964 / min. Contact us through our help center at help.openai.com if you continue to have issues.\n",
      "generated an exception: Rate limit reached for default-gpt-3.5-turbo in organization org-oXRtqZdWlsnmtry277X001Hu on tokens per min. Limit: 90000 / min. Current: 89100 / min. Contact us through our help center at help.openai.com if you continue to have issues.\n"
     ]
    },
    {
     "name": "stderr",
     "output_type": "stream",
     "text": [
      " 60%|███████████████████████▎               | 2982/5000 [18:37<05:31,  6.09it/s]"
     ]
    },
    {
     "name": "stdout",
     "output_type": "stream",
     "text": [
      "generated an exception: Rate limit reached for default-gpt-3.5-turbo in organization org-oXRtqZdWlsnmtry277X001Hu on tokens per min. Limit: 90000 / min. Current: 89956 / min. Contact us through our help center at help.openai.com if you continue to have issues.\n",
      "generated an exception: Rate limit reached for default-gpt-3.5-turbo in organization org-oXRtqZdWlsnmtry277X001Hu on tokens per min. Limit: 90000 / min. Current: 89795 / min. Contact us through our help center at help.openai.com if you continue to have issues.\n",
      "generated an exception: Rate limit reached for default-gpt-3.5-turbo in organization org-oXRtqZdWlsnmtry277X001Hu on tokens per min. Limit: 90000 / min. Current: 89652 / min. Contact us through our help center at help.openai.com if you continue to have issues.\n",
      "generated an exception: Rate limit reached for default-gpt-3.5-turbo in organization org-oXRtqZdWlsnmtry277X001Hu on tokens per min. Limit: 90000 / min. Current: 89537 / min. Contact us through our help center at help.openai.com if you continue to have issues.\n",
      "generated an exception: Rate limit reached for default-gpt-3.5-turbo in organization org-oXRtqZdWlsnmtry277X001Hu on tokens per min. Limit: 90000 / min. Current: 89517 / min. Contact us through our help center at help.openai.com if you continue to have issues.\n"
     ]
    },
    {
     "name": "stderr",
     "output_type": "stream",
     "text": [
      " 60%|███████████████████████▎               | 2990/5000 [18:38<03:24,  9.82it/s]"
     ]
    },
    {
     "name": "stdout",
     "output_type": "stream",
     "text": [
      "generated an exception: Rate limit reached for default-gpt-3.5-turbo in organization org-oXRtqZdWlsnmtry277X001Hu on tokens per min. Limit: 90000 / min. Current: 89309 / min. Contact us through our help center at help.openai.com if you continue to have issues.\n",
      "generated an exception: Rate limit reached for default-gpt-3.5-turbo in organization org-oXRtqZdWlsnmtry277X001Hu on tokens per min. Limit: 90000 / min. Current: 89251 / min. Contact us through our help center at help.openai.com if you continue to have issues.\n",
      "generated an exception: Rate limit reached for default-gpt-3.5-turbo in organization org-oXRtqZdWlsnmtry277X001Hu on tokens per min. Limit: 90000 / min. Current: 89717 / min. Contact us through our help center at help.openai.com if you continue to have issues.\n"
     ]
    },
    {
     "name": "stderr",
     "output_type": "stream",
     "text": [
      " 60%|███████████████████████▎               | 2992/5000 [18:38<04:18,  7.76it/s]"
     ]
    },
    {
     "name": "stdout",
     "output_type": "stream",
     "text": [
      "generated an exception: Rate limit reached for default-gpt-3.5-turbo in organization org-oXRtqZdWlsnmtry277X001Hu on tokens per min. Limit: 90000 / min. Current: 89410 / min. Contact us through our help center at help.openai.com if you continue to have issues.\n",
      "generated an exception: Rate limit reached for default-gpt-3.5-turbo in organization org-oXRtqZdWlsnmtry277X001Hu on tokens per min. Limit: 90000 / min. Current: 89354 / min. Contact us through our help center at help.openai.com if you continue to have issues.\n"
     ]
    },
    {
     "name": "stderr",
     "output_type": "stream",
     "text": [
      " 60%|███████████████████████▎               | 2996/5000 [18:39<04:09,  8.03it/s]"
     ]
    },
    {
     "name": "stdout",
     "output_type": "stream",
     "text": [
      "generated an exception: Rate limit reached for default-gpt-3.5-turbo in organization org-oXRtqZdWlsnmtry277X001Hu on tokens per min. Limit: 90000 / min. Current: 89676 / min. Contact us through our help center at help.openai.com if you continue to have issues.\n",
      "generated an exception: Rate limit reached for default-gpt-3.5-turbo in organization org-oXRtqZdWlsnmtry277X001Hu on tokens per min. Limit: 90000 / min. Current: 89510 / min. Contact us through our help center at help.openai.com if you continue to have issues.\n"
     ]
    },
    {
     "name": "stderr",
     "output_type": "stream",
     "text": [
      " 60%|███████████████████████▍               | 2999/5000 [18:39<04:11,  7.96it/s]"
     ]
    },
    {
     "name": "stdout",
     "output_type": "stream",
     "text": [
      "generated an exception: Rate limit reached for default-gpt-3.5-turbo in organization org-oXRtqZdWlsnmtry277X001Hu on tokens per min. Limit: 90000 / min. Current: 89386 / min. Contact us through our help center at help.openai.com if you continue to have issues.\n",
      "generated an exception: Rate limit reached for default-gpt-3.5-turbo in organization org-oXRtqZdWlsnmtry277X001Hu on tokens per min. Limit: 90000 / min. Current: 89275 / min. Contact us through our help center at help.openai.com if you continue to have issues.\n"
     ]
    },
    {
     "name": "stderr",
     "output_type": "stream",
     "text": [
      " 60%|███████████████████████▍               | 3005/5000 [18:41<07:24,  4.48it/s]"
     ]
    },
    {
     "name": "stdout",
     "output_type": "stream",
     "text": [
      "generated an exception: Rate limit reached for default-gpt-3.5-turbo in organization org-oXRtqZdWlsnmtry277X001Hu on tokens per min. Limit: 90000 / min. Current: 88826 / min. Contact us through our help center at help.openai.com if you continue to have issues.\n",
      "generated an exception: Rate limit reached for default-gpt-3.5-turbo in organization org-oXRtqZdWlsnmtry277X001Hu on tokens per min. Limit: 90000 / min. Current: 89184 / min. Contact us through our help center at help.openai.com if you continue to have issues.\n"
     ]
    },
    {
     "name": "stderr",
     "output_type": "stream",
     "text": [
      " 60%|███████████████████████▌               | 3013/5000 [18:42<03:16, 10.12it/s]"
     ]
    },
    {
     "name": "stdout",
     "output_type": "stream",
     "text": [
      "generated an exception: Rate limit reached for default-gpt-3.5-turbo in organization org-oXRtqZdWlsnmtry277X001Hu on tokens per min. Limit: 90000 / min. Current: 89698 / min. Contact us through our help center at help.openai.com if you continue to have issues.\n",
      "generated an exception: Rate limit reached for default-gpt-3.5-turbo in organization org-oXRtqZdWlsnmtry277X001Hu on tokens per min. Limit: 90000 / min. Current: 89692 / min. Contact us through our help center at help.openai.com if you continue to have issues.\n",
      "generated an exception: Rate limit reached for default-gpt-3.5-turbo in organization org-oXRtqZdWlsnmtry277X001Hu on tokens per min. Limit: 90000 / min. Current: 89908 / min. Contact us through our help center at help.openai.com if you continue to have issues.\n",
      "generated an exception: Rate limit reached for default-gpt-3.5-turbo in organization org-oXRtqZdWlsnmtry277X001Hu on tokens per min. Limit: 90000 / min. Current: 89640 / min. Contact us through our help center at help.openai.com if you continue to have issues.\n"
     ]
    },
    {
     "name": "stderr",
     "output_type": "stream",
     "text": [
      " 60%|███████████████████████▌               | 3017/5000 [18:43<06:14,  5.30it/s]"
     ]
    },
    {
     "name": "stdout",
     "output_type": "stream",
     "text": [
      "generated an exception: Rate limit reached for default-gpt-3.5-turbo in organization org-oXRtqZdWlsnmtry277X001Hu on tokens per min. Limit: 90000 / min. Current: 89863 / min. Contact us through our help center at help.openai.com if you continue to have issues.\n",
      "generated an exception: Rate limit reached for default-gpt-3.5-turbo in organization org-oXRtqZdWlsnmtry277X001Hu on tokens per min. Limit: 90000 / min. Current: 88883 / min. Contact us through our help center at help.openai.com if you continue to have issues.\n",
      "generated an exception: Rate limit reached for default-gpt-3.5-turbo in organization org-oXRtqZdWlsnmtry277X001Hu on tokens per min. Limit: 90000 / min. Current: 89605 / min. Contact us through our help center at help.openai.com if you continue to have issues.\n"
     ]
    },
    {
     "name": "stderr",
     "output_type": "stream",
     "text": [
      " 60%|███████████████████████▌               | 3020/5000 [18:44<07:03,  4.67it/s]"
     ]
    },
    {
     "name": "stdout",
     "output_type": "stream",
     "text": [
      "generated an exception: Rate limit reached for default-gpt-3.5-turbo in organization org-oXRtqZdWlsnmtry277X001Hu on tokens per min. Limit: 90000 / min. Current: 88840 / min. Contact us through our help center at help.openai.com if you continue to have issues.\n"
     ]
    },
    {
     "name": "stderr",
     "output_type": "stream",
     "text": [
      " 61%|███████████████████████▋               | 3030/5000 [18:47<09:06,  3.60it/s]"
     ]
    },
    {
     "name": "stdout",
     "output_type": "stream",
     "text": [
      "generated an exception: Rate limit reached for default-gpt-3.5-turbo in organization org-oXRtqZdWlsnmtry277X001Hu on tokens per min. Limit: 90000 / min. Current: 89413 / min. Contact us through our help center at help.openai.com if you continue to have issues.\n"
     ]
    },
    {
     "name": "stderr",
     "output_type": "stream",
     "text": [
      " 61%|███████████████████████▋               | 3032/5000 [18:48<08:12,  3.99it/s]"
     ]
    },
    {
     "name": "stdout",
     "output_type": "stream",
     "text": [
      "generated an exception: Rate limit reached for default-gpt-3.5-turbo in organization org-oXRtqZdWlsnmtry277X001Hu on tokens per min. Limit: 90000 / min. Current: 88948 / min. Contact us through our help center at help.openai.com if you continue to have issues.\n"
     ]
    },
    {
     "name": "stderr",
     "output_type": "stream",
     "text": [
      " 61%|███████████████████████▋               | 3034/5000 [18:48<06:39,  4.92it/s]"
     ]
    },
    {
     "name": "stdout",
     "output_type": "stream",
     "text": [
      "generated an exception: Rate limit reached for default-gpt-3.5-turbo in organization org-oXRtqZdWlsnmtry277X001Hu on tokens per min. Limit: 90000 / min. Current: 88807 / min. Contact us through our help center at help.openai.com if you continue to have issues.\n"
     ]
    },
    {
     "name": "stderr",
     "output_type": "stream",
     "text": [
      " 61%|███████████████████████▋               | 3036/5000 [18:49<06:27,  5.07it/s]"
     ]
    },
    {
     "name": "stdout",
     "output_type": "stream",
     "text": [
      "generated an exception: Rate limit reached for default-gpt-3.5-turbo in organization org-oXRtqZdWlsnmtry277X001Hu on tokens per min. Limit: 90000 / min. Current: 89621 / min. Contact us through our help center at help.openai.com if you continue to have issues.\n"
     ]
    },
    {
     "name": "stderr",
     "output_type": "stream",
     "text": [
      " 61%|███████████████████████▊               | 3051/5000 [18:53<05:35,  5.81it/s]"
     ]
    },
    {
     "name": "stdout",
     "output_type": "stream",
     "text": [
      "generated an exception: Rate limit reached for default-gpt-3.5-turbo in organization org-oXRtqZdWlsnmtry277X001Hu on tokens per min. Limit: 90000 / min. Current: 89626 / min. Contact us through our help center at help.openai.com if you continue to have issues.\n",
      "generated an exception: Rate limit reached for default-gpt-3.5-turbo in organization org-oXRtqZdWlsnmtry277X001Hu on tokens per min. Limit: 90000 / min. Current: 89543 / min. Contact us through our help center at help.openai.com if you continue to have issues.\n",
      "generated an exception: Rate limit reached for default-gpt-3.5-turbo in organization org-oXRtqZdWlsnmtry277X001Hu on tokens per min. Limit: 90000 / min. Current: 89474 / min. Contact us through our help center at help.openai.com if you continue to have issues.\n",
      "generated an exception: Rate limit reached for default-gpt-3.5-turbo in organization org-oXRtqZdWlsnmtry277X001Hu on tokens per min. Limit: 90000 / min. Current: 89335 / min. Contact us through our help center at help.openai.com if you continue to have issues.\n"
     ]
    },
    {
     "name": "stderr",
     "output_type": "stream",
     "text": [
      " 61%|███████████████████████▊               | 3053/5000 [18:53<04:52,  6.65it/s]"
     ]
    },
    {
     "name": "stdout",
     "output_type": "stream",
     "text": [
      "generated an exception: Rate limit reached for default-gpt-3.5-turbo in organization org-oXRtqZdWlsnmtry277X001Hu on tokens per min. Limit: 90000 / min. Current: 89444 / min. Contact us through our help center at help.openai.com if you continue to have issues.\n"
     ]
    },
    {
     "name": "stderr",
     "output_type": "stream",
     "text": [
      " 61%|███████████████████████▊               | 3057/5000 [18:56<11:19,  2.86it/s]"
     ]
    },
    {
     "name": "stdout",
     "output_type": "stream",
     "text": [
      "generated an exception: Rate limit reached for default-gpt-3.5-turbo in organization org-oXRtqZdWlsnmtry277X001Hu on tokens per min. Limit: 90000 / min. Current: 89230 / min. Contact us through our help center at help.openai.com if you continue to have issues.\n"
     ]
    },
    {
     "name": "stderr",
     "output_type": "stream",
     "text": [
      " 61%|███████████████████████▉               | 3063/5000 [18:57<07:44,  4.17it/s]"
     ]
    },
    {
     "name": "stdout",
     "output_type": "stream",
     "text": [
      "generated an exception: Rate limit reached for default-gpt-3.5-turbo in organization org-oXRtqZdWlsnmtry277X001Hu on tokens per min. Limit: 90000 / min. Current: 89791 / min. Contact us through our help center at help.openai.com if you continue to have issues.\n"
     ]
    },
    {
     "name": "stderr",
     "output_type": "stream",
     "text": [
      " 61%|███████████████████████▉               | 3073/5000 [19:00<05:10,  6.21it/s]"
     ]
    },
    {
     "name": "stdout",
     "output_type": "stream",
     "text": [
      "generated an exception: Rate limit reached for default-gpt-3.5-turbo in organization org-oXRtqZdWlsnmtry277X001Hu on tokens per min. Limit: 90000 / min. Current: 89618 / min. Contact us through our help center at help.openai.com if you continue to have issues.\n",
      "generated an exception: Rate limit reached for default-gpt-3.5-turbo in organization org-oXRtqZdWlsnmtry277X001Hu on tokens per min. Limit: 90000 / min. Current: 89796 / min. Contact us through our help center at help.openai.com if you continue to have issues.\n",
      "generated an exception: Rate limit reached for default-gpt-3.5-turbo in organization org-oXRtqZdWlsnmtry277X001Hu on tokens per min. Limit: 90000 / min. Current: 89687 / min. Contact us through our help center at help.openai.com if you continue to have issues.\n"
     ]
    },
    {
     "name": "stderr",
     "output_type": "stream",
     "text": [
      " 62%|███████████████████████▉               | 3075/5000 [19:00<05:17,  6.06it/s]"
     ]
    },
    {
     "name": "stdout",
     "output_type": "stream",
     "text": [
      "generated an exception: Rate limit reached for default-gpt-3.5-turbo in organization org-oXRtqZdWlsnmtry277X001Hu on tokens per min. Limit: 90000 / min. Current: 89279 / min. Contact us through our help center at help.openai.com if you continue to have issues.\n",
      "generated an exception: Rate limit reached for default-gpt-3.5-turbo in organization org-oXRtqZdWlsnmtry277X001Hu on tokens per min. Limit: 90000 / min. Current: 89169 / min. Contact us through our help center at help.openai.com if you continue to have issues.\n"
     ]
    },
    {
     "name": "stderr",
     "output_type": "stream",
     "text": [
      " 62%|████████████████████████               | 3082/5000 [19:02<07:27,  4.28it/s]"
     ]
    },
    {
     "name": "stdout",
     "output_type": "stream",
     "text": [
      "generated an exception: Rate limit reached for default-gpt-3.5-turbo in organization org-oXRtqZdWlsnmtry277X001Hu on tokens per min. Limit: 90000 / min. Current: 88968 / min. Contact us through our help center at help.openai.com if you continue to have issues.\n"
     ]
    },
    {
     "name": "stderr",
     "output_type": "stream",
     "text": [
      " 62%|████████████████████████▏              | 3107/5000 [19:13<06:06,  5.16it/s]"
     ]
    },
    {
     "name": "stdout",
     "output_type": "stream",
     "text": [
      "generated an exception: This model's maximum context length is 4097 tokens. However, your messages resulted in 4846 tokens. Please reduce the length of the messages.\n"
     ]
    },
    {
     "name": "stderr",
     "output_type": "stream",
     "text": [
      " 63%|████████████████████████▌              | 3142/5000 [19:28<10:31,  2.94it/s]"
     ]
    },
    {
     "name": "stdout",
     "output_type": "stream",
     "text": [
      "generated an exception: Rate limit reached for default-gpt-3.5-turbo in organization org-oXRtqZdWlsnmtry277X001Hu on tokens per min. Limit: 90000 / min. Current: 89220 / min. Contact us through our help center at help.openai.com if you continue to have issues.\n"
     ]
    },
    {
     "name": "stderr",
     "output_type": "stream",
     "text": [
      " 64%|████████████████████████▉              | 3203/5000 [19:51<05:04,  5.90it/s]"
     ]
    },
    {
     "name": "stdout",
     "output_type": "stream",
     "text": [
      "generated an exception: Rate limit reached for default-gpt-3.5-turbo in organization org-oXRtqZdWlsnmtry277X001Hu on tokens per min. Limit: 90000 / min. Current: 89570 / min. Contact us through our help center at help.openai.com if you continue to have issues.\n",
      "generated an exception: Rate limit reached for default-gpt-3.5-turbo in organization org-oXRtqZdWlsnmtry277X001Hu on tokens per min. Limit: 90000 / min. Current: 89174 / min. Contact us through our help center at help.openai.com if you continue to have issues.\n"
     ]
    },
    {
     "name": "stderr",
     "output_type": "stream",
     "text": [
      " 64%|█████████████████████████              | 3207/5000 [19:52<08:28,  3.52it/s]"
     ]
    },
    {
     "name": "stdout",
     "output_type": "stream",
     "text": [
      "generated an exception: Rate limit reached for default-gpt-3.5-turbo in organization org-oXRtqZdWlsnmtry277X001Hu on tokens per min. Limit: 90000 / min. Current: 89255 / min. Contact us through our help center at help.openai.com if you continue to have issues.\n"
     ]
    },
    {
     "name": "stderr",
     "output_type": "stream",
     "text": [
      " 64%|█████████████████████████              | 3208/5000 [19:53<12:43,  2.35it/s]"
     ]
    },
    {
     "name": "stdout",
     "output_type": "stream",
     "text": [
      "generated an exception: Rate limit reached for default-gpt-3.5-turbo in organization org-oXRtqZdWlsnmtry277X001Hu on tokens per min. Limit: 90000 / min. Current: 87838 / min. Contact us through our help center at help.openai.com if you continue to have issues.\n"
     ]
    },
    {
     "name": "stderr",
     "output_type": "stream",
     "text": [
      " 64%|█████████████████████████              | 3215/5000 [19:54<06:26,  4.62it/s]"
     ]
    },
    {
     "name": "stdout",
     "output_type": "stream",
     "text": [
      "generated an exception: Rate limit reached for default-gpt-3.5-turbo in organization org-oXRtqZdWlsnmtry277X001Hu on tokens per min. Limit: 90000 / min. Current: 89187 / min. Contact us through our help center at help.openai.com if you continue to have issues.\n",
      "generated an exception: Rate limit reached for default-gpt-3.5-turbo in organization org-oXRtqZdWlsnmtry277X001Hu on tokens per min. Limit: 90000 / min. Current: 88935 / min. Contact us through our help center at help.openai.com if you continue to have issues.\n"
     ]
    },
    {
     "name": "stderr",
     "output_type": "stream",
     "text": [
      " 64%|█████████████████████████▏             | 3224/5000 [19:57<07:26,  3.97it/s]"
     ]
    },
    {
     "name": "stdout",
     "output_type": "stream",
     "text": [
      "generated an exception: Rate limit reached for default-gpt-3.5-turbo in organization org-oXRtqZdWlsnmtry277X001Hu on tokens per min. Limit: 90000 / min. Current: 88847 / min. Contact us through our help center at help.openai.com if you continue to have issues.\n"
     ]
    },
    {
     "name": "stderr",
     "output_type": "stream",
     "text": [
      " 64%|█████████████████████████▏             | 3225/5000 [19:58<08:22,  3.53it/s]"
     ]
    },
    {
     "name": "stdout",
     "output_type": "stream",
     "text": [
      "generated an exception: Rate limit reached for default-gpt-3.5-turbo in organization org-oXRtqZdWlsnmtry277X001Hu on tokens per min. Limit: 90000 / min. Current: 89251 / min. Contact us through our help center at help.openai.com if you continue to have issues.\n"
     ]
    },
    {
     "name": "stderr",
     "output_type": "stream",
     "text": [
      " 65%|█████████████████████████▏             | 3230/5000 [20:00<09:25,  3.13it/s]"
     ]
    },
    {
     "name": "stdout",
     "output_type": "stream",
     "text": [
      "generated an exception: Rate limit reached for default-gpt-3.5-turbo in organization org-oXRtqZdWlsnmtry277X001Hu on tokens per min. Limit: 90000 / min. Current: 89241 / min. Contact us through our help center at help.openai.com if you continue to have issues.\n"
     ]
    },
    {
     "name": "stderr",
     "output_type": "stream",
     "text": [
      " 65%|█████████████████████████▏             | 3233/5000 [20:01<07:56,  3.71it/s]"
     ]
    },
    {
     "name": "stdout",
     "output_type": "stream",
     "text": [
      "generated an exception: Rate limit reached for default-gpt-3.5-turbo in organization org-oXRtqZdWlsnmtry277X001Hu on tokens per min. Limit: 90000 / min. Current: 89611 / min. Contact us through our help center at help.openai.com if you continue to have issues.\n",
      "generated an exception: Rate limit reached for default-gpt-3.5-turbo in organization org-oXRtqZdWlsnmtry277X001Hu on tokens per min. Limit: 90000 / min. Current: 89590 / min. Contact us through our help center at help.openai.com if you continue to have issues.\n"
     ]
    },
    {
     "name": "stderr",
     "output_type": "stream",
     "text": [
      " 65%|█████████████████████████▏             | 3237/5000 [20:02<10:10,  2.89it/s]"
     ]
    },
    {
     "name": "stdout",
     "output_type": "stream",
     "text": [
      "generated an exception: Rate limit reached for default-gpt-3.5-turbo in organization org-oXRtqZdWlsnmtry277X001Hu on tokens per min. Limit: 90000 / min. Current: 88731 / min. Contact us through our help center at help.openai.com if you continue to have issues.\n"
     ]
    },
    {
     "name": "stderr",
     "output_type": "stream",
     "text": [
      " 65%|█████████████████████████▎             | 3241/5000 [20:03<06:15,  4.69it/s]"
     ]
    },
    {
     "name": "stdout",
     "output_type": "stream",
     "text": [
      "generated an exception: Rate limit reached for default-gpt-3.5-turbo in organization org-oXRtqZdWlsnmtry277X001Hu on tokens per min. Limit: 90000 / min. Current: 89254 / min. Contact us through our help center at help.openai.com if you continue to have issues.\n"
     ]
    },
    {
     "name": "stderr",
     "output_type": "stream",
     "text": [
      " 65%|█████████████████████████▎             | 3245/5000 [20:03<04:55,  5.95it/s]"
     ]
    },
    {
     "name": "stdout",
     "output_type": "stream",
     "text": [
      "generated an exception: Rate limit reached for default-gpt-3.5-turbo in organization org-oXRtqZdWlsnmtry277X001Hu on tokens per min. Limit: 90000 / min. Current: 88998 / min. Contact us through our help center at help.openai.com if you continue to have issues.\n",
      "generated an exception: Rate limit reached for default-gpt-3.5-turbo in organization org-oXRtqZdWlsnmtry277X001Hu on tokens per min. Limit: 90000 / min. Current: 89826 / min. Contact us through our help center at help.openai.com if you continue to have issues.\n"
     ]
    },
    {
     "name": "stderr",
     "output_type": "stream",
     "text": [
      " 65%|█████████████████████████▎             | 3248/5000 [20:04<04:26,  6.58it/s]"
     ]
    },
    {
     "name": "stdout",
     "output_type": "stream",
     "text": [
      "generated an exception: Rate limit reached for default-gpt-3.5-turbo in organization org-oXRtqZdWlsnmtry277X001Hu on tokens per min. Limit: 90000 / min. Current: 89947 / min. Contact us through our help center at help.openai.com if you continue to have issues.\n",
      "generated an exception: Rate limit reached for default-gpt-3.5-turbo in organization org-oXRtqZdWlsnmtry277X001Hu on tokens per min. Limit: 90000 / min. Current: 89814 / min. Contact us through our help center at help.openai.com if you continue to have issues.\n"
     ]
    },
    {
     "name": "stderr",
     "output_type": "stream",
     "text": [
      " 65%|█████████████████████████▍             | 3254/5000 [20:04<03:00,  9.66it/s]"
     ]
    },
    {
     "name": "stdout",
     "output_type": "stream",
     "text": [
      "generated an exception: Rate limit reached for default-gpt-3.5-turbo in organization org-oXRtqZdWlsnmtry277X001Hu on tokens per min. Limit: 90000 / min. Current: 89788 / min. Contact us through our help center at help.openai.com if you continue to have issues.\n",
      "generated an exception: Rate limit reached for default-gpt-3.5-turbo in organization org-oXRtqZdWlsnmtry277X001Hu on tokens per min. Limit: 90000 / min. Current: 89743 / min. Contact us through our help center at help.openai.com if you continue to have issues.\n",
      "generated an exception: Rate limit reached for default-gpt-3.5-turbo in organization org-oXRtqZdWlsnmtry277X001Hu on tokens per min. Limit: 90000 / min. Current: 89707 / min. Contact us through our help center at help.openai.com if you continue to have issues.\n"
     ]
    },
    {
     "name": "stderr",
     "output_type": "stream",
     "text": [
      " 65%|█████████████████████████▍             | 3257/5000 [20:04<02:21, 12.35it/s]"
     ]
    },
    {
     "name": "stdout",
     "output_type": "stream",
     "text": [
      "generated an exception: Rate limit reached for default-gpt-3.5-turbo in organization org-oXRtqZdWlsnmtry277X001Hu on tokens per min. Limit: 90000 / min. Current: 89600 / min. Contact us through our help center at help.openai.com if you continue to have issues.\n",
      "generated an exception: Rate limit reached for default-gpt-3.5-turbo in organization org-oXRtqZdWlsnmtry277X001Hu on tokens per min. Limit: 90000 / min. Current: 89573 / min. Contact us through our help center at help.openai.com if you continue to have issues.\n",
      "generated an exception: Rate limit reached for default-gpt-3.5-turbo in organization org-oXRtqZdWlsnmtry277X001Hu on tokens per min. Limit: 90000 / min. Current: 89479 / min. Contact us through our help center at help.openai.com if you continue to have issues.\n",
      "generated an exception: Rate limit reached for default-gpt-3.5-turbo in organization org-oXRtqZdWlsnmtry277X001Hu on tokens per min. Limit: 90000 / min. Current: 89455 / min. Contact us through our help center at help.openai.com if you continue to have issues.\n"
     ]
    },
    {
     "name": "stderr",
     "output_type": "stream",
     "text": [
      " 65%|█████████████████████████▍             | 3261/5000 [20:06<05:22,  5.40it/s]"
     ]
    },
    {
     "name": "stdout",
     "output_type": "stream",
     "text": [
      "generated an exception: Rate limit reached for default-gpt-3.5-turbo in organization org-oXRtqZdWlsnmtry277X001Hu on tokens per min. Limit: 90000 / min. Current: 88931 / min. Contact us through our help center at help.openai.com if you continue to have issues.\n"
     ]
    },
    {
     "name": "stderr",
     "output_type": "stream",
     "text": [
      " 65%|█████████████████████████▍             | 3263/5000 [20:06<05:50,  4.96it/s]"
     ]
    },
    {
     "name": "stdout",
     "output_type": "stream",
     "text": [
      "generated an exception: Rate limit reached for default-gpt-3.5-turbo in organization org-oXRtqZdWlsnmtry277X001Hu on tokens per min. Limit: 90000 / min. Current: 88653 / min. Contact us through our help center at help.openai.com if you continue to have issues.\n"
     ]
    },
    {
     "name": "stderr",
     "output_type": "stream",
     "text": [
      " 65%|█████████████████████████▍             | 3268/5000 [20:09<10:01,  2.88it/s]"
     ]
    },
    {
     "name": "stdout",
     "output_type": "stream",
     "text": [
      "generated an exception: Rate limit reached for default-gpt-3.5-turbo in organization org-oXRtqZdWlsnmtry277X001Hu on tokens per min. Limit: 90000 / min. Current: 87209 / min. Contact us through our help center at help.openai.com if you continue to have issues.\n"
     ]
    },
    {
     "name": "stderr",
     "output_type": "stream",
     "text": [
      " 65%|█████████████████████████▌             | 3270/5000 [20:10<10:48,  2.67it/s]"
     ]
    },
    {
     "name": "stdout",
     "output_type": "stream",
     "text": [
      "generated an exception: The server is overloaded or not ready yet.\n"
     ]
    },
    {
     "name": "stderr",
     "output_type": "stream",
     "text": [
      " 65%|█████████████████████████▌             | 3274/5000 [20:11<12:06,  2.38it/s]"
     ]
    },
    {
     "name": "stdout",
     "output_type": "stream",
     "text": [
      "generated an exception: Bad gateway. {\"error\":{\"code\":502,\"message\":\"Bad gateway.\",\"param\":null,\"type\":\"cf_bad_gateway\"}} 502 {'error': {'code': 502, 'message': 'Bad gateway.', 'param': None, 'type': 'cf_bad_gateway'}} {'Date': 'Tue, 27 Jun 2023 11:16:29 GMT', 'Content-Type': 'application/json', 'Content-Length': '84', 'Connection': 'keep-alive', 'X-Frame-Options': 'SAMEORIGIN', 'Referrer-Policy': 'same-origin', 'Cache-Control': 'private, max-age=0, no-store, no-cache, must-revalidate, post-check=0, pre-check=0', 'Expires': 'Thu, 01 Jan 1970 00:00:01 GMT', 'Server': 'cloudflare', 'CF-RAY': '7ddd3f542ee92769-SEA', 'alt-svc': 'h3=\":443\"; ma=86400'}\n"
     ]
    },
    {
     "name": "stderr",
     "output_type": "stream",
     "text": [
      " 66%|█████████████████████████▊             | 3312/5000 [20:28<09:58,  2.82it/s]"
     ]
    },
    {
     "name": "stdout",
     "output_type": "stream",
     "text": [
      "generated an exception: Rate limit reached for default-gpt-3.5-turbo in organization org-oXRtqZdWlsnmtry277X001Hu on tokens per min. Limit: 90000 / min. Current: 89808 / min. Contact us through our help center at help.openai.com if you continue to have issues.\n"
     ]
    },
    {
     "name": "stderr",
     "output_type": "stream",
     "text": [
      " 66%|█████████████████████████▊             | 3317/5000 [20:28<05:01,  5.58it/s]"
     ]
    },
    {
     "name": "stdout",
     "output_type": "stream",
     "text": [
      "generated an exception: Rate limit reached for default-gpt-3.5-turbo in organization org-oXRtqZdWlsnmtry277X001Hu on tokens per min. Limit: 90000 / min. Current: 89886 / min. Contact us through our help center at help.openai.com if you continue to have issues.\n",
      "generated an exception: Rate limit reached for default-gpt-3.5-turbo in organization org-oXRtqZdWlsnmtry277X001Hu on tokens per min. Limit: 90000 / min. Current: 89794 / min. Contact us through our help center at help.openai.com if you continue to have issues.\n",
      "generated an exception: Rate limit reached for default-gpt-3.5-turbo in organization org-oXRtqZdWlsnmtry277X001Hu on tokens per min. Limit: 90000 / min. Current: 89710 / min. Contact us through our help center at help.openai.com if you continue to have issues.\n",
      "generated an exception: Rate limit reached for default-gpt-3.5-turbo in organization org-oXRtqZdWlsnmtry277X001Hu on tokens per min. Limit: 90000 / min. Current: 89662 / min. Contact us through our help center at help.openai.com if you continue to have issues.\n",
      "generated an exception: Rate limit reached for default-gpt-3.5-turbo in organization org-oXRtqZdWlsnmtry277X001Hu on tokens per min. Limit: 90000 / min. Current: 89591 / min. Contact us through our help center at help.openai.com if you continue to have issues.\n"
     ]
    },
    {
     "name": "stderr",
     "output_type": "stream",
     "text": [
      " 66%|█████████████████████████▉             | 3320/5000 [20:28<03:13,  8.70it/s]"
     ]
    },
    {
     "name": "stdout",
     "output_type": "stream",
     "text": [
      "generated an exception: Rate limit reached for default-gpt-3.5-turbo in organization org-oXRtqZdWlsnmtry277X001Hu on tokens per min. Limit: 90000 / min. Current: 89539 / min. Contact us through our help center at help.openai.com if you continue to have issues.\n",
      "generated an exception: Rate limit reached for default-gpt-3.5-turbo in organization org-oXRtqZdWlsnmtry277X001Hu on tokens per min. Limit: 90000 / min. Current: 89712 / min. Contact us through our help center at help.openai.com if you continue to have issues.\n"
     ]
    },
    {
     "name": "stderr",
     "output_type": "stream",
     "text": [
      " 67%|█████████████████████████▉             | 3330/5000 [20:32<07:24,  3.76it/s]"
     ]
    },
    {
     "name": "stdout",
     "output_type": "stream",
     "text": [
      "generated an exception: Rate limit reached for default-gpt-3.5-turbo in organization org-oXRtqZdWlsnmtry277X001Hu on tokens per min. Limit: 90000 / min. Current: 88858 / min. Contact us through our help center at help.openai.com if you continue to have issues.\n"
     ]
    },
    {
     "name": "stderr",
     "output_type": "stream",
     "text": [
      " 67%|█████████████████████████▉             | 3333/5000 [20:33<08:51,  3.14it/s]"
     ]
    },
    {
     "name": "stdout",
     "output_type": "stream",
     "text": [
      "generated an exception: Rate limit reached for default-gpt-3.5-turbo in organization org-oXRtqZdWlsnmtry277X001Hu on tokens per min. Limit: 90000 / min. Current: 89047 / min. Contact us through our help center at help.openai.com if you continue to have issues.\n"
     ]
    },
    {
     "name": "stderr",
     "output_type": "stream",
     "text": [
      " 67%|██████████████████████████             | 3335/5000 [20:34<08:15,  3.36it/s]"
     ]
    },
    {
     "name": "stdout",
     "output_type": "stream",
     "text": [
      "generated an exception: Rate limit reached for default-gpt-3.5-turbo in organization org-oXRtqZdWlsnmtry277X001Hu on tokens per min. Limit: 90000 / min. Current: 88374 / min. Contact us through our help center at help.openai.com if you continue to have issues.\n"
     ]
    },
    {
     "name": "stderr",
     "output_type": "stream",
     "text": [
      " 67%|██████████████████████████▎            | 3367/5000 [20:49<10:40,  2.55it/s]"
     ]
    },
    {
     "name": "stdout",
     "output_type": "stream",
     "text": [
      "generated an exception: The server is overloaded or not ready yet.\n"
     ]
    },
    {
     "name": "stderr",
     "output_type": "stream",
     "text": [
      " 67%|██████████████████████████▎            | 3370/5000 [20:49<05:59,  4.53it/s]"
     ]
    },
    {
     "name": "stdout",
     "output_type": "stream",
     "text": [
      "generated an exception: Rate limit reached for default-gpt-3.5-turbo in organization org-oXRtqZdWlsnmtry277X001Hu on tokens per min. Limit: 90000 / min. Current: 89364 / min. Contact us through our help center at help.openai.com if you continue to have issues.\n"
     ]
    },
    {
     "name": "stderr",
     "output_type": "stream",
     "text": [
      " 67%|██████████████████████████▎            | 3373/5000 [20:50<05:13,  5.19it/s]"
     ]
    },
    {
     "name": "stdout",
     "output_type": "stream",
     "text": [
      "generated an exception: Rate limit reached for default-gpt-3.5-turbo in organization org-oXRtqZdWlsnmtry277X001Hu on tokens per min. Limit: 90000 / min. Current: 89208 / min. Contact us through our help center at help.openai.com if you continue to have issues.\n"
     ]
    },
    {
     "name": "stderr",
     "output_type": "stream",
     "text": [
      " 67%|██████████████████████████▎            | 3374/5000 [20:50<04:50,  5.59it/s]"
     ]
    },
    {
     "name": "stdout",
     "output_type": "stream",
     "text": [
      "generated an exception: Rate limit reached for default-gpt-3.5-turbo in organization org-oXRtqZdWlsnmtry277X001Hu on tokens per min. Limit: 90000 / min. Current: 89035 / min. Contact us through our help center at help.openai.com if you continue to have issues.\n"
     ]
    },
    {
     "name": "stderr",
     "output_type": "stream",
     "text": [
      " 68%|██████████████████████████▎            | 3376/5000 [20:50<05:28,  4.95it/s]"
     ]
    },
    {
     "name": "stdout",
     "output_type": "stream",
     "text": [
      "generated an exception: Rate limit reached for default-gpt-3.5-turbo in organization org-oXRtqZdWlsnmtry277X001Hu on tokens per min. Limit: 90000 / min. Current: 88946 / min. Contact us through our help center at help.openai.com if you continue to have issues.\n"
     ]
    },
    {
     "name": "stderr",
     "output_type": "stream",
     "text": [
      " 68%|██████████████████████████▎            | 3381/5000 [20:51<04:59,  5.40it/s]"
     ]
    },
    {
     "name": "stdout",
     "output_type": "stream",
     "text": [
      "generated an exception: Rate limit reached for default-gpt-3.5-turbo in organization org-oXRtqZdWlsnmtry277X001Hu on tokens per min. Limit: 90000 / min. Current: 89513 / min. Contact us through our help center at help.openai.com if you continue to have issues.\n",
      "generated an exception: Rate limit reached for default-gpt-3.5-turbo in organization org-oXRtqZdWlsnmtry277X001Hu on tokens per min. Limit: 90000 / min. Current: 89377 / min. Contact us through our help center at help.openai.com if you continue to have issues.\n"
     ]
    },
    {
     "name": "stderr",
     "output_type": "stream",
     "text": [
      " 68%|██████████████████████████▍            | 3387/5000 [20:52<03:30,  7.65it/s]"
     ]
    },
    {
     "name": "stdout",
     "output_type": "stream",
     "text": [
      "generated an exception: Rate limit reached for default-gpt-3.5-turbo in organization org-oXRtqZdWlsnmtry277X001Hu on tokens per min. Limit: 90000 / min. Current: 89271 / min. Contact us through our help center at help.openai.com if you continue to have issues.\n",
      "generated an exception: Rate limit reached for default-gpt-3.5-turbo in organization org-oXRtqZdWlsnmtry277X001Hu on tokens per min. Limit: 90000 / min. Current: 89820 / min. Contact us through our help center at help.openai.com if you continue to have issues.\n",
      "generated an exception: Rate limit reached for default-gpt-3.5-turbo in organization org-oXRtqZdWlsnmtry277X001Hu on tokens per min. Limit: 90000 / min. Current: 89705 / min. Contact us through our help center at help.openai.com if you continue to have issues.\n"
     ]
    },
    {
     "name": "stderr",
     "output_type": "stream",
     "text": [
      " 68%|██████████████████████████▍            | 3389/5000 [20:53<03:46,  7.12it/s]"
     ]
    },
    {
     "name": "stdout",
     "output_type": "stream",
     "text": [
      "generated an exception: Rate limit reached for default-gpt-3.5-turbo in organization org-oXRtqZdWlsnmtry277X001Hu on tokens per min. Limit: 90000 / min. Current: 89712 / min. Contact us through our help center at help.openai.com if you continue to have issues.\n",
      "generated an exception: Rate limit reached for default-gpt-3.5-turbo in organization org-oXRtqZdWlsnmtry277X001Hu on tokens per min. Limit: 90000 / min. Current: 89215 / min. Contact us through our help center at help.openai.com if you continue to have issues.\n"
     ]
    },
    {
     "name": "stderr",
     "output_type": "stream",
     "text": [
      " 68%|██████████████████████████▌            | 3398/5000 [20:56<09:01,  2.96it/s]"
     ]
    },
    {
     "name": "stdout",
     "output_type": "stream",
     "text": [
      "generated an exception: Bad gateway. {\"error\":{\"code\":502,\"message\":\"Bad gateway.\",\"param\":null,\"type\":\"cf_bad_gateway\"}} 502 {'error': {'code': 502, 'message': 'Bad gateway.', 'param': None, 'type': 'cf_bad_gateway'}} {'Date': 'Tue, 27 Jun 2023 11:17:15 GMT', 'Content-Type': 'application/json', 'Content-Length': '84', 'Connection': 'keep-alive', 'X-Frame-Options': 'SAMEORIGIN', 'Referrer-Policy': 'same-origin', 'Cache-Control': 'private, max-age=0, no-store, no-cache, must-revalidate, post-check=0, pre-check=0', 'Expires': 'Thu, 01 Jan 1970 00:00:01 GMT', 'Server': 'cloudflare', 'CF-RAY': '7ddd409e4deec4e3-SEA', 'alt-svc': 'h3=\":443\"; ma=86400'}\n"
     ]
    },
    {
     "name": "stderr",
     "output_type": "stream",
     "text": [
      " 68%|██████████████████████████▌            | 3400/5000 [20:58<11:45,  2.27it/s]"
     ]
    },
    {
     "name": "stdout",
     "output_type": "stream",
     "text": [
      "generated an exception: Rate limit reached for default-gpt-3.5-turbo in organization org-oXRtqZdWlsnmtry277X001Hu on tokens per min. Limit: 90000 / min. Current: 89309 / min. Contact us through our help center at help.openai.com if you continue to have issues.\n"
     ]
    },
    {
     "name": "stderr",
     "output_type": "stream",
     "text": [
      " 68%|██████████████████████████▌            | 3403/5000 [20:58<08:45,  3.04it/s]"
     ]
    },
    {
     "name": "stdout",
     "output_type": "stream",
     "text": [
      "generated an exception: Rate limit reached for default-gpt-3.5-turbo in organization org-oXRtqZdWlsnmtry277X001Hu on tokens per min. Limit: 90000 / min. Current: 89180 / min. Contact us through our help center at help.openai.com if you continue to have issues.\n"
     ]
    },
    {
     "name": "stderr",
     "output_type": "stream",
     "text": [
      " 68%|██████████████████████████▌            | 3406/5000 [21:00<13:15,  2.00it/s]"
     ]
    },
    {
     "name": "stdout",
     "output_type": "stream",
     "text": [
      "generated an exception: Rate limit reached for default-gpt-3.5-turbo in organization org-oXRtqZdWlsnmtry277X001Hu on tokens per min. Limit: 90000 / min. Current: 88212 / min. Contact us through our help center at help.openai.com if you continue to have issues.\n"
     ]
    },
    {
     "name": "stderr",
     "output_type": "stream",
     "text": [
      " 69%|██████████████████████████▉            | 3451/5000 [21:23<07:29,  3.45it/s]"
     ]
    },
    {
     "name": "stdout",
     "output_type": "stream",
     "text": [
      "generated an exception: This model's maximum context length is 4097 tokens. However, your messages resulted in 8499 tokens. Please reduce the length of the messages.\n"
     ]
    },
    {
     "name": "stderr",
     "output_type": "stream",
     "text": [
      " 69%|██████████████████████████▉            | 3454/5000 [21:25<10:13,  2.52it/s]"
     ]
    },
    {
     "name": "stdout",
     "output_type": "stream",
     "text": [
      "generated an exception: The server is overloaded or not ready yet.\n"
     ]
    },
    {
     "name": "stderr",
     "output_type": "stream",
     "text": [
      " 70%|███████████████████████████            | 3475/5000 [21:35<06:42,  3.79it/s]"
     ]
    },
    {
     "name": "stdout",
     "output_type": "stream",
     "text": [
      "generated an exception: Rate limit reached for default-gpt-3.5-turbo in organization org-oXRtqZdWlsnmtry277X001Hu on tokens per min. Limit: 90000 / min. Current: 86089 / min. Contact us through our help center at help.openai.com if you continue to have issues.\n"
     ]
    },
    {
     "name": "stderr",
     "output_type": "stream",
     "text": [
      " 70%|███████████████████████████▏           | 3480/5000 [21:37<06:34,  3.85it/s]"
     ]
    },
    {
     "name": "stdout",
     "output_type": "stream",
     "text": [
      "generated an exception: Rate limit reached for default-gpt-3.5-turbo in organization org-oXRtqZdWlsnmtry277X001Hu on tokens per min. Limit: 90000 / min. Current: 89009 / min. Contact us through our help center at help.openai.com if you continue to have issues.\n"
     ]
    },
    {
     "name": "stderr",
     "output_type": "stream",
     "text": [
      " 70%|███████████████████████████▏           | 3483/5000 [21:38<08:04,  3.13it/s]"
     ]
    },
    {
     "name": "stdout",
     "output_type": "stream",
     "text": [
      "generated an exception: Rate limit reached for default-gpt-3.5-turbo in organization org-oXRtqZdWlsnmtry277X001Hu on tokens per min. Limit: 90000 / min. Current: 88963 / min. Contact us through our help center at help.openai.com if you continue to have issues.\n"
     ]
    },
    {
     "name": "stderr",
     "output_type": "stream",
     "text": [
      " 70%|███████████████████████████▎           | 3496/5000 [21:43<08:20,  3.00it/s]"
     ]
    },
    {
     "name": "stdout",
     "output_type": "stream",
     "text": [
      "generated an exception: Rate limit reached for default-gpt-3.5-turbo in organization org-oXRtqZdWlsnmtry277X001Hu on tokens per min. Limit: 90000 / min. Current: 88014 / min. Contact us through our help center at help.openai.com if you continue to have issues.\n"
     ]
    },
    {
     "name": "stderr",
     "output_type": "stream",
     "text": [
      " 70%|███████████████████████████▎           | 3505/5000 [21:48<07:45,  3.21it/s]"
     ]
    },
    {
     "name": "stdout",
     "output_type": "stream",
     "text": [
      "generated an exception: Rate limit reached for default-gpt-3.5-turbo in organization org-oXRtqZdWlsnmtry277X001Hu on tokens per min. Limit: 90000 / min. Current: 89485 / min. Contact us through our help center at help.openai.com if you continue to have issues.\n",
      "generated an exception: Rate limit reached for default-gpt-3.5-turbo in organization org-oXRtqZdWlsnmtry277X001Hu on tokens per min. Limit: 90000 / min. Current: 89505 / min. Contact us through our help center at help.openai.com if you continue to have issues.\n"
     ]
    },
    {
     "name": "stderr",
     "output_type": "stream",
     "text": [
      " 70%|███████████████████████████▎           | 3508/5000 [21:48<05:53,  4.22it/s]"
     ]
    },
    {
     "name": "stdout",
     "output_type": "stream",
     "text": [
      "generated an exception: Rate limit reached for default-gpt-3.5-turbo in organization org-oXRtqZdWlsnmtry277X001Hu on tokens per min. Limit: 90000 / min. Current: 89268 / min. Contact us through our help center at help.openai.com if you continue to have issues.\n"
     ]
    },
    {
     "name": "stderr",
     "output_type": "stream",
     "text": [
      " 70%|███████████████████████████▍           | 3515/5000 [21:49<02:56,  8.41it/s]"
     ]
    },
    {
     "name": "stdout",
     "output_type": "stream",
     "text": [
      "generated an exception: Rate limit reached for default-gpt-3.5-turbo in organization org-oXRtqZdWlsnmtry277X001Hu on tokens per min. Limit: 90000 / min. Current: 89322 / min. Contact us through our help center at help.openai.com if you continue to have issues.\n",
      "generated an exception: Rate limit reached for default-gpt-3.5-turbo in organization org-oXRtqZdWlsnmtry277X001Hu on tokens per min. Limit: 90000 / min. Current: 89716 / min. Contact us through our help center at help.openai.com if you continue to have issues.\n",
      "generated an exception: Rate limit reached for default-gpt-3.5-turbo in organization org-oXRtqZdWlsnmtry277X001Hu on tokens per min. Limit: 90000 / min. Current: 89710 / min. Contact us through our help center at help.openai.com if you continue to have issues.\n"
     ]
    },
    {
     "name": "stderr",
     "output_type": "stream",
     "text": [
      " 70%|███████████████████████████▍           | 3517/5000 [21:50<03:17,  7.52it/s]"
     ]
    },
    {
     "name": "stdout",
     "output_type": "stream",
     "text": [
      "generated an exception: Rate limit reached for default-gpt-3.5-turbo in organization org-oXRtqZdWlsnmtry277X001Hu on tokens per min. Limit: 90000 / min. Current: 89561 / min. Contact us through our help center at help.openai.com if you continue to have issues.\n"
     ]
    },
    {
     "name": "stderr",
     "output_type": "stream",
     "text": [
      " 70%|███████████████████████████▍           | 3523/5000 [21:50<02:18, 10.63it/s]"
     ]
    },
    {
     "name": "stdout",
     "output_type": "stream",
     "text": [
      "generated an exception: Rate limit reached for default-gpt-3.5-turbo in organization org-oXRtqZdWlsnmtry277X001Hu on tokens per min. Limit: 90000 / min. Current: 89236 / min. Contact us through our help center at help.openai.com if you continue to have issues.\n",
      "generated an exception: Rate limit reached for default-gpt-3.5-turbo in organization org-oXRtqZdWlsnmtry277X001Hu on tokens per min. Limit: 90000 / min. Current: 89140 / min. Contact us through our help center at help.openai.com if you continue to have issues.\n",
      "generated an exception: Rate limit reached for default-gpt-3.5-turbo in organization org-oXRtqZdWlsnmtry277X001Hu on tokens per min. Limit: 90000 / min. Current: 89054 / min. Contact us through our help center at help.openai.com if you continue to have issues.\n"
     ]
    },
    {
     "name": "stderr",
     "output_type": "stream",
     "text": [
      " 70%|███████████████████████████▍           | 3525/5000 [21:51<04:21,  5.63it/s]"
     ]
    },
    {
     "name": "stdout",
     "output_type": "stream",
     "text": [
      "generated an exception: Rate limit reached for default-gpt-3.5-turbo in organization org-oXRtqZdWlsnmtry277X001Hu on tokens per min. Limit: 90000 / min. Current: 88985 / min. Contact us through our help center at help.openai.com if you continue to have issues.\n",
      "generated an exception: Rate limit reached for default-gpt-3.5-turbo in organization org-oXRtqZdWlsnmtry277X001Hu on tokens per min. Limit: 90000 / min. Current: 88705 / min. Contact us through our help center at help.openai.com if you continue to have issues.\n"
     ]
    },
    {
     "name": "stderr",
     "output_type": "stream",
     "text": [
      " 71%|███████████████████████████▌           | 3538/5000 [21:56<06:30,  3.74it/s]"
     ]
    },
    {
     "name": "stdout",
     "output_type": "stream",
     "text": [
      "generated an exception: Rate limit reached for default-gpt-3.5-turbo in organization org-oXRtqZdWlsnmtry277X001Hu on tokens per min. Limit: 90000 / min. Current: 87612 / min. Contact us through our help center at help.openai.com if you continue to have issues.\n"
     ]
    },
    {
     "name": "stderr",
     "output_type": "stream",
     "text": [
      " 71%|███████████████████████████▌           | 3541/5000 [21:57<08:46,  2.77it/s]"
     ]
    },
    {
     "name": "stdout",
     "output_type": "stream",
     "text": [
      "generated an exception: Rate limit reached for default-gpt-3.5-turbo in organization org-oXRtqZdWlsnmtry277X001Hu on tokens per min. Limit: 90000 / min. Current: 88365 / min. Contact us through our help center at help.openai.com if you continue to have issues.\n"
     ]
    },
    {
     "name": "stderr",
     "output_type": "stream",
     "text": [
      " 71%|███████████████████████████▋           | 3548/5000 [21:59<06:29,  3.73it/s]"
     ]
    },
    {
     "name": "stdout",
     "output_type": "stream",
     "text": [
      "generated an exception: Rate limit reached for default-gpt-3.5-turbo in organization org-oXRtqZdWlsnmtry277X001Hu on tokens per min. Limit: 90000 / min. Current: 87603 / min. Contact us through our help center at help.openai.com if you continue to have issues.\n"
     ]
    },
    {
     "name": "stderr",
     "output_type": "stream",
     "text": [
      " 72%|████████████████████████████           | 3604/5000 [22:23<09:07,  2.55it/s]"
     ]
    },
    {
     "name": "stdout",
     "output_type": "stream",
     "text": [
      "generated an exception: Rate limit reached for default-gpt-3.5-turbo in organization org-oXRtqZdWlsnmtry277X001Hu on tokens per min. Limit: 90000 / min. Current: 88730 / min. Contact us through our help center at help.openai.com if you continue to have issues.\n",
      "generated an exception: Rate limit reached for default-gpt-3.5-turbo in organization org-oXRtqZdWlsnmtry277X001Hu on tokens per min. Limit: 90000 / min. Current: 88600 / min. Contact us through our help center at help.openai.com if you continue to have issues.\n"
     ]
    },
    {
     "name": "stderr",
     "output_type": "stream",
     "text": [
      " 72%|████████████████████████████▏          | 3616/5000 [22:27<07:24,  3.12it/s]"
     ]
    },
    {
     "name": "stdout",
     "output_type": "stream",
     "text": [
      "generated an exception: The server is overloaded or not ready yet.\n"
     ]
    },
    {
     "name": "stderr",
     "output_type": "stream",
     "text": [
      " 73%|████████████████████████████▌          | 3654/5000 [22:44<10:19,  2.17it/s]"
     ]
    },
    {
     "name": "stdout",
     "output_type": "stream",
     "text": [
      "generated an exception: Rate limit reached for default-gpt-3.5-turbo in organization org-oXRtqZdWlsnmtry277X001Hu on tokens per min. Limit: 90000 / min. Current: 89106 / min. Contact us through our help center at help.openai.com if you continue to have issues.\n"
     ]
    },
    {
     "name": "stderr",
     "output_type": "stream",
     "text": [
      " 73%|████████████████████████████▌          | 3656/5000 [22:45<07:11,  3.11it/s]"
     ]
    },
    {
     "name": "stdout",
     "output_type": "stream",
     "text": [
      "generated an exception: Rate limit reached for default-gpt-3.5-turbo in organization org-oXRtqZdWlsnmtry277X001Hu on tokens per min. Limit: 90000 / min. Current: 88756 / min. Contact us through our help center at help.openai.com if you continue to have issues.\n",
      "generated an exception: Rate limit reached for default-gpt-3.5-turbo in organization org-oXRtqZdWlsnmtry277X001Hu on tokens per min. Limit: 90000 / min. Current: 88624 / min. Contact us through our help center at help.openai.com if you continue to have issues.\n"
     ]
    },
    {
     "name": "stderr",
     "output_type": "stream",
     "text": [
      " 74%|████████████████████████████▋          | 3675/5000 [22:52<03:47,  5.84it/s]"
     ]
    },
    {
     "name": "stdout",
     "output_type": "stream",
     "text": [
      "generated an exception: Rate limit reached for default-gpt-3.5-turbo in organization org-oXRtqZdWlsnmtry277X001Hu on tokens per min. Limit: 90000 / min. Current: 89542 / min. Contact us through our help center at help.openai.com if you continue to have issues.\n",
      "generated an exception: Rate limit reached for default-gpt-3.5-turbo in organization org-oXRtqZdWlsnmtry277X001Hu on tokens per min. Limit: 90000 / min. Current: 89434 / min. Contact us through our help center at help.openai.com if you continue to have issues.\n",
      "generated an exception: Rate limit reached for default-gpt-3.5-turbo in organization org-oXRtqZdWlsnmtry277X001Hu on tokens per min. Limit: 90000 / min. Current: 89311 / min. Contact us through our help center at help.openai.com if you continue to have issues.\n",
      "generated an exception: Rate limit reached for default-gpt-3.5-turbo in organization org-oXRtqZdWlsnmtry277X001Hu on tokens per min. Limit: 90000 / min. Current: 89498 / min. Contact us through our help center at help.openai.com if you continue to have issues.\n"
     ]
    },
    {
     "name": "stderr",
     "output_type": "stream",
     "text": [
      " 74%|████████████████████████████▋          | 3685/5000 [22:56<05:45,  3.80it/s]"
     ]
    },
    {
     "name": "stdout",
     "output_type": "stream",
     "text": [
      "generated an exception: Rate limit reached for default-gpt-3.5-turbo in organization org-oXRtqZdWlsnmtry277X001Hu on tokens per min. Limit: 90000 / min. Current: 89355 / min. Contact us through our help center at help.openai.com if you continue to have issues.\n"
     ]
    },
    {
     "name": "stderr",
     "output_type": "stream",
     "text": [
      " 74%|████████████████████████████▊          | 3691/5000 [23:00<13:05,  1.67it/s]"
     ]
    },
    {
     "name": "stdout",
     "output_type": "stream",
     "text": [
      "generated an exception: Rate limit reached for default-gpt-3.5-turbo in organization org-oXRtqZdWlsnmtry277X001Hu on tokens per min. Limit: 90000 / min. Current: 86800 / min. Contact us through our help center at help.openai.com if you continue to have issues.\n"
     ]
    },
    {
     "name": "stderr",
     "output_type": "stream",
     "text": [
      " 74%|████████████████████████████▊          | 3694/5000 [23:03<15:48,  1.38it/s]"
     ]
    },
    {
     "name": "stdout",
     "output_type": "stream",
     "text": [
      "generated an exception: The server is overloaded or not ready yet.\n"
     ]
    },
    {
     "name": "stderr",
     "output_type": "stream",
     "text": [
      " 75%|█████████████████████████████▎         | 3758/5000 [23:35<15:00,  1.38it/s]"
     ]
    },
    {
     "name": "stdout",
     "output_type": "stream",
     "text": [
      "generated an exception: The server is overloaded or not ready yet.\n"
     ]
    },
    {
     "name": "stderr",
     "output_type": "stream",
     "text": [
      " 76%|█████████████████████████████▍         | 3781/5000 [23:46<08:43,  2.33it/s]"
     ]
    },
    {
     "name": "stdout",
     "output_type": "stream",
     "text": [
      "generated an exception: This model's maximum context length is 4097 tokens. However, your messages resulted in 13320 tokens. Please reduce the length of the messages.\n"
     ]
    },
    {
     "name": "stderr",
     "output_type": "stream",
     "text": [
      " 76%|█████████████████████████████▋         | 3809/5000 [23:58<05:42,  3.47it/s]"
     ]
    },
    {
     "name": "stdout",
     "output_type": "stream",
     "text": [
      "generated an exception: The server is overloaded or not ready yet.\n"
     ]
    },
    {
     "name": "stderr",
     "output_type": "stream",
     "text": [
      " 79%|██████████████████████████████▋        | 3933/5000 [24:53<08:20,  2.13it/s]"
     ]
    },
    {
     "name": "stdout",
     "output_type": "stream",
     "text": [
      "generated an exception: Rate limit reached for default-gpt-3.5-turbo in organization org-oXRtqZdWlsnmtry277X001Hu on tokens per min. Limit: 90000 / min. Current: 88244 / min. Contact us through our help center at help.openai.com if you continue to have issues.\n"
     ]
    },
    {
     "name": "stderr",
     "output_type": "stream",
     "text": [
      " 79%|██████████████████████████████▊        | 3945/5000 [24:59<06:16,  2.80it/s]"
     ]
    },
    {
     "name": "stdout",
     "output_type": "stream",
     "text": [
      "generated an exception: This model's maximum context length is 4097 tokens. However, your messages resulted in 4170 tokens. Please reduce the length of the messages.\n"
     ]
    },
    {
     "name": "stderr",
     "output_type": "stream",
     "text": [
      " 79%|██████████████████████████████▊        | 3950/5000 [25:01<06:22,  2.74it/s]"
     ]
    },
    {
     "name": "stdout",
     "output_type": "stream",
     "text": [
      "generated an exception: Rate limit reached for default-gpt-3.5-turbo in organization org-oXRtqZdWlsnmtry277X001Hu on tokens per min. Limit: 90000 / min. Current: 86983 / min. Contact us through our help center at help.openai.com if you continue to have issues.\n"
     ]
    },
    {
     "name": "stderr",
     "output_type": "stream",
     "text": [
      " 79%|██████████████████████████████▊        | 3956/5000 [25:03<03:25,  5.08it/s]"
     ]
    },
    {
     "name": "stdout",
     "output_type": "stream",
     "text": [
      "generated an exception: Rate limit reached for default-gpt-3.5-turbo in organization org-oXRtqZdWlsnmtry277X001Hu on tokens per min. Limit: 90000 / min. Current: 89607 / min. Contact us through our help center at help.openai.com if you continue to have issues.\n",
      "generated an exception: Rate limit reached for default-gpt-3.5-turbo in organization org-oXRtqZdWlsnmtry277X001Hu on tokens per min. Limit: 90000 / min. Current: 89494 / min. Contact us through our help center at help.openai.com if you continue to have issues.\n"
     ]
    },
    {
     "name": "stderr",
     "output_type": "stream",
     "text": [
      " 79%|██████████████████████████████▊        | 3957/5000 [25:03<03:56,  4.41it/s]"
     ]
    },
    {
     "name": "stdout",
     "output_type": "stream",
     "text": [
      "generated an exception: Rate limit reached for default-gpt-3.5-turbo in organization org-oXRtqZdWlsnmtry277X001Hu on tokens per min. Limit: 90000 / min. Current: 89010 / min. Contact us through our help center at help.openai.com if you continue to have issues.\n"
     ]
    },
    {
     "name": "stderr",
     "output_type": "stream",
     "text": [
      " 79%|██████████████████████████████▉        | 3960/5000 [25:04<05:20,  3.25it/s]"
     ]
    },
    {
     "name": "stdout",
     "output_type": "stream",
     "text": [
      "generated an exception: The server is overloaded or not ready yet.\n"
     ]
    },
    {
     "name": "stderr",
     "output_type": "stream",
     "text": [
      " 79%|██████████████████████████████▉        | 3962/5000 [25:05<05:21,  3.22it/s]"
     ]
    },
    {
     "name": "stdout",
     "output_type": "stream",
     "text": [
      "generated an exception: Rate limit reached for default-gpt-3.5-turbo in organization org-oXRtqZdWlsnmtry277X001Hu on tokens per min. Limit: 90000 / min. Current: 87960 / min. Contact us through our help center at help.openai.com if you continue to have issues.\n"
     ]
    },
    {
     "name": "stderr",
     "output_type": "stream",
     "text": [
      " 79%|██████████████████████████████▉        | 3965/5000 [25:05<04:07,  4.19it/s]"
     ]
    },
    {
     "name": "stdout",
     "output_type": "stream",
     "text": [
      "generated an exception: Bad gateway. {\"error\":{\"code\":502,\"message\":\"Bad gateway.\",\"param\":null,\"type\":\"cf_bad_gateway\"}} 502 {'error': {'code': 502, 'message': 'Bad gateway.', 'param': None, 'type': 'cf_bad_gateway'}} {'Date': 'Tue, 27 Jun 2023 11:21:23 GMT', 'Content-Type': 'application/json', 'Content-Length': '84', 'Connection': 'keep-alive', 'X-Frame-Options': 'SAMEORIGIN', 'Referrer-Policy': 'same-origin', 'Cache-Control': 'private, max-age=0, no-store, no-cache, must-revalidate, post-check=0, pre-check=0', 'Expires': 'Thu, 01 Jan 1970 00:00:01 GMT', 'Server': 'cloudflare', 'CF-RAY': '7ddd461f1b88c69c-SEA', 'alt-svc': 'h3=\":443\"; ma=86400'}\n"
     ]
    },
    {
     "name": "stderr",
     "output_type": "stream",
     "text": [
      " 79%|██████████████████████████████▉        | 3968/5000 [25:06<05:21,  3.21it/s]"
     ]
    },
    {
     "name": "stdout",
     "output_type": "stream",
     "text": [
      "generated an exception: Rate limit reached for default-gpt-3.5-turbo in organization org-oXRtqZdWlsnmtry277X001Hu on tokens per min. Limit: 90000 / min. Current: 87857 / min. Contact us through our help center at help.openai.com if you continue to have issues.\n"
     ]
    },
    {
     "name": "stderr",
     "output_type": "stream",
     "text": [
      " 79%|██████████████████████████████▉        | 3974/5000 [25:08<04:59,  3.43it/s]"
     ]
    },
    {
     "name": "stdout",
     "output_type": "stream",
     "text": [
      "generated an exception: Rate limit reached for default-gpt-3.5-turbo in organization org-oXRtqZdWlsnmtry277X001Hu on tokens per min. Limit: 90000 / min. Current: 88373 / min. Contact us through our help center at help.openai.com if you continue to have issues.\n"
     ]
    },
    {
     "name": "stderr",
     "output_type": "stream",
     "text": [
      " 80%|███████████████████████████████        | 3975/5000 [25:09<06:28,  2.64it/s]"
     ]
    },
    {
     "name": "stdout",
     "output_type": "stream",
     "text": [
      "generated an exception: Bad gateway. {\"error\":{\"code\":502,\"message\":\"Bad gateway.\",\"param\":null,\"type\":\"cf_bad_gateway\"}} 502 {'error': {'code': 502, 'message': 'Bad gateway.', 'param': None, 'type': 'cf_bad_gateway'}} {'Date': 'Tue, 27 Jun 2023 11:21:27 GMT', 'Content-Type': 'application/json', 'Content-Length': '84', 'Connection': 'keep-alive', 'X-Frame-Options': 'SAMEORIGIN', 'Referrer-Policy': 'same-origin', 'Cache-Control': 'private, max-age=0, no-store, no-cache, must-revalidate, post-check=0, pre-check=0', 'Expires': 'Thu, 01 Jan 1970 00:00:01 GMT', 'Server': 'cloudflare', 'CF-RAY': '7ddd47141bddc4af-SEA', 'alt-svc': 'h3=\":443\"; ma=86400'}\n",
      "generated an exception: Rate limit reached for default-gpt-3.5-turbo in organization org-oXRtqZdWlsnmtry277X001Hu on tokens per min. Limit: 90000 / min. Current: 89511 / min. Contact us through our help center at help.openai.com if you continue to have issues.\n"
     ]
    },
    {
     "name": "stderr",
     "output_type": "stream",
     "text": [
      " 80%|███████████████████████████████        | 3983/5000 [25:12<04:50,  3.49it/s]"
     ]
    },
    {
     "name": "stdout",
     "output_type": "stream",
     "text": [
      "generated an exception: Rate limit reached for default-gpt-3.5-turbo in organization org-oXRtqZdWlsnmtry277X001Hu on tokens per min. Limit: 90000 / min. Current: 89297 / min. Contact us through our help center at help.openai.com if you continue to have issues.\n"
     ]
    },
    {
     "name": "stderr",
     "output_type": "stream",
     "text": [
      " 80%|███████████████████████████████▏       | 4002/5000 [25:19<04:47,  3.48it/s]"
     ]
    },
    {
     "name": "stdout",
     "output_type": "stream",
     "text": [
      "generated an exception: Rate limit reached for default-gpt-3.5-turbo in organization org-oXRtqZdWlsnmtry277X001Hu on tokens per min. Limit: 90000 / min. Current: 88538 / min. Contact us through our help center at help.openai.com if you continue to have issues.\n"
     ]
    },
    {
     "name": "stderr",
     "output_type": "stream",
     "text": [
      " 80%|███████████████████████████████▏       | 4004/5000 [25:20<03:55,  4.22it/s]"
     ]
    },
    {
     "name": "stdout",
     "output_type": "stream",
     "text": [
      "generated an exception: Bad gateway. {\"error\":{\"code\":502,\"message\":\"Bad gateway.\",\"param\":null,\"type\":\"cf_bad_gateway\"}} 502 {'error': {'code': 502, 'message': 'Bad gateway.', 'param': None, 'type': 'cf_bad_gateway'}} {'Date': 'Tue, 27 Jun 2023 11:21:38 GMT', 'Content-Type': 'application/json', 'Content-Length': '84', 'Connection': 'keep-alive', 'X-Frame-Options': 'SAMEORIGIN', 'Referrer-Policy': 'same-origin', 'Cache-Control': 'private, max-age=0, no-store, no-cache, must-revalidate, post-check=0, pre-check=0', 'Expires': 'Thu, 01 Jan 1970 00:00:01 GMT', 'Server': 'cloudflare', 'CF-RAY': '7ddd46f5adf5c39a-SEA', 'alt-svc': 'h3=\":443\"; ma=86400'}\n",
      "generated an exception: Rate limit reached for default-gpt-3.5-turbo in organization org-oXRtqZdWlsnmtry277X001Hu on tokens per min. Limit: 90000 / min. Current: 89062 / min. Contact us through our help center at help.openai.com if you continue to have issues.\n"
     ]
    },
    {
     "name": "stderr",
     "output_type": "stream",
     "text": [
      " 80%|███████████████████████████████▏       | 4006/5000 [25:20<04:10,  3.96it/s]"
     ]
    },
    {
     "name": "stdout",
     "output_type": "stream",
     "text": [
      "generated an exception: Rate limit reached for default-gpt-3.5-turbo in organization org-oXRtqZdWlsnmtry277X001Hu on tokens per min. Limit: 90000 / min. Current: 88555 / min. Contact us through our help center at help.openai.com if you continue to have issues.\n"
     ]
    },
    {
     "name": "stderr",
     "output_type": "stream",
     "text": [
      " 81%|███████████████████████████████▍       | 4031/5000 [25:28<02:31,  6.42it/s]"
     ]
    },
    {
     "name": "stdout",
     "output_type": "stream",
     "text": [
      "generated an exception: Rate limit reached for default-gpt-3.5-turbo in organization org-oXRtqZdWlsnmtry277X001Hu on tokens per min. Limit: 90000 / min. Current: 89784 / min. Contact us through our help center at help.openai.com if you continue to have issues.\n",
      "generated an exception: Rate limit reached for default-gpt-3.5-turbo in organization org-oXRtqZdWlsnmtry277X001Hu on tokens per min. Limit: 90000 / min. Current: 89918 / min. Contact us through our help center at help.openai.com if you continue to have issues.\n"
     ]
    },
    {
     "name": "stderr",
     "output_type": "stream",
     "text": [
      " 81%|███████████████████████████████▍       | 4033/5000 [25:29<03:06,  5.19it/s]"
     ]
    },
    {
     "name": "stdout",
     "output_type": "stream",
     "text": [
      "generated an exception: Rate limit reached for default-gpt-3.5-turbo in organization org-oXRtqZdWlsnmtry277X001Hu on tokens per min. Limit: 90000 / min. Current: 89586 / min. Contact us through our help center at help.openai.com if you continue to have issues.\n"
     ]
    },
    {
     "name": "stderr",
     "output_type": "stream",
     "text": [
      " 81%|███████████████████████████████▌       | 4040/5000 [25:30<01:43,  9.30it/s]"
     ]
    },
    {
     "name": "stdout",
     "output_type": "stream",
     "text": [
      "generated an exception: Rate limit reached for default-gpt-3.5-turbo in organization org-oXRtqZdWlsnmtry277X001Hu on tokens per min. Limit: 90000 / min. Current: 89685 / min. Contact us through our help center at help.openai.com if you continue to have issues.\n",
      "generated an exception: Rate limit reached for default-gpt-3.5-turbo in organization org-oXRtqZdWlsnmtry277X001Hu on tokens per min. Limit: 90000 / min. Current: 89578 / min. Contact us through our help center at help.openai.com if you continue to have issues.\n",
      "generated an exception: Rate limit reached for default-gpt-3.5-turbo in organization org-oXRtqZdWlsnmtry277X001Hu on tokens per min. Limit: 90000 / min. Current: 89499 / min. Contact us through our help center at help.openai.com if you continue to have issues.\n"
     ]
    },
    {
     "name": "stderr",
     "output_type": "stream",
     "text": [
      " 81%|███████████████████████████████▌       | 4044/5000 [25:30<02:03,  7.76it/s]"
     ]
    },
    {
     "name": "stdout",
     "output_type": "stream",
     "text": [
      "generated an exception: Rate limit reached for default-gpt-3.5-turbo in organization org-oXRtqZdWlsnmtry277X001Hu on tokens per min. Limit: 90000 / min. Current: 89782 / min. Contact us through our help center at help.openai.com if you continue to have issues.\n"
     ]
    },
    {
     "name": "stderr",
     "output_type": "stream",
     "text": [
      " 81%|███████████████████████████████▌       | 4048/5000 [25:31<01:54,  8.35it/s]"
     ]
    },
    {
     "name": "stdout",
     "output_type": "stream",
     "text": [
      "generated an exception: Rate limit reached for default-gpt-3.5-turbo in organization org-oXRtqZdWlsnmtry277X001Hu on tokens per min. Limit: 90000 / min. Current: 89264 / min. Contact us through our help center at help.openai.com if you continue to have issues.\n",
      "generated an exception: Rate limit reached for default-gpt-3.5-turbo in organization org-oXRtqZdWlsnmtry277X001Hu on tokens per min. Limit: 90000 / min. Current: 89892 / min. Contact us through our help center at help.openai.com if you continue to have issues.\n",
      "generated an exception: Rate limit reached for default-gpt-3.5-turbo in organization org-oXRtqZdWlsnmtry277X001Hu on tokens per min. Limit: 90000 / min. Current: 89838 / min. Contact us through our help center at help.openai.com if you continue to have issues.\n"
     ]
    },
    {
     "name": "stderr",
     "output_type": "stream",
     "text": [
      " 81%|███████████████████████████████▌       | 4052/5000 [25:31<01:40,  9.47it/s]"
     ]
    },
    {
     "name": "stdout",
     "output_type": "stream",
     "text": [
      "generated an exception: Rate limit reached for default-gpt-3.5-turbo in organization org-oXRtqZdWlsnmtry277X001Hu on tokens per min. Limit: 90000 / min. Current: 89805 / min. Contact us through our help center at help.openai.com if you continue to have issues.\n",
      "generated an exception: Rate limit reached for default-gpt-3.5-turbo in organization org-oXRtqZdWlsnmtry277X001Hu on tokens per min. Limit: 90000 / min. Current: 89703 / min. Contact us through our help center at help.openai.com if you continue to have issues.\n",
      "generated an exception: Rate limit reached for default-gpt-3.5-turbo in organization org-oXRtqZdWlsnmtry277X001Hu on tokens per min. Limit: 90000 / min. Current: 89587 / min. Contact us through our help center at help.openai.com if you continue to have issues.\n"
     ]
    },
    {
     "name": "stderr",
     "output_type": "stream",
     "text": [
      " 81%|███████████████████████████████▌       | 4054/5000 [25:31<01:32, 10.26it/s]"
     ]
    },
    {
     "name": "stdout",
     "output_type": "stream",
     "text": [
      "generated an exception: Rate limit reached for default-gpt-3.5-turbo in organization org-oXRtqZdWlsnmtry277X001Hu on tokens per min. Limit: 90000 / min. Current: 89464 / min. Contact us through our help center at help.openai.com if you continue to have issues.\n",
      "generated an exception: Rate limit reached for default-gpt-3.5-turbo in organization org-oXRtqZdWlsnmtry277X001Hu on tokens per min. Limit: 90000 / min. Current: 89345 / min. Contact us through our help center at help.openai.com if you continue to have issues.\n"
     ]
    },
    {
     "name": "stderr",
     "output_type": "stream",
     "text": [
      " 81%|███████████████████████████████▋       | 4056/5000 [25:32<02:55,  5.39it/s]"
     ]
    },
    {
     "name": "stdout",
     "output_type": "stream",
     "text": [
      "generated an exception: Rate limit reached for default-gpt-3.5-turbo in organization org-oXRtqZdWlsnmtry277X001Hu on tokens per min. Limit: 90000 / min. Current: 88882 / min. Contact us through our help center at help.openai.com if you continue to have issues.\n"
     ]
    },
    {
     "name": "stderr",
     "output_type": "stream",
     "text": [
      " 82%|███████████████████████████████▊       | 4075/5000 [25:39<03:15,  4.72it/s]"
     ]
    },
    {
     "name": "stdout",
     "output_type": "stream",
     "text": [
      "generated an exception: Rate limit reached for default-gpt-3.5-turbo in organization org-oXRtqZdWlsnmtry277X001Hu on tokens per min. Limit: 90000 / min. Current: 89720 / min. Contact us through our help center at help.openai.com if you continue to have issues.\n"
     ]
    },
    {
     "name": "stderr",
     "output_type": "stream",
     "text": [
      " 82%|███████████████████████████████▊       | 4079/5000 [25:39<02:02,  7.53it/s]"
     ]
    },
    {
     "name": "stdout",
     "output_type": "stream",
     "text": [
      "generated an exception: Rate limit reached for default-gpt-3.5-turbo in organization org-oXRtqZdWlsnmtry277X001Hu on tokens per min. Limit: 90000 / min. Current: 89871 / min. Contact us through our help center at help.openai.com if you continue to have issues.\n",
      "generated an exception: Rate limit reached for default-gpt-3.5-turbo in organization org-oXRtqZdWlsnmtry277X001Hu on tokens per min. Limit: 90000 / min. Current: 89759 / min. Contact us through our help center at help.openai.com if you continue to have issues.\n",
      "generated an exception: Rate limit reached for default-gpt-3.5-turbo in organization org-oXRtqZdWlsnmtry277X001Hu on tokens per min. Limit: 90000 / min. Current: 89651 / min. Contact us through our help center at help.openai.com if you continue to have issues.\n"
     ]
    },
    {
     "name": "stderr",
     "output_type": "stream",
     "text": [
      " 82%|███████████████████████████████▊       | 4081/5000 [25:39<02:10,  7.02it/s]"
     ]
    },
    {
     "name": "stdout",
     "output_type": "stream",
     "text": [
      "generated an exception: Rate limit reached for default-gpt-3.5-turbo in organization org-oXRtqZdWlsnmtry277X001Hu on tokens per min. Limit: 90000 / min. Current: 89808 / min. Contact us through our help center at help.openai.com if you continue to have issues.\n",
      "generated an exception: Rate limit reached for default-gpt-3.5-turbo in organization org-oXRtqZdWlsnmtry277X001Hu on tokens per min. Limit: 90000 / min. Current: 89696 / min. Contact us through our help center at help.openai.com if you continue to have issues.\n",
      "generated an exception: Rate limit reached for default-gpt-3.5-turbo in organization org-oXRtqZdWlsnmtry277X001Hu on tokens per min. Limit: 90000 / min. Current: 89794 / min. Contact us through our help center at help.openai.com if you continue to have issues.\n"
     ]
    },
    {
     "name": "stderr",
     "output_type": "stream",
     "text": [
      " 82%|████████████████████████████████       | 4103/5000 [25:47<02:03,  7.28it/s]"
     ]
    },
    {
     "name": "stdout",
     "output_type": "stream",
     "text": [
      "generated an exception: Rate limit reached for default-gpt-3.5-turbo in organization org-oXRtqZdWlsnmtry277X001Hu on tokens per min. Limit: 90000 / min. Current: 89574 / min. Contact us through our help center at help.openai.com if you continue to have issues.\n",
      "generated an exception: Rate limit reached for default-gpt-3.5-turbo in organization org-oXRtqZdWlsnmtry277X001Hu on tokens per min. Limit: 90000 / min. Current: 89462 / min. Contact us through our help center at help.openai.com if you continue to have issues.\n",
      "generated an exception: Rate limit reached for default-gpt-3.5-turbo in organization org-oXRtqZdWlsnmtry277X001Hu on tokens per min. Limit: 90000 / min. Current: 89964 / min. Contact us through our help center at help.openai.com if you continue to have issues.\n",
      "generated an exception: Rate limit reached for default-gpt-3.5-turbo in organization org-oXRtqZdWlsnmtry277X001Hu on tokens per min. Limit: 90000 / min. Current: 89853 / min. Contact us through our help center at help.openai.com if you continue to have issues.\n"
     ]
    },
    {
     "name": "stderr",
     "output_type": "stream",
     "text": [
      " 82%|████████████████████████████████       | 4108/5000 [25:48<01:19, 11.26it/s]"
     ]
    },
    {
     "name": "stdout",
     "output_type": "stream",
     "text": [
      "generated an exception: Rate limit reached for default-gpt-3.5-turbo in organization org-oXRtqZdWlsnmtry277X001Hu on tokens per min. Limit: 90000 / min. Current: 89800 / min. Contact us through our help center at help.openai.com if you continue to have issues.\n",
      "generated an exception: Rate limit reached for default-gpt-3.5-turbo in organization org-oXRtqZdWlsnmtry277X001Hu on tokens per min. Limit: 90000 / min. Current: 89684 / min. Contact us through our help center at help.openai.com if you continue to have issues.\n",
      "generated an exception: Rate limit reached for default-gpt-3.5-turbo in organization org-oXRtqZdWlsnmtry277X001Hu on tokens per min. Limit: 90000 / min. Current: 89628 / min. Contact us through our help center at help.openai.com if you continue to have issues.\n"
     ]
    },
    {
     "name": "stderr",
     "output_type": "stream",
     "text": [
      " 82%|████████████████████████████████       | 4117/5000 [25:48<00:41, 21.11it/s]"
     ]
    },
    {
     "name": "stdout",
     "output_type": "stream",
     "text": [
      "generated an exception: Rate limit reached for default-gpt-3.5-turbo in organization org-oXRtqZdWlsnmtry277X001Hu on tokens per min. Limit: 90000 / min. Current: 89839 / min. Contact us through our help center at help.openai.com if you continue to have issues.\n",
      "generated an exception: Rate limit reached for default-gpt-3.5-turbo in organization org-oXRtqZdWlsnmtry277X001Hu on tokens per min. Limit: 90000 / min. Current: 89737 / min. Contact us through our help center at help.openai.com if you continue to have issues.\n",
      "generated an exception: Rate limit reached for default-gpt-3.5-turbo in organization org-oXRtqZdWlsnmtry277X001Hu on tokens per min. Limit: 90000 / min. Current: 89704 / min. Contact us through our help center at help.openai.com if you continue to have issues.\n",
      "generated an exception: Rate limit reached for default-gpt-3.5-turbo in organization org-oXRtqZdWlsnmtry277X001Hu on tokens per min. Limit: 90000 / min. Current: 89675 / min. Contact us through our help center at help.openai.com if you continue to have issues.\n",
      "generated an exception: Rate limit reached for default-gpt-3.5-turbo in organization org-oXRtqZdWlsnmtry277X001Hu on tokens per min. Limit: 90000 / min. Current: 89598 / min. Contact us through our help center at help.openai.com if you continue to have issues.\n",
      "generated an exception: Rate limit reached for default-gpt-3.5-turbo in organization org-oXRtqZdWlsnmtry277X001Hu on tokens per min. Limit: 90000 / min. Current: 89601 / min. Contact us through our help center at help.openai.com if you continue to have issues.\n",
      "generated an exception: Rate limit reached for default-gpt-3.5-turbo in organization org-oXRtqZdWlsnmtry277X001Hu on tokens per min. Limit: 90000 / min. Current: 89546 / min. Contact us through our help center at help.openai.com if you continue to have issues.\n"
     ]
    },
    {
     "name": "stderr",
     "output_type": "stream",
     "text": [
      " 82%|████████████████████████████████▏      | 4122/5000 [25:48<00:34, 25.46it/s]"
     ]
    },
    {
     "name": "stdout",
     "output_type": "stream",
     "text": [
      "generated an exception: Rate limit reached for default-gpt-3.5-turbo in organization org-oXRtqZdWlsnmtry277X001Hu on tokens per min. Limit: 90000 / min. Current: 89488 / min. Contact us through our help center at help.openai.com if you continue to have issues.\n",
      "generated an exception: Rate limit reached for default-gpt-3.5-turbo in organization org-oXRtqZdWlsnmtry277X001Hu on tokens per min. Limit: 90000 / min. Current: 89471 / min. Contact us through our help center at help.openai.com if you continue to have issues.\n",
      "generated an exception: Rate limit reached for default-gpt-3.5-turbo in organization org-oXRtqZdWlsnmtry277X001Hu on tokens per min. Limit: 90000 / min. Current: 89460 / min. Contact us through our help center at help.openai.com if you continue to have issues.\n",
      "generated an exception: Rate limit reached for default-gpt-3.5-turbo in organization org-oXRtqZdWlsnmtry277X001Hu on tokens per min. Limit: 90000 / min. Current: 89435 / min. Contact us through our help center at help.openai.com if you continue to have issues.\n",
      "generated an exception: Rate limit reached for default-gpt-3.5-turbo in organization org-oXRtqZdWlsnmtry277X001Hu on tokens per min. Limit: 90000 / min. Current: 89349 / min. Contact us through our help center at help.openai.com if you continue to have issues.\n",
      "generated an exception: Rate limit reached for default-gpt-3.5-turbo in organization org-oXRtqZdWlsnmtry277X001Hu on tokens per min. Limit: 90000 / min. Current: 89934 / min. Contact us through our help center at help.openai.com if you continue to have issues.\n"
     ]
    },
    {
     "name": "stderr",
     "output_type": "stream",
     "text": [
      " 83%|████████████████████████████████▏      | 4126/5000 [25:48<00:41, 21.00it/s]"
     ]
    },
    {
     "name": "stdout",
     "output_type": "stream",
     "text": [
      "generated an exception: Rate limit reached for default-gpt-3.5-turbo in organization org-oXRtqZdWlsnmtry277X001Hu on tokens per min. Limit: 90000 / min. Current: 89747 / min. Contact us through our help center at help.openai.com if you continue to have issues.\n",
      "generated an exception: Rate limit reached for default-gpt-3.5-turbo in organization org-oXRtqZdWlsnmtry277X001Hu on tokens per min. Limit: 90000 / min. Current: 89621 / min. Contact us through our help center at help.openai.com if you continue to have issues.\n",
      "generated an exception: Rate limit reached for default-gpt-3.5-turbo in organization org-oXRtqZdWlsnmtry277X001Hu on tokens per min. Limit: 90000 / min. Current: 89581 / min. Contact us through our help center at help.openai.com if you continue to have issues.\n",
      "generated an exception: Rate limit reached for default-gpt-3.5-turbo in organization org-oXRtqZdWlsnmtry277X001Hu on tokens per min. Limit: 90000 / min. Current: 89533 / min. Contact us through our help center at help.openai.com if you continue to have issues.\n",
      "generated an exception: Rate limit reached for default-gpt-3.5-turbo in organization org-oXRtqZdWlsnmtry277X001Hu on tokens per min. Limit: 90000 / min. Current: 89511 / min. Contact us through our help center at help.openai.com if you continue to have issues.\n"
     ]
    },
    {
     "name": "stderr",
     "output_type": "stream",
     "text": [
      " 83%|████████████████████████████████▏      | 4133/5000 [25:49<00:42, 20.29it/s]"
     ]
    },
    {
     "name": "stdout",
     "output_type": "stream",
     "text": [
      "generated an exception: Rate limit reached for default-gpt-3.5-turbo in organization org-oXRtqZdWlsnmtry277X001Hu on tokens per min. Limit: 90000 / min. Current: 89370 / min. Contact us through our help center at help.openai.com if you continue to have issues.\n",
      "generated an exception: Rate limit reached for default-gpt-3.5-turbo in organization org-oXRtqZdWlsnmtry277X001Hu on tokens per min. Limit: 90000 / min. Current: 89843 / min. Contact us through our help center at help.openai.com if you continue to have issues.\n",
      "generated an exception: Rate limit reached for default-gpt-3.5-turbo in organization org-oXRtqZdWlsnmtry277X001Hu on tokens per min. Limit: 90000 / min. Current: 89818 / min. Contact us through our help center at help.openai.com if you continue to have issues.\n",
      "generated an exception: Rate limit reached for default-gpt-3.5-turbo in organization org-oXRtqZdWlsnmtry277X001Hu on tokens per min. Limit: 90000 / min. Current: 89690 / min. Contact us through our help center at help.openai.com if you continue to have issues.\n"
     ]
    },
    {
     "name": "stderr",
     "output_type": "stream",
     "text": [
      " 83%|████████████████████████████████▎      | 4137/5000 [25:49<00:36, 23.81it/s]"
     ]
    },
    {
     "name": "stdout",
     "output_type": "stream",
     "text": [
      "generated an exception: Rate limit reached for default-gpt-3.5-turbo in organization org-oXRtqZdWlsnmtry277X001Hu on tokens per min. Limit: 90000 / min. Current: 89700 / min. Contact us through our help center at help.openai.com if you continue to have issues.\n",
      "generated an exception: Rate limit reached for default-gpt-3.5-turbo in organization org-oXRtqZdWlsnmtry277X001Hu on tokens per min. Limit: 90000 / min. Current: 89963 / min. Contact us through our help center at help.openai.com if you continue to have issues.\n",
      "generated an exception: Rate limit reached for default-gpt-3.5-turbo in organization org-oXRtqZdWlsnmtry277X001Hu on tokens per min. Limit: 90000 / min. Current: 89945 / min. Contact us through our help center at help.openai.com if you continue to have issues.\n",
      "generated an exception: Rate limit reached for default-gpt-3.5-turbo in organization org-oXRtqZdWlsnmtry277X001Hu on tokens per min. Limit: 90000 / min. Current: 89835 / min. Contact us through our help center at help.openai.com if you continue to have issues.\n"
     ]
    },
    {
     "name": "stderr",
     "output_type": "stream",
     "text": [
      " 83%|████████████████████████████████▎      | 4140/5000 [25:49<00:47, 18.28it/s]"
     ]
    },
    {
     "name": "stdout",
     "output_type": "stream",
     "text": [
      "generated an exception: Rate limit reached for default-gpt-3.5-turbo in organization org-oXRtqZdWlsnmtry277X001Hu on tokens per min. Limit: 90000 / min. Current: 89716 / min. Contact us through our help center at help.openai.com if you continue to have issues.\n",
      "generated an exception: Rate limit reached for default-gpt-3.5-turbo in organization org-oXRtqZdWlsnmtry277X001Hu on tokens per min. Limit: 90000 / min. Current: 89609 / min. Contact us through our help center at help.openai.com if you continue to have issues.\n",
      "generated an exception: Rate limit reached for default-gpt-3.5-turbo in organization org-oXRtqZdWlsnmtry277X001Hu on tokens per min. Limit: 90000 / min. Current: 89265 / min. Contact us through our help center at help.openai.com if you continue to have issues.\n"
     ]
    },
    {
     "name": "stderr",
     "output_type": "stream",
     "text": [
      " 83%|████████████████████████████████▎      | 4143/5000 [25:50<01:30,  9.50it/s]"
     ]
    },
    {
     "name": "stdout",
     "output_type": "stream",
     "text": [
      "generated an exception: Rate limit reached for default-gpt-3.5-turbo in organization org-oXRtqZdWlsnmtry277X001Hu on tokens per min. Limit: 90000 / min. Current: 88963 / min. Contact us through our help center at help.openai.com if you continue to have issues.\n"
     ]
    },
    {
     "name": "stderr",
     "output_type": "stream",
     "text": [
      " 83%|████████████████████████████████▎      | 4147/5000 [25:50<01:32,  9.18it/s]"
     ]
    },
    {
     "name": "stdout",
     "output_type": "stream",
     "text": [
      "generated an exception: Rate limit reached for default-gpt-3.5-turbo in organization org-oXRtqZdWlsnmtry277X001Hu on tokens per min. Limit: 90000 / min. Current: 89840 / min. Contact us through our help center at help.openai.com if you continue to have issues.\n",
      "generated an exception: Rate limit reached for default-gpt-3.5-turbo in organization org-oXRtqZdWlsnmtry277X001Hu on tokens per min. Limit: 90000 / min. Current: 89711 / min. Contact us through our help center at help.openai.com if you continue to have issues.\n"
     ]
    },
    {
     "name": "stderr",
     "output_type": "stream",
     "text": [
      " 83%|████████████████████████████████▎      | 4150/5000 [25:50<01:16, 11.06it/s]"
     ]
    },
    {
     "name": "stdout",
     "output_type": "stream",
     "text": [
      "generated an exception: Rate limit reached for default-gpt-3.5-turbo in organization org-oXRtqZdWlsnmtry277X001Hu on tokens per min. Limit: 90000 / min. Current: 89594 / min. Contact us through our help center at help.openai.com if you continue to have issues.\n",
      "generated an exception: Rate limit reached for default-gpt-3.5-turbo in organization org-oXRtqZdWlsnmtry277X001Hu on tokens per min. Limit: 90000 / min. Current: 89591 / min. Contact us through our help center at help.openai.com if you continue to have issues.\n",
      "generated an exception: Rate limit reached for default-gpt-3.5-turbo in organization org-oXRtqZdWlsnmtry277X001Hu on tokens per min. Limit: 90000 / min. Current: 89473 / min. Contact us through our help center at help.openai.com if you continue to have issues.\n"
     ]
    },
    {
     "name": "stderr",
     "output_type": "stream",
     "text": [
      " 83%|████████████████████████████████▍      | 4155/5000 [25:51<01:19, 10.70it/s]"
     ]
    },
    {
     "name": "stdout",
     "output_type": "stream",
     "text": [
      "generated an exception: Rate limit reached for default-gpt-3.5-turbo in organization org-oXRtqZdWlsnmtry277X001Hu on tokens per min. Limit: 90000 / min. Current: 89143 / min. Contact us through our help center at help.openai.com if you continue to have issues.\n",
      "generated an exception: Rate limit reached for default-gpt-3.5-turbo in organization org-oXRtqZdWlsnmtry277X001Hu on tokens per min. Limit: 90000 / min. Current: 89029 / min. Contact us through our help center at help.openai.com if you continue to have issues.\n"
     ]
    },
    {
     "name": "stderr",
     "output_type": "stream",
     "text": [
      " 83%|████████████████████████████████▍      | 4157/5000 [25:51<01:19, 10.61it/s]"
     ]
    },
    {
     "name": "stdout",
     "output_type": "stream",
     "text": [
      "generated an exception: Rate limit reached for default-gpt-3.5-turbo in organization org-oXRtqZdWlsnmtry277X001Hu on tokens per min. Limit: 90000 / min. Current: 89730 / min. Contact us through our help center at help.openai.com if you continue to have issues.\n",
      "generated an exception: Rate limit reached for default-gpt-3.5-turbo in organization org-oXRtqZdWlsnmtry277X001Hu on tokens per min. Limit: 90000 / min. Current: 89637 / min. Contact us through our help center at help.openai.com if you continue to have issues.\n"
     ]
    },
    {
     "name": "stderr",
     "output_type": "stream",
     "text": [
      " 83%|████████████████████████████████▍      | 4159/5000 [25:51<01:33,  8.98it/s]"
     ]
    },
    {
     "name": "stdout",
     "output_type": "stream",
     "text": [
      "generated an exception: Rate limit reached for default-gpt-3.5-turbo in organization org-oXRtqZdWlsnmtry277X001Hu on tokens per min. Limit: 90000 / min. Current: 89274 / min. Contact us through our help center at help.openai.com if you continue to have issues.\n",
      "generated an exception: Rate limit reached for default-gpt-3.5-turbo in organization org-oXRtqZdWlsnmtry277X001Hu on tokens per min. Limit: 90000 / min. Current: 89134 / min. Contact us through our help center at help.openai.com if you continue to have issues.\n",
      "generated an exception: The server is overloaded or not ready yet.\n"
     ]
    },
    {
     "name": "stderr",
     "output_type": "stream",
     "text": [
      " 83%|████████████████████████████████▍      | 4164/5000 [25:53<02:32,  5.49it/s]"
     ]
    },
    {
     "name": "stdout",
     "output_type": "stream",
     "text": [
      "generated an exception: Rate limit reached for default-gpt-3.5-turbo in organization org-oXRtqZdWlsnmtry277X001Hu on tokens per min. Limit: 90000 / min. Current: 88353 / min. Contact us through our help center at help.openai.com if you continue to have issues.\n",
      "generated an exception: Rate limit reached for default-gpt-3.5-turbo in organization org-oXRtqZdWlsnmtry277X001Hu on tokens per min. Limit: 90000 / min. Current: 89048 / min. Contact us through our help center at help.openai.com if you continue to have issues.\n"
     ]
    },
    {
     "name": "stderr",
     "output_type": "stream",
     "text": [
      " 83%|████████████████████████████████▍      | 4166/5000 [25:53<02:10,  6.42it/s]"
     ]
    },
    {
     "name": "stdout",
     "output_type": "stream",
     "text": [
      "generated an exception: Rate limit reached for default-gpt-3.5-turbo in organization org-oXRtqZdWlsnmtry277X001Hu on tokens per min. Limit: 90000 / min. Current: 88935 / min. Contact us through our help center at help.openai.com if you continue to have issues.\n",
      "generated an exception: Rate limit reached for default-gpt-3.5-turbo in organization org-oXRtqZdWlsnmtry277X001Hu on tokens per min. Limit: 90000 / min. Current: 88752 / min. Contact us through our help center at help.openai.com if you continue to have issues.\n"
     ]
    },
    {
     "name": "stderr",
     "output_type": "stream",
     "text": [
      " 83%|████████████████████████████████▌      | 4168/5000 [25:54<03:17,  4.20it/s]"
     ]
    },
    {
     "name": "stdout",
     "output_type": "stream",
     "text": [
      "generated an exception: Rate limit reached for default-gpt-3.5-turbo in organization org-oXRtqZdWlsnmtry277X001Hu on tokens per min. Limit: 90000 / min. Current: 88532 / min. Contact us through our help center at help.openai.com if you continue to have issues.\n"
     ]
    },
    {
     "name": "stderr",
     "output_type": "stream",
     "text": [
      " 84%|████████████████████████████████▌      | 4179/5000 [25:58<02:56,  4.65it/s]"
     ]
    },
    {
     "name": "stdout",
     "output_type": "stream",
     "text": [
      "generated an exception: Rate limit reached for default-gpt-3.5-turbo in organization org-oXRtqZdWlsnmtry277X001Hu on tokens per min. Limit: 90000 / min. Current: 88348 / min. Contact us through our help center at help.openai.com if you continue to have issues.\n",
      "generated an exception: Rate limit reached for default-gpt-3.5-turbo in organization org-oXRtqZdWlsnmtry277X001Hu on tokens per min. Limit: 90000 / min. Current: 89603 / min. Contact us through our help center at help.openai.com if you continue to have issues.\n",
      "generated an exception: Rate limit reached for default-gpt-3.5-turbo in organization org-oXRtqZdWlsnmtry277X001Hu on tokens per min. Limit: 90000 / min. Current: 89491 / min. Contact us through our help center at help.openai.com if you continue to have issues.\n"
     ]
    },
    {
     "name": "stderr",
     "output_type": "stream",
     "text": [
      " 84%|████████████████████████████████▌      | 4181/5000 [25:59<03:33,  3.83it/s]"
     ]
    },
    {
     "name": "stdout",
     "output_type": "stream",
     "text": [
      "generated an exception: Rate limit reached for default-gpt-3.5-turbo in organization org-oXRtqZdWlsnmtry277X001Hu on tokens per min. Limit: 90000 / min. Current: 89243 / min. Contact us through our help center at help.openai.com if you continue to have issues.\n"
     ]
    },
    {
     "name": "stderr",
     "output_type": "stream",
     "text": [
      " 84%|████████████████████████████████▋      | 4188/5000 [26:00<02:07,  6.38it/s]"
     ]
    },
    {
     "name": "stdout",
     "output_type": "stream",
     "text": [
      "generated an exception: Rate limit reached for default-gpt-3.5-turbo in organization org-oXRtqZdWlsnmtry277X001Hu on tokens per min. Limit: 90000 / min. Current: 88724 / min. Contact us through our help center at help.openai.com if you continue to have issues.\n",
      "generated an exception: Rate limit reached for default-gpt-3.5-turbo in organization org-oXRtqZdWlsnmtry277X001Hu on tokens per min. Limit: 90000 / min. Current: 88648 / min. Contact us through our help center at help.openai.com if you continue to have issues.\n",
      "generated an exception: Rate limit reached for default-gpt-3.5-turbo in organization org-oXRtqZdWlsnmtry277X001Hu on tokens per min. Limit: 90000 / min. Current: 88616 / min. Contact us through our help center at help.openai.com if you continue to have issues.\n"
     ]
    },
    {
     "name": "stderr",
     "output_type": "stream",
     "text": [
      " 84%|████████████████████████████████▋      | 4193/5000 [26:00<01:45,  7.62it/s]"
     ]
    },
    {
     "name": "stdout",
     "output_type": "stream",
     "text": [
      "generated an exception: Rate limit reached for default-gpt-3.5-turbo in organization org-oXRtqZdWlsnmtry277X001Hu on tokens per min. Limit: 90000 / min. Current: 89537 / min. Contact us through our help center at help.openai.com if you continue to have issues.\n"
     ]
    },
    {
     "name": "stderr",
     "output_type": "stream",
     "text": [
      " 84%|████████████████████████████████▋      | 4194/5000 [26:01<01:53,  7.11it/s]"
     ]
    },
    {
     "name": "stdout",
     "output_type": "stream",
     "text": [
      "generated an exception: Rate limit reached for default-gpt-3.5-turbo in organization org-oXRtqZdWlsnmtry277X001Hu on tokens per min. Limit: 90000 / min. Current: 89499 / min. Contact us through our help center at help.openai.com if you continue to have issues.\n"
     ]
    },
    {
     "name": "stderr",
     "output_type": "stream",
     "text": [
      " 84%|████████████████████████████████▊      | 4200/5000 [26:01<01:12, 11.06it/s]"
     ]
    },
    {
     "name": "stdout",
     "output_type": "stream",
     "text": [
      "generated an exception: Rate limit reached for default-gpt-3.5-turbo in organization org-oXRtqZdWlsnmtry277X001Hu on tokens per min. Limit: 90000 / min. Current: 89789 / min. Contact us through our help center at help.openai.com if you continue to have issues.\n",
      "generated an exception: Rate limit reached for default-gpt-3.5-turbo in organization org-oXRtqZdWlsnmtry277X001Hu on tokens per min. Limit: 90000 / min. Current: 89680 / min. Contact us through our help center at help.openai.com if you continue to have issues.\n",
      "generated an exception: Rate limit reached for default-gpt-3.5-turbo in organization org-oXRtqZdWlsnmtry277X001Hu on tokens per min. Limit: 90000 / min. Current: 89563 / min. Contact us through our help center at help.openai.com if you continue to have issues.\n"
     ]
    },
    {
     "name": "stderr",
     "output_type": "stream",
     "text": [
      " 84%|████████████████████████████████▊      | 4202/5000 [26:01<01:37,  8.15it/s]"
     ]
    },
    {
     "name": "stdout",
     "output_type": "stream",
     "text": [
      "generated an exception: Rate limit reached for default-gpt-3.5-turbo in organization org-oXRtqZdWlsnmtry277X001Hu on tokens per min. Limit: 90000 / min. Current: 89530 / min. Contact us through our help center at help.openai.com if you continue to have issues.\n",
      "generated an exception: Rate limit reached for default-gpt-3.5-turbo in organization org-oXRtqZdWlsnmtry277X001Hu on tokens per min. Limit: 90000 / min. Current: 89423 / min. Contact us through our help center at help.openai.com if you continue to have issues.\n"
     ]
    },
    {
     "name": "stderr",
     "output_type": "stream",
     "text": [
      " 84%|████████████████████████████████▊      | 4209/5000 [26:04<03:12,  4.10it/s]"
     ]
    },
    {
     "name": "stdout",
     "output_type": "stream",
     "text": [
      "generated an exception: Rate limit reached for default-gpt-3.5-turbo in organization org-oXRtqZdWlsnmtry277X001Hu on tokens per min. Limit: 90000 / min. Current: 89258 / min. Contact us through our help center at help.openai.com if you continue to have issues.\n"
     ]
    },
    {
     "name": "stderr",
     "output_type": "stream",
     "text": [
      " 85%|█████████████████████████████████      | 4232/5000 [26:13<04:18,  2.97it/s]"
     ]
    },
    {
     "name": "stdout",
     "output_type": "stream",
     "text": [
      "generated an exception: Bad gateway. {\"error\":{\"code\":502,\"message\":\"Bad gateway.\",\"param\":null,\"type\":\"cf_bad_gateway\"}} 502 {'error': {'code': 502, 'message': 'Bad gateway.', 'param': None, 'type': 'cf_bad_gateway'}} {'Date': 'Tue, 27 Jun 2023 11:22:31 GMT', 'Content-Type': 'application/json', 'Content-Length': '84', 'Connection': 'keep-alive', 'X-Frame-Options': 'SAMEORIGIN', 'Referrer-Policy': 'same-origin', 'Cache-Control': 'private, max-age=0, no-store, no-cache, must-revalidate, post-check=0, pre-check=0', 'Expires': 'Thu, 01 Jan 1970 00:00:01 GMT', 'Server': 'cloudflare', 'CF-RAY': '7ddd47ddadbeebcb-SEA', 'alt-svc': 'h3=\":443\"; ma=86400'}\n"
     ]
    },
    {
     "name": "stderr",
     "output_type": "stream",
     "text": [
      " 85%|█████████████████████████████████      | 4246/5000 [26:19<04:40,  2.69it/s]"
     ]
    },
    {
     "name": "stdout",
     "output_type": "stream",
     "text": [
      "generated an exception: Rate limit reached for default-gpt-3.5-turbo in organization org-oXRtqZdWlsnmtry277X001Hu on tokens per min. Limit: 90000 / min. Current: 88802 / min. Contact us through our help center at help.openai.com if you continue to have issues.\n"
     ]
    },
    {
     "name": "stderr",
     "output_type": "stream",
     "text": [
      " 85%|█████████████████████████████████▏     | 4252/5000 [26:20<02:23,  5.21it/s]"
     ]
    },
    {
     "name": "stdout",
     "output_type": "stream",
     "text": [
      "generated an exception: Rate limit reached for default-gpt-3.5-turbo in organization org-oXRtqZdWlsnmtry277X001Hu on tokens per min. Limit: 90000 / min. Current: 88976 / min. Contact us through our help center at help.openai.com if you continue to have issues.\n",
      "generated an exception: Rate limit reached for default-gpt-3.5-turbo in organization org-oXRtqZdWlsnmtry277X001Hu on tokens per min. Limit: 90000 / min. Current: 89174 / min. Contact us through our help center at help.openai.com if you continue to have issues.\n"
     ]
    },
    {
     "name": "stderr",
     "output_type": "stream",
     "text": [
      " 85%|█████████████████████████████████▏     | 4256/5000 [26:20<01:34,  7.83it/s]"
     ]
    },
    {
     "name": "stdout",
     "output_type": "stream",
     "text": [
      "generated an exception: Rate limit reached for default-gpt-3.5-turbo in organization org-oXRtqZdWlsnmtry277X001Hu on tokens per min. Limit: 90000 / min. Current: 88881 / min. Contact us through our help center at help.openai.com if you continue to have issues.\n",
      "generated an exception: Rate limit reached for default-gpt-3.5-turbo in organization org-oXRtqZdWlsnmtry277X001Hu on tokens per min. Limit: 90000 / min. Current: 88762 / min. Contact us through our help center at help.openai.com if you continue to have issues.\n",
      "generated an exception: Rate limit reached for default-gpt-3.5-turbo in organization org-oXRtqZdWlsnmtry277X001Hu on tokens per min. Limit: 90000 / min. Current: 89443 / min. Contact us through our help center at help.openai.com if you continue to have issues.\n"
     ]
    },
    {
     "name": "stderr",
     "output_type": "stream",
     "text": [
      " 85%|█████████████████████████████████▏     | 4258/5000 [26:21<03:02,  4.07it/s]"
     ]
    },
    {
     "name": "stdout",
     "output_type": "stream",
     "text": [
      "generated an exception: Bad gateway. {\"error\":{\"code\":502,\"message\":\"Bad gateway.\",\"param\":null,\"type\":\"cf_bad_gateway\"}} 502 {'error': {'code': 502, 'message': 'Bad gateway.', 'param': None, 'type': 'cf_bad_gateway'}} {'Date': 'Tue, 27 Jun 2023 11:22:39 GMT', 'Content-Type': 'application/json', 'Content-Length': '84', 'Connection': 'keep-alive', 'X-Frame-Options': 'SAMEORIGIN', 'Referrer-Policy': 'same-origin', 'Cache-Control': 'private, max-age=0, no-store, no-cache, must-revalidate, post-check=0, pre-check=0', 'Expires': 'Thu, 01 Jan 1970 00:00:01 GMT', 'Server': 'cloudflare', 'CF-RAY': '7ddd47e7aa7ac571-SEA', 'alt-svc': 'h3=\":443\"; ma=86400'}\n"
     ]
    },
    {
     "name": "stderr",
     "output_type": "stream",
     "text": [
      " 85%|█████████████████████████████████▎     | 4265/5000 [26:22<01:54,  6.44it/s]"
     ]
    },
    {
     "name": "stdout",
     "output_type": "stream",
     "text": [
      "generated an exception: Rate limit reached for default-gpt-3.5-turbo in organization org-oXRtqZdWlsnmtry277X001Hu on tokens per min. Limit: 90000 / min. Current: 89345 / min. Contact us through our help center at help.openai.com if you continue to have issues.\n",
      "generated an exception: Rate limit reached for default-gpt-3.5-turbo in organization org-oXRtqZdWlsnmtry277X001Hu on tokens per min. Limit: 90000 / min. Current: 89177 / min. Contact us through our help center at help.openai.com if you continue to have issues.\n"
     ]
    },
    {
     "name": "stderr",
     "output_type": "stream",
     "text": [
      " 85%|█████████████████████████████████▎     | 4270/5000 [26:23<01:58,  6.16it/s]"
     ]
    },
    {
     "name": "stdout",
     "output_type": "stream",
     "text": [
      "generated an exception: Rate limit reached for default-gpt-3.5-turbo in organization org-oXRtqZdWlsnmtry277X001Hu on tokens per min. Limit: 90000 / min. Current: 89263 / min. Contact us through our help center at help.openai.com if you continue to have issues.\n",
      "generated an exception: Rate limit reached for default-gpt-3.5-turbo in organization org-oXRtqZdWlsnmtry277X001Hu on tokens per min. Limit: 90000 / min. Current: 89330 / min. Contact us through our help center at help.openai.com if you continue to have issues.\n",
      "generated an exception: Rate limit reached for default-gpt-3.5-turbo in organization org-oXRtqZdWlsnmtry277X001Hu on tokens per min. Limit: 90000 / min. Current: 89212 / min. Contact us through our help center at help.openai.com if you continue to have issues.\n"
     ]
    },
    {
     "name": "stderr",
     "output_type": "stream",
     "text": [
      " 86%|█████████████████████████████████▎     | 4275/5000 [26:23<01:36,  7.50it/s]"
     ]
    },
    {
     "name": "stdout",
     "output_type": "stream",
     "text": [
      "generated an exception: Rate limit reached for default-gpt-3.5-turbo in organization org-oXRtqZdWlsnmtry277X001Hu on tokens per min. Limit: 90000 / min. Current: 89734 / min. Contact us through our help center at help.openai.com if you continue to have issues.\n"
     ]
    },
    {
     "name": "stderr",
     "output_type": "stream",
     "text": [
      " 86%|█████████████████████████████████▍     | 4280/5000 [26:27<05:42,  2.10it/s]"
     ]
    },
    {
     "name": "stdout",
     "output_type": "stream",
     "text": [
      "generated an exception: Rate limit reached for default-gpt-3.5-turbo in organization org-oXRtqZdWlsnmtry277X001Hu on tokens per min. Limit: 90000 / min. Current: 86949 / min. Contact us through our help center at help.openai.com if you continue to have issues.\n"
     ]
    },
    {
     "name": "stderr",
     "output_type": "stream",
     "text": [
      " 86%|█████████████████████████████████▍     | 4282/5000 [26:28<05:36,  2.13it/s]"
     ]
    },
    {
     "name": "stdout",
     "output_type": "stream",
     "text": [
      "generated an exception: The server is overloaded or not ready yet.\n"
     ]
    },
    {
     "name": "stderr",
     "output_type": "stream",
     "text": [
      " 86%|█████████████████████████████████▍     | 4286/5000 [26:28<03:11,  3.72it/s]"
     ]
    },
    {
     "name": "stdout",
     "output_type": "stream",
     "text": [
      "generated an exception: Rate limit reached for default-gpt-3.5-turbo in organization org-oXRtqZdWlsnmtry277X001Hu on tokens per min. Limit: 90000 / min. Current: 88202 / min. Contact us through our help center at help.openai.com if you continue to have issues.\n",
      "generated an exception: Rate limit reached for default-gpt-3.5-turbo in organization org-oXRtqZdWlsnmtry277X001Hu on tokens per min. Limit: 90000 / min. Current: 88468 / min. Contact us through our help center at help.openai.com if you continue to have issues.\n"
     ]
    },
    {
     "name": "stderr",
     "output_type": "stream",
     "text": [
      " 86%|█████████████████████████████████▍     | 4289/5000 [26:29<02:17,  5.18it/s]"
     ]
    },
    {
     "name": "stdout",
     "output_type": "stream",
     "text": [
      "generated an exception: Rate limit reached for default-gpt-3.5-turbo in organization org-oXRtqZdWlsnmtry277X001Hu on tokens per min. Limit: 90000 / min. Current: 89091 / min. Contact us through our help center at help.openai.com if you continue to have issues.\n"
     ]
    },
    {
     "name": "stderr",
     "output_type": "stream",
     "text": [
      " 86%|█████████████████████████████████▌     | 4296/5000 [26:29<01:19,  8.90it/s]"
     ]
    },
    {
     "name": "stdout",
     "output_type": "stream",
     "text": [
      "generated an exception: Rate limit reached for default-gpt-3.5-turbo in organization org-oXRtqZdWlsnmtry277X001Hu on tokens per min. Limit: 90000 / min. Current: 89495 / min. Contact us through our help center at help.openai.com if you continue to have issues.\n",
      "generated an exception: Rate limit reached for default-gpt-3.5-turbo in organization org-oXRtqZdWlsnmtry277X001Hu on tokens per min. Limit: 90000 / min. Current: 89455 / min. Contact us through our help center at help.openai.com if you continue to have issues.\n",
      "generated an exception: Rate limit reached for default-gpt-3.5-turbo in organization org-oXRtqZdWlsnmtry277X001Hu on tokens per min. Limit: 90000 / min. Current: 89664 / min. Contact us through our help center at help.openai.com if you continue to have issues.\n"
     ]
    },
    {
     "name": "stderr",
     "output_type": "stream",
     "text": [
      " 86%|█████████████████████████████████▌     | 4300/5000 [26:30<01:07, 10.32it/s]"
     ]
    },
    {
     "name": "stdout",
     "output_type": "stream",
     "text": [
      "generated an exception: Rate limit reached for default-gpt-3.5-turbo in organization org-oXRtqZdWlsnmtry277X001Hu on tokens per min. Limit: 90000 / min. Current: 89556 / min. Contact us through our help center at help.openai.com if you continue to have issues.\n",
      "generated an exception: Rate limit reached for default-gpt-3.5-turbo in organization org-oXRtqZdWlsnmtry277X001Hu on tokens per min. Limit: 90000 / min. Current: 89395 / min. Contact us through our help center at help.openai.com if you continue to have issues.\n",
      "generated an exception: Rate limit reached for default-gpt-3.5-turbo in organization org-oXRtqZdWlsnmtry277X001Hu on tokens per min. Limit: 90000 / min. Current: 89793 / min. Contact us through our help center at help.openai.com if you continue to have issues.\n"
     ]
    },
    {
     "name": "stderr",
     "output_type": "stream",
     "text": [
      " 86%|█████████████████████████████████▌     | 4302/5000 [26:30<01:22,  8.49it/s]"
     ]
    },
    {
     "name": "stdout",
     "output_type": "stream",
     "text": [
      "generated an exception: Rate limit reached for default-gpt-3.5-turbo in organization org-oXRtqZdWlsnmtry277X001Hu on tokens per min. Limit: 90000 / min. Current: 89433 / min. Contact us through our help center at help.openai.com if you continue to have issues.\n"
     ]
    },
    {
     "name": "stderr",
     "output_type": "stream",
     "text": [
      " 86%|█████████████████████████████████▌     | 4304/5000 [26:30<01:19,  8.74it/s]"
     ]
    },
    {
     "name": "stdout",
     "output_type": "stream",
     "text": [
      "generated an exception: Rate limit reached for default-gpt-3.5-turbo in organization org-oXRtqZdWlsnmtry277X001Hu on tokens per min. Limit: 90000 / min. Current: 89620 / min. Contact us through our help center at help.openai.com if you continue to have issues.\n"
     ]
    },
    {
     "name": "stderr",
     "output_type": "stream",
     "text": [
      " 86%|█████████████████████████████████▌     | 4306/5000 [26:31<01:36,  7.22it/s]"
     ]
    },
    {
     "name": "stdout",
     "output_type": "stream",
     "text": [
      "generated an exception: Rate limit reached for default-gpt-3.5-turbo in organization org-oXRtqZdWlsnmtry277X001Hu on tokens per min. Limit: 90000 / min. Current: 89716 / min. Contact us through our help center at help.openai.com if you continue to have issues.\n",
      "generated an exception: Rate limit reached for default-gpt-3.5-turbo in organization org-oXRtqZdWlsnmtry277X001Hu on tokens per min. Limit: 90000 / min. Current: 89592 / min. Contact us through our help center at help.openai.com if you continue to have issues.\n"
     ]
    },
    {
     "name": "stderr",
     "output_type": "stream",
     "text": [
      " 86%|█████████████████████████████████▌     | 4310/5000 [26:31<01:26,  8.02it/s]"
     ]
    },
    {
     "name": "stdout",
     "output_type": "stream",
     "text": [
      "generated an exception: Rate limit reached for default-gpt-3.5-turbo in organization org-oXRtqZdWlsnmtry277X001Hu on tokens per min. Limit: 90000 / min. Current: 89242 / min. Contact us through our help center at help.openai.com if you continue to have issues.\n",
      "generated an exception: Rate limit reached for default-gpt-3.5-turbo in organization org-oXRtqZdWlsnmtry277X001Hu on tokens per min. Limit: 90000 / min. Current: 89004 / min. Contact us through our help center at help.openai.com if you continue to have issues.\n"
     ]
    },
    {
     "name": "stderr",
     "output_type": "stream",
     "text": [
      " 86%|█████████████████████████████████▋     | 4312/5000 [26:31<01:26,  7.92it/s]"
     ]
    },
    {
     "name": "stdout",
     "output_type": "stream",
     "text": [
      "generated an exception: Rate limit reached for default-gpt-3.5-turbo in organization org-oXRtqZdWlsnmtry277X001Hu on tokens per min. Limit: 90000 / min. Current: 89833 / min. Contact us through our help center at help.openai.com if you continue to have issues.\n",
      "generated an exception: Rate limit reached for default-gpt-3.5-turbo in organization org-oXRtqZdWlsnmtry277X001Hu on tokens per min. Limit: 90000 / min. Current: 89599 / min. Contact us through our help center at help.openai.com if you continue to have issues.\n"
     ]
    },
    {
     "name": "stderr",
     "output_type": "stream",
     "text": [
      " 86%|█████████████████████████████████▋     | 4318/5000 [26:33<01:56,  5.87it/s]"
     ]
    },
    {
     "name": "stdout",
     "output_type": "stream",
     "text": [
      "generated an exception: Rate limit reached for default-gpt-3.5-turbo in organization org-oXRtqZdWlsnmtry277X001Hu on tokens per min. Limit: 90000 / min. Current: 88851 / min. Contact us through our help center at help.openai.com if you continue to have issues.\n",
      "generated an exception: Rate limit reached for default-gpt-3.5-turbo in organization org-oXRtqZdWlsnmtry277X001Hu on tokens per min. Limit: 90000 / min. Current: 89480 / min. Contact us through our help center at help.openai.com if you continue to have issues.\n"
     ]
    },
    {
     "name": "stderr",
     "output_type": "stream",
     "text": [
      " 86%|█████████████████████████████████▋     | 4319/5000 [26:33<01:54,  5.96it/s]"
     ]
    },
    {
     "name": "stdout",
     "output_type": "stream",
     "text": [
      "generated an exception: Rate limit reached for default-gpt-3.5-turbo in organization org-oXRtqZdWlsnmtry277X001Hu on tokens per min. Limit: 90000 / min. Current: 89823 / min. Contact us through our help center at help.openai.com if you continue to have issues.\n"
     ]
    },
    {
     "name": "stderr",
     "output_type": "stream",
     "text": [
      " 86%|█████████████████████████████████▋     | 4322/5000 [26:34<02:13,  5.06it/s]"
     ]
    },
    {
     "name": "stdout",
     "output_type": "stream",
     "text": [
      "generated an exception: Rate limit reached for default-gpt-3.5-turbo in organization org-oXRtqZdWlsnmtry277X001Hu on tokens per min. Limit: 90000 / min. Current: 89085 / min. Contact us through our help center at help.openai.com if you continue to have issues.\n",
      "generated an exception: Rate limit reached for default-gpt-3.5-turbo in organization org-oXRtqZdWlsnmtry277X001Hu on tokens per min. Limit: 90000 / min. Current: 88972 / min. Contact us through our help center at help.openai.com if you continue to have issues.\n"
     ]
    },
    {
     "name": "stderr",
     "output_type": "stream",
     "text": [
      " 87%|█████████████████████████████████▊     | 4330/5000 [26:36<01:40,  6.67it/s]"
     ]
    },
    {
     "name": "stdout",
     "output_type": "stream",
     "text": [
      "generated an exception: Rate limit reached for default-gpt-3.5-turbo in organization org-oXRtqZdWlsnmtry277X001Hu on tokens per min. Limit: 90000 / min. Current: 88878 / min. Contact us through our help center at help.openai.com if you continue to have issues.\n"
     ]
    },
    {
     "name": "stderr",
     "output_type": "stream",
     "text": [
      " 87%|█████████████████████████████████▊     | 4334/5000 [26:36<01:14,  8.91it/s]"
     ]
    },
    {
     "name": "stdout",
     "output_type": "stream",
     "text": [
      "generated an exception: Rate limit reached for default-gpt-3.5-turbo in organization org-oXRtqZdWlsnmtry277X001Hu on tokens per min. Limit: 90000 / min. Current: 89581 / min. Contact us through our help center at help.openai.com if you continue to have issues.\n",
      "generated an exception: Rate limit reached for default-gpt-3.5-turbo in organization org-oXRtqZdWlsnmtry277X001Hu on tokens per min. Limit: 90000 / min. Current: 89564 / min. Contact us through our help center at help.openai.com if you continue to have issues.\n",
      "generated an exception: Rate limit reached for default-gpt-3.5-turbo in organization org-oXRtqZdWlsnmtry277X001Hu on tokens per min. Limit: 90000 / min. Current: 89715 / min. Contact us through our help center at help.openai.com if you continue to have issues.\n",
      "generated an exception: Rate limit reached for default-gpt-3.5-turbo in organization org-oXRtqZdWlsnmtry277X001Hu on tokens per min. Limit: 90000 / min. Current: 89649 / min. Contact us through our help center at help.openai.com if you continue to have issues.\n"
     ]
    },
    {
     "name": "stderr",
     "output_type": "stream",
     "text": [
      " 87%|█████████████████████████████████▊     | 4336/5000 [26:36<01:14,  8.88it/s]"
     ]
    },
    {
     "name": "stdout",
     "output_type": "stream",
     "text": [
      "generated an exception: Rate limit reached for default-gpt-3.5-turbo in organization org-oXRtqZdWlsnmtry277X001Hu on tokens per min. Limit: 90000 / min. Current: 89823 / min. Contact us through our help center at help.openai.com if you continue to have issues.\n",
      "generated an exception: Rate limit reached for default-gpt-3.5-turbo in organization org-oXRtqZdWlsnmtry277X001Hu on tokens per min. Limit: 90000 / min. Current: 89809 / min. Contact us through our help center at help.openai.com if you continue to have issues.\n",
      "generated an exception: Rate limit reached for default-gpt-3.5-turbo in organization org-oXRtqZdWlsnmtry277X001Hu on tokens per min. Limit: 90000 / min. Current: 89710 / min. Contact us through our help center at help.openai.com if you continue to have issues.\n"
     ]
    },
    {
     "name": "stderr",
     "output_type": "stream",
     "text": [
      " 87%|█████████████████████████████████▊     | 4338/5000 [26:37<01:22,  7.99it/s]"
     ]
    },
    {
     "name": "stdout",
     "output_type": "stream",
     "text": [
      "generated an exception: Rate limit reached for default-gpt-3.5-turbo in organization org-oXRtqZdWlsnmtry277X001Hu on tokens per min. Limit: 90000 / min. Current: 89661 / min. Contact us through our help center at help.openai.com if you continue to have issues.\n"
     ]
    },
    {
     "name": "stderr",
     "output_type": "stream",
     "text": [
      " 87%|█████████████████████████████████▉     | 4351/5000 [26:41<02:01,  5.32it/s]"
     ]
    },
    {
     "name": "stdout",
     "output_type": "stream",
     "text": [
      "generated an exception: Rate limit reached for default-gpt-3.5-turbo in organization org-oXRtqZdWlsnmtry277X001Hu on tokens per min. Limit: 90000 / min. Current: 89450 / min. Contact us through our help center at help.openai.com if you continue to have issues.\n",
      "generated an exception: Rate limit reached for default-gpt-3.5-turbo in organization org-oXRtqZdWlsnmtry277X001Hu on tokens per min. Limit: 90000 / min. Current: 89332 / min. Contact us through our help center at help.openai.com if you continue to have issues.\n"
     ]
    },
    {
     "name": "stderr",
     "output_type": "stream",
     "text": [
      " 87%|█████████████████████████████████▉     | 4355/5000 [26:42<01:33,  6.92it/s]"
     ]
    },
    {
     "name": "stdout",
     "output_type": "stream",
     "text": [
      "generated an exception: Rate limit reached for default-gpt-3.5-turbo in organization org-oXRtqZdWlsnmtry277X001Hu on tokens per min. Limit: 90000 / min. Current: 89585 / min. Contact us through our help center at help.openai.com if you continue to have issues.\n"
     ]
    },
    {
     "name": "stderr",
     "output_type": "stream",
     "text": [
      " 87%|██████████████████████████████████     | 4361/5000 [26:42<00:54, 11.77it/s]"
     ]
    },
    {
     "name": "stdout",
     "output_type": "stream",
     "text": [
      "generated an exception: Rate limit reached for default-gpt-3.5-turbo in organization org-oXRtqZdWlsnmtry277X001Hu on tokens per min. Limit: 90000 / min. Current: 89746 / min. Contact us through our help center at help.openai.com if you continue to have issues.\n",
      "generated an exception: Rate limit reached for default-gpt-3.5-turbo in organization org-oXRtqZdWlsnmtry277X001Hu on tokens per min. Limit: 90000 / min. Current: 89607 / min. Contact us through our help center at help.openai.com if you continue to have issues.\n",
      "generated an exception: Rate limit reached for default-gpt-3.5-turbo in organization org-oXRtqZdWlsnmtry277X001Hu on tokens per min. Limit: 90000 / min. Current: 89584 / min. Contact us through our help center at help.openai.com if you continue to have issues.\n",
      "generated an exception: Rate limit reached for default-gpt-3.5-turbo in organization org-oXRtqZdWlsnmtry277X001Hu on tokens per min. Limit: 90000 / min. Current: 89664 / min. Contact us through our help center at help.openai.com if you continue to have issues.\n",
      "generated an exception: Rate limit reached for default-gpt-3.5-turbo in organization org-oXRtqZdWlsnmtry277X001Hu on tokens per min. Limit: 90000 / min. Current: 89653 / min. Contact us through our help center at help.openai.com if you continue to have issues.\n"
     ]
    },
    {
     "name": "stderr",
     "output_type": "stream",
     "text": [
      " 87%|██████████████████████████████████     | 4369/5000 [26:42<00:34, 18.27it/s]"
     ]
    },
    {
     "name": "stdout",
     "output_type": "stream",
     "text": [
      "generated an exception: Rate limit reached for default-gpt-3.5-turbo in organization org-oXRtqZdWlsnmtry277X001Hu on tokens per min. Limit: 90000 / min. Current: 89579 / min. Contact us through our help center at help.openai.com if you continue to have issues.\n",
      "generated an exception: Rate limit reached for default-gpt-3.5-turbo in organization org-oXRtqZdWlsnmtry277X001Hu on tokens per min. Limit: 90000 / min. Current: 89950 / min. Contact us through our help center at help.openai.com if you continue to have issues.\n",
      "generated an exception: Rate limit reached for default-gpt-3.5-turbo in organization org-oXRtqZdWlsnmtry277X001Hu on tokens per min. Limit: 90000 / min. Current: 89941 / min. Contact us through our help center at help.openai.com if you continue to have issues.\n",
      "generated an exception: Rate limit reached for default-gpt-3.5-turbo in organization org-oXRtqZdWlsnmtry277X001Hu on tokens per min. Limit: 90000 / min. Current: 89852 / min. Contact us through our help center at help.openai.com if you continue to have issues.\n",
      "generated an exception: Rate limit reached for default-gpt-3.5-turbo in organization org-oXRtqZdWlsnmtry277X001Hu on tokens per min. Limit: 90000 / min. Current: 89809 / min. Contact us through our help center at help.openai.com if you continue to have issues.\n",
      "generated an exception: Rate limit reached for default-gpt-3.5-turbo in organization org-oXRtqZdWlsnmtry277X001Hu on tokens per min. Limit: 90000 / min. Current: 89700 / min. Contact us through our help center at help.openai.com if you continue to have issues.\n",
      "generated an exception: Rate limit reached for default-gpt-3.5-turbo in organization org-oXRtqZdWlsnmtry277X001Hu on tokens per min. Limit: 90000 / min. Current: 89555 / min. Contact us through our help center at help.openai.com if you continue to have issues.\n"
     ]
    },
    {
     "name": "stderr",
     "output_type": "stream",
     "text": [
      " 88%|██████████████████████████████████▏    | 4375/5000 [26:43<01:10,  8.92it/s]"
     ]
    },
    {
     "name": "stdout",
     "output_type": "stream",
     "text": [
      "generated an exception: Rate limit reached for default-gpt-3.5-turbo in organization org-oXRtqZdWlsnmtry277X001Hu on tokens per min. Limit: 90000 / min. Current: 89195 / min. Contact us through our help center at help.openai.com if you continue to have issues.\n",
      "generated an exception: Rate limit reached for default-gpt-3.5-turbo in organization org-oXRtqZdWlsnmtry277X001Hu on tokens per min. Limit: 90000 / min. Current: 89327 / min. Contact us through our help center at help.openai.com if you continue to have issues.\n"
     ]
    },
    {
     "name": "stderr",
     "output_type": "stream",
     "text": [
      " 88%|██████████████████████████████████▏    | 4377/5000 [26:44<01:17,  8.08it/s]"
     ]
    },
    {
     "name": "stdout",
     "output_type": "stream",
     "text": [
      "generated an exception: Rate limit reached for default-gpt-3.5-turbo in organization org-oXRtqZdWlsnmtry277X001Hu on tokens per min. Limit: 90000 / min. Current: 89186 / min. Contact us through our help center at help.openai.com if you continue to have issues.\n"
     ]
    },
    {
     "name": "stderr",
     "output_type": "stream",
     "text": [
      " 88%|██████████████████████████████████▍    | 4415/5000 [26:58<01:21,  7.17it/s]"
     ]
    },
    {
     "name": "stdout",
     "output_type": "stream",
     "text": [
      "generated an exception: Rate limit reached for default-gpt-3.5-turbo in organization org-oXRtqZdWlsnmtry277X001Hu on tokens per min. Limit: 90000 / min. Current: 89313 / min. Contact us through our help center at help.openai.com if you continue to have issues.\n",
      "generated an exception: Rate limit reached for default-gpt-3.5-turbo in organization org-oXRtqZdWlsnmtry277X001Hu on tokens per min. Limit: 90000 / min. Current: 89268 / min. Contact us through our help center at help.openai.com if you continue to have issues.\n",
      "generated an exception: Rate limit reached for default-gpt-3.5-turbo in organization org-oXRtqZdWlsnmtry277X001Hu on tokens per min. Limit: 90000 / min. Current: 89141 / min. Contact us through our help center at help.openai.com if you continue to have issues.\n",
      "generated an exception: Rate limit reached for default-gpt-3.5-turbo in organization org-oXRtqZdWlsnmtry277X001Hu on tokens per min. Limit: 90000 / min. Current: 89572 / min. Contact us through our help center at help.openai.com if you continue to have issues.\n"
     ]
    },
    {
     "name": "stderr",
     "output_type": "stream",
     "text": [
      " 88%|██████████████████████████████████▍    | 4419/5000 [26:59<03:05,  3.12it/s]"
     ]
    },
    {
     "name": "stdout",
     "output_type": "stream",
     "text": [
      "generated an exception: Rate limit reached for default-gpt-3.5-turbo in organization org-oXRtqZdWlsnmtry277X001Hu on tokens per min. Limit: 90000 / min. Current: 89448 / min. Contact us through our help center at help.openai.com if you continue to have issues.\n"
     ]
    },
    {
     "name": "stderr",
     "output_type": "stream",
     "text": [
      " 89%|██████████████████████████████████▌    | 4429/5000 [27:02<02:56,  3.24it/s]"
     ]
    },
    {
     "name": "stdout",
     "output_type": "stream",
     "text": [
      "generated an exception: Rate limit reached for default-gpt-3.5-turbo in organization org-oXRtqZdWlsnmtry277X001Hu on tokens per min. Limit: 90000 / min. Current: 89658 / min. Contact us through our help center at help.openai.com if you continue to have issues.\n"
     ]
    },
    {
     "name": "stderr",
     "output_type": "stream",
     "text": [
      " 90%|███████████████████████████████████    | 4500/5000 [27:30<02:58,  2.81it/s]"
     ]
    },
    {
     "name": "stdout",
     "output_type": "stream",
     "text": [
      "generated an exception: The server is overloaded or not ready yet.\n"
     ]
    },
    {
     "name": "stderr",
     "output_type": "stream",
     "text": [
      " 90%|███████████████████████████████████▏   | 4514/5000 [27:33<01:53,  4.26it/s]"
     ]
    },
    {
     "name": "stdout",
     "output_type": "stream",
     "text": [
      "generated an exception: Rate limit reached for default-gpt-3.5-turbo in organization org-oXRtqZdWlsnmtry277X001Hu on tokens per min. Limit: 90000 / min. Current: 89210 / min. Contact us through our help center at help.openai.com if you continue to have issues.\n"
     ]
    },
    {
     "name": "stderr",
     "output_type": "stream",
     "text": [
      " 90%|███████████████████████████████████▎   | 4521/5000 [27:37<03:04,  2.60it/s]"
     ]
    },
    {
     "name": "stdout",
     "output_type": "stream",
     "text": [
      "generated an exception: Rate limit reached for default-gpt-3.5-turbo in organization org-oXRtqZdWlsnmtry277X001Hu on tokens per min. Limit: 90000 / min. Current: 88019 / min. Contact us through our help center at help.openai.com if you continue to have issues.\n"
     ]
    },
    {
     "name": "stderr",
     "output_type": "stream",
     "text": [
      " 91%|███████████████████████████████████▌   | 4555/5000 [27:48<01:34,  4.72it/s]"
     ]
    },
    {
     "name": "stdout",
     "output_type": "stream",
     "text": [
      "generated an exception: Rate limit reached for default-gpt-3.5-turbo in organization org-oXRtqZdWlsnmtry277X001Hu on tokens per min. Limit: 90000 / min. Current: 89250 / min. Contact us through our help center at help.openai.com if you continue to have issues.\n"
     ]
    },
    {
     "name": "stderr",
     "output_type": "stream",
     "text": [
      " 91%|███████████████████████████████████▌   | 4562/5000 [27:51<02:02,  3.59it/s]"
     ]
    },
    {
     "name": "stdout",
     "output_type": "stream",
     "text": [
      "generated an exception: Rate limit reached for default-gpt-3.5-turbo in organization org-oXRtqZdWlsnmtry277X001Hu on tokens per min. Limit: 90000 / min. Current: 88293 / min. Contact us through our help center at help.openai.com if you continue to have issues.\n",
      "generated an exception: Rate limit reached for default-gpt-3.5-turbo in organization org-oXRtqZdWlsnmtry277X001Hu on tokens per min. Limit: 90000 / min. Current: 88171 / min. Contact us through our help center at help.openai.com if you continue to have issues.\n"
     ]
    },
    {
     "name": "stderr",
     "output_type": "stream",
     "text": [
      " 91%|███████████████████████████████████▌   | 4566/5000 [27:52<01:07,  6.48it/s]"
     ]
    },
    {
     "name": "stdout",
     "output_type": "stream",
     "text": [
      "generated an exception: Rate limit reached for default-gpt-3.5-turbo in organization org-oXRtqZdWlsnmtry277X001Hu on tokens per min. Limit: 90000 / min. Current: 88894 / min. Contact us through our help center at help.openai.com if you continue to have issues.\n",
      "generated an exception: Rate limit reached for default-gpt-3.5-turbo in organization org-oXRtqZdWlsnmtry277X001Hu on tokens per min. Limit: 90000 / min. Current: 89895 / min. Contact us through our help center at help.openai.com if you continue to have issues.\n"
     ]
    },
    {
     "name": "stderr",
     "output_type": "stream",
     "text": [
      " 92%|███████████████████████████████████▋   | 4576/5000 [27:56<01:49,  3.88it/s]"
     ]
    },
    {
     "name": "stdout",
     "output_type": "stream",
     "text": [
      "generated an exception: Rate limit reached for default-gpt-3.5-turbo in organization org-oXRtqZdWlsnmtry277X001Hu on tokens per min. Limit: 90000 / min. Current: 88389 / min. Contact us through our help center at help.openai.com if you continue to have issues.\n"
     ]
    },
    {
     "name": "stderr",
     "output_type": "stream",
     "text": [
      " 92%|███████████████████████████████████▊   | 4587/5000 [27:58<00:40, 10.28it/s]"
     ]
    },
    {
     "name": "stdout",
     "output_type": "stream",
     "text": [
      "generated an exception: Rate limit reached for default-gpt-3.5-turbo in organization org-oXRtqZdWlsnmtry277X001Hu on tokens per min. Limit: 90000 / min. Current: 89749 / min. Contact us through our help center at help.openai.com if you continue to have issues.\n",
      "generated an exception: Rate limit reached for default-gpt-3.5-turbo in organization org-oXRtqZdWlsnmtry277X001Hu on tokens per min. Limit: 90000 / min. Current: 89582 / min. Contact us through our help center at help.openai.com if you continue to have issues.\n"
     ]
    },
    {
     "name": "stderr",
     "output_type": "stream",
     "text": [
      " 92%|███████████████████████████████████▊   | 4589/5000 [27:58<00:48,  8.40it/s]"
     ]
    },
    {
     "name": "stdout",
     "output_type": "stream",
     "text": [
      "generated an exception: Rate limit reached for default-gpt-3.5-turbo in organization org-oXRtqZdWlsnmtry277X001Hu on tokens per min. Limit: 90000 / min. Current: 89601 / min. Contact us through our help center at help.openai.com if you continue to have issues.\n",
      "generated an exception: Rate limit reached for default-gpt-3.5-turbo in organization org-oXRtqZdWlsnmtry277X001Hu on tokens per min. Limit: 90000 / min. Current: 89494 / min. Contact us through our help center at help.openai.com if you continue to have issues.\n"
     ]
    },
    {
     "name": "stderr",
     "output_type": "stream",
     "text": [
      " 92%|███████████████████████████████████▉   | 4604/5000 [28:05<01:50,  3.58it/s]"
     ]
    },
    {
     "name": "stdout",
     "output_type": "stream",
     "text": [
      "generated an exception: Rate limit reached for default-gpt-3.5-turbo in organization org-oXRtqZdWlsnmtry277X001Hu on tokens per min. Limit: 90000 / min. Current: 88884 / min. Contact us through our help center at help.openai.com if you continue to have issues.\n",
      "generated an exception: Rate limit reached for default-gpt-3.5-turbo in organization org-oXRtqZdWlsnmtry277X001Hu on tokens per min. Limit: 90000 / min. Current: 88685 / min. Contact us through our help center at help.openai.com if you continue to have issues.\n"
     ]
    },
    {
     "name": "stderr",
     "output_type": "stream",
     "text": [
      " 92%|███████████████████████████████████▉   | 4605/5000 [28:05<01:59,  3.30it/s]"
     ]
    },
    {
     "name": "stdout",
     "output_type": "stream",
     "text": [
      "generated an exception: The server is overloaded or not ready yet.\n"
     ]
    },
    {
     "name": "stderr",
     "output_type": "stream",
     "text": [
      " 92%|███████████████████████████████████▉   | 4614/5000 [28:06<00:44,  8.58it/s]"
     ]
    },
    {
     "name": "stdout",
     "output_type": "stream",
     "text": [
      "generated an exception: Rate limit reached for default-gpt-3.5-turbo in organization org-oXRtqZdWlsnmtry277X001Hu on tokens per min. Limit: 90000 / min. Current: 89435 / min. Contact us through our help center at help.openai.com if you continue to have issues.\n",
      "generated an exception: Rate limit reached for default-gpt-3.5-turbo in organization org-oXRtqZdWlsnmtry277X001Hu on tokens per min. Limit: 90000 / min. Current: 89325 / min. Contact us through our help center at help.openai.com if you continue to have issues.\n"
     ]
    },
    {
     "name": "stderr",
     "output_type": "stream",
     "text": [
      " 92%|████████████████████████████████████   | 4616/5000 [28:07<00:45,  8.35it/s]"
     ]
    },
    {
     "name": "stdout",
     "output_type": "stream",
     "text": [
      "generated an exception: The server is overloaded or not ready yet.\n",
      "generated an exception: Rate limit reached for default-gpt-3.5-turbo in organization org-oXRtqZdWlsnmtry277X001Hu on tokens per min. Limit: 90000 / min. Current: 89694 / min. Contact us through our help center at help.openai.com if you continue to have issues.\n"
     ]
    },
    {
     "name": "stderr",
     "output_type": "stream",
     "text": [
      " 92%|████████████████████████████████████   | 4619/5000 [28:07<00:53,  7.09it/s]"
     ]
    },
    {
     "name": "stdout",
     "output_type": "stream",
     "text": [
      "generated an exception: Rate limit reached for default-gpt-3.5-turbo in organization org-oXRtqZdWlsnmtry277X001Hu on tokens per min. Limit: 90000 / min. Current: 89555 / min. Contact us through our help center at help.openai.com if you continue to have issues.\n",
      "generated an exception: Rate limit reached for default-gpt-3.5-turbo in organization org-oXRtqZdWlsnmtry277X001Hu on tokens per min. Limit: 90000 / min. Current: 89268 / min. Contact us through our help center at help.openai.com if you continue to have issues.\n"
     ]
    },
    {
     "name": "stderr",
     "output_type": "stream",
     "text": [
      " 92%|████████████████████████████████████   | 4620/5000 [28:07<00:57,  6.59it/s]"
     ]
    },
    {
     "name": "stdout",
     "output_type": "stream",
     "text": [
      "generated an exception: Rate limit reached for default-gpt-3.5-turbo in organization org-oXRtqZdWlsnmtry277X001Hu on tokens per min. Limit: 90000 / min. Current: 88979 / min. Contact us through our help center at help.openai.com if you continue to have issues.\n"
     ]
    },
    {
     "name": "stderr",
     "output_type": "stream",
     "text": [
      " 92%|████████████████████████████████████   | 4621/5000 [28:08<01:20,  4.71it/s]"
     ]
    },
    {
     "name": "stdout",
     "output_type": "stream",
     "text": [
      "generated an exception: Rate limit reached for default-gpt-3.5-turbo in organization org-oXRtqZdWlsnmtry277X001Hu on tokens per min. Limit: 90000 / min. Current: 89301 / min. Contact us through our help center at help.openai.com if you continue to have issues.\n"
     ]
    },
    {
     "name": "stderr",
     "output_type": "stream",
     "text": [
      " 93%|████████████████████████████████████▏  | 4644/5000 [28:15<00:58,  6.10it/s]"
     ]
    },
    {
     "name": "stdout",
     "output_type": "stream",
     "text": [
      "generated an exception: Rate limit reached for default-gpt-3.5-turbo in organization org-oXRtqZdWlsnmtry277X001Hu on tokens per min. Limit: 90000 / min. Current: 89562 / min. Contact us through our help center at help.openai.com if you continue to have issues.\n"
     ]
    },
    {
     "name": "stderr",
     "output_type": "stream",
     "text": [
      " 93%|████████████████████████████████████▏  | 4646/5000 [28:15<00:53,  6.56it/s]"
     ]
    },
    {
     "name": "stdout",
     "output_type": "stream",
     "text": [
      "generated an exception: Rate limit reached for default-gpt-3.5-turbo in organization org-oXRtqZdWlsnmtry277X001Hu on tokens per min. Limit: 90000 / min. Current: 89578 / min. Contact us through our help center at help.openai.com if you continue to have issues.\n"
     ]
    },
    {
     "name": "stderr",
     "output_type": "stream",
     "text": [
      " 93%|████████████████████████████████████▎  | 4650/5000 [28:17<02:21,  2.48it/s]"
     ]
    },
    {
     "name": "stdout",
     "output_type": "stream",
     "text": [
      "generated an exception: The server is overloaded or not ready yet.\n"
     ]
    },
    {
     "name": "stderr",
     "output_type": "stream",
     "text": [
      " 93%|████████████████████████████████████▎  | 4661/5000 [28:22<01:50,  3.06it/s]"
     ]
    },
    {
     "name": "stdout",
     "output_type": "stream",
     "text": [
      "generated an exception: Rate limit reached for default-gpt-3.5-turbo in organization org-oXRtqZdWlsnmtry277X001Hu on tokens per min. Limit: 90000 / min. Current: 89625 / min. Contact us through our help center at help.openai.com if you continue to have issues.\n"
     ]
    },
    {
     "name": "stderr",
     "output_type": "stream",
     "text": [
      " 93%|████████████████████████████████████▎  | 4663/5000 [28:22<01:25,  3.94it/s]"
     ]
    },
    {
     "name": "stdout",
     "output_type": "stream",
     "text": [
      "generated an exception: Rate limit reached for default-gpt-3.5-turbo in organization org-oXRtqZdWlsnmtry277X001Hu on tokens per min. Limit: 90000 / min. Current: 89565 / min. Contact us through our help center at help.openai.com if you continue to have issues.\n"
     ]
    },
    {
     "name": "stderr",
     "output_type": "stream",
     "text": [
      " 93%|████████████████████████████████████▍  | 4667/5000 [28:23<01:41,  3.26it/s]"
     ]
    },
    {
     "name": "stdout",
     "output_type": "stream",
     "text": [
      "generated an exception: Rate limit reached for default-gpt-3.5-turbo in organization org-oXRtqZdWlsnmtry277X001Hu on tokens per min. Limit: 90000 / min. Current: 89748 / min. Contact us through our help center at help.openai.com if you continue to have issues.\n"
     ]
    },
    {
     "name": "stderr",
     "output_type": "stream",
     "text": [
      " 94%|████████████████████████████████████▍  | 4678/5000 [28:27<01:11,  4.53it/s]"
     ]
    },
    {
     "name": "stdout",
     "output_type": "stream",
     "text": [
      "generated an exception: Rate limit reached for default-gpt-3.5-turbo in organization org-oXRtqZdWlsnmtry277X001Hu on tokens per min. Limit: 90000 / min. Current: 89283 / min. Contact us through our help center at help.openai.com if you continue to have issues.\n"
     ]
    },
    {
     "name": "stderr",
     "output_type": "stream",
     "text": [
      " 94%|████████████████████████████████████▌  | 4683/5000 [28:28<01:39,  3.18it/s]"
     ]
    },
    {
     "name": "stdout",
     "output_type": "stream",
     "text": [
      "generated an exception: Rate limit reached for default-gpt-3.5-turbo in organization org-oXRtqZdWlsnmtry277X001Hu on tokens per min. Limit: 90000 / min. Current: 89232 / min. Contact us through our help center at help.openai.com if you continue to have issues.\n"
     ]
    },
    {
     "name": "stderr",
     "output_type": "stream",
     "text": [
      " 94%|████████████████████████████████████▌  | 4690/5000 [28:29<00:55,  5.60it/s]"
     ]
    },
    {
     "name": "stdout",
     "output_type": "stream",
     "text": [
      "generated an exception: Rate limit reached for default-gpt-3.5-turbo in organization org-oXRtqZdWlsnmtry277X001Hu on tokens per min. Limit: 90000 / min. Current: 89563 / min. Contact us through our help center at help.openai.com if you continue to have issues.\n",
      "generated an exception: Rate limit reached for default-gpt-3.5-turbo in organization org-oXRtqZdWlsnmtry277X001Hu on tokens per min. Limit: 90000 / min. Current: 89432 / min. Contact us through our help center at help.openai.com if you continue to have issues.\n",
      "generated an exception: Rate limit reached for default-gpt-3.5-turbo in organization org-oXRtqZdWlsnmtry277X001Hu on tokens per min. Limit: 90000 / min. Current: 89724 / min. Contact us through our help center at help.openai.com if you continue to have issues.\n"
     ]
    },
    {
     "name": "stderr",
     "output_type": "stream",
     "text": [
      " 94%|████████████████████████████████████▌  | 4691/5000 [28:30<00:55,  5.55it/s]"
     ]
    },
    {
     "name": "stdout",
     "output_type": "stream",
     "text": [
      "generated an exception: Rate limit reached for default-gpt-3.5-turbo in organization org-oXRtqZdWlsnmtry277X001Hu on tokens per min. Limit: 90000 / min. Current: 89437 / min. Contact us through our help center at help.openai.com if you continue to have issues.\n",
      "generated an exception: Rate limit reached for default-gpt-3.5-turbo in organization org-oXRtqZdWlsnmtry277X001Hu on tokens per min. Limit: 90000 / min. Current: 89371 / min. Contact us through our help center at help.openai.com if you continue to have issues.\n"
     ]
    },
    {
     "name": "stderr",
     "output_type": "stream",
     "text": [
      " 94%|████████████████████████████████████▋  | 4709/5000 [28:36<00:54,  5.35it/s]"
     ]
    },
    {
     "name": "stdout",
     "output_type": "stream",
     "text": [
      "generated an exception: Rate limit reached for default-gpt-3.5-turbo in organization org-oXRtqZdWlsnmtry277X001Hu on tokens per min. Limit: 90000 / min. Current: 89857 / min. Contact us through our help center at help.openai.com if you continue to have issues.\n"
     ]
    },
    {
     "name": "stderr",
     "output_type": "stream",
     "text": [
      " 94%|████████████████████████████████████▋  | 4711/5000 [28:36<00:45,  6.42it/s]"
     ]
    },
    {
     "name": "stdout",
     "output_type": "stream",
     "text": [
      "generated an exception: Rate limit reached for default-gpt-3.5-turbo in organization org-oXRtqZdWlsnmtry277X001Hu on tokens per min. Limit: 90000 / min. Current: 89838 / min. Contact us through our help center at help.openai.com if you continue to have issues.\n",
      "generated an exception: Rate limit reached for default-gpt-3.5-turbo in organization org-oXRtqZdWlsnmtry277X001Hu on tokens per min. Limit: 90000 / min. Current: 89582 / min. Contact us through our help center at help.openai.com if you continue to have issues.\n",
      "generated an exception: Rate limit reached for default-gpt-3.5-turbo in organization org-oXRtqZdWlsnmtry277X001Hu on tokens per min. Limit: 90000 / min. Current: 89602 / min. Contact us through our help center at help.openai.com if you continue to have issues.\n"
     ]
    },
    {
     "name": "stderr",
     "output_type": "stream",
     "text": [
      " 94%|████████████████████████████████████▊  | 4717/5000 [28:37<00:32,  8.77it/s]"
     ]
    },
    {
     "name": "stdout",
     "output_type": "stream",
     "text": [
      "generated an exception: Rate limit reached for default-gpt-3.5-turbo in organization org-oXRtqZdWlsnmtry277X001Hu on tokens per min. Limit: 90000 / min. Current: 89704 / min. Contact us through our help center at help.openai.com if you continue to have issues.\n",
      "generated an exception: Rate limit reached for default-gpt-3.5-turbo in organization org-oXRtqZdWlsnmtry277X001Hu on tokens per min. Limit: 90000 / min. Current: 89486 / min. Contact us through our help center at help.openai.com if you continue to have issues.\n",
      "generated an exception: Rate limit reached for default-gpt-3.5-turbo in organization org-oXRtqZdWlsnmtry277X001Hu on tokens per min. Limit: 90000 / min. Current: 89829 / min. Contact us through our help center at help.openai.com if you continue to have issues.\n",
      "generated an exception: Rate limit reached for default-gpt-3.5-turbo in organization org-oXRtqZdWlsnmtry277X001Hu on tokens per min. Limit: 90000 / min. Current: 89818 / min. Contact us through our help center at help.openai.com if you continue to have issues.\n"
     ]
    },
    {
     "name": "stderr",
     "output_type": "stream",
     "text": [
      " 94%|████████████████████████████████████▊  | 4721/5000 [28:37<00:29,  9.35it/s]"
     ]
    },
    {
     "name": "stdout",
     "output_type": "stream",
     "text": [
      "generated an exception: Rate limit reached for default-gpt-3.5-turbo in organization org-oXRtqZdWlsnmtry277X001Hu on tokens per min. Limit: 90000 / min. Current: 89401 / min. Contact us through our help center at help.openai.com if you continue to have issues.\n",
      "generated an exception: Rate limit reached for default-gpt-3.5-turbo in organization org-oXRtqZdWlsnmtry277X001Hu on tokens per min. Limit: 90000 / min. Current: 89505 / min. Contact us through our help center at help.openai.com if you continue to have issues.\n"
     ]
    },
    {
     "name": "stderr",
     "output_type": "stream",
     "text": [
      " 95%|████████████████████████████████████▊  | 4726/5000 [28:37<00:26, 10.44it/s]"
     ]
    },
    {
     "name": "stdout",
     "output_type": "stream",
     "text": [
      "generated an exception: Rate limit reached for default-gpt-3.5-turbo in organization org-oXRtqZdWlsnmtry277X001Hu on tokens per min. Limit: 90000 / min. Current: 89522 / min. Contact us through our help center at help.openai.com if you continue to have issues.\n",
      "generated an exception: Rate limit reached for default-gpt-3.5-turbo in organization org-oXRtqZdWlsnmtry277X001Hu on tokens per min. Limit: 90000 / min. Current: 89516 / min. Contact us through our help center at help.openai.com if you continue to have issues.\n",
      "generated an exception: Rate limit reached for default-gpt-3.5-turbo in organization org-oXRtqZdWlsnmtry277X001Hu on tokens per min. Limit: 90000 / min. Current: 89415 / min. Contact us through our help center at help.openai.com if you continue to have issues.\n",
      "generated an exception: Rate limit reached for default-gpt-3.5-turbo in organization org-oXRtqZdWlsnmtry277X001Hu on tokens per min. Limit: 90000 / min. Current: 89307 / min. Contact us through our help center at help.openai.com if you continue to have issues.\n"
     ]
    },
    {
     "name": "stderr",
     "output_type": "stream",
     "text": [
      " 95%|████████████████████████████████████▉  | 4732/5000 [28:38<00:32,  8.14it/s]"
     ]
    },
    {
     "name": "stdout",
     "output_type": "stream",
     "text": [
      "generated an exception: Rate limit reached for default-gpt-3.5-turbo in organization org-oXRtqZdWlsnmtry277X001Hu on tokens per min. Limit: 90000 / min. Current: 89014 / min. Contact us through our help center at help.openai.com if you continue to have issues.\n"
     ]
    },
    {
     "name": "stderr",
     "output_type": "stream",
     "text": [
      " 95%|████████████████████████████████████▉  | 4734/5000 [28:39<00:29,  8.92it/s]"
     ]
    },
    {
     "name": "stdout",
     "output_type": "stream",
     "text": [
      "generated an exception: Rate limit reached for default-gpt-3.5-turbo in organization org-oXRtqZdWlsnmtry277X001Hu on tokens per min. Limit: 90000 / min. Current: 89340 / min. Contact us through our help center at help.openai.com if you continue to have issues.\n",
      "generated an exception: Rate limit reached for default-gpt-3.5-turbo in organization org-oXRtqZdWlsnmtry277X001Hu on tokens per min. Limit: 90000 / min. Current: 89182 / min. Contact us through our help center at help.openai.com if you continue to have issues.\n"
     ]
    },
    {
     "name": "stderr",
     "output_type": "stream",
     "text": [
      " 95%|████████████████████████████████████▉  | 4738/5000 [28:40<00:45,  5.72it/s]"
     ]
    },
    {
     "name": "stdout",
     "output_type": "stream",
     "text": [
      "generated an exception: Rate limit reached for default-gpt-3.5-turbo in organization org-oXRtqZdWlsnmtry277X001Hu on tokens per min. Limit: 90000 / min. Current: 88287 / min. Contact us through our help center at help.openai.com if you continue to have issues.\n"
     ]
    },
    {
     "name": "stderr",
     "output_type": "stream",
     "text": [
      " 95%|████████████████████████████████████▉  | 4741/5000 [28:42<01:45,  2.45it/s]"
     ]
    },
    {
     "name": "stdout",
     "output_type": "stream",
     "text": [
      "generated an exception: Rate limit reached for default-gpt-3.5-turbo in organization org-oXRtqZdWlsnmtry277X001Hu on tokens per min. Limit: 90000 / min. Current: 87192 / min. Contact us through our help center at help.openai.com if you continue to have issues.\n"
     ]
    },
    {
     "name": "stderr",
     "output_type": "stream",
     "text": [
      " 95%|█████████████████████████████████████  | 4752/5000 [28:45<01:02,  3.99it/s]"
     ]
    },
    {
     "name": "stdout",
     "output_type": "stream",
     "text": [
      "generated an exception: Rate limit reached for default-gpt-3.5-turbo in organization org-oXRtqZdWlsnmtry277X001Hu on tokens per min. Limit: 90000 / min. Current: 88591 / min. Contact us through our help center at help.openai.com if you continue to have issues.\n"
     ]
    },
    {
     "name": "stderr",
     "output_type": "stream",
     "text": [
      " 95%|█████████████████████████████████████  | 4755/5000 [28:45<00:47,  5.13it/s]"
     ]
    },
    {
     "name": "stdout",
     "output_type": "stream",
     "text": [
      "generated an exception: Rate limit reached for default-gpt-3.5-turbo in organization org-oXRtqZdWlsnmtry277X001Hu on tokens per min. Limit: 90000 / min. Current: 89479 / min. Contact us through our help center at help.openai.com if you continue to have issues.\n"
     ]
    },
    {
     "name": "stderr",
     "output_type": "stream",
     "text": [
      " 95%|█████████████████████████████████████▏ | 4765/5000 [28:46<00:23, 10.16it/s]"
     ]
    },
    {
     "name": "stdout",
     "output_type": "stream",
     "text": [
      "generated an exception: Rate limit reached for default-gpt-3.5-turbo in organization org-oXRtqZdWlsnmtry277X001Hu on tokens per min. Limit: 90000 / min. Current: 89548 / min. Contact us through our help center at help.openai.com if you continue to have issues.\n",
      "generated an exception: Rate limit reached for default-gpt-3.5-turbo in organization org-oXRtqZdWlsnmtry277X001Hu on tokens per min. Limit: 90000 / min. Current: 89514 / min. Contact us through our help center at help.openai.com if you continue to have issues.\n",
      "generated an exception: Rate limit reached for default-gpt-3.5-turbo in organization org-oXRtqZdWlsnmtry277X001Hu on tokens per min. Limit: 90000 / min. Current: 89489 / min. Contact us through our help center at help.openai.com if you continue to have issues.\n",
      "generated an exception: Rate limit reached for default-gpt-3.5-turbo in organization org-oXRtqZdWlsnmtry277X001Hu on tokens per min. Limit: 90000 / min. Current: 89398 / min. Contact us through our help center at help.openai.com if you continue to have issues.\n",
      "generated an exception: Rate limit reached for default-gpt-3.5-turbo in organization org-oXRtqZdWlsnmtry277X001Hu on tokens per min. Limit: 90000 / min. Current: 89839 / min. Contact us through our help center at help.openai.com if you continue to have issues.\n"
     ]
    },
    {
     "name": "stderr",
     "output_type": "stream",
     "text": [
      " 95%|█████████████████████████████████████▏ | 4767/5000 [28:46<00:21, 10.62it/s]"
     ]
    },
    {
     "name": "stdout",
     "output_type": "stream",
     "text": [
      "generated an exception: Rate limit reached for default-gpt-3.5-turbo in organization org-oXRtqZdWlsnmtry277X001Hu on tokens per min. Limit: 90000 / min. Current: 89710 / min. Contact us through our help center at help.openai.com if you continue to have issues.\n",
      "generated an exception: Rate limit reached for default-gpt-3.5-turbo in organization org-oXRtqZdWlsnmtry277X001Hu on tokens per min. Limit: 90000 / min. Current: 89591 / min. Contact us through our help center at help.openai.com if you continue to have issues.\n",
      "generated an exception: Rate limit reached for default-gpt-3.5-turbo in organization org-oXRtqZdWlsnmtry277X001Hu on tokens per min. Limit: 90000 / min. Current: 89478 / min. Contact us through our help center at help.openai.com if you continue to have issues.\n"
     ]
    },
    {
     "name": "stderr",
     "output_type": "stream",
     "text": [
      " 95%|█████████████████████████████████████▏ | 4769/5000 [28:47<00:22, 10.09it/s]"
     ]
    },
    {
     "name": "stdout",
     "output_type": "stream",
     "text": [
      "generated an exception: Rate limit reached for default-gpt-3.5-turbo in organization org-oXRtqZdWlsnmtry277X001Hu on tokens per min. Limit: 90000 / min. Current: 89634 / min. Contact us through our help center at help.openai.com if you continue to have issues.\n",
      "generated an exception: Rate limit reached for default-gpt-3.5-turbo in organization org-oXRtqZdWlsnmtry277X001Hu on tokens per min. Limit: 90000 / min. Current: 89539 / min. Contact us through our help center at help.openai.com if you continue to have issues.\n",
      "generated an exception: Rate limit reached for default-gpt-3.5-turbo in organization org-oXRtqZdWlsnmtry277X001Hu on tokens per min. Limit: 90000 / min. Current: 89507 / min. Contact us through our help center at help.openai.com if you continue to have issues.\n"
     ]
    },
    {
     "name": "stderr",
     "output_type": "stream",
     "text": [
      " 95%|█████████████████████████████████████▏ | 4772/5000 [28:47<00:25,  8.89it/s]"
     ]
    },
    {
     "name": "stdout",
     "output_type": "stream",
     "text": [
      "generated an exception: Rate limit reached for default-gpt-3.5-turbo in organization org-oXRtqZdWlsnmtry277X001Hu on tokens per min. Limit: 90000 / min. Current: 89175 / min. Contact us through our help center at help.openai.com if you continue to have issues.\n"
     ]
    },
    {
     "name": "stderr",
     "output_type": "stream",
     "text": [
      " 95%|█████████████████████████████████████▏ | 4774/5000 [28:47<00:30,  7.32it/s]"
     ]
    },
    {
     "name": "stdout",
     "output_type": "stream",
     "text": [
      "generated an exception: Rate limit reached for default-gpt-3.5-turbo in organization org-oXRtqZdWlsnmtry277X001Hu on tokens per min. Limit: 90000 / min. Current: 88741 / min. Contact us through our help center at help.openai.com if you continue to have issues.\n"
     ]
    },
    {
     "name": "stderr",
     "output_type": "stream",
     "text": [
      " 96%|█████████████████████████████████████▎ | 4776/5000 [28:48<00:29,  7.63it/s]"
     ]
    },
    {
     "name": "stdout",
     "output_type": "stream",
     "text": [
      "generated an exception: Rate limit reached for default-gpt-3.5-turbo in organization org-oXRtqZdWlsnmtry277X001Hu on tokens per min. Limit: 90000 / min. Current: 89670 / min. Contact us through our help center at help.openai.com if you continue to have issues.\n",
      "generated an exception: Rate limit reached for default-gpt-3.5-turbo in organization org-oXRtqZdWlsnmtry277X001Hu on tokens per min. Limit: 90000 / min. Current: 89558 / min. Contact us through our help center at help.openai.com if you continue to have issues.\n"
     ]
    },
    {
     "name": "stderr",
     "output_type": "stream",
     "text": [
      " 96%|█████████████████████████████████████▎ | 4781/5000 [28:49<00:51,  4.26it/s]"
     ]
    },
    {
     "name": "stdout",
     "output_type": "stream",
     "text": [
      "generated an exception: Rate limit reached for default-gpt-3.5-turbo in organization org-oXRtqZdWlsnmtry277X001Hu on tokens per min. Limit: 90000 / min. Current: 88101 / min. Contact us through our help center at help.openai.com if you continue to have issues.\n"
     ]
    },
    {
     "name": "stderr",
     "output_type": "stream",
     "text": [
      " 96%|█████████████████████████████████████▎ | 4785/5000 [28:51<01:03,  3.40it/s]"
     ]
    },
    {
     "name": "stdout",
     "output_type": "stream",
     "text": [
      "generated an exception: Rate limit reached for default-gpt-3.5-turbo in organization org-oXRtqZdWlsnmtry277X001Hu on tokens per min. Limit: 90000 / min. Current: 88586 / min. Contact us through our help center at help.openai.com if you continue to have issues.\n"
     ]
    },
    {
     "name": "stderr",
     "output_type": "stream",
     "text": [
      " 96%|█████████████████████████████████████▍ | 4792/5000 [28:52<00:46,  4.49it/s]"
     ]
    },
    {
     "name": "stdout",
     "output_type": "stream",
     "text": [
      "generated an exception: Rate limit reached for default-gpt-3.5-turbo in organization org-oXRtqZdWlsnmtry277X001Hu on tokens per min. Limit: 90000 / min. Current: 89661 / min. Contact us through our help center at help.openai.com if you continue to have issues.\n"
     ]
    },
    {
     "name": "stderr",
     "output_type": "stream",
     "text": [
      " 96%|█████████████████████████████████████▍ | 4795/5000 [28:53<00:50,  4.08it/s]"
     ]
    },
    {
     "name": "stdout",
     "output_type": "stream",
     "text": [
      "generated an exception: Rate limit reached for default-gpt-3.5-turbo in organization org-oXRtqZdWlsnmtry277X001Hu on tokens per min. Limit: 90000 / min. Current: 89726 / min. Contact us through our help center at help.openai.com if you continue to have issues.\n"
     ]
    },
    {
     "name": "stderr",
     "output_type": "stream",
     "text": [
      " 96%|█████████████████████████████████████▍ | 4805/5000 [28:56<00:45,  4.29it/s]"
     ]
    },
    {
     "name": "stdout",
     "output_type": "stream",
     "text": [
      "generated an exception: Rate limit reached for default-gpt-3.5-turbo in organization org-oXRtqZdWlsnmtry277X001Hu on tokens per min. Limit: 90000 / min. Current: 89521 / min. Contact us through our help center at help.openai.com if you continue to have issues.\n"
     ]
    },
    {
     "name": "stderr",
     "output_type": "stream",
     "text": [
      " 96%|█████████████████████████████████████▌ | 4811/5000 [28:57<00:33,  5.61it/s]"
     ]
    },
    {
     "name": "stdout",
     "output_type": "stream",
     "text": [
      "generated an exception: Rate limit reached for default-gpt-3.5-turbo in organization org-oXRtqZdWlsnmtry277X001Hu on tokens per min. Limit: 90000 / min. Current: 89557 / min. Contact us through our help center at help.openai.com if you continue to have issues.\n",
      "generated an exception: Rate limit reached for default-gpt-3.5-turbo in organization org-oXRtqZdWlsnmtry277X001Hu on tokens per min. Limit: 90000 / min. Current: 89387 / min. Contact us through our help center at help.openai.com if you continue to have issues.\n",
      "generated an exception: Rate limit reached for default-gpt-3.5-turbo in organization org-oXRtqZdWlsnmtry277X001Hu on tokens per min. Limit: 90000 / min. Current: 89379 / min. Contact us through our help center at help.openai.com if you continue to have issues.\n",
      "generated an exception: Rate limit reached for default-gpt-3.5-turbo in organization org-oXRtqZdWlsnmtry277X001Hu on tokens per min. Limit: 90000 / min. Current: 89350 / min. Contact us through our help center at help.openai.com if you continue to have issues.\n"
     ]
    },
    {
     "name": "stderr",
     "output_type": "stream",
     "text": [
      " 96%|█████████████████████████████████████▌ | 4815/5000 [28:58<00:18, 10.04it/s]"
     ]
    },
    {
     "name": "stdout",
     "output_type": "stream",
     "text": [
      "generated an exception: Rate limit reached for default-gpt-3.5-turbo in organization org-oXRtqZdWlsnmtry277X001Hu on tokens per min. Limit: 90000 / min. Current: 89707 / min. Contact us through our help center at help.openai.com if you continue to have issues.\n"
     ]
    },
    {
     "name": "stderr",
     "output_type": "stream",
     "text": [
      " 96%|█████████████████████████████████████▌ | 4817/5000 [28:58<00:20,  8.85it/s]"
     ]
    },
    {
     "name": "stdout",
     "output_type": "stream",
     "text": [
      "generated an exception: Rate limit reached for default-gpt-3.5-turbo in organization org-oXRtqZdWlsnmtry277X001Hu on tokens per min. Limit: 90000 / min. Current: 89658 / min. Contact us through our help center at help.openai.com if you continue to have issues.\n",
      "generated an exception: Rate limit reached for default-gpt-3.5-turbo in organization org-oXRtqZdWlsnmtry277X001Hu on tokens per min. Limit: 90000 / min. Current: 89612 / min. Contact us through our help center at help.openai.com if you continue to have issues.\n",
      "generated an exception: Rate limit reached for default-gpt-3.5-turbo in organization org-oXRtqZdWlsnmtry277X001Hu on tokens per min. Limit: 90000 / min. Current: 89550 / min. Contact us through our help center at help.openai.com if you continue to have issues.\n"
     ]
    },
    {
     "name": "stderr",
     "output_type": "stream",
     "text": [
      " 96%|█████████████████████████████████████▌ | 4820/5000 [28:58<00:18,  9.53it/s]"
     ]
    },
    {
     "name": "stdout",
     "output_type": "stream",
     "text": [
      "generated an exception: Rate limit reached for default-gpt-3.5-turbo in organization org-oXRtqZdWlsnmtry277X001Hu on tokens per min. Limit: 90000 / min. Current: 89648 / min. Contact us through our help center at help.openai.com if you continue to have issues.\n",
      "generated an exception: Rate limit reached for default-gpt-3.5-turbo in organization org-oXRtqZdWlsnmtry277X001Hu on tokens per min. Limit: 90000 / min. Current: 89542 / min. Contact us through our help center at help.openai.com if you continue to have issues.\n"
     ]
    },
    {
     "name": "stderr",
     "output_type": "stream",
     "text": [
      " 96%|█████████████████████████████████████▋ | 4824/5000 [28:59<00:20,  8.77it/s]"
     ]
    },
    {
     "name": "stdout",
     "output_type": "stream",
     "text": [
      "generated an exception: Rate limit reached for default-gpt-3.5-turbo in organization org-oXRtqZdWlsnmtry277X001Hu on tokens per min. Limit: 90000 / min. Current: 89460 / min. Contact us through our help center at help.openai.com if you continue to have issues.\n",
      "generated an exception: Rate limit reached for default-gpt-3.5-turbo in organization org-oXRtqZdWlsnmtry277X001Hu on tokens per min. Limit: 90000 / min. Current: 89353 / min. Contact us through our help center at help.openai.com if you continue to have issues.\n"
     ]
    },
    {
     "name": "stderr",
     "output_type": "stream",
     "text": [
      " 97%|█████████████████████████████████████▋ | 4832/5000 [29:00<00:22,  7.54it/s]"
     ]
    },
    {
     "name": "stdout",
     "output_type": "stream",
     "text": [
      "generated an exception: Rate limit reached for default-gpt-3.5-turbo in organization org-oXRtqZdWlsnmtry277X001Hu on tokens per min. Limit: 90000 / min. Current: 89080 / min. Contact us through our help center at help.openai.com if you continue to have issues.\n",
      "generated an exception: Rate limit reached for default-gpt-3.5-turbo in organization org-oXRtqZdWlsnmtry277X001Hu on tokens per min. Limit: 90000 / min. Current: 88970 / min. Contact us through our help center at help.openai.com if you continue to have issues.\n",
      "generated an exception: Rate limit reached for default-gpt-3.5-turbo in organization org-oXRtqZdWlsnmtry277X001Hu on tokens per min. Limit: 90000 / min. Current: 88853 / min. Contact us through our help center at help.openai.com if you continue to have issues.\n",
      "generated an exception: The server is overloaded or not ready yet.\n"
     ]
    },
    {
     "name": "stderr",
     "output_type": "stream",
     "text": [
      " 97%|█████████████████████████████████████▋ | 4835/5000 [29:01<00:16,  9.95it/s]"
     ]
    },
    {
     "name": "stdout",
     "output_type": "stream",
     "text": [
      "generated an exception: Rate limit reached for default-gpt-3.5-turbo in organization org-oXRtqZdWlsnmtry277X001Hu on tokens per min. Limit: 90000 / min. Current: 89353 / min. Contact us through our help center at help.openai.com if you continue to have issues.\n"
     ]
    },
    {
     "name": "stderr",
     "output_type": "stream",
     "text": [
      " 97%|█████████████████████████████████████▋ | 4837/5000 [29:01<00:23,  6.95it/s]"
     ]
    },
    {
     "name": "stdout",
     "output_type": "stream",
     "text": [
      "generated an exception: Rate limit reached for default-gpt-3.5-turbo in organization org-oXRtqZdWlsnmtry277X001Hu on tokens per min. Limit: 90000 / min. Current: 89669 / min. Contact us through our help center at help.openai.com if you continue to have issues.\n"
     ]
    },
    {
     "name": "stderr",
     "output_type": "stream",
     "text": [
      " 97%|█████████████████████████████████████▉ | 4862/5000 [29:11<00:26,  5.12it/s]"
     ]
    },
    {
     "name": "stdout",
     "output_type": "stream",
     "text": [
      "generated an exception: Rate limit reached for default-gpt-3.5-turbo in organization org-oXRtqZdWlsnmtry277X001Hu on tokens per min. Limit: 90000 / min. Current: 89423 / min. Contact us through our help center at help.openai.com if you continue to have issues.\n"
     ]
    },
    {
     "name": "stderr",
     "output_type": "stream",
     "text": [
      " 97%|█████████████████████████████████████▉ | 4863/5000 [29:11<00:24,  5.56it/s]"
     ]
    },
    {
     "name": "stdout",
     "output_type": "stream",
     "text": [
      "generated an exception: Rate limit reached for default-gpt-3.5-turbo in organization org-oXRtqZdWlsnmtry277X001Hu on tokens per min. Limit: 90000 / min. Current: 89091 / min. Contact us through our help center at help.openai.com if you continue to have issues.\n"
     ]
    },
    {
     "name": "stderr",
     "output_type": "stream",
     "text": [
      " 97%|██████████████████████████████████████ | 4874/5000 [29:16<00:57,  2.19it/s]"
     ]
    },
    {
     "name": "stdout",
     "output_type": "stream",
     "text": [
      "generated an exception: Rate limit reached for default-gpt-3.5-turbo in organization org-oXRtqZdWlsnmtry277X001Hu on tokens per min. Limit: 90000 / min. Current: 88453 / min. Contact us through our help center at help.openai.com if you continue to have issues.\n"
     ]
    },
    {
     "name": "stderr",
     "output_type": "stream",
     "text": [
      " 98%|██████████████████████████████████████ | 4883/5000 [29:18<00:23,  4.98it/s]"
     ]
    },
    {
     "name": "stdout",
     "output_type": "stream",
     "text": [
      "generated an exception: Rate limit reached for default-gpt-3.5-turbo in organization org-oXRtqZdWlsnmtry277X001Hu on tokens per min. Limit: 90000 / min. Current: 89456 / min. Contact us through our help center at help.openai.com if you continue to have issues.\n",
      "generated an exception: Rate limit reached for default-gpt-3.5-turbo in organization org-oXRtqZdWlsnmtry277X001Hu on tokens per min. Limit: 90000 / min. Current: 89309 / min. Contact us through our help center at help.openai.com if you continue to have issues.\n"
     ]
    },
    {
     "name": "stderr",
     "output_type": "stream",
     "text": [
      " 98%|██████████████████████████████████████ | 4887/5000 [29:18<00:14,  7.67it/s]"
     ]
    },
    {
     "name": "stdout",
     "output_type": "stream",
     "text": [
      "generated an exception: Rate limit reached for default-gpt-3.5-turbo in organization org-oXRtqZdWlsnmtry277X001Hu on tokens per min. Limit: 90000 / min. Current: 89358 / min. Contact us through our help center at help.openai.com if you continue to have issues.\n",
      "generated an exception: Rate limit reached for default-gpt-3.5-turbo in organization org-oXRtqZdWlsnmtry277X001Hu on tokens per min. Limit: 90000 / min. Current: 89503 / min. Contact us through our help center at help.openai.com if you continue to have issues.\n"
     ]
    },
    {
     "name": "stderr",
     "output_type": "stream",
     "text": [
      " 98%|██████████████████████████████████████▏| 4889/5000 [29:19<00:17,  6.52it/s]"
     ]
    },
    {
     "name": "stdout",
     "output_type": "stream",
     "text": [
      "generated an exception: Rate limit reached for default-gpt-3.5-turbo in organization org-oXRtqZdWlsnmtry277X001Hu on tokens per min. Limit: 90000 / min. Current: 89224 / min. Contact us through our help center at help.openai.com if you continue to have issues.\n"
     ]
    },
    {
     "name": "stderr",
     "output_type": "stream",
     "text": [
      " 98%|██████████████████████████████████████▏| 4890/5000 [29:19<00:23,  4.75it/s]"
     ]
    },
    {
     "name": "stdout",
     "output_type": "stream",
     "text": [
      "generated an exception: Rate limit reached for default-gpt-3.5-turbo in organization org-oXRtqZdWlsnmtry277X001Hu on tokens per min. Limit: 90000 / min. Current: 89634 / min. Contact us through our help center at help.openai.com if you continue to have issues.\n"
     ]
    },
    {
     "name": "stderr",
     "output_type": "stream",
     "text": [
      " 98%|██████████████████████████████████████▏| 4898/5000 [29:20<00:08, 12.07it/s]"
     ]
    },
    {
     "name": "stdout",
     "output_type": "stream",
     "text": [
      "generated an exception: Rate limit reached for default-gpt-3.5-turbo in organization org-oXRtqZdWlsnmtry277X001Hu on tokens per min. Limit: 90000 / min. Current: 89142 / min. Contact us through our help center at help.openai.com if you continue to have issues.\n",
      "generated an exception: Rate limit reached for default-gpt-3.5-turbo in organization org-oXRtqZdWlsnmtry277X001Hu on tokens per min. Limit: 90000 / min. Current: 89657 / min. Contact us through our help center at help.openai.com if you continue to have issues.\n",
      "generated an exception: Rate limit reached for default-gpt-3.5-turbo in organization org-oXRtqZdWlsnmtry277X001Hu on tokens per min. Limit: 90000 / min. Current: 89810 / min. Contact us through our help center at help.openai.com if you continue to have issues.\n",
      "generated an exception: Rate limit reached for default-gpt-3.5-turbo in organization org-oXRtqZdWlsnmtry277X001Hu on tokens per min. Limit: 90000 / min. Current: 89766 / min. Contact us through our help center at help.openai.com if you continue to have issues.\n",
      "generated an exception: Rate limit reached for default-gpt-3.5-turbo in organization org-oXRtqZdWlsnmtry277X001Hu on tokens per min. Limit: 90000 / min. Current: 89685 / min. Contact us through our help center at help.openai.com if you continue to have issues.\n"
     ]
    },
    {
     "name": "stderr",
     "output_type": "stream",
     "text": [
      " 98%|██████████████████████████████████████▏| 4900/5000 [29:20<00:07, 12.67it/s]"
     ]
    },
    {
     "name": "stdout",
     "output_type": "stream",
     "text": [
      "generated an exception: Rate limit reached for default-gpt-3.5-turbo in organization org-oXRtqZdWlsnmtry277X001Hu on tokens per min. Limit: 90000 / min. Current: 89560 / min. Contact us through our help center at help.openai.com if you continue to have issues.\n"
     ]
    },
    {
     "name": "stderr",
     "output_type": "stream",
     "text": [
      " 98%|██████████████████████████████████████▏| 4902/5000 [29:20<00:08, 11.49it/s]"
     ]
    },
    {
     "name": "stdout",
     "output_type": "stream",
     "text": [
      "generated an exception: Rate limit reached for default-gpt-3.5-turbo in organization org-oXRtqZdWlsnmtry277X001Hu on tokens per min. Limit: 90000 / min. Current: 89231 / min. Contact us through our help center at help.openai.com if you continue to have issues.\n"
     ]
    },
    {
     "name": "stderr",
     "output_type": "stream",
     "text": [
      " 98%|██████████████████████████████████████▎| 4910/5000 [29:22<00:15,  5.77it/s]"
     ]
    },
    {
     "name": "stdout",
     "output_type": "stream",
     "text": [
      "generated an exception: Rate limit reached for default-gpt-3.5-turbo in organization org-oXRtqZdWlsnmtry277X001Hu on tokens per min. Limit: 90000 / min. Current: 89411 / min. Contact us through our help center at help.openai.com if you continue to have issues.\n",
      "generated an exception: Rate limit reached for default-gpt-3.5-turbo in organization org-oXRtqZdWlsnmtry277X001Hu on tokens per min. Limit: 90000 / min. Current: 89304 / min. Contact us through our help center at help.openai.com if you continue to have issues.\n"
     ]
    },
    {
     "name": "stderr",
     "output_type": "stream",
     "text": [
      " 98%|██████████████████████████████████████▎| 4918/5000 [29:25<00:18,  4.40it/s]"
     ]
    },
    {
     "name": "stdout",
     "output_type": "stream",
     "text": [
      "generated an exception: Rate limit reached for default-gpt-3.5-turbo in organization org-oXRtqZdWlsnmtry277X001Hu on tokens per min. Limit: 90000 / min. Current: 88341 / min. Contact us through our help center at help.openai.com if you continue to have issues.\n"
     ]
    },
    {
     "name": "stderr",
     "output_type": "stream",
     "text": [
      " 99%|██████████████████████████████████████▍| 4934/5000 [29:32<00:26,  2.49it/s]"
     ]
    },
    {
     "name": "stdout",
     "output_type": "stream",
     "text": [
      "generated an exception: Rate limit reached for default-gpt-3.5-turbo in organization org-oXRtqZdWlsnmtry277X001Hu on tokens per min. Limit: 90000 / min. Current: 89724 / min. Contact us through our help center at help.openai.com if you continue to have issues.\n"
     ]
    },
    {
     "name": "stderr",
     "output_type": "stream",
     "text": [
      " 99%|██████████████████████████████████████▌| 4939/5000 [29:32<00:11,  5.21it/s]"
     ]
    },
    {
     "name": "stdout",
     "output_type": "stream",
     "text": [
      "generated an exception: Rate limit reached for default-gpt-3.5-turbo in organization org-oXRtqZdWlsnmtry277X001Hu on tokens per min. Limit: 90000 / min. Current: 89583 / min. Contact us through our help center at help.openai.com if you continue to have issues.\n",
      "generated an exception: Rate limit reached for default-gpt-3.5-turbo in organization org-oXRtqZdWlsnmtry277X001Hu on tokens per min. Limit: 90000 / min. Current: 89508 / min. Contact us through our help center at help.openai.com if you continue to have issues.\n",
      "generated an exception: Rate limit reached for default-gpt-3.5-turbo in organization org-oXRtqZdWlsnmtry277X001Hu on tokens per min. Limit: 90000 / min. Current: 89694 / min. Contact us through our help center at help.openai.com if you continue to have issues.\n"
     ]
    },
    {
     "name": "stderr",
     "output_type": "stream",
     "text": [
      " 99%|██████████████████████████████████████▌| 4940/5000 [29:33<00:18,  3.28it/s]"
     ]
    },
    {
     "name": "stdout",
     "output_type": "stream",
     "text": [
      "generated an exception: Rate limit reached for default-gpt-3.5-turbo in organization org-oXRtqZdWlsnmtry277X001Hu on tokens per min. Limit: 90000 / min. Current: 89107 / min. Contact us through our help center at help.openai.com if you continue to have issues.\n"
     ]
    },
    {
     "name": "stderr",
     "output_type": "stream",
     "text": [
      " 99%|██████████████████████████████████████▌| 4946/5000 [29:34<00:12,  4.36it/s]"
     ]
    },
    {
     "name": "stdout",
     "output_type": "stream",
     "text": [
      "generated an exception: Rate limit reached for default-gpt-3.5-turbo in organization org-oXRtqZdWlsnmtry277X001Hu on tokens per min. Limit: 90000 / min. Current: 89138 / min. Contact us through our help center at help.openai.com if you continue to have issues.\n"
     ]
    },
    {
     "name": "stderr",
     "output_type": "stream",
     "text": [
      " 99%|██████████████████████████████████████▋| 4952/5000 [29:35<00:05,  8.65it/s]"
     ]
    },
    {
     "name": "stdout",
     "output_type": "stream",
     "text": [
      "generated an exception: Rate limit reached for default-gpt-3.5-turbo in organization org-oXRtqZdWlsnmtry277X001Hu on tokens per min. Limit: 90000 / min. Current: 89783 / min. Contact us through our help center at help.openai.com if you continue to have issues.\n",
      "generated an exception: Rate limit reached for default-gpt-3.5-turbo in organization org-oXRtqZdWlsnmtry277X001Hu on tokens per min. Limit: 90000 / min. Current: 89628 / min. Contact us through our help center at help.openai.com if you continue to have issues.\n"
     ]
    },
    {
     "name": "stderr",
     "output_type": "stream",
     "text": [
      " 99%|██████████████████████████████████████▋| 4957/5000 [29:35<00:03, 12.13it/s]"
     ]
    },
    {
     "name": "stdout",
     "output_type": "stream",
     "text": [
      "generated an exception: Rate limit reached for default-gpt-3.5-turbo in organization org-oXRtqZdWlsnmtry277X001Hu on tokens per min. Limit: 90000 / min. Current: 89696 / min. Contact us through our help center at help.openai.com if you continue to have issues.\n",
      "generated an exception: Rate limit reached for default-gpt-3.5-turbo in organization org-oXRtqZdWlsnmtry277X001Hu on tokens per min. Limit: 90000 / min. Current: 89579 / min. Contact us through our help center at help.openai.com if you continue to have issues.\n",
      "generated an exception: Rate limit reached for default-gpt-3.5-turbo in organization org-oXRtqZdWlsnmtry277X001Hu on tokens per min. Limit: 90000 / min. Current: 89562 / min. Contact us through our help center at help.openai.com if you continue to have issues.\n",
      "generated an exception: Rate limit reached for default-gpt-3.5-turbo in organization org-oXRtqZdWlsnmtry277X001Hu on tokens per min. Limit: 90000 / min. Current: 89488 / min. Contact us through our help center at help.openai.com if you continue to have issues.\n",
      "generated an exception: Rate limit reached for default-gpt-3.5-turbo in organization org-oXRtqZdWlsnmtry277X001Hu on tokens per min. Limit: 90000 / min. Current: 89743 / min. Contact us through our help center at help.openai.com if you continue to have issues.\n"
     ]
    },
    {
     "name": "stderr",
     "output_type": "stream",
     "text": [
      " 99%|██████████████████████████████████████▋| 4962/5000 [29:35<00:02, 15.12it/s]"
     ]
    },
    {
     "name": "stdout",
     "output_type": "stream",
     "text": [
      "generated an exception: Rate limit reached for default-gpt-3.5-turbo in organization org-oXRtqZdWlsnmtry277X001Hu on tokens per min. Limit: 90000 / min. Current: 89529 / min. Contact us through our help center at help.openai.com if you continue to have issues.\n",
      "generated an exception: Rate limit reached for default-gpt-3.5-turbo in organization org-oXRtqZdWlsnmtry277X001Hu on tokens per min. Limit: 90000 / min. Current: 89731 / min. Contact us through our help center at help.openai.com if you continue to have issues.\n"
     ]
    },
    {
     "name": "stderr",
     "output_type": "stream",
     "text": [
      " 99%|██████████████████████████████████████▋| 4964/5000 [29:36<00:03,  9.85it/s]"
     ]
    },
    {
     "name": "stdout",
     "output_type": "stream",
     "text": [
      "generated an exception: Rate limit reached for default-gpt-3.5-turbo in organization org-oXRtqZdWlsnmtry277X001Hu on tokens per min. Limit: 90000 / min. Current: 89798 / min. Contact us through our help center at help.openai.com if you continue to have issues.\n",
      "generated an exception: Rate limit reached for default-gpt-3.5-turbo in organization org-oXRtqZdWlsnmtry277X001Hu on tokens per min. Limit: 90000 / min. Current: 89597 / min. Contact us through our help center at help.openai.com if you continue to have issues.\n"
     ]
    },
    {
     "name": "stderr",
     "output_type": "stream",
     "text": [
      " 99%|██████████████████████████████████████▊| 4971/5000 [29:36<00:01, 17.54it/s]"
     ]
    },
    {
     "name": "stdout",
     "output_type": "stream",
     "text": [
      "generated an exception: Rate limit reached for default-gpt-3.5-turbo in organization org-oXRtqZdWlsnmtry277X001Hu on tokens per min. Limit: 90000 / min. Current: 89720 / min. Contact us through our help center at help.openai.com if you continue to have issues.\n",
      "generated an exception: Rate limit reached for default-gpt-3.5-turbo in organization org-oXRtqZdWlsnmtry277X001Hu on tokens per min. Limit: 90000 / min. Current: 89697 / min. Contact us through our help center at help.openai.com if you continue to have issues.\n",
      "generated an exception: Rate limit reached for default-gpt-3.5-turbo in organization org-oXRtqZdWlsnmtry277X001Hu on tokens per min. Limit: 90000 / min. Current: 89680 / min. Contact us through our help center at help.openai.com if you continue to have issues.\n",
      "generated an exception: Rate limit reached for default-gpt-3.5-turbo in organization org-oXRtqZdWlsnmtry277X001Hu on tokens per min. Limit: 90000 / min. Current: 89594 / min. Contact us through our help center at help.openai.com if you continue to have issues.\n",
      "generated an exception: Rate limit reached for default-gpt-3.5-turbo in organization org-oXRtqZdWlsnmtry277X001Hu on tokens per min. Limit: 90000 / min. Current: 89548 / min. Contact us through our help center at help.openai.com if you continue to have issues.\n"
     ]
    },
    {
     "name": "stderr",
     "output_type": "stream",
     "text": [
      "100%|██████████████████████████████████████▊| 4976/5000 [29:38<00:04,  5.60it/s]"
     ]
    },
    {
     "name": "stdout",
     "output_type": "stream",
     "text": [
      "generated an exception: The server is overloaded or not ready yet.\n"
     ]
    },
    {
     "name": "stderr",
     "output_type": "stream",
     "text": [
      "100%|███████████████████████████████████████| 5000/5000 [30:00<00:00,  2.78it/s]\n"
     ]
    }
   ],
   "source": [
    "questions_ans = []\n",
    "\n",
    "with concurrent.futures.ThreadPoolExecutor() as executor:\n",
    "    \n",
    "    futures = []\n",
    "    for index,i in df.iterrows():\n",
    "\n",
    "        question = i[\"question\"]\n",
    "        answer = i[\"answer\"]\n",
    "    \n",
    "        prompt = [{\"role\":\"system\",\"content\":\"you are an intelligent system who has the skills of an pytorch engineer. take the question and answer as input and generate an answer for the question, include code snippets if necessary.\"},\n",
    "                  {\"role\":\"assistant\",\"content\":\"sure, give me the input question and answer\"},\n",
    "                  {\"role\":\"user\",\"content\":f\"question: {question}, answer:{answer}\"}]\n",
    "\n",
    "        futures.append(executor.submit(get_qa_openai, prompt, index))\n",
    "\n",
    "    for future, (_, row) in tqdm(zip(concurrent.futures.as_completed(futures), df.iterrows()), total=len(df)):\n",
    "        try:\n",
    "            qa, ind = future.result()\n",
    "            questions_ans.append((ind,qa))\n",
    "        except Exception as exc:\n",
    "            print(f'generated an exception: {exc}')"
   ]
  },
  {
   "cell_type": "code",
   "execution_count": 176,
   "metadata": {
    "ExecuteTime": {
     "end_time": "2023-06-26T09:29:02.887020Z",
     "start_time": "2023-06-26T09:29:02.871735Z"
    }
   },
   "outputs": [],
   "source": [
    "for index, qa in questions_ans:\n",
    "    df.at[index, 'short_answer'] = qa"
   ]
  },
  {
   "cell_type": "code",
   "execution_count": 47,
   "metadata": {},
   "outputs": [
    {
     "data": {
      "text/html": [
       "<div>\n",
       "<style scoped>\n",
       "    .dataframe tbody tr th:only-of-type {\n",
       "        vertical-align: middle;\n",
       "    }\n",
       "\n",
       "    .dataframe tbody tr th {\n",
       "        vertical-align: top;\n",
       "    }\n",
       "\n",
       "    .dataframe thead th {\n",
       "        text-align: right;\n",
       "    }\n",
       "</style>\n",
       "<table border=\"1\" class=\"dataframe\">\n",
       "  <thead>\n",
       "    <tr style=\"text-align: right;\">\n",
       "      <th></th>\n",
       "      <th>question</th>\n",
       "      <th>answer</th>\n",
       "      <th>source</th>\n",
       "      <th>short_answer</th>\n",
       "    </tr>\n",
       "  </thead>\n",
       "  <tbody>\n",
       "    <tr>\n",
       "      <th>0</th>\n",
       "      <td>extracting the top-k value-indices from a 1-d ...</td>\n",
       "      <td>as of pull request #496 torch now includes a b...</td>\n",
       "      <td>https://stackoverflow.com/questions/34750268/</td>\n",
       "      <td>To extract the indices of the top-k values in ...</td>\n",
       "    </tr>\n",
       "    <tr>\n",
       "      <th>1</th>\n",
       "      <td>how to display custom images in tensorboard (e...</td>\n",
       "      <td>it is quite easy to do if you have the image i...</td>\n",
       "      <td>https://stackoverflow.com/questions/38543850/</td>\n",
       "      <td>The code provided in the answer is a direct wa...</td>\n",
       "    </tr>\n",
       "    <tr>\n",
       "      <th>2</th>\n",
       "      <td>python wheels: cp27mu not supported\\nI'm tryin...</td>\n",
       "      <td>this is exactly that. \\nrecompile python under...</td>\n",
       "      <td>https://stackoverflow.com/questions/41767005/</td>\n",
       "      <td>To recompile Python with `--enable-unicode=ucs...</td>\n",
       "    </tr>\n",
       "    <tr>\n",
       "      <th>3</th>\n",
       "      <td>loading torch7 trained models (.t7) in pytorch...</td>\n",
       "      <td>as of pytorch 1.0 torch.utils.serialization is...</td>\n",
       "      <td>https://stackoverflow.com/questions/41861354/</td>\n",
       "      <td>To load torch7 trained models (.t7) in PyTorch...</td>\n",
       "    </tr>\n",
       "    <tr>\n",
       "      <th>4</th>\n",
       "      <td>pytorch: how to use dataloaders for custom dat...</td>\n",
       "      <td>yes, that is possible. just create the objects...</td>\n",
       "      <td>https://stackoverflow.com/questions/41924453/</td>\n",
       "      <td>Great question! Here's an answer with code sni...</td>\n",
       "    </tr>\n",
       "    <tr>\n",
       "      <th>...</th>\n",
       "      <td>...</td>\n",
       "      <td>...</td>\n",
       "      <td>...</td>\n",
       "      <td>...</td>\n",
       "    </tr>\n",
       "    <tr>\n",
       "      <th>4995</th>\n",
       "      <td>compare two segmentation maps predictions\\nI a...</td>\n",
       "      <td>yes, this is a valid way to implement consiste...</td>\n",
       "      <td>https://stackoverflow.com/questions/67682106/</td>\n",
       "      <td>NaN</td>\n",
       "    </tr>\n",
       "    <tr>\n",
       "      <th>4996</th>\n",
       "      <td>difference between dataset and tensordataset i...</td>\n",
       "      <td>the dataset class is an abstract class that is...</td>\n",
       "      <td>https://stackoverflow.com/questions/67683406/</td>\n",
       "      <td>NaN</td>\n",
       "    </tr>\n",
       "    <tr>\n",
       "      <th>4997</th>\n",
       "      <td>define nn.parameters with a for loop\\nI am int...</td>\n",
       "      <td>best way to accomplish this you can accomplish...</td>\n",
       "      <td>https://stackoverflow.com/questions/67689104/</td>\n",
       "      <td>NaN</td>\n",
       "    </tr>\n",
       "    <tr>\n",
       "      <th>4998</th>\n",
       "      <td>how to integrate a pytorch model into a dynami...</td>\n",
       "      <td>tensorflow or pytorch models can't be directly...</td>\n",
       "      <td>https://stackoverflow.com/questions/67693181/</td>\n",
       "      <td>NaN</td>\n",
       "    </tr>\n",
       "    <tr>\n",
       "      <th>4999</th>\n",
       "      <td>torch to tensorflow\\nIs there a way to convert...</td>\n",
       "      <td>per the comment, i would recommend using more ...</td>\n",
       "      <td>https://stackoverflow.com/questions/67694665/</td>\n",
       "      <td>NaN</td>\n",
       "    </tr>\n",
       "  </tbody>\n",
       "</table>\n",
       "<p>5000 rows × 4 columns</p>\n",
       "</div>"
      ],
      "text/plain": [
       "                                               question  \\\n",
       "0     extracting the top-k value-indices from a 1-d ...   \n",
       "1     how to display custom images in tensorboard (e...   \n",
       "2     python wheels: cp27mu not supported\\nI'm tryin...   \n",
       "3     loading torch7 trained models (.t7) in pytorch...   \n",
       "4     pytorch: how to use dataloaders for custom dat...   \n",
       "...                                                 ...   \n",
       "4995  compare two segmentation maps predictions\\nI a...   \n",
       "4996  difference between dataset and tensordataset i...   \n",
       "4997  define nn.parameters with a for loop\\nI am int...   \n",
       "4998  how to integrate a pytorch model into a dynami...   \n",
       "4999  torch to tensorflow\\nIs there a way to convert...   \n",
       "\n",
       "                                                 answer  \\\n",
       "0     as of pull request #496 torch now includes a b...   \n",
       "1     it is quite easy to do if you have the image i...   \n",
       "2     this is exactly that. \\nrecompile python under...   \n",
       "3     as of pytorch 1.0 torch.utils.serialization is...   \n",
       "4     yes, that is possible. just create the objects...   \n",
       "...                                                 ...   \n",
       "4995  yes, this is a valid way to implement consiste...   \n",
       "4996  the dataset class is an abstract class that is...   \n",
       "4997  best way to accomplish this you can accomplish...   \n",
       "4998  tensorflow or pytorch models can't be directly...   \n",
       "4999  per the comment, i would recommend using more ...   \n",
       "\n",
       "                                             source  \\\n",
       "0     https://stackoverflow.com/questions/34750268/   \n",
       "1     https://stackoverflow.com/questions/38543850/   \n",
       "2     https://stackoverflow.com/questions/41767005/   \n",
       "3     https://stackoverflow.com/questions/41861354/   \n",
       "4     https://stackoverflow.com/questions/41924453/   \n",
       "...                                             ...   \n",
       "4995  https://stackoverflow.com/questions/67682106/   \n",
       "4996  https://stackoverflow.com/questions/67683406/   \n",
       "4997  https://stackoverflow.com/questions/67689104/   \n",
       "4998  https://stackoverflow.com/questions/67693181/   \n",
       "4999  https://stackoverflow.com/questions/67694665/   \n",
       "\n",
       "                                           short_answer  \n",
       "0     To extract the indices of the top-k values in ...  \n",
       "1     The code provided in the answer is a direct wa...  \n",
       "2     To recompile Python with `--enable-unicode=ucs...  \n",
       "3     To load torch7 trained models (.t7) in PyTorch...  \n",
       "4     Great question! Here's an answer with code sni...  \n",
       "...                                                 ...  \n",
       "4995                                                NaN  \n",
       "4996                                                NaN  \n",
       "4997                                                NaN  \n",
       "4998                                                NaN  \n",
       "4999                                                NaN  \n",
       "\n",
       "[5000 rows x 4 columns]"
      ]
     },
     "execution_count": 47,
     "metadata": {},
     "output_type": "execute_result"
    }
   ],
   "source": [
    "df"
   ]
  },
  {
   "cell_type": "code",
   "execution_count": 45,
   "metadata": {
    "ExecuteTime": {
     "end_time": "2023-06-26T16:18:22.119354Z",
     "start_time": "2023-06-26T16:18:22.108252Z"
    }
   },
   "outputs": [],
   "source": [
    "df.to_csv(\"answer_summarized_5000.csv\", index=False)"
   ]
  },
  {
   "cell_type": "code",
   "execution_count": null,
   "metadata": {},
   "outputs": [],
   "source": []
  }
 ],
 "metadata": {
  "kernelspec": {
   "display_name": "Python 3",
   "language": "python",
   "name": "python3"
  },
  "language_info": {
   "codemirror_mode": {
    "name": "ipython",
    "version": 3
   },
   "file_extension": ".py",
   "mimetype": "text/x-python",
   "name": "python",
   "nbconvert_exporter": "python",
   "pygments_lexer": "ipython3",
   "version": "3.8.2"
  }
 },
 "nbformat": 4,
 "nbformat_minor": 4
}
