{
 "cells": [
  {
   "cell_type": "code",
   "execution_count": 18,
   "metadata": {
    "ExecuteTime": {
     "end_time": "2023-06-26T09:21:19.904327Z",
     "start_time": "2023-06-26T09:21:19.900654Z"
    }
   },
   "outputs": [],
   "source": [
    "import pandas as pd\n",
    "import re\n",
    "import concurrent.futures\n",
    "import requests\n",
    "import openai\n",
    "from tqdm import tqdm\n",
    "tqdm.pandas()"
   ]
  },
  {
   "cell_type": "code",
   "execution_count": 2,
   "metadata": {
    "ExecuteTime": {
     "end_time": "2023-06-26T09:17:56.722993Z",
     "start_time": "2023-06-26T09:17:56.719015Z"
    }
   },
   "outputs": [],
   "source": [
    "def cleanhtml(raw_html):\n",
    "    CLEANR = re.compile('<.*?>')\n",
    "    cleantext = re.sub(CLEANR, '', raw_html)\n",
    "    return cleantext\n",
    "    \n",
    "def clean_data(df):\n",
    "    df[\"pt_answer\"] = df[\"pt_answer\"].apply(lambda x: cleanhtml(x))\n",
    "\n",
    "    df[\"question\"] = df[\"pt_title\"].str.lower() + \"\\n\" + df[\"pt_body\"]\n",
    "    df[\"question\"] = df[\"question\"].apply(lambda x: cleanhtml(x))\n",
    "    df[\"answer\"] = df[\"pt_answer\"].str.lower()\n",
    "\n",
    "    df = df[['pt_post_id','question', 'answer']]\n",
    "    return df\n",
    "    \n",
    "\n",
    "## get qa and link to post\n",
    "def get_url(df):\n",
    "    url = []\n",
    "    for index, row in df.iterrows():\n",
    "        url.append(f\"https://stackoverflow.com/questions/{row['pt_post_id']}/\")\n",
    "    \n",
    "    df['source'] = url\n",
    "\n",
    "    return df"
   ]
  },
  {
   "cell_type": "markdown",
   "metadata": {},
   "source": [
    "### Download the file pt_question_answers.csv from https://github.com/chauhang/pt-experiments/blob/pytorch-qa/pytorch-qa/pt_question_answers.csv"
   ]
  },
  {
   "cell_type": "code",
   "execution_count": 3,
   "metadata": {
    "ExecuteTime": {
     "end_time": "2023-06-26T09:17:58.184254Z",
     "start_time": "2023-06-26T09:17:57.654693Z"
    }
   },
   "outputs": [
    {
     "data": {
      "text/plain": [
       "(10763, 12)"
      ]
     },
     "execution_count": 3,
     "metadata": {},
     "output_type": "execute_result"
    }
   ],
   "source": [
    "df = pd.read_csv('pt_question_answers.csv')\n",
    "df.shape"
   ]
  },
  {
   "cell_type": "code",
   "execution_count": 4,
   "metadata": {
    "ExecuteTime": {
     "end_time": "2023-06-26T09:17:59.918507Z",
     "start_time": "2023-06-26T09:17:59.262952Z"
    }
   },
   "outputs": [],
   "source": [
    "df = clean_data(df)\n",
    "df = get_url(df)\n",
    "df = df[['question','answer','source']]"
   ]
  },
  {
   "cell_type": "code",
   "execution_count": 5,
   "metadata": {
    "ExecuteTime": {
     "end_time": "2023-06-26T09:18:00.657928Z",
     "start_time": "2023-06-26T09:18:00.646091Z"
    }
   },
   "outputs": [
    {
     "data": {
      "text/plain": [
       "(5000, 3)"
      ]
     },
     "execution_count": 5,
     "metadata": {},
     "output_type": "execute_result"
    }
   ],
   "source": [
    "df = df[:5000]\n",
    "\n",
    "df.shape"
   ]
  },
  {
   "cell_type": "markdown",
   "metadata": {},
   "source": [
    "### Set your openai key here"
   ]
  },
  {
   "cell_type": "code",
   "execution_count": 6,
   "metadata": {
    "ExecuteTime": {
     "end_time": "2023-06-26T09:18:02.295649Z",
     "start_time": "2023-06-26T09:18:02.293029Z"
    }
   },
   "outputs": [],
   "source": [
    "OPENAI_API_KEY=\"\""
   ]
  },
  {
   "cell_type": "code",
   "execution_count": 7,
   "metadata": {
    "ExecuteTime": {
     "end_time": "2023-06-26T09:18:03.732391Z",
     "start_time": "2023-06-26T09:18:03.728272Z"
    }
   },
   "outputs": [],
   "source": [
    "def get_qa_openai(prompt, index):\n",
    "    try:\n",
    "        completion = openai.ChatCompletion.create(\n",
    "                model=\"gpt-3.5-turbo\", api_key = OPENAI_API_KEY,\n",
    "                messages=prompt\n",
    "                )\n",
    "\n",
    "        resp = completion.choices[0].message.content\n",
    "\n",
    "    except requests.exceptions.RequestException as e:\n",
    "        print(f'Request failed with error: {str(e)}.')\n",
    "        print(f'Waiting for 3 minutes before trying again...')\n",
    "        time.sleep(180)\n",
    "    \n",
    "    return (resp, index)"
   ]
  },
  {
   "cell_type": "code",
   "execution_count": null,
   "metadata": {},
   "outputs": [],
   "source": []
  },
  {
   "cell_type": "markdown",
   "metadata": {},
   "source": [
    "### Sample test"
   ]
  },
  {
   "cell_type": "code",
   "execution_count": 8,
   "metadata": {
    "ExecuteTime": {
     "end_time": "2023-06-26T09:18:05.638902Z",
     "start_time": "2023-06-26T09:18:05.633437Z"
    }
   },
   "outputs": [],
   "source": [
    "question = df.loc[5, \"question\"]\n",
    "answer = df.loc[5, \"answer\"]\n"
   ]
  },
  {
   "cell_type": "code",
   "execution_count": 9,
   "metadata": {
    "ExecuteTime": {
     "end_time": "2023-06-26T09:18:08.103592Z",
     "start_time": "2023-06-26T09:18:08.099273Z"
    }
   },
   "outputs": [
    {
     "data": {
      "text/plain": [
       "'what does .view() do in pytorch?\\nWhat does .view() do to a tensor x? What do negative values mean?\\nx = x.view(-1, 16 * 5 * 5)\\n\\n'"
      ]
     },
     "execution_count": 9,
     "metadata": {},
     "output_type": "execute_result"
    }
   ],
   "source": [
    "question"
   ]
  },
  {
   "cell_type": "code",
   "execution_count": 10,
   "metadata": {
    "ExecuteTime": {
     "end_time": "2023-06-26T09:18:08.308662Z",
     "start_time": "2023-06-26T09:18:08.294926Z"
    }
   },
   "outputs": [
    {
     "data": {
      "text/plain": [
       "\"view() reshapes the tensor without copying memory, similar to numpy's reshape().\\ngiven a tensor a with 16 elements:\\nimport torch\\na = torch.range(1, 16)\\n\\nto reshape this tensor to make it a 4 x 4 tensor, use:\\na = a.view(4, 4)\\n\\nnow a will be a 4 x 4 tensor. note that after the reshape the total number of elements need to remain the same. reshaping the tensor a to a 3 x 5 tensor would not be appropriate.\\nwhat is the meaning of parameter -1?\\nif there is any situation that you don't know how many rows you want but are sure of the number of columns, then you can specify this with a -1. (note that you can extend this to tensors with more dimensions. only one of the axis value can be -1). this is a way of telling the library: &quot;give me a tensor that has these many columns and you compute the appropriate number of rows that is necessary to make this happen&quot;.\\nthis can be seen in this model definition code. after the line x = self.pool(f.relu(self.conv2(x))) in the forward function, you will have a 16 depth feature map. you have to flatten this to give it to the fully connected layer. so you tell pytorch to reshape the tensor you obtained to have specific number of columns and tell it to decide the number of rows by itself.\\n\""
      ]
     },
     "execution_count": 10,
     "metadata": {},
     "output_type": "execute_result"
    }
   ],
   "source": [
    "answer"
   ]
  },
  {
   "cell_type": "code",
   "execution_count": 11,
   "metadata": {
    "ExecuteTime": {
     "end_time": "2023-06-26T09:18:08.493175Z",
     "start_time": "2023-06-26T09:18:08.482636Z"
    }
   },
   "outputs": [],
   "source": [
    "prompt = [{\"role\":\"system\",\"content\":\"you are an intelligent system who has the skills of an pytorch engineer. take the question and answer as input and generate an answer for the question, include code snippets if necessary.\"},\n",
    "          {\"role\":\"assistant\",\"content\":\"sure, give me the input question and answer\"},\n",
    "          {\"role\":\"user\",\"content\":f\"question: {question}, answer:{answer}\"}]"
   ]
  },
  {
   "cell_type": "code",
   "execution_count": 12,
   "metadata": {
    "ExecuteTime": {
     "end_time": "2023-06-26T09:18:10.430145Z",
     "start_time": "2023-06-26T09:18:10.425564Z"
    }
   },
   "outputs": [
    {
     "data": {
      "text/plain": [
       "[{'role': 'system',\n",
       "  'content': 'you are an intelligent system who has the skills of an pytorch engineer. take the question and answer as input and generate an answer for the question, include code snippets if necessary.'},\n",
       " {'role': 'assistant',\n",
       "  'content': 'sure, give me the input question and answer'},\n",
       " {'role': 'user',\n",
       "  'content': \"question: what does .view() do in pytorch?\\nWhat does .view() do to a tensor x? What do negative values mean?\\nx = x.view(-1, 16 * 5 * 5)\\n\\n, answer:view() reshapes the tensor without copying memory, similar to numpy's reshape().\\ngiven a tensor a with 16 elements:\\nimport torch\\na = torch.range(1, 16)\\n\\nto reshape this tensor to make it a 4 x 4 tensor, use:\\na = a.view(4, 4)\\n\\nnow a will be a 4 x 4 tensor. note that after the reshape the total number of elements need to remain the same. reshaping the tensor a to a 3 x 5 tensor would not be appropriate.\\nwhat is the meaning of parameter -1?\\nif there is any situation that you don't know how many rows you want but are sure of the number of columns, then you can specify this with a -1. (note that you can extend this to tensors with more dimensions. only one of the axis value can be -1). this is a way of telling the library: &quot;give me a tensor that has these many columns and you compute the appropriate number of rows that is necessary to make this happen&quot;.\\nthis can be seen in this model definition code. after the line x = self.pool(f.relu(self.conv2(x))) in the forward function, you will have a 16 depth feature map. you have to flatten this to give it to the fully connected layer. so you tell pytorch to reshape the tensor you obtained to have specific number of columns and tell it to decide the number of rows by itself.\\n\"}]"
      ]
     },
     "execution_count": 12,
     "metadata": {},
     "output_type": "execute_result"
    }
   ],
   "source": [
    "prompt"
   ]
  },
  {
   "cell_type": "code",
   "execution_count": 13,
   "metadata": {
    "ExecuteTime": {
     "end_time": "2023-06-26T09:18:31.475817Z",
     "start_time": "2023-06-26T09:18:11.361901Z"
    }
   },
   "outputs": [],
   "source": [
    "resp, index = get_qa_openai(prompt=prompt, index=5)"
   ]
  },
  {
   "cell_type": "code",
   "execution_count": 14,
   "metadata": {
    "ExecuteTime": {
     "end_time": "2023-06-26T09:18:31.481590Z",
     "start_time": "2023-06-26T09:18:31.477519Z"
    }
   },
   "outputs": [
    {
     "data": {
      "text/plain": [
       "'The .view() method in PyTorch reshapes a tensor without copying its memory, similar to the reshape() method in numpy. It takes the new shape as an argument. If the total number of elements in the tensor is the same as in the new shape, then the tensor is successfully reshaped. Otherwise, an error will be raised.\\n\\nNegative values can be passed as an argument to the .view() method and it indicates that PyTorch should infer the missing dimension based on the size of the input tensor and the other provided dimension. If there is any situation that you don\\'t know the number of rows you want but are sure of the number of columns, then you can specify this with a -1. This is a way of telling the library: \"give me a tensor that has these many columns and you compute the appropriate number of rows that is necessary to make this happen\".\\n\\nHere\\'s an example where .view() is used to reshape a tensor:\\n\\n```\\nimport torch\\n\\n# create a tensor with 16 elements\\na = torch.range(1, 16)\\n\\n# reshape the tensor to make it a 4 x 4 tensor\\na = a.view(4, 4)\\n\\n# now a will be a 4 x 4 tensor.\\nprint(a)\\n```\\n\\nIn this example, the tensor `a` is reshaped to a 4 x 4 tensor. \\n\\nIn the following code snippet from a PyTorch model definition, after the line `x = self.pool(f.relu(self.conv2(x)))` in the forward function, there is a 16 depth feature map which needs to be flattened to give it to the fully connected layer. It tells PyTorch to reshape the tensor obtained to have specific number of columns and tells it to decide the number of rows by itself.\\n\\n```\\nclass Net(nn.Module):\\n    def __init__(self):\\n        super(Net, self).__init__()\\n        self.conv1 = nn.Conv2d(1, 6, 5)\\n        self.conv2 = nn.Conv2d(6, 16, 5)\\n        self.pool = nn.MaxPool2d(2, 2)\\n        self.fc1 = nn.Linear(16 * 5 * 5, 120)\\n        self.fc2 = nn.Linear(120, 84)\\n        self.fc3 = nn.Linear(84, 10)\\n\\n    def forward(self, x):\\n        x = self.pool(f.relu(self.conv1(x)))\\n        x = self.pool(f.relu(self.conv2(x)))\\n        # flatten the tensor obtained to give it to the fully connected layer\\n        x = x.view(-1, 16 * 5 * 5)\\n        x = f.relu(self.fc1(x))\\n        x = f.relu(self.fc2(x))\\n        x = self.fc3(x)\\n        return x\\n```'"
      ]
     },
     "execution_count": 14,
     "metadata": {},
     "output_type": "execute_result"
    }
   ],
   "source": [
    "resp"
   ]
  },
  {
   "cell_type": "code",
   "execution_count": null,
   "metadata": {},
   "outputs": [],
   "source": []
  },
  {
   "cell_type": "markdown",
   "metadata": {},
   "source": [
    "### Running it for 50 samples"
   ]
  },
  {
   "cell_type": "code",
   "execution_count": 15,
   "metadata": {
    "ExecuteTime": {
     "end_time": "2023-06-26T09:18:49.647913Z",
     "start_time": "2023-06-26T09:18:49.643448Z"
    }
   },
   "outputs": [],
   "source": [
    "df = df[:50]"
   ]
  },
  {
   "cell_type": "code",
   "execution_count": 16,
   "metadata": {
    "ExecuteTime": {
     "end_time": "2023-06-26T09:18:50.465288Z",
     "start_time": "2023-06-26T09:18:50.459225Z"
    }
   },
   "outputs": [
    {
     "data": {
      "text/plain": [
       "(50, 3)"
      ]
     },
     "execution_count": 16,
     "metadata": {},
     "output_type": "execute_result"
    }
   ],
   "source": [
    "df.shape"
   ]
  },
  {
   "cell_type": "code",
   "execution_count": 19,
   "metadata": {
    "ExecuteTime": {
     "end_time": "2023-06-26T09:27:00.162131Z",
     "start_time": "2023-06-26T09:21:22.350579Z"
    }
   },
   "outputs": [
    {
     "name": "stderr",
     "output_type": "stream",
     "text": [
      " 98%|█████████▊| 49/50 [01:03<00:02,  2.88s/it]"
     ]
    },
    {
     "name": "stdout",
     "output_type": "stream",
     "text": [
      "generated an exception: The server is overloaded or not ready yet.\n"
     ]
    },
    {
     "name": "stderr",
     "output_type": "stream",
     "text": [
      "100%|██████████| 50/50 [05:37<00:00,  6.75s/it]"
     ]
    },
    {
     "name": "stdout",
     "output_type": "stream",
     "text": [
      "generated an exception: Bad gateway. {\"error\":{\"code\":502,\"message\":\"Bad gateway.\",\"param\":null,\"type\":\"cf_bad_gateway\"}} 502 {'error': {'code': 502, 'message': 'Bad gateway.', 'param': None, 'type': 'cf_bad_gateway'}} {'Date': 'Mon, 26 Jun 2023 09:27:00 GMT', 'Content-Type': 'application/json', 'Content-Length': '84', 'Connection': 'keep-alive', 'X-Frame-Options': 'SAMEORIGIN', 'Referrer-Policy': 'same-origin', 'Cache-Control': 'private, max-age=0, no-store, no-cache, must-revalidate, post-check=0, pre-check=0', 'Expires': 'Thu, 01 Jan 1970 00:00:01 GMT', 'Server': 'cloudflare', 'CF-RAY': '7dd461a98f352e05-BOM', 'alt-svc': 'h3=\":443\"; ma=86400'}\n"
     ]
    },
    {
     "name": "stderr",
     "output_type": "stream",
     "text": [
      "\n"
     ]
    }
   ],
   "source": [
    "questions_ans = []\n",
    "\n",
    "with concurrent.futures.ThreadPoolExecutor() as executor:\n",
    "    \n",
    "    futures = []\n",
    "    for index,i in df.iterrows():\n",
    "\n",
    "        question = i[\"question\"]\n",
    "        answer = i[\"answer\"]\n",
    "    \n",
    "        prompt = [{\"role\":\"system\",\"content\":\"you are an intelligent system who has the skills of an pytorch engineer. take the question and answer as input and generate an answer for the question, include code snippets if necessary.\"},\n",
    "                  {\"role\":\"assistant\",\"content\":\"sure, give me the input question and answer\"},\n",
    "                  {\"role\":\"user\",\"content\":f\"question: {question}, answer:{answer}\"}]\n",
    "\n",
    "        futures.append(executor.submit(get_qa_openai, prompt, index))\n",
    "\n",
    "    for future, (_, row) in tqdm(zip(concurrent.futures.as_completed(futures), df.iterrows()), total=len(df)):\n",
    "        try:\n",
    "            qa, ind = future.result()\n",
    "            questions_ans.append((ind,qa))\n",
    "        except Exception as exc:\n",
    "            print(f'generated an exception: {exc}')"
   ]
  },
  {
   "cell_type": "code",
   "execution_count": 22,
   "metadata": {
    "ExecuteTime": {
     "end_time": "2023-06-26T09:28:01.810454Z",
     "start_time": "2023-06-26T09:28:01.807308Z"
    }
   },
   "outputs": [
    {
     "data": {
      "text/plain": [
       "48"
      ]
     },
     "execution_count": 22,
     "metadata": {},
     "output_type": "execute_result"
    }
   ],
   "source": [
    "len(questions_ans)"
   ]
  },
  {
   "cell_type": "code",
   "execution_count": 25,
   "metadata": {
    "ExecuteTime": {
     "end_time": "2023-06-26T09:28:45.155990Z",
     "start_time": "2023-06-26T09:28:45.145566Z"
    }
   },
   "outputs": [
    {
     "data": {
      "text/plain": [
       "(9,\n",
       " 'To install torchtext, you can follow the steps below:\\n\\n1. Clone the GitHub repository of torchtext.\\n```\\ngit clone https://github.com/pytorch/text.git\\n```\\n\\n2. Go into the torchtext directory.\\n```\\ncd text\\n```\\n\\n3. Install the package using setuptools.\\n```\\npython setup.py install\\n```\\n\\nAlternatively, you can install torchtext using pip by running the following command:\\n```\\npip install torchtext\\n```\\n\\nHowever, if you are still facing the same error after installing torchtext, you may need to check if your PyTorch installation is compatible with your torchtext version. In some cases, torchtext may not be compatible with the latest version of PyTorch. You can try downgrading your PyTorch version and reinstalling torchtext.')"
      ]
     },
     "execution_count": 25,
     "metadata": {},
     "output_type": "execute_result"
    }
   ],
   "source": [
    "questions_ans[0]"
   ]
  },
  {
   "cell_type": "code",
   "execution_count": 26,
   "metadata": {
    "ExecuteTime": {
     "end_time": "2023-06-26T09:29:02.887020Z",
     "start_time": "2023-06-26T09:29:02.871735Z"
    }
   },
   "outputs": [],
   "source": [
    "for index, qa in questions_ans:\n",
    "    df.at[index, 'short_answer'] = qa"
   ]
  },
  {
   "cell_type": "code",
   "execution_count": 49,
   "metadata": {
    "ExecuteTime": {
     "end_time": "2023-06-26T16:17:41.541772Z",
     "start_time": "2023-06-26T16:17:41.536489Z"
    }
   },
   "outputs": [
    {
     "data": {
      "text/plain": [
       "0"
      ]
     },
     "execution_count": 49,
     "metadata": {},
     "output_type": "execute_result"
    }
   ],
   "source": [
    "df.short_answer.str.contains(\"engineer\").sum()"
   ]
  },
  {
   "cell_type": "code",
   "execution_count": 50,
   "metadata": {
    "ExecuteTime": {
     "end_time": "2023-06-26T16:18:22.119354Z",
     "start_time": "2023-06-26T16:18:22.108252Z"
    }
   },
   "outputs": [],
   "source": [
    "df.to_csv(\"Sample-Summarization.csv\", index=False)"
   ]
  },
  {
   "cell_type": "code",
   "execution_count": null,
   "metadata": {},
   "outputs": [],
   "source": []
  }
 ],
 "metadata": {
  "kernelspec": {
   "display_name": "Python 3",
   "language": "python",
   "name": "python3"
  },
  "language_info": {
   "codemirror_mode": {
    "name": "ipython",
    "version": 3
   },
   "file_extension": ".py",
   "mimetype": "text/x-python",
   "name": "python",
   "nbconvert_exporter": "python",
   "pygments_lexer": "ipython3",
   "version": "3.8.2"
  }
 },
 "nbformat": 4,
 "nbformat_minor": 4
}
