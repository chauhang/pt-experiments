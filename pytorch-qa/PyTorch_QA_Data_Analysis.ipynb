{
 "cells": [
  {
   "cell_type": "code",
   "execution_count": 1,
   "id": "5aaac78f",
   "metadata": {},
   "outputs": [],
   "source": [
    "import pandas as pd\n",
    "import re\n",
    "import json\n",
    "import html\n",
    "\n",
    "import seaborn as sns\n",
    "import matplotlib.pyplot as plt"
   ]
  },
  {
   "cell_type": "code",
   "execution_count": 2,
   "id": "f9f12a64",
   "metadata": {},
   "outputs": [
    {
     "data": {
      "text/html": [
       "<div>\n",
       "<style scoped>\n",
       "    .dataframe tbody tr th:only-of-type {\n",
       "        vertical-align: middle;\n",
       "    }\n",
       "\n",
       "    .dataframe tbody tr th {\n",
       "        vertical-align: top;\n",
       "    }\n",
       "\n",
       "    .dataframe thead th {\n",
       "        text-align: right;\n",
       "    }\n",
       "</style>\n",
       "<table border=\"1\" class=\"dataframe\">\n",
       "  <thead>\n",
       "    <tr style=\"text-align: right;\">\n",
       "      <th></th>\n",
       "      <th>question</th>\n",
       "      <th>answer</th>\n",
       "    </tr>\n",
       "  </thead>\n",
       "  <tbody>\n",
       "    <tr>\n",
       "      <th>0</th>\n",
       "      <td>extracting the top-k value-indices from a 1-d ...</td>\n",
       "      <td>as of pull request #496 torch now includes a b...</td>\n",
       "    </tr>\n",
       "    <tr>\n",
       "      <th>1</th>\n",
       "      <td>how to display custom images in tensorboard (e...</td>\n",
       "      <td>it is quite easy to do if you have the image i...</td>\n",
       "    </tr>\n",
       "    <tr>\n",
       "      <th>2</th>\n",
       "      <td>python wheels: cp27mu not supportedi'm trying ...</td>\n",
       "      <td>this is exactly that. \\nrecompile python under...</td>\n",
       "    </tr>\n",
       "    <tr>\n",
       "      <th>3</th>\n",
       "      <td>loading torch7 trained models (.t7) in pytorch...</td>\n",
       "      <td>as of pytorch 1.0 torch.utils.serialization is...</td>\n",
       "    </tr>\n",
       "    <tr>\n",
       "      <th>4</th>\n",
       "      <td>pytorch: how to use dataloaders for custom dat...</td>\n",
       "      <td>yes, that is possible. just create the objects...</td>\n",
       "    </tr>\n",
       "    <tr>\n",
       "      <th>...</th>\n",
       "      <td>...</td>\n",
       "      <td>...</td>\n",
       "    </tr>\n",
       "    <tr>\n",
       "      <th>10758</th>\n",
       "      <td>is it possible to perform quantization on dens...</td>\n",
       "      <td>here's how to do this on densenet169 from torc...</td>\n",
       "    </tr>\n",
       "    <tr>\n",
       "      <th>10759</th>\n",
       "      <td>why when the batch size increased, the epoch t...</td>\n",
       "      <td>as you already noticed, there are many factors...</td>\n",
       "    </tr>\n",
       "    <tr>\n",
       "      <th>10760</th>\n",
       "      <td>why does stablediffusionpipeline return black ...</td>\n",
       "      <td>apparently it is indeed an apple silicon (m1/m...</td>\n",
       "    </tr>\n",
       "    <tr>\n",
       "      <th>10761</th>\n",
       "      <td>locating tags in a string in php (with respect...</td>\n",
       "      <td>i think i've got something. how about this:\\nf...</td>\n",
       "    </tr>\n",
       "    <tr>\n",
       "      <th>10762</th>\n",
       "      <td>bgr to rgb for cub_200 images by image.split()...</td>\n",
       "      <td>i would strongly recommend you use skimage.io ...</td>\n",
       "    </tr>\n",
       "  </tbody>\n",
       "</table>\n",
       "<p>10763 rows × 2 columns</p>\n",
       "</div>"
      ],
      "text/plain": [
       "                                                question  \\\n",
       "0      extracting the top-k value-indices from a 1-d ...   \n",
       "1      how to display custom images in tensorboard (e...   \n",
       "2      python wheels: cp27mu not supportedi'm trying ...   \n",
       "3      loading torch7 trained models (.t7) in pytorch...   \n",
       "4      pytorch: how to use dataloaders for custom dat...   \n",
       "...                                                  ...   \n",
       "10758  is it possible to perform quantization on dens...   \n",
       "10759  why when the batch size increased, the epoch t...   \n",
       "10760  why does stablediffusionpipeline return black ...   \n",
       "10761  locating tags in a string in php (with respect...   \n",
       "10762  bgr to rgb for cub_200 images by image.split()...   \n",
       "\n",
       "                                                  answer  \n",
       "0      as of pull request #496 torch now includes a b...  \n",
       "1      it is quite easy to do if you have the image i...  \n",
       "2      this is exactly that. \\nrecompile python under...  \n",
       "3      as of pytorch 1.0 torch.utils.serialization is...  \n",
       "4      yes, that is possible. just create the objects...  \n",
       "...                                                  ...  \n",
       "10758  here's how to do this on densenet169 from torc...  \n",
       "10759  as you already noticed, there are many factors...  \n",
       "10760  apparently it is indeed an apple silicon (m1/m...  \n",
       "10761  i think i've got something. how about this:\\nf...  \n",
       "10762  i would strongly recommend you use skimage.io ...  \n",
       "\n",
       "[10763 rows x 2 columns]"
      ]
     },
     "execution_count": 2,
     "metadata": {},
     "output_type": "execute_result"
    }
   ],
   "source": [
    "\n",
    "### stack overflow dataset\n",
    "\n",
    "df_so = pd.read_csv('pt_question_answers_updated.csv')\n",
    "\n",
    "CLEANR = re.compile('<.*?>')\n",
    "def cleanhtml(raw_html):\n",
    "    cleantext = re.sub(CLEANR, '', raw_html)\n",
    "    cleantext = html.unescape(cleantext)\n",
    "    return cleantext\n",
    "\n",
    "df_so[\"pt_answer\"] = df_so[\"pt_answer\"].apply(lambda x: cleanhtml(x))\n",
    "df_so[\"pt_title\"] = df_so[\"pt_title\"].apply(lambda x: cleanhtml(x))\n",
    "df_so[\"pt_body\"] = df_so[\"pt_body\"].apply(lambda x: cleanhtml(x))\n",
    "\n",
    "df_so[\"question\"] = df_so[\"pt_title\"].str.lower() + df_so[\"pt_body\"].str.lower()\n",
    "\n",
    "df_so[\"answer\"] = df_so[\"pt_answer\"].str.lower()\n",
    "\n",
    "df_so = df_so[['question', 'answer']]\n",
    "df_so"
   ]
  },
  {
   "cell_type": "code",
   "execution_count": 3,
   "id": "601e22ff",
   "metadata": {},
   "outputs": [
    {
     "data": {
      "text/html": [
       "<div>\n",
       "<style scoped>\n",
       "    .dataframe tbody tr th:only-of-type {\n",
       "        vertical-align: middle;\n",
       "    }\n",
       "\n",
       "    .dataframe tbody tr th {\n",
       "        vertical-align: top;\n",
       "    }\n",
       "\n",
       "    .dataframe thead th {\n",
       "        text-align: right;\n",
       "    }\n",
       "</style>\n",
       "<table border=\"1\" class=\"dataframe\">\n",
       "  <thead>\n",
       "    <tr style=\"text-align: right;\">\n",
       "      <th></th>\n",
       "      <th>question</th>\n",
       "      <th>answer</th>\n",
       "    </tr>\n",
       "  </thead>\n",
       "  <tbody>\n",
       "    <tr>\n",
       "      <th>0</th>\n",
       "      <td>beginner: should relu/sigmoid be called in th...</td>\n",
       "      <td>since nn.relu is a class, you have to instanti...</td>\n",
       "    </tr>\n",
       "    <tr>\n",
       "      <th>1</th>\n",
       "      <td>torch.from_numpy not support negative strides...</td>\n",
       "      <td>how about \\n torch.from_numpy(np.flip(x,axis=0...</td>\n",
       "    </tr>\n",
       "    <tr>\n",
       "      <th>2</th>\n",
       "      <td>what is the difference between bcewithlogitsl...</td>\n",
       "      <td>you are right. both loss functions seem to ret...</td>\n",
       "    </tr>\n",
       "    <tr>\n",
       "      <th>3</th>\n",
       "      <td>how to train the network with multiple branch...</td>\n",
       "      <td>opt1 = optim.adam(branch_1.parameters(), ...)\\...</td>\n",
       "    </tr>\n",
       "    <tr>\n",
       "      <th>4</th>\n",
       "      <td>how to check for vanishing/exploding gradient...</td>\n",
       "      <td>in my case, i use this simple code to see valu...</td>\n",
       "    </tr>\n",
       "    <tr>\n",
       "      <th>...</th>\n",
       "      <td>...</td>\n",
       "      <td>...</td>\n",
       "    </tr>\n",
       "    <tr>\n",
       "      <th>13229</th>\n",
       "      <td>best way to implement series of weighted rand...</td>\n",
       "      <td>actually, i figured it out. there was a functi...</td>\n",
       "    </tr>\n",
       "    <tr>\n",
       "      <th>13230</th>\n",
       "      <td>batch_norm causes runtimeerror: expected all ...</td>\n",
       "      <td>\\n\\n\\n dkobayas-cyber:\\n\\n(when checking argum...</td>\n",
       "    </tr>\n",
       "    <tr>\n",
       "      <th>13231</th>\n",
       "      <td>scale gradient without scaling loss values? h...</td>\n",
       "      <td>\\n\\n\\n lisyuan:\\n\\ni still cannot understand w...</td>\n",
       "    </tr>\n",
       "    <tr>\n",
       "      <th>13232</th>\n",
       "      <td>transform normalization? forgive me if i misu...</td>\n",
       "      <td>transforms.normalize subtracts the provided me...</td>\n",
       "    </tr>\n",
       "    <tr>\n",
       "      <th>13233</th>\n",
       "      <td>parameters of model? hello there! i am trying...</td>\n",
       "      <td>based on the error messages it seems the input...</td>\n",
       "    </tr>\n",
       "  </tbody>\n",
       "</table>\n",
       "<p>13234 rows × 2 columns</p>\n",
       "</div>"
      ],
      "text/plain": [
       "                                                question  \\\n",
       "0       beginner: should relu/sigmoid be called in th...   \n",
       "1       torch.from_numpy not support negative strides...   \n",
       "2       what is the difference between bcewithlogitsl...   \n",
       "3       how to train the network with multiple branch...   \n",
       "4       how to check for vanishing/exploding gradient...   \n",
       "...                                                  ...   \n",
       "13229   best way to implement series of weighted rand...   \n",
       "13230   batch_norm causes runtimeerror: expected all ...   \n",
       "13231   scale gradient without scaling loss values? h...   \n",
       "13232   transform normalization? forgive me if i misu...   \n",
       "13233   parameters of model? hello there! i am trying...   \n",
       "\n",
       "                                                  answer  \n",
       "0      since nn.relu is a class, you have to instanti...  \n",
       "1      how about \\n torch.from_numpy(np.flip(x,axis=0...  \n",
       "2      you are right. both loss functions seem to ret...  \n",
       "3      opt1 = optim.adam(branch_1.parameters(), ...)\\...  \n",
       "4      in my case, i use this simple code to see valu...  \n",
       "...                                                  ...  \n",
       "13229  actually, i figured it out. there was a functi...  \n",
       "13230  \\n\\n\\n dkobayas-cyber:\\n\\n(when checking argum...  \n",
       "13231  \\n\\n\\n lisyuan:\\n\\ni still cannot understand w...  \n",
       "13232  transforms.normalize subtracts the provided me...  \n",
       "13233  based on the error messages it seems the input...  \n",
       "\n",
       "[13234 rows x 2 columns]"
      ]
     },
     "execution_count": 3,
     "metadata": {},
     "output_type": "execute_result"
    }
   ],
   "source": [
    "\n",
    "### discussion forum dataset\n",
    "\n",
    "df_discuss = pd.read_json('discussion_forum.json')\n",
    "\n",
    "df_discuss[['question', 'answer']] = df_discuss[\"text\"].apply(lambda x: pd.Series(str(x).split('ANSWER: ', maxsplit=1)))\n",
    "\n",
    "df_discuss['question'] = df_discuss['question'].str.lstrip('QUESTION:')\n",
    "\n",
    "df_discuss = df_discuss[['question', 'answer']]\n",
    "\n",
    "df_discuss[\"question\"] = df_discuss[\"question\"].apply(lambda x: cleanhtml(x))\n",
    "df_discuss[\"answer\"] = df_discuss[\"answer\"].apply(lambda x: cleanhtml(x))\n",
    "df_discuss[\"question\"] = df_discuss[\"question\"].str.lower()\n",
    "df_discuss[\"answer\"] = df_discuss[\"answer\"].str.lower()\n",
    "\n",
    "df_discuss\n"
   ]
  },
  {
   "cell_type": "code",
   "execution_count": 4,
   "id": "161c6e54",
   "metadata": {},
   "outputs": [
    {
     "name": "stderr",
     "output_type": "stream",
     "text": [
      "/tmp/ipykernel_1988/2660529762.py:3: FutureWarning: The frame.append method is deprecated and will be removed from pandas in a future version. Use pandas.concat instead.\n",
      "  df = df_so.append(df_discuss, ignore_index=True)\n"
     ]
    },
    {
     "data": {
      "text/html": [
       "<div>\n",
       "<style scoped>\n",
       "    .dataframe tbody tr th:only-of-type {\n",
       "        vertical-align: middle;\n",
       "    }\n",
       "\n",
       "    .dataframe tbody tr th {\n",
       "        vertical-align: top;\n",
       "    }\n",
       "\n",
       "    .dataframe thead th {\n",
       "        text-align: right;\n",
       "    }\n",
       "</style>\n",
       "<table border=\"1\" class=\"dataframe\">\n",
       "  <thead>\n",
       "    <tr style=\"text-align: right;\">\n",
       "      <th></th>\n",
       "      <th>question</th>\n",
       "      <th>answer</th>\n",
       "    </tr>\n",
       "  </thead>\n",
       "  <tbody>\n",
       "    <tr>\n",
       "      <th>0</th>\n",
       "      <td>extracting the top-k value-indices from a 1-d ...</td>\n",
       "      <td>as of pull request #496 torch now includes a b...</td>\n",
       "    </tr>\n",
       "    <tr>\n",
       "      <th>1</th>\n",
       "      <td>how to display custom images in tensorboard (e...</td>\n",
       "      <td>it is quite easy to do if you have the image i...</td>\n",
       "    </tr>\n",
       "    <tr>\n",
       "      <th>2</th>\n",
       "      <td>python wheels: cp27mu not supportedi'm trying ...</td>\n",
       "      <td>this is exactly that. \\nrecompile python under...</td>\n",
       "    </tr>\n",
       "    <tr>\n",
       "      <th>3</th>\n",
       "      <td>loading torch7 trained models (.t7) in pytorch...</td>\n",
       "      <td>as of pytorch 1.0 torch.utils.serialization is...</td>\n",
       "    </tr>\n",
       "    <tr>\n",
       "      <th>4</th>\n",
       "      <td>pytorch: how to use dataloaders for custom dat...</td>\n",
       "      <td>yes, that is possible. just create the objects...</td>\n",
       "    </tr>\n",
       "    <tr>\n",
       "      <th>...</th>\n",
       "      <td>...</td>\n",
       "      <td>...</td>\n",
       "    </tr>\n",
       "    <tr>\n",
       "      <th>23992</th>\n",
       "      <td>best way to implement series of weighted rand...</td>\n",
       "      <td>actually, i figured it out. there was a functi...</td>\n",
       "    </tr>\n",
       "    <tr>\n",
       "      <th>23993</th>\n",
       "      <td>batch_norm causes runtimeerror: expected all ...</td>\n",
       "      <td>\\n\\n\\n dkobayas-cyber:\\n\\n(when checking argum...</td>\n",
       "    </tr>\n",
       "    <tr>\n",
       "      <th>23994</th>\n",
       "      <td>scale gradient without scaling loss values? h...</td>\n",
       "      <td>\\n\\n\\n lisyuan:\\n\\ni still cannot understand w...</td>\n",
       "    </tr>\n",
       "    <tr>\n",
       "      <th>23995</th>\n",
       "      <td>transform normalization? forgive me if i misu...</td>\n",
       "      <td>transforms.normalize subtracts the provided me...</td>\n",
       "    </tr>\n",
       "    <tr>\n",
       "      <th>23996</th>\n",
       "      <td>parameters of model? hello there! i am trying...</td>\n",
       "      <td>based on the error messages it seems the input...</td>\n",
       "    </tr>\n",
       "  </tbody>\n",
       "</table>\n",
       "<p>23997 rows × 2 columns</p>\n",
       "</div>"
      ],
      "text/plain": [
       "                                                question  \\\n",
       "0      extracting the top-k value-indices from a 1-d ...   \n",
       "1      how to display custom images in tensorboard (e...   \n",
       "2      python wheels: cp27mu not supportedi'm trying ...   \n",
       "3      loading torch7 trained models (.t7) in pytorch...   \n",
       "4      pytorch: how to use dataloaders for custom dat...   \n",
       "...                                                  ...   \n",
       "23992   best way to implement series of weighted rand...   \n",
       "23993   batch_norm causes runtimeerror: expected all ...   \n",
       "23994   scale gradient without scaling loss values? h...   \n",
       "23995   transform normalization? forgive me if i misu...   \n",
       "23996   parameters of model? hello there! i am trying...   \n",
       "\n",
       "                                                  answer  \n",
       "0      as of pull request #496 torch now includes a b...  \n",
       "1      it is quite easy to do if you have the image i...  \n",
       "2      this is exactly that. \\nrecompile python under...  \n",
       "3      as of pytorch 1.0 torch.utils.serialization is...  \n",
       "4      yes, that is possible. just create the objects...  \n",
       "...                                                  ...  \n",
       "23992  actually, i figured it out. there was a functi...  \n",
       "23993  \\n\\n\\n dkobayas-cyber:\\n\\n(when checking argum...  \n",
       "23994  \\n\\n\\n lisyuan:\\n\\ni still cannot understand w...  \n",
       "23995  transforms.normalize subtracts the provided me...  \n",
       "23996  based on the error messages it seems the input...  \n",
       "\n",
       "[23997 rows x 2 columns]"
      ]
     },
     "execution_count": 4,
     "metadata": {},
     "output_type": "execute_result"
    }
   ],
   "source": [
    "# merge both dataset\n",
    "\n",
    "df = df_so.append(df_discuss, ignore_index=True)\n",
    "df"
   ]
  },
  {
   "cell_type": "markdown",
   "id": "e3dca072",
   "metadata": {},
   "source": [
    "### checking text length"
   ]
  },
  {
   "cell_type": "code",
   "execution_count": 5,
   "id": "3769a18a",
   "metadata": {},
   "outputs": [],
   "source": [
    "df['question_len']=df['question'].str.len()\n",
    "df['answer_len']=df['answer'].str.len()"
   ]
  },
  {
   "cell_type": "code",
   "execution_count": 6,
   "id": "694f575d",
   "metadata": {},
   "outputs": [
    {
     "data": {
      "text/html": [
       "<div>\n",
       "<style scoped>\n",
       "    .dataframe tbody tr th:only-of-type {\n",
       "        vertical-align: middle;\n",
       "    }\n",
       "\n",
       "    .dataframe tbody tr th {\n",
       "        vertical-align: top;\n",
       "    }\n",
       "\n",
       "    .dataframe thead th {\n",
       "        text-align: right;\n",
       "    }\n",
       "</style>\n",
       "<table border=\"1\" class=\"dataframe\">\n",
       "  <thead>\n",
       "    <tr style=\"text-align: right;\">\n",
       "      <th></th>\n",
       "      <th>question</th>\n",
       "      <th>answer</th>\n",
       "      <th>question_len</th>\n",
       "      <th>answer_len</th>\n",
       "    </tr>\n",
       "  </thead>\n",
       "  <tbody>\n",
       "    <tr>\n",
       "      <th>0</th>\n",
       "      <td>extracting the top-k value-indices from a 1-d ...</td>\n",
       "      <td>as of pull request #496 torch now includes a b...</td>\n",
       "      <td>358</td>\n",
       "      <td>767</td>\n",
       "    </tr>\n",
       "    <tr>\n",
       "      <th>1</th>\n",
       "      <td>how to display custom images in tensorboard (e...</td>\n",
       "      <td>it is quite easy to do if you have the image i...</td>\n",
       "      <td>598</td>\n",
       "      <td>1020</td>\n",
       "    </tr>\n",
       "    <tr>\n",
       "      <th>2</th>\n",
       "      <td>python wheels: cp27mu not supportedi'm trying ...</td>\n",
       "      <td>this is exactly that. \\nrecompile python under...</td>\n",
       "      <td>2109</td>\n",
       "      <td>113</td>\n",
       "    </tr>\n",
       "    <tr>\n",
       "      <th>3</th>\n",
       "      <td>loading torch7 trained models (.t7) in pytorch...</td>\n",
       "      <td>as of pytorch 1.0 torch.utils.serialization is...</td>\n",
       "      <td>675</td>\n",
       "      <td>516</td>\n",
       "    </tr>\n",
       "    <tr>\n",
       "      <th>4</th>\n",
       "      <td>pytorch: how to use dataloaders for custom dat...</td>\n",
       "      <td>yes, that is possible. just create the objects...</td>\n",
       "      <td>297</td>\n",
       "      <td>1443</td>\n",
       "    </tr>\n",
       "    <tr>\n",
       "      <th>...</th>\n",
       "      <td>...</td>\n",
       "      <td>...</td>\n",
       "      <td>...</td>\n",
       "      <td>...</td>\n",
       "    </tr>\n",
       "    <tr>\n",
       "      <th>23992</th>\n",
       "      <td>best way to implement series of weighted rand...</td>\n",
       "      <td>actually, i figured it out. there was a functi...</td>\n",
       "      <td>1498</td>\n",
       "      <td>129</td>\n",
       "    </tr>\n",
       "    <tr>\n",
       "      <th>23993</th>\n",
       "      <td>batch_norm causes runtimeerror: expected all ...</td>\n",
       "      <td>\\n\\n\\n dkobayas-cyber:\\n\\n(when checking argum...</td>\n",
       "      <td>11773</td>\n",
       "      <td>196</td>\n",
       "    </tr>\n",
       "    <tr>\n",
       "      <th>23994</th>\n",
       "      <td>scale gradient without scaling loss values? h...</td>\n",
       "      <td>\\n\\n\\n lisyuan:\\n\\ni still cannot understand w...</td>\n",
       "      <td>2406</td>\n",
       "      <td>606</td>\n",
       "    </tr>\n",
       "    <tr>\n",
       "      <th>23995</th>\n",
       "      <td>transform normalization? forgive me if i misu...</td>\n",
       "      <td>transforms.normalize subtracts the provided me...</td>\n",
       "      <td>845</td>\n",
       "      <td>554</td>\n",
       "    </tr>\n",
       "    <tr>\n",
       "      <th>23996</th>\n",
       "      <td>parameters of model? hello there! i am trying...</td>\n",
       "      <td>based on the error messages it seems the input...</td>\n",
       "      <td>2250</td>\n",
       "      <td>273</td>\n",
       "    </tr>\n",
       "  </tbody>\n",
       "</table>\n",
       "<p>23997 rows × 4 columns</p>\n",
       "</div>"
      ],
      "text/plain": [
       "                                                question  \\\n",
       "0      extracting the top-k value-indices from a 1-d ...   \n",
       "1      how to display custom images in tensorboard (e...   \n",
       "2      python wheels: cp27mu not supportedi'm trying ...   \n",
       "3      loading torch7 trained models (.t7) in pytorch...   \n",
       "4      pytorch: how to use dataloaders for custom dat...   \n",
       "...                                                  ...   \n",
       "23992   best way to implement series of weighted rand...   \n",
       "23993   batch_norm causes runtimeerror: expected all ...   \n",
       "23994   scale gradient without scaling loss values? h...   \n",
       "23995   transform normalization? forgive me if i misu...   \n",
       "23996   parameters of model? hello there! i am trying...   \n",
       "\n",
       "                                                  answer  question_len  \\\n",
       "0      as of pull request #496 torch now includes a b...           358   \n",
       "1      it is quite easy to do if you have the image i...           598   \n",
       "2      this is exactly that. \\nrecompile python under...          2109   \n",
       "3      as of pytorch 1.0 torch.utils.serialization is...           675   \n",
       "4      yes, that is possible. just create the objects...           297   \n",
       "...                                                  ...           ...   \n",
       "23992  actually, i figured it out. there was a functi...          1498   \n",
       "23993  \\n\\n\\n dkobayas-cyber:\\n\\n(when checking argum...         11773   \n",
       "23994  \\n\\n\\n lisyuan:\\n\\ni still cannot understand w...          2406   \n",
       "23995  transforms.normalize subtracts the provided me...           845   \n",
       "23996  based on the error messages it seems the input...          2250   \n",
       "\n",
       "       answer_len  \n",
       "0             767  \n",
       "1            1020  \n",
       "2             113  \n",
       "3             516  \n",
       "4            1443  \n",
       "...           ...  \n",
       "23992         129  \n",
       "23993         196  \n",
       "23994         606  \n",
       "23995         554  \n",
       "23996         273  \n",
       "\n",
       "[23997 rows x 4 columns]"
      ]
     },
     "execution_count": 6,
     "metadata": {},
     "output_type": "execute_result"
    }
   ],
   "source": [
    "df"
   ]
  },
  {
   "cell_type": "markdown",
   "id": "88a77b07",
   "metadata": {},
   "source": [
    "### using countplot to see distribution of question length"
   ]
  },
  {
   "cell_type": "code",
   "execution_count": 7,
   "id": "de537216",
   "metadata": {},
   "outputs": [
    {
     "data": {
      "image/png": "[encoded data removed]",
      "text/plain": [
       "<Figure size 640x480 with 1 Axes>"
      ]
     },
     "metadata": {},
     "output_type": "display_data"
    }
   ],
   "source": [
    "\n",
    "# count plot on single categorical variable\n",
    "ax = sns.countplot(x ='question_len', data = df)\n",
    "\n",
    "# Show the plot\n",
    "plt.show()\n"
   ]
  },
  {
   "cell_type": "markdown",
   "id": "ae87d60b",
   "metadata": {},
   "source": [
    "### using countplot to see distribution of answer length"
   ]
  },
  {
   "cell_type": "code",
   "execution_count": 8,
   "id": "7dee8a28",
   "metadata": {},
   "outputs": [
    {
     "data": {
      "image/png": "[encoded data removed]",
      "text/plain": [
       "<Figure size 640x480 with 1 Axes>"
      ]
     },
     "metadata": {},
     "output_type": "display_data"
    }
   ],
   "source": [
    "\n",
    "# count plot on single categorical variable\n",
    "ax = sns.countplot(x ='answer_len', data = df)\n",
    "\n",
    "# Show the plot\n",
    "plt.show()\n"
   ]
  },
  {
   "cell_type": "markdown",
   "id": "9ba35a16",
   "metadata": {},
   "source": [
    "### statistical anaysis"
   ]
  },
  {
   "cell_type": "code",
   "execution_count": 7,
   "id": "37528f2d",
   "metadata": {},
   "outputs": [
    {
     "data": {
      "text/plain": [
       "count    23997.000000\n",
       "mean       658.104680\n",
       "std        895.513235\n",
       "min          0.000000\n",
       "25%        217.000000\n",
       "50%        402.000000\n",
       "75%        770.000000\n",
       "max      29006.000000\n",
       "Name: answer_len, dtype: float64"
      ]
     },
     "execution_count": 7,
     "metadata": {},
     "output_type": "execute_result"
    }
   ],
   "source": [
    "df['answer_len'].describe()"
   ]
  },
  {
   "cell_type": "code",
   "execution_count": 8,
   "id": "cb730d6a",
   "metadata": {},
   "outputs": [
    {
     "data": {
      "text/plain": [
       "count    23997.000000\n",
       "mean      1666.043297\n",
       "std       2278.978136\n",
       "min         43.000000\n",
       "25%        516.000000\n",
       "50%        945.000000\n",
       "75%       1890.000000\n",
       "max      31116.000000\n",
       "Name: question_len, dtype: float64"
      ]
     },
     "execution_count": 8,
     "metadata": {},
     "output_type": "execute_result"
    }
   ],
   "source": [
    "df['question_len'].describe()"
   ]
  },
  {
   "cell_type": "markdown",
   "id": "51072a68",
   "metadata": {},
   "source": [
    "### summary:\n",
    "1. we can see most of question and answer follows log normal distribution, showing some text having very high length\n",
    "2. there is large difference in mean and median(50th percentile) of both question and answer showing there are extreme datapoints having very high length"
   ]
  },
  {
   "cell_type": "markdown",
   "id": "906ceb98",
   "metadata": {},
   "source": [
    "### cdf of question length"
   ]
  },
  {
   "cell_type": "code",
   "execution_count": 9,
   "id": "b2ee7261",
   "metadata": {},
   "outputs": [
    {
     "data": {
      "image/png": "[encoded data removed]",
      "text/plain": [
       "<Figure size 640x480 with 1 Axes>"
      ]
     },
     "metadata": {},
     "output_type": "display_data"
    }
   ],
   "source": [
    "\n",
    "sorted_values = df['question_len'].sort_values()\n",
    "\n",
    "# Calculate the cumulative distribution\n",
    "cdf = sorted_values.cumsum() / sorted_values.sum()\n",
    "\n",
    "# Create the CDF plot\n",
    "plt.plot(sorted_values, cdf)\n",
    "plt.xlabel('question length')\n",
    "plt.ylabel('Cumulative Probability')\n",
    "plt.title('CDF Plot')\n",
    "plt.grid(True)\n",
    "plt.show()\n"
   ]
  },
  {
   "cell_type": "markdown",
   "id": "627584e3",
   "metadata": {},
   "source": [
    "### cdf of answer length"
   ]
  },
  {
   "cell_type": "code",
   "execution_count": 10,
   "id": "d7a3eb95",
   "metadata": {},
   "outputs": [
    {
     "data": {
      "image/png": "[encoded data removed]",
      "text/plain": [
       "<Figure size 640x480 with 1 Axes>"
      ]
     },
     "metadata": {},
     "output_type": "display_data"
    }
   ],
   "source": [
    "\n",
    "sorted_values = df['answer_len'].sort_values()\n",
    "\n",
    "# Calculate the cumulative distribution\n",
    "cdf = sorted_values.cumsum() / sorted_values.sum()\n",
    "\n",
    "# Create the CDF plot\n",
    "plt.plot(sorted_values, cdf)\n",
    "plt.xlabel('answer length')\n",
    "plt.ylabel('Cumulative Probability')\n",
    "plt.title('CDF Plot')\n",
    "plt.grid(True)\n",
    "plt.show()\n"
   ]
  },
  {
   "cell_type": "markdown",
   "id": "e891dd47",
   "metadata": {},
   "source": [
    "### calculating percentile to see length of text varying below specific percentage of data"
   ]
  },
  {
   "cell_type": "code",
   "execution_count": 11,
   "id": "df349d24",
   "metadata": {},
   "outputs": [
    {
     "name": "stdout",
     "output_type": "stream",
     "text": [
      "10th percentile: 313.0\n",
      "20th percentile: 448.0\n",
      "30th percentile: 587.0\n",
      "40th percentile: 745.0\n",
      "50th percentile: 945.0\n",
      "60th percentile: 1218.0\n",
      "70th percentile: 1611.0\n",
      "80th percentile: 2256.7999999999993\n",
      "90th percentile: 3667.4000000000015\n",
      "95th percentile: 5402.0\n",
      "96th percentile: 6008.799999999999\n",
      "97th percentile: 6949.599999999995\n",
      "98th percentile: 8338.199999999972\n",
      "99th percentile: 11143.000000000065\n",
      "100th percentile: 31116.0\n"
     ]
    }
   ],
   "source": [
    "import numpy as np\n",
    "\n",
    "r = [10, 20, 30, 40, 50, 60, 70, 80, 90,95,96,97,98,99,100]\n",
    "\n",
    "# question len\n",
    "\n",
    "for i in r:\n",
    "    print(f\"{i}th percentile:\", np.percentile(df['question_len'], i))\n"
   ]
  },
  {
   "cell_type": "code",
   "execution_count": 12,
   "id": "51e82e6a",
   "metadata": {},
   "outputs": [
    {
     "name": "stdout",
     "output_type": "stream",
     "text": [
      "10th percentile: 125.59999999999991\n",
      "20th percentile: 186.0\n",
      "30th percentile: 247.0\n",
      "40th percentile: 321.0\n",
      "50th percentile: 402.0\n",
      "60th percentile: 512.0\n",
      "70th percentile: 663.0\n",
      "80th percentile: 908.0\n",
      "90th percentile: 1409.4000000000015\n",
      "95th percentile: 2015.2000000000007\n",
      "96th percentile: 2261.16\n",
      "97th percentile: 2548.0\n",
      "98th percentile: 3041.639999999985\n",
      "99th percentile: 4005.320000000007\n",
      "100th percentile: 29006.0\n"
     ]
    }
   ],
   "source": [
    "# answer len\n",
    "\n",
    "for i in r:\n",
    "    print(f\"{i}th percentile:\", np.percentile(df['answer_len'], i))\n"
   ]
  },
  {
   "cell_type": "markdown",
   "id": "35b6ffc7",
   "metadata": {},
   "source": [
    "### assigning categories to question"
   ]
  },
  {
   "cell_type": "code",
   "execution_count": 13,
   "id": "c258c35b",
   "metadata": {},
   "outputs": [],
   "source": [
    "beginner = [ 'tensor', 'torch' 'matrix', 'operations', 'element-wise', 'broadcasting', \n",
    "             'differentiation', 'gradients', 'backpropagation', 'autograd', 'loss', 'function', \n",
    "             'neural', 'networks', 'layers', 'activations', 'linear', 'convolutional', 'pooling', 'fully', 'connected', \n",
    "             'training', 'forward', 'pass', 'backward', 'optimizer', 'learning', 'rate', 'epoch', 'batch', 'size', \n",
    "             'preprocessing', 'dataloader', 'dataset', 'transform', 'normalization', 'augmentation',\n",
    "             'relu', 'sigmoid', 'tanh', 'cross', 'entropy', 'mse', 'l1', 'regularization', 'l2',\n",
    "             'dropout', 'sgd', 'adam', 'rmsprop'\n",
    "           ]\n",
    "\n",
    "intermediate = [ 'custom', 'dataset', 'dataloader', 'transformation', 'indexing', \n",
    "        'transfer', 'learning', 'pre-trained', 'freezing', 'fine-tuning', 'feature','extraction', \n",
    "        'evaluation', 'validation', 'accuracy', 'precision', 'recall', 'f1', 'confusion', 'matrix', 'cross-validation', \n",
    "        'gpu', 'acceleration', 'cuda', 'memory', 'parallelism',\n",
    "        'hyperparameter', 'tuning', 'weight', 'decay', 'grid', 'random', 'roc', 'precision-recall', 'auc',\n",
    "        'saving', 'loading', 'early', 'stopping', 'imbalance'\n",
    "               ]\n",
    "\n",
    "advanced = [ 'domain-specific', 'regularization', 'trade-off', 'architectures',\n",
    "        'rnn', 'lstm', 'gru', 'cnn', 'transformer', 'attention', 'mechanism',\n",
    "        'interpretability', 'saliency', 'gradient-based',\n",
    "        'visualization', 'distributed', 'distributeddataparallel', 'dataparallel', 'synchronization',\n",
    "        'deployment', 'serialization', 'serving'\n",
    "           ]\n"
   ]
  },
  {
   "cell_type": "code",
   "execution_count": 14,
   "id": "cb495572",
   "metadata": {},
   "outputs": [
    {
     "name": "stderr",
     "output_type": "stream",
     "text": [
      "100%|███████████████████████████████████| 23997/23997 [00:12<00:00, 1929.84it/s]\n"
     ]
    }
   ],
   "source": [
    "from tqdm import tqdm\n",
    "\n",
    "categories = []\n",
    "\n",
    "for index, i in tqdm(df.iterrows(), total=len(df)):\n",
    "    if any(word in i['question'].split() for word in advanced):\n",
    "        categories.append('advanced')\n",
    "    elif any(word in i['question'].split() for word in intermediate):\n",
    "        categories.append('intermediate')\n",
    "    elif any(word in i['question'].split() for word in beginner):\n",
    "        categories.append('beginner')\n",
    "    else:\n",
    "        categories.append('uncategorized')"
   ]
  },
  {
   "cell_type": "code",
   "execution_count": 15,
   "id": "4b08109e",
   "metadata": {},
   "outputs": [
    {
     "data": {
      "text/plain": [
       "23997"
      ]
     },
     "execution_count": 15,
     "metadata": {},
     "output_type": "execute_result"
    }
   ],
   "source": [
    "len(categories)"
   ]
  },
  {
   "cell_type": "code",
   "execution_count": 16,
   "id": "fe96f76f",
   "metadata": {},
   "outputs": [
    {
     "name": "stdout",
     "output_type": "stream",
     "text": [
      "beginner: 7223 occurrence(s)\n",
      "intermediate: 10633 occurrence(s)\n",
      "uncategorized: 3457 occurrence(s)\n",
      "advanced: 2684 occurrence(s)\n"
     ]
    }
   ],
   "source": [
    "from collections import Counter\n",
    "\n",
    "value_counts = Counter(categories)\n",
    "\n",
    "for value, count in value_counts.items():\n",
    "    print(f\"{value}: {count} occurrence(s)\")\n"
   ]
  },
  {
   "cell_type": "code",
   "execution_count": 17,
   "id": "c01e008a",
   "metadata": {},
   "outputs": [],
   "source": [
    "df['category'] = categories"
   ]
  },
  {
   "cell_type": "code",
   "execution_count": 18,
   "id": "96d80d61",
   "metadata": {},
   "outputs": [
    {
     "data": {
      "text/html": [
       "<div>\n",
       "<style scoped>\n",
       "    .dataframe tbody tr th:only-of-type {\n",
       "        vertical-align: middle;\n",
       "    }\n",
       "\n",
       "    .dataframe tbody tr th {\n",
       "        vertical-align: top;\n",
       "    }\n",
       "\n",
       "    .dataframe thead th {\n",
       "        text-align: right;\n",
       "    }\n",
       "</style>\n",
       "<table border=\"1\" class=\"dataframe\">\n",
       "  <thead>\n",
       "    <tr style=\"text-align: right;\">\n",
       "      <th></th>\n",
       "      <th>question</th>\n",
       "      <th>answer</th>\n",
       "      <th>question_len</th>\n",
       "      <th>answer_len</th>\n",
       "      <th>category</th>\n",
       "    </tr>\n",
       "  </thead>\n",
       "  <tbody>\n",
       "    <tr>\n",
       "      <th>0</th>\n",
       "      <td>extracting the top-k value-indices from a 1-d ...</td>\n",
       "      <td>as of pull request #496 torch now includes a b...</td>\n",
       "      <td>358</td>\n",
       "      <td>767</td>\n",
       "      <td>beginner</td>\n",
       "    </tr>\n",
       "    <tr>\n",
       "      <th>1</th>\n",
       "      <td>how to display custom images in tensorboard (e...</td>\n",
       "      <td>it is quite easy to do if you have the image i...</td>\n",
       "      <td>598</td>\n",
       "      <td>1020</td>\n",
       "      <td>intermediate</td>\n",
       "    </tr>\n",
       "    <tr>\n",
       "      <th>2</th>\n",
       "      <td>python wheels: cp27mu not supportedi'm trying ...</td>\n",
       "      <td>this is exactly that. \\nrecompile python under...</td>\n",
       "      <td>2109</td>\n",
       "      <td>113</td>\n",
       "      <td>uncategorized</td>\n",
       "    </tr>\n",
       "    <tr>\n",
       "      <th>3</th>\n",
       "      <td>loading torch7 trained models (.t7) in pytorch...</td>\n",
       "      <td>as of pytorch 1.0 torch.utils.serialization is...</td>\n",
       "      <td>675</td>\n",
       "      <td>516</td>\n",
       "      <td>intermediate</td>\n",
       "    </tr>\n",
       "    <tr>\n",
       "      <th>4</th>\n",
       "      <td>pytorch: how to use dataloaders for custom dat...</td>\n",
       "      <td>yes, that is possible. just create the objects...</td>\n",
       "      <td>297</td>\n",
       "      <td>1443</td>\n",
       "      <td>intermediate</td>\n",
       "    </tr>\n",
       "    <tr>\n",
       "      <th>...</th>\n",
       "      <td>...</td>\n",
       "      <td>...</td>\n",
       "      <td>...</td>\n",
       "      <td>...</td>\n",
       "      <td>...</td>\n",
       "    </tr>\n",
       "    <tr>\n",
       "      <th>23992</th>\n",
       "      <td>best way to implement series of weighted rand...</td>\n",
       "      <td>actually, i figured it out. there was a functi...</td>\n",
       "      <td>1498</td>\n",
       "      <td>129</td>\n",
       "      <td>intermediate</td>\n",
       "    </tr>\n",
       "    <tr>\n",
       "      <th>23993</th>\n",
       "      <td>batch_norm causes runtimeerror: expected all ...</td>\n",
       "      <td>\\n\\n\\n dkobayas-cyber:\\n\\n(when checking argum...</td>\n",
       "      <td>11773</td>\n",
       "      <td>196</td>\n",
       "      <td>intermediate</td>\n",
       "    </tr>\n",
       "    <tr>\n",
       "      <th>23994</th>\n",
       "      <td>scale gradient without scaling loss values? h...</td>\n",
       "      <td>\\n\\n\\n lisyuan:\\n\\ni still cannot understand w...</td>\n",
       "      <td>2406</td>\n",
       "      <td>606</td>\n",
       "      <td>beginner</td>\n",
       "    </tr>\n",
       "    <tr>\n",
       "      <th>23995</th>\n",
       "      <td>transform normalization? forgive me if i misu...</td>\n",
       "      <td>transforms.normalize subtracts the provided me...</td>\n",
       "      <td>845</td>\n",
       "      <td>554</td>\n",
       "      <td>intermediate</td>\n",
       "    </tr>\n",
       "    <tr>\n",
       "      <th>23996</th>\n",
       "      <td>parameters of model? hello there! i am trying...</td>\n",
       "      <td>based on the error messages it seems the input...</td>\n",
       "      <td>2250</td>\n",
       "      <td>273</td>\n",
       "      <td>intermediate</td>\n",
       "    </tr>\n",
       "  </tbody>\n",
       "</table>\n",
       "<p>23997 rows × 5 columns</p>\n",
       "</div>"
      ],
      "text/plain": [
       "                                                question  \\\n",
       "0      extracting the top-k value-indices from a 1-d ...   \n",
       "1      how to display custom images in tensorboard (e...   \n",
       "2      python wheels: cp27mu not supportedi'm trying ...   \n",
       "3      loading torch7 trained models (.t7) in pytorch...   \n",
       "4      pytorch: how to use dataloaders for custom dat...   \n",
       "...                                                  ...   \n",
       "23992   best way to implement series of weighted rand...   \n",
       "23993   batch_norm causes runtimeerror: expected all ...   \n",
       "23994   scale gradient without scaling loss values? h...   \n",
       "23995   transform normalization? forgive me if i misu...   \n",
       "23996   parameters of model? hello there! i am trying...   \n",
       "\n",
       "                                                  answer  question_len  \\\n",
       "0      as of pull request #496 torch now includes a b...           358   \n",
       "1      it is quite easy to do if you have the image i...           598   \n",
       "2      this is exactly that. \\nrecompile python under...          2109   \n",
       "3      as of pytorch 1.0 torch.utils.serialization is...           675   \n",
       "4      yes, that is possible. just create the objects...           297   \n",
       "...                                                  ...           ...   \n",
       "23992  actually, i figured it out. there was a functi...          1498   \n",
       "23993  \\n\\n\\n dkobayas-cyber:\\n\\n(when checking argum...         11773   \n",
       "23994  \\n\\n\\n lisyuan:\\n\\ni still cannot understand w...          2406   \n",
       "23995  transforms.normalize subtracts the provided me...           845   \n",
       "23996  based on the error messages it seems the input...          2250   \n",
       "\n",
       "       answer_len       category  \n",
       "0             767       beginner  \n",
       "1            1020   intermediate  \n",
       "2             113  uncategorized  \n",
       "3             516   intermediate  \n",
       "4            1443   intermediate  \n",
       "...           ...            ...  \n",
       "23992         129   intermediate  \n",
       "23993         196   intermediate  \n",
       "23994         606       beginner  \n",
       "23995         554   intermediate  \n",
       "23996         273   intermediate  \n",
       "\n",
       "[23997 rows x 5 columns]"
      ]
     },
     "execution_count": 18,
     "metadata": {},
     "output_type": "execute_result"
    }
   ],
   "source": [
    "df"
   ]
  },
  {
   "cell_type": "code",
   "execution_count": null,
   "id": "f95bd045",
   "metadata": {},
   "outputs": [],
   "source": []
  }
 ],
 "metadata": {
  "kernelspec": {
   "display_name": "Python 3 (ipykernel)",
   "language": "python",
   "name": "python3"
  },
  "language_info": {
   "codemirror_mode": {
    "name": "ipython",
    "version": 3
   },
   "file_extension": ".py",
   "mimetype": "text/x-python",
   "name": "python",
   "nbconvert_exporter": "python",
   "pygments_lexer": "ipython3",
   "version": "3.9.16"
  }
 },
 "nbformat": 4,
 "nbformat_minor": 5
}
