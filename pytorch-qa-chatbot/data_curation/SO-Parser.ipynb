{
 "cells": [
  {
   "cell_type": "markdown",
   "metadata": {},
   "source": [
    "### Imports"
   ]
  },
  {
   "cell_type": "code",
   "execution_count": 1,
   "metadata": {},
   "outputs": [],
   "source": [
    "import xml.etree.ElementTree as ET\n",
    "import pandas as pd\n",
    "from tqdm import tqdm"
   ]
  },
  {
   "cell_type": "code",
   "execution_count": 205,
   "metadata": {},
   "outputs": [],
   "source": [
    "tqdm.pandas()"
   ]
  },
  {
   "cell_type": "markdown",
   "metadata": {},
   "source": [
    "### Parse the Posts.xml. \n",
    "\n",
    "Note: This step may take around 20-30 mins"
   ]
  },
  {
   "cell_type": "code",
   "execution_count": 2,
   "metadata": {},
   "outputs": [],
   "source": [
    "tree = ET.parse('Posts.xml')"
   ]
  },
  {
   "cell_type": "code",
   "execution_count": null,
   "metadata": {},
   "outputs": [],
   "source": []
  },
  {
   "cell_type": "markdown",
   "metadata": {},
   "source": [
    "### Extract necessary fields from xml"
   ]
  },
  {
   "cell_type": "code",
   "execution_count": 3,
   "metadata": {},
   "outputs": [],
   "source": [
    "root = tree.getroot()"
   ]
  },
  {
   "cell_type": "code",
   "execution_count": 4,
   "metadata": {},
   "outputs": [
    {
     "name": "stderr",
     "output_type": "stream",
     "text": [
      "100%|███████████████████████████████████████████████████████████████████████████████████████████████████████████████████████████████████████████████████████| 57721548/57721548 [02:40<00:00, 359730.54it/s]\n"
     ]
    }
   ],
   "source": [
    "pt_title = []\n",
    "pt_post_id = []\n",
    "pt_post_type_id = []\n",
    "pt_accepted_answer_id = []\n",
    "pt_creation_date = []\n",
    "pt_score = []\n",
    "pt_body = []\n",
    "pt_tags = []\n",
    "pt_parent_id = []\n",
    "\n",
    "# Iterate through the elements in the XML file\n",
    "for post in tqdm(root):\n",
    "    # Extract the necessary information\n",
    "    post_id = post.get('Id')\n",
    "    post_type_id = post.get('PostTypeId')\n",
    "    accepted_answer_id = post.get('AcceptedAnswerId')\n",
    "    creation_date = post.get('CreationDate')\n",
    "    score = post.get('Score')\n",
    "    body = post.get('Body')\n",
    "    tag = post.get(\"Tags\")\n",
    "    title = post.get(\"Title\")\n",
    "    parent_id = post.get(\"ParentId\")\n",
    "    \n",
    "    # Print the extracted information\n",
    "#     if tag and \"pytorch\" in tag:\n",
    "#         print('Post ID:', post_id)\n",
    "#         print('Post Type ID:', post_type_id)\n",
    "#         print('Accepted Answer ID:', accepted_answer_id)\n",
    "#         print('Creation Date:', creation_date)\n",
    "#         print('Score:', score)\n",
    "#         print('Body:', body)\n",
    "#         print(\"Tags: \", tag)\n",
    "    pt_post_id.append(post_id)\n",
    "    pt_post_type_id.append(post_type_id)\n",
    "    pt_accepted_answer_id.append(accepted_answer_id)\n",
    "    pt_creation_date.append(creation_date)\n",
    "    pt_score.append(score)\n",
    "    pt_body.append(body)\n",
    "    pt_tags.append(tag)\n",
    "    pt_title.append(title)\n",
    "    pt_parent_id.append(parent_id)\n",
    "    \n",
    "    "
   ]
  },
  {
   "cell_type": "code",
   "execution_count": 5,
   "metadata": {},
   "outputs": [
    {
     "data": {
      "text/plain": [
       "57721548"
      ]
     },
     "execution_count": 5,
     "metadata": {},
     "output_type": "execute_result"
    }
   ],
   "source": [
    "len(pt_post_id)"
   ]
  },
  {
   "cell_type": "code",
   "execution_count": null,
   "metadata": {},
   "outputs": [],
   "source": []
  },
  {
   "cell_type": "code",
   "execution_count": 6,
   "metadata": {},
   "outputs": [],
   "source": [
    "questions_df = pd.DataFrame({\n",
    "    \"pt_post_id\" : pt_post_id,\n",
    "    \"pt_post_type_id\": pt_post_type_id,\n",
    "    \"pt_accepted_answer_id\": pt_accepted_answer_id,\n",
    "    \"pt_creation_date\": pt_creation_date,\n",
    "    \"pt_score\": pt_score,\n",
    "    \"pt_title\": pt_title,\n",
    "    \"pt_body\": pt_body,\n",
    "    \"pt_tags\": pt_tags,\n",
    "    \"pt_parent_id\": pt_parent_id\n",
    "})"
   ]
  },
  {
   "cell_type": "code",
   "execution_count": 7,
   "metadata": {},
   "outputs": [
    {
     "data": {
      "text/plain": [
       "(57721548, 9)"
      ]
     },
     "execution_count": 7,
     "metadata": {},
     "output_type": "execute_result"
    }
   ],
   "source": [
    "questions_df.shape"
   ]
  },
  {
   "cell_type": "code",
   "execution_count": 8,
   "metadata": {},
   "outputs": [
    {
     "data": {
      "text/plain": [
       "(23273009, 9)"
      ]
     },
     "execution_count": 8,
     "metadata": {},
     "output_type": "execute_result"
    }
   ],
   "source": [
    "questions_df[questions_df.pt_post_type_id == \"1\"].shape"
   ]
  },
  {
   "cell_type": "code",
   "execution_count": null,
   "metadata": {},
   "outputs": [],
   "source": [
    "questions_df.to_csv(\"stack_overflow_dataset_dump.csv\", index=False)"
   ]
  },
  {
   "cell_type": "markdown",
   "metadata": {},
   "source": [
    "### Query and extract pytorch posts"
   ]
  },
  {
   "cell_type": "code",
   "execution_count": 9,
   "metadata": {},
   "outputs": [],
   "source": [
    "questions_df[\"pt_tags\"] = questions_df[\"pt_tags\"].str.lower()"
   ]
  },
  {
   "cell_type": "code",
   "execution_count": 10,
   "metadata": {},
   "outputs": [],
   "source": [
    "pt_questions_df = questions_df[(questions_df[\"pt_tags\"].notna()) & (questions_df[\"pt_tags\"].str.contains(\"pytorch\"))]"
   ]
  },
  {
   "cell_type": "code",
   "execution_count": 11,
   "metadata": {},
   "outputs": [
    {
     "data": {
      "text/plain": [
       "(19837, 9)"
      ]
     },
     "execution_count": 11,
     "metadata": {},
     "output_type": "execute_result"
    }
   ],
   "source": [
    "pt_questions_df.shape"
   ]
  },
  {
   "cell_type": "code",
   "execution_count": 12,
   "metadata": {},
   "outputs": [],
   "source": [
    "pt_questions_df.to_csv(\"pytorch_questions_dump.csv\", index=False)"
   ]
  },
  {
   "cell_type": "code",
   "execution_count": 13,
   "metadata": {},
   "outputs": [
    {
     "data": {
      "text/html": [
       "<div>\n",
       "<style scoped>\n",
       "    .dataframe tbody tr th:only-of-type {\n",
       "        vertical-align: middle;\n",
       "    }\n",
       "\n",
       "    .dataframe tbody tr th {\n",
       "        vertical-align: top;\n",
       "    }\n",
       "\n",
       "    .dataframe thead th {\n",
       "        text-align: right;\n",
       "    }\n",
       "</style>\n",
       "<table border=\"1\" class=\"dataframe\">\n",
       "  <thead>\n",
       "    <tr style=\"text-align: right;\">\n",
       "      <th></th>\n",
       "      <th>pt_post_id</th>\n",
       "      <th>pt_post_type_id</th>\n",
       "      <th>pt_accepted_answer_id</th>\n",
       "      <th>pt_creation_date</th>\n",
       "      <th>pt_score</th>\n",
       "      <th>pt_title</th>\n",
       "      <th>pt_body</th>\n",
       "      <th>pt_tags</th>\n",
       "      <th>pt_parent_id</th>\n",
       "    </tr>\n",
       "  </thead>\n",
       "  <tbody>\n",
       "    <tr>\n",
       "      <th>27837861</th>\n",
       "      <td>34750268</td>\n",
       "      <td>1</td>\n",
       "      <td>34762233</td>\n",
       "      <td>2016-01-12T17:36:25.473</td>\n",
       "      <td>9</td>\n",
       "      <td>Extracting the top-k value-indices from a 1-D ...</td>\n",
       "      <td>&lt;p&gt;Given a 1-D tensor in Torch (&lt;code&gt;torch.Te...</td>\n",
       "      <td>&lt;python&gt;&lt;lua&gt;&lt;pytorch&gt;&lt;torch&gt;</td>\n",
       "      <td>None</td>\n",
       "    </tr>\n",
       "    <tr>\n",
       "      <th>30769673</th>\n",
       "      <td>38543850</td>\n",
       "      <td>1</td>\n",
       "      <td>38676842</td>\n",
       "      <td>2016-07-23T16:15:43.967</td>\n",
       "      <td>40</td>\n",
       "      <td>How to Display Custom Images in Tensorboard (e...</td>\n",
       "      <td>&lt;p&gt;The &lt;a href=\"https://github.com/tensorflow/...</td>\n",
       "      <td>&lt;python&gt;&lt;tensorflow&gt;&lt;matplotlib&gt;&lt;pytorch&gt;&lt;tens...</td>\n",
       "      <td>None</td>\n",
       "    </tr>\n",
       "    <tr>\n",
       "      <th>33236300</th>\n",
       "      <td>41767005</td>\n",
       "      <td>1</td>\n",
       "      <td>43824857</td>\n",
       "      <td>2017-01-20T15:22:08.063</td>\n",
       "      <td>11</td>\n",
       "      <td>Python wheels: cp27mu not supported</td>\n",
       "      <td>&lt;p&gt;I'm trying to install pytorch (&lt;a href=\"htt...</td>\n",
       "      <td>&lt;python&gt;&lt;linux&gt;&lt;unicode&gt;&lt;pytorch&gt;</td>\n",
       "      <td>None</td>\n",
       "    </tr>\n",
       "    <tr>\n",
       "      <th>33275551</th>\n",
       "      <td>41818618</td>\n",
       "      <td>1</td>\n",
       "      <td>None</td>\n",
       "      <td>2017-01-24T01:34:19.060</td>\n",
       "      <td>0</td>\n",
       "      <td>PyTorch doesn't import after installing Anaconda</td>\n",
       "      <td>&lt;p&gt;I just installed PyTorch after installing A...</td>\n",
       "      <td>&lt;macos&gt;&lt;python-3.x&gt;&lt;ipython&gt;&lt;anaconda&gt;&lt;pytorch&gt;</td>\n",
       "      <td>None</td>\n",
       "    </tr>\n",
       "    <tr>\n",
       "      <th>33307877</th>\n",
       "      <td>41861354</td>\n",
       "      <td>1</td>\n",
       "      <td>54261158</td>\n",
       "      <td>2017-01-25T20:45:35.297</td>\n",
       "      <td>8</td>\n",
       "      <td>Loading Torch7 trained models (.t7) in PyTorch</td>\n",
       "      <td>&lt;p&gt;I am using Torch7 library for implementing ...</td>\n",
       "      <td>&lt;python&gt;&lt;lua&gt;&lt;pytorch&gt;&lt;torch&gt;&lt;pre-trained-model&gt;</td>\n",
       "      <td>None</td>\n",
       "    </tr>\n",
       "    <tr>\n",
       "      <th>...</th>\n",
       "      <td>...</td>\n",
       "      <td>...</td>\n",
       "      <td>...</td>\n",
       "      <td>...</td>\n",
       "      <td>...</td>\n",
       "      <td>...</td>\n",
       "      <td>...</td>\n",
       "      <td>...</td>\n",
       "      <td>...</td>\n",
       "    </tr>\n",
       "    <tr>\n",
       "      <th>57720026</th>\n",
       "      <td>74679922</td>\n",
       "      <td>1</td>\n",
       "      <td>None</td>\n",
       "      <td>2022-12-04T18:58:11.630</td>\n",
       "      <td>0</td>\n",
       "      <td>BGR to RGB for CUB_200 images by Image.split()</td>\n",
       "      <td>&lt;p&gt;I am creating a PyTorch dataset and dataloa...</td>\n",
       "      <td>&lt;python&gt;&lt;image&gt;&lt;pytorch&gt;&lt;pytorch-dataloader&gt;</td>\n",
       "      <td>None</td>\n",
       "    </tr>\n",
       "    <tr>\n",
       "      <th>57720033</th>\n",
       "      <td>74679929</td>\n",
       "      <td>1</td>\n",
       "      <td>None</td>\n",
       "      <td>2022-12-04T18:58:43.193</td>\n",
       "      <td>0</td>\n",
       "      <td>Neural Networks Extending Learning Domain</td>\n",
       "      <td>&lt;p&gt;I have a simple function &lt;strong&gt;f&lt;/strong&gt;...</td>\n",
       "      <td>&lt;python&gt;&lt;pytorch&gt;</td>\n",
       "      <td>None</td>\n",
       "    </tr>\n",
       "    <tr>\n",
       "      <th>57720116</th>\n",
       "      <td>74680028</td>\n",
       "      <td>1</td>\n",
       "      <td>None</td>\n",
       "      <td>2022-12-04T19:10:58.143</td>\n",
       "      <td>-3</td>\n",
       "      <td>Is RTX 3060 compatible with PyTorch</td>\n",
       "      <td>&lt;p&gt;&lt;a href=\"https://i.stack.imgur.com/Kutov.jp...</td>\n",
       "      <td>&lt;pytorch&gt;&lt;gpu&gt;</td>\n",
       "      <td>None</td>\n",
       "    </tr>\n",
       "    <tr>\n",
       "      <th>57720451</th>\n",
       "      <td>74680391</td>\n",
       "      <td>1</td>\n",
       "      <td>None</td>\n",
       "      <td>2022-12-04T19:55:45.433</td>\n",
       "      <td>0</td>\n",
       "      <td>Pytorch: how is FSDP optimizer state sharding ...</td>\n",
       "      <td>&lt;p&gt;I've been to trying understand how pytorch ...</td>\n",
       "      <td>&lt;python&gt;&lt;pytorch&gt;</td>\n",
       "      <td>None</td>\n",
       "    </tr>\n",
       "    <tr>\n",
       "      <th>57720849</th>\n",
       "      <td>74680817</td>\n",
       "      <td>1</td>\n",
       "      <td>None</td>\n",
       "      <td>2022-12-04T20:50:55.927</td>\n",
       "      <td>0</td>\n",
       "      <td>How do I multiply tensors like this?</td>\n",
       "      <td>&lt;p&gt;I am working on a project where I need to m...</td>\n",
       "      <td>&lt;pytorch&gt;&lt;autograd&gt;</td>\n",
       "      <td>None</td>\n",
       "    </tr>\n",
       "  </tbody>\n",
       "</table>\n",
       "<p>19837 rows × 9 columns</p>\n",
       "</div>"
      ],
      "text/plain": [
       "         pt_post_id pt_post_type_id pt_accepted_answer_id  \\\n",
       "27837861   34750268               1              34762233   \n",
       "30769673   38543850               1              38676842   \n",
       "33236300   41767005               1              43824857   \n",
       "33275551   41818618               1                  None   \n",
       "33307877   41861354               1              54261158   \n",
       "...             ...             ...                   ...   \n",
       "57720026   74679922               1                  None   \n",
       "57720033   74679929               1                  None   \n",
       "57720116   74680028               1                  None   \n",
       "57720451   74680391               1                  None   \n",
       "57720849   74680817               1                  None   \n",
       "\n",
       "                 pt_creation_date pt_score  \\\n",
       "27837861  2016-01-12T17:36:25.473        9   \n",
       "30769673  2016-07-23T16:15:43.967       40   \n",
       "33236300  2017-01-20T15:22:08.063       11   \n",
       "33275551  2017-01-24T01:34:19.060        0   \n",
       "33307877  2017-01-25T20:45:35.297        8   \n",
       "...                           ...      ...   \n",
       "57720026  2022-12-04T18:58:11.630        0   \n",
       "57720033  2022-12-04T18:58:43.193        0   \n",
       "57720116  2022-12-04T19:10:58.143       -3   \n",
       "57720451  2022-12-04T19:55:45.433        0   \n",
       "57720849  2022-12-04T20:50:55.927        0   \n",
       "\n",
       "                                                   pt_title  \\\n",
       "27837861  Extracting the top-k value-indices from a 1-D ...   \n",
       "30769673  How to Display Custom Images in Tensorboard (e...   \n",
       "33236300                Python wheels: cp27mu not supported   \n",
       "33275551   PyTorch doesn't import after installing Anaconda   \n",
       "33307877     Loading Torch7 trained models (.t7) in PyTorch   \n",
       "...                                                     ...   \n",
       "57720026     BGR to RGB for CUB_200 images by Image.split()   \n",
       "57720033          Neural Networks Extending Learning Domain   \n",
       "57720116                Is RTX 3060 compatible with PyTorch   \n",
       "57720451  Pytorch: how is FSDP optimizer state sharding ...   \n",
       "57720849               How do I multiply tensors like this?   \n",
       "\n",
       "                                                    pt_body  \\\n",
       "27837861  <p>Given a 1-D tensor in Torch (<code>torch.Te...   \n",
       "30769673  <p>The <a href=\"https://github.com/tensorflow/...   \n",
       "33236300  <p>I'm trying to install pytorch (<a href=\"htt...   \n",
       "33275551  <p>I just installed PyTorch after installing A...   \n",
       "33307877  <p>I am using Torch7 library for implementing ...   \n",
       "...                                                     ...   \n",
       "57720026  <p>I am creating a PyTorch dataset and dataloa...   \n",
       "57720033  <p>I have a simple function <strong>f</strong>...   \n",
       "57720116  <p><a href=\"https://i.stack.imgur.com/Kutov.jp...   \n",
       "57720451  <p>I've been to trying understand how pytorch ...   \n",
       "57720849  <p>I am working on a project where I need to m...   \n",
       "\n",
       "                                                    pt_tags pt_parent_id  \n",
       "27837861                      <python><lua><pytorch><torch>         None  \n",
       "30769673  <python><tensorflow><matplotlib><pytorch><tens...         None  \n",
       "33236300                  <python><linux><unicode><pytorch>         None  \n",
       "33275551    <macos><python-3.x><ipython><anaconda><pytorch>         None  \n",
       "33307877   <python><lua><pytorch><torch><pre-trained-model>         None  \n",
       "...                                                     ...          ...  \n",
       "57720026       <python><image><pytorch><pytorch-dataloader>         None  \n",
       "57720033                                  <python><pytorch>         None  \n",
       "57720116                                     <pytorch><gpu>         None  \n",
       "57720451                                  <python><pytorch>         None  \n",
       "57720849                                <pytorch><autograd>         None  \n",
       "\n",
       "[19837 rows x 9 columns]"
      ]
     },
     "execution_count": 13,
     "metadata": {},
     "output_type": "execute_result"
    }
   ],
   "source": [
    "pt_questions_df"
   ]
  },
  {
   "cell_type": "markdown",
   "metadata": {},
   "source": [
    "### Lets split the dataframe into two parts\n",
    "\n",
    "1. Questions which has accepted answer\n",
    "2. Questions which doesn't have accepted answers"
   ]
  },
  {
   "cell_type": "code",
   "execution_count": 81,
   "metadata": {},
   "outputs": [],
   "source": [
    "questions_with_accepted_df = pt_questions_df[pt_questions_df.pt_accepted_answer_id.notna()]\n",
    "questions_without_accepted_df = pt_questions_df[pt_questions_df.pt_accepted_answer_id.isnull()]"
   ]
  },
  {
   "cell_type": "code",
   "execution_count": 82,
   "metadata": {},
   "outputs": [],
   "source": [
    "assert pt_questions_df.shape[0] == (questions_with_accepted_df.shape[0] + questions_without_accepted_df.shape[0])"
   ]
  },
  {
   "cell_type": "markdown",
   "metadata": {},
   "source": [
    "### For Each question in questions_with_accepted_df, lets query the database and find out the accepted answer post. \n",
    "\n",
    "To find the accepted answer from db, we need to query `AcceptedAnswerId` from question and search for `Id` as `AcceptedAnswerId` and `PostTypeId` == \"2\""
   ]
  },
  {
   "cell_type": "code",
   "execution_count": 83,
   "metadata": {},
   "outputs": [
    {
     "data": {
      "text/plain": [
       "(7558, 9)"
      ]
     },
     "execution_count": 83,
     "metadata": {},
     "output_type": "execute_result"
    }
   ],
   "source": [
    "questions_with_accepted_df.shape"
   ]
  },
  {
   "cell_type": "code",
   "execution_count": 84,
   "metadata": {},
   "outputs": [],
   "source": [
    "# questions_with_accepted_df.pt_post_id\n",
    "\n",
    "\n",
    "pt_answer_df = questions_df[questions_df.pt_parent_id.isin(questions_with_accepted_df.pt_post_id)]"
   ]
  },
  {
   "cell_type": "code",
   "execution_count": 85,
   "metadata": {},
   "outputs": [],
   "source": [
    "def concat_answers(row):\n",
    "    post_id = row[\"pt_post_id\"]\n",
    "    \n",
    "    answers = pt_answer_df[pt_answer_df[\"pt_parent_id\"] == post_id]\n",
    "    \n",
    "    answers_body = answers[\"pt_body\"]\n",
    "    \n",
    "    concat_answer = \"\"\n",
    "    for text in answers_body:\n",
    "        concat_answer += text\n",
    "        \n",
    "    return concat_answer\n",
    "        "
   ]
  },
  {
   "cell_type": "code",
   "execution_count": 86,
   "metadata": {},
   "outputs": [
    {
     "name": "stderr",
     "output_type": "stream",
     "text": [
      "/tmp/ipykernel_4289/1738785784.py:1: SettingWithCopyWarning: \n",
      "A value is trying to be set on a copy of a slice from a DataFrame.\n",
      "Try using .loc[row_indexer,col_indexer] = value instead\n",
      "\n",
      "See the caveats in the documentation: https://pandas.pydata.org/pandas-docs/stable/user_guide/indexing.html#returning-a-view-versus-a-copy\n",
      "  questions_with_accepted_df[\"context\"] = questions_with_accepted_df.apply(lambda x: concat_answers(x), axis=1)\n"
     ]
    }
   ],
   "source": [
    "questions_with_accepted_df[\"context\"] = questions_with_accepted_df.apply(lambda x: concat_answers(x), axis=1)"
   ]
  },
  {
   "cell_type": "code",
   "execution_count": 87,
   "metadata": {},
   "outputs": [
    {
     "data": {
      "text/plain": [
       "(7558, 10)"
      ]
     },
     "execution_count": 87,
     "metadata": {},
     "output_type": "execute_result"
    }
   ],
   "source": [
    "questions_with_accepted_df.shape"
   ]
  },
  {
   "cell_type": "code",
   "execution_count": null,
   "metadata": {},
   "outputs": [],
   "source": []
  },
  {
   "cell_type": "code",
   "execution_count": null,
   "metadata": {},
   "outputs": [],
   "source": []
  },
  {
   "cell_type": "code",
   "execution_count": null,
   "metadata": {},
   "outputs": [],
   "source": []
  },
  {
   "cell_type": "code",
   "execution_count": 88,
   "metadata": {},
   "outputs": [],
   "source": [
    "accepted_answer_df = questions_df[questions_df.pt_post_id.isin(questions_with_accepted_df.pt_accepted_answer_id)]"
   ]
  },
  {
   "cell_type": "code",
   "execution_count": 89,
   "metadata": {},
   "outputs": [
    {
     "data": {
      "text/plain": [
       "(7558, 9)"
      ]
     },
     "execution_count": 89,
     "metadata": {},
     "output_type": "execute_result"
    }
   ],
   "source": [
    "accepted_answer_df.shape"
   ]
  },
  {
   "cell_type": "code",
   "execution_count": 90,
   "metadata": {},
   "outputs": [
    {
     "data": {
      "text/plain": [
       "(7558, 10)"
      ]
     },
     "execution_count": 90,
     "metadata": {},
     "output_type": "execute_result"
    }
   ],
   "source": [
    "questions_with_accepted_df.shape"
   ]
  },
  {
   "cell_type": "code",
   "execution_count": 91,
   "metadata": {},
   "outputs": [
    {
     "name": "stderr",
     "output_type": "stream",
     "text": [
      "/tmp/ipykernel_4289/2780541840.py:1: SettingWithCopyWarning: \n",
      "A value is trying to be set on a copy of a slice from a DataFrame.\n",
      "Try using .loc[row_indexer,col_indexer] = value instead\n",
      "\n",
      "See the caveats in the documentation: https://pandas.pydata.org/pandas-docs/stable/user_guide/indexing.html#returning-a-view-versus-a-copy\n",
      "  accepted_answer_df[\"pt_accepted_answer_id\"] = accepted_answer_df[\"pt_post_id\"]\n"
     ]
    }
   ],
   "source": [
    "accepted_answer_df[\"pt_accepted_answer_id\"] = accepted_answer_df[\"pt_post_id\"]"
   ]
  },
  {
   "cell_type": "code",
   "execution_count": 92,
   "metadata": {},
   "outputs": [
    {
     "name": "stderr",
     "output_type": "stream",
     "text": [
      "/tmp/ipykernel_4289/2858781715.py:1: SettingWithCopyWarning: \n",
      "A value is trying to be set on a copy of a slice from a DataFrame\n",
      "\n",
      "See the caveats in the documentation: https://pandas.pydata.org/pandas-docs/stable/user_guide/indexing.html#returning-a-view-versus-a-copy\n",
      "  accepted_answer_df.rename({\"pt_body\": \"pt_answer\"}, inplace=True, axis=1)\n"
     ]
    }
   ],
   "source": [
    "accepted_answer_df.rename({\"pt_body\": \"pt_answer\"}, inplace=True, axis=1)"
   ]
  },
  {
   "cell_type": "code",
   "execution_count": 93,
   "metadata": {},
   "outputs": [
    {
     "data": {
      "text/plain": [
       "Index(['pt_post_id', 'pt_post_type_id', 'pt_accepted_answer_id',\n",
       "       'pt_creation_date', 'pt_score', 'pt_title', 'pt_answer', 'pt_tags',\n",
       "       'pt_parent_id'],\n",
       "      dtype='object')"
      ]
     },
     "execution_count": 93,
     "metadata": {},
     "output_type": "execute_result"
    }
   ],
   "source": [
    "accepted_answer_df.columns"
   ]
  },
  {
   "cell_type": "code",
   "execution_count": 94,
   "metadata": {},
   "outputs": [],
   "source": [
    "questions_with_accepted_df = questions_with_accepted_df.merge(accepted_answer_df[[\"pt_accepted_answer_id\", \"pt_answer\"]], how=\"inner\", on=[\"pt_accepted_answer_id\"])"
   ]
  },
  {
   "cell_type": "code",
   "execution_count": 95,
   "metadata": {},
   "outputs": [
    {
     "data": {
      "text/plain": [
       "(7558, 11)"
      ]
     },
     "execution_count": 95,
     "metadata": {},
     "output_type": "execute_result"
    }
   ],
   "source": [
    "questions_with_accepted_df.shape"
   ]
  },
  {
   "cell_type": "code",
   "execution_count": null,
   "metadata": {},
   "outputs": [],
   "source": []
  },
  {
   "cell_type": "code",
   "execution_count": null,
   "metadata": {},
   "outputs": [],
   "source": []
  },
  {
   "cell_type": "code",
   "execution_count": 96,
   "metadata": {},
   "outputs": [],
   "source": [
    "# assert questions_with_accepted_df.shape[0] == accepted_answer_df.shape[0]"
   ]
  },
  {
   "cell_type": "code",
   "execution_count": 97,
   "metadata": {},
   "outputs": [],
   "source": [
    "# accepted_answer_body_list = accepted_answer_df.pt_body.tolist()"
   ]
  },
  {
   "cell_type": "code",
   "execution_count": 98,
   "metadata": {},
   "outputs": [],
   "source": [
    "# questions_with_accepted_df[\"pt_answer\"] = accepted_answer_body_list"
   ]
  },
  {
   "cell_type": "code",
   "execution_count": 99,
   "metadata": {},
   "outputs": [],
   "source": [
    "# questions_with_accepted_df.shape"
   ]
  },
  {
   "cell_type": "code",
   "execution_count": 100,
   "metadata": {},
   "outputs": [],
   "source": [
    "questions_with_accepted_df[\"question\"] = questions_with_accepted_df[\"pt_title\"] + \" \" + questions_with_accepted_df[\"pt_body\"]"
   ]
  },
  {
   "cell_type": "code",
   "execution_count": 101,
   "metadata": {},
   "outputs": [
    {
     "data": {
      "text/html": [
       "<div>\n",
       "<style scoped>\n",
       "    .dataframe tbody tr th:only-of-type {\n",
       "        vertical-align: middle;\n",
       "    }\n",
       "\n",
       "    .dataframe tbody tr th {\n",
       "        vertical-align: top;\n",
       "    }\n",
       "\n",
       "    .dataframe thead th {\n",
       "        text-align: right;\n",
       "    }\n",
       "</style>\n",
       "<table border=\"1\" class=\"dataframe\">\n",
       "  <thead>\n",
       "    <tr style=\"text-align: right;\">\n",
       "      <th></th>\n",
       "      <th>pt_title</th>\n",
       "      <th>context</th>\n",
       "      <th>pt_answer</th>\n",
       "    </tr>\n",
       "  </thead>\n",
       "  <tbody>\n",
       "    <tr>\n",
       "      <th>0</th>\n",
       "      <td>Extracting the top-k value-indices from a 1-D ...</td>\n",
       "      <td>&lt;p&gt;Just loop through the tensor and run your c...</td>\n",
       "      <td>&lt;p&gt;As of pull request &lt;a href=\"https://github....</td>\n",
       "    </tr>\n",
       "    <tr>\n",
       "      <th>1</th>\n",
       "      <td>How to Display Custom Images in Tensorboard (e...</td>\n",
       "      <td>&lt;p&gt;It is quite easy to do if you have the imag...</td>\n",
       "      <td>&lt;p&gt;It is quite easy to do if you have the imag...</td>\n",
       "    </tr>\n",
       "    <tr>\n",
       "      <th>2</th>\n",
       "      <td>Python wheels: cp27mu not supported</td>\n",
       "      <td>&lt;p&gt;This is exactly that. \\nRecompile python un...</td>\n",
       "      <td>&lt;p&gt;This is exactly that. \\nRecompile python un...</td>\n",
       "    </tr>\n",
       "    <tr>\n",
       "      <th>3</th>\n",
       "      <td>Loading Torch7 trained models (.t7) in PyTorch</td>\n",
       "      <td>&lt;p&gt;The correct function is &lt;code&gt;load_lua&lt;/cod...</td>\n",
       "      <td>&lt;p&gt;As of PyTorch 1.0 &lt;code&gt;torch.utils.seriali...</td>\n",
       "    </tr>\n",
       "    <tr>\n",
       "      <th>4</th>\n",
       "      <td>PyTorch: How to use DataLoaders for custom Dat...</td>\n",
       "      <td>&lt;p&gt;Yes, that is possible. Just create the obje...</td>\n",
       "      <td>&lt;p&gt;Yes, that is possible. Just create the obje...</td>\n",
       "    </tr>\n",
       "  </tbody>\n",
       "</table>\n",
       "</div>"
      ],
      "text/plain": [
       "                                            pt_title  \\\n",
       "0  Extracting the top-k value-indices from a 1-D ...   \n",
       "1  How to Display Custom Images in Tensorboard (e...   \n",
       "2                Python wheels: cp27mu not supported   \n",
       "3     Loading Torch7 trained models (.t7) in PyTorch   \n",
       "4  PyTorch: How to use DataLoaders for custom Dat...   \n",
       "\n",
       "                                             context  \\\n",
       "0  <p>Just loop through the tensor and run your c...   \n",
       "1  <p>It is quite easy to do if you have the imag...   \n",
       "2  <p>This is exactly that. \\nRecompile python un...   \n",
       "3  <p>The correct function is <code>load_lua</cod...   \n",
       "4  <p>Yes, that is possible. Just create the obje...   \n",
       "\n",
       "                                           pt_answer  \n",
       "0  <p>As of pull request <a href=\"https://github....  \n",
       "1  <p>It is quite easy to do if you have the imag...  \n",
       "2  <p>This is exactly that. \\nRecompile python un...  \n",
       "3  <p>As of PyTorch 1.0 <code>torch.utils.seriali...  \n",
       "4  <p>Yes, that is possible. Just create the obje...  "
      ]
     },
     "execution_count": 101,
     "metadata": {},
     "output_type": "execute_result"
    }
   ],
   "source": [
    "questions_with_accepted_df[[\"pt_title\", \"context\", \"pt_answer\"]][:5]"
   ]
  },
  {
   "cell_type": "code",
   "execution_count": 103,
   "metadata": {},
   "outputs": [
    {
     "data": {
      "text/html": [
       "<div>\n",
       "<style scoped>\n",
       "    .dataframe tbody tr th:only-of-type {\n",
       "        vertical-align: middle;\n",
       "    }\n",
       "\n",
       "    .dataframe tbody tr th {\n",
       "        vertical-align: top;\n",
       "    }\n",
       "\n",
       "    .dataframe thead th {\n",
       "        text-align: right;\n",
       "    }\n",
       "</style>\n",
       "<table border=\"1\" class=\"dataframe\">\n",
       "  <thead>\n",
       "    <tr style=\"text-align: right;\">\n",
       "      <th></th>\n",
       "      <th>pt_post_id</th>\n",
       "      <th>pt_post_type_id</th>\n",
       "      <th>pt_accepted_answer_id</th>\n",
       "      <th>pt_creation_date</th>\n",
       "      <th>pt_score</th>\n",
       "      <th>pt_title</th>\n",
       "      <th>pt_body</th>\n",
       "      <th>pt_tags</th>\n",
       "      <th>pt_parent_id</th>\n",
       "      <th>context</th>\n",
       "      <th>pt_answer</th>\n",
       "      <th>question</th>\n",
       "    </tr>\n",
       "  </thead>\n",
       "  <tbody>\n",
       "    <tr>\n",
       "      <th>0</th>\n",
       "      <td>34750268</td>\n",
       "      <td>1</td>\n",
       "      <td>34762233</td>\n",
       "      <td>2016-01-12T17:36:25.473</td>\n",
       "      <td>9</td>\n",
       "      <td>Extracting the top-k value-indices from a 1-D ...</td>\n",
       "      <td>&lt;p&gt;Given a 1-D tensor in Torch (&lt;code&gt;torch.Te...</td>\n",
       "      <td>&lt;python&gt;&lt;lua&gt;&lt;pytorch&gt;&lt;torch&gt;</td>\n",
       "      <td>None</td>\n",
       "      <td>&lt;p&gt;Just loop through the tensor and run your c...</td>\n",
       "      <td>&lt;p&gt;As of pull request &lt;a href=\"https://github....</td>\n",
       "      <td>Extracting the top-k value-indices from a 1-D ...</td>\n",
       "    </tr>\n",
       "    <tr>\n",
       "      <th>1</th>\n",
       "      <td>38543850</td>\n",
       "      <td>1</td>\n",
       "      <td>38676842</td>\n",
       "      <td>2016-07-23T16:15:43.967</td>\n",
       "      <td>40</td>\n",
       "      <td>How to Display Custom Images in Tensorboard (e...</td>\n",
       "      <td>&lt;p&gt;The &lt;a href=\"https://github.com/tensorflow/...</td>\n",
       "      <td>&lt;python&gt;&lt;tensorflow&gt;&lt;matplotlib&gt;&lt;pytorch&gt;&lt;tens...</td>\n",
       "      <td>None</td>\n",
       "      <td>&lt;p&gt;It is quite easy to do if you have the imag...</td>\n",
       "      <td>&lt;p&gt;It is quite easy to do if you have the imag...</td>\n",
       "      <td>How to Display Custom Images in Tensorboard (e...</td>\n",
       "    </tr>\n",
       "    <tr>\n",
       "      <th>2</th>\n",
       "      <td>41767005</td>\n",
       "      <td>1</td>\n",
       "      <td>43824857</td>\n",
       "      <td>2017-01-20T15:22:08.063</td>\n",
       "      <td>11</td>\n",
       "      <td>Python wheels: cp27mu not supported</td>\n",
       "      <td>&lt;p&gt;I'm trying to install pytorch (&lt;a href=\"htt...</td>\n",
       "      <td>&lt;python&gt;&lt;linux&gt;&lt;unicode&gt;&lt;pytorch&gt;</td>\n",
       "      <td>None</td>\n",
       "      <td>&lt;p&gt;This is exactly that. \\nRecompile python un...</td>\n",
       "      <td>&lt;p&gt;This is exactly that. \\nRecompile python un...</td>\n",
       "      <td>Python wheels: cp27mu not supported &lt;p&gt;I'm try...</td>\n",
       "    </tr>\n",
       "    <tr>\n",
       "      <th>3</th>\n",
       "      <td>41861354</td>\n",
       "      <td>1</td>\n",
       "      <td>54261158</td>\n",
       "      <td>2017-01-25T20:45:35.297</td>\n",
       "      <td>8</td>\n",
       "      <td>Loading Torch7 trained models (.t7) in PyTorch</td>\n",
       "      <td>&lt;p&gt;I am using Torch7 library for implementing ...</td>\n",
       "      <td>&lt;python&gt;&lt;lua&gt;&lt;pytorch&gt;&lt;torch&gt;&lt;pre-trained-model&gt;</td>\n",
       "      <td>None</td>\n",
       "      <td>&lt;p&gt;The correct function is &lt;code&gt;load_lua&lt;/cod...</td>\n",
       "      <td>&lt;p&gt;As of PyTorch 1.0 &lt;code&gt;torch.utils.seriali...</td>\n",
       "      <td>Loading Torch7 trained models (.t7) in PyTorch...</td>\n",
       "    </tr>\n",
       "    <tr>\n",
       "      <th>4</th>\n",
       "      <td>41924453</td>\n",
       "      <td>1</td>\n",
       "      <td>42054194</td>\n",
       "      <td>2017-01-29T18:31:24.687</td>\n",
       "      <td>65</td>\n",
       "      <td>PyTorch: How to use DataLoaders for custom Dat...</td>\n",
       "      <td>&lt;p&gt;How to make use of the &lt;code&gt;torch.utils.da...</td>\n",
       "      <td>&lt;python&gt;&lt;torch&gt;&lt;pytorch&gt;</td>\n",
       "      <td>None</td>\n",
       "      <td>&lt;p&gt;Yes, that is possible. Just create the obje...</td>\n",
       "      <td>&lt;p&gt;Yes, that is possible. Just create the obje...</td>\n",
       "      <td>PyTorch: How to use DataLoaders for custom Dat...</td>\n",
       "    </tr>\n",
       "    <tr>\n",
       "      <th>...</th>\n",
       "      <td>...</td>\n",
       "      <td>...</td>\n",
       "      <td>...</td>\n",
       "      <td>...</td>\n",
       "      <td>...</td>\n",
       "      <td>...</td>\n",
       "      <td>...</td>\n",
       "      <td>...</td>\n",
       "      <td>...</td>\n",
       "      <td>...</td>\n",
       "      <td>...</td>\n",
       "      <td>...</td>\n",
       "    </tr>\n",
       "    <tr>\n",
       "      <th>7553</th>\n",
       "      <td>74644993</td>\n",
       "      <td>1</td>\n",
       "      <td>74645308</td>\n",
       "      <td>2022-12-01T16:18:26.423</td>\n",
       "      <td>0</td>\n",
       "      <td>FashionMNIST Dataset not transforming to Tensor</td>\n",
       "      <td>&lt;p&gt;Trying to calculate the mean and standard d...</td>\n",
       "      <td>&lt;python&gt;&lt;pytorch&gt;&lt;tensor&gt;&lt;mnist&gt;&lt;torchvision&gt;</td>\n",
       "      <td>None</td>\n",
       "      <td>&lt;p&gt;&lt;code&gt;datasets.FashionMNIST&lt;/code&gt; returns ...</td>\n",
       "      <td>&lt;p&gt;&lt;code&gt;datasets.FashionMNIST&lt;/code&gt; returns ...</td>\n",
       "      <td>FashionMNIST Dataset not transforming to Tenso...</td>\n",
       "    </tr>\n",
       "    <tr>\n",
       "      <th>7554</th>\n",
       "      <td>74650187</td>\n",
       "      <td>1</td>\n",
       "      <td>74651024</td>\n",
       "      <td>2022-12-02T02:15:48.957</td>\n",
       "      <td>0</td>\n",
       "      <td>conv2d() received an invalid combination of ar...</td>\n",
       "      <td>&lt;p&gt;After resnet convolution, I want to further...</td>\n",
       "      <td>&lt;pytorch&gt;</td>\n",
       "      <td>None</td>\n",
       "      <td>&lt;p&gt;The error is likely to be caused by the fol...</td>\n",
       "      <td>&lt;p&gt;The error is likely to be caused by the fol...</td>\n",
       "      <td>conv2d() received an invalid combination of ar...</td>\n",
       "    </tr>\n",
       "    <tr>\n",
       "      <th>7555</th>\n",
       "      <td>74654315</td>\n",
       "      <td>1</td>\n",
       "      <td>74654375</td>\n",
       "      <td>2022-12-02T10:32:00.940</td>\n",
       "      <td>2</td>\n",
       "      <td>Load and Retrain PyTorch model…</td>\n",
       "      <td>&lt;p&gt;&lt;strong&gt;Hi all!&lt;/strong&gt;  Can you help me? ...</td>\n",
       "      <td>&lt;python&gt;&lt;pytorch&gt;&lt;artificial-intelligence&gt;</td>\n",
       "      <td>None</td>\n",
       "      <td>&lt;p&gt;To retrain a PyTorch model with just a .pt ...</td>\n",
       "      <td>&lt;p&gt;To retrain a PyTorch model with just a .pt ...</td>\n",
       "      <td>Load and Retrain PyTorch model… &lt;p&gt;&lt;strong&gt;Hi ...</td>\n",
       "    </tr>\n",
       "    <tr>\n",
       "      <th>7556</th>\n",
       "      <td>74664418</td>\n",
       "      <td>1</td>\n",
       "      <td>74664458</td>\n",
       "      <td>2022-12-03T06:17:15.340</td>\n",
       "      <td>1</td>\n",
       "      <td>In pytorch torchscript, how to define mutiple ...</td>\n",
       "      <td>&lt;p&gt;Have a torch model as follow :&lt;/p&gt;\\n&lt;pre&gt;&lt;c...</td>\n",
       "      <td>&lt;pytorch&gt;&lt;onnx&gt;&lt;onnxruntime&gt;&lt;torchscript&gt;</td>\n",
       "      <td>None</td>\n",
       "      <td>&lt;p&gt;Yes, you can define multiple entry points i...</td>\n",
       "      <td>&lt;p&gt;Yes, you can define multiple entry points i...</td>\n",
       "      <td>In pytorch torchscript, how to define mutiple ...</td>\n",
       "    </tr>\n",
       "    <tr>\n",
       "      <th>7557</th>\n",
       "      <td>74669022</td>\n",
       "      <td>1</td>\n",
       "      <td>74671846</td>\n",
       "      <td>2022-12-03T17:28:14.337</td>\n",
       "      <td>1</td>\n",
       "      <td>Pytorch lightning logger doesn't work as expected</td>\n",
       "      <td>&lt;p&gt;Good evening,&lt;/p&gt;\\n&lt;p&gt;I am a beginner in Py...</td>\n",
       "      <td>&lt;machine-learning&gt;&lt;deep-learning&gt;&lt;pytorch&gt;&lt;neu...</td>\n",
       "      <td>None</td>\n",
       "      <td>&lt;p&gt;It looks like the test_step method is loggi...</td>\n",
       "      <td>&lt;p&gt;It looks like the test_step method is loggi...</td>\n",
       "      <td>Pytorch lightning logger doesn't work as expec...</td>\n",
       "    </tr>\n",
       "  </tbody>\n",
       "</table>\n",
       "<p>7558 rows × 12 columns</p>\n",
       "</div>"
      ],
      "text/plain": [
       "     pt_post_id pt_post_type_id pt_accepted_answer_id  \\\n",
       "0      34750268               1              34762233   \n",
       "1      38543850               1              38676842   \n",
       "2      41767005               1              43824857   \n",
       "3      41861354               1              54261158   \n",
       "4      41924453               1              42054194   \n",
       "...         ...             ...                   ...   \n",
       "7553   74644993               1              74645308   \n",
       "7554   74650187               1              74651024   \n",
       "7555   74654315               1              74654375   \n",
       "7556   74664418               1              74664458   \n",
       "7557   74669022               1              74671846   \n",
       "\n",
       "             pt_creation_date pt_score  \\\n",
       "0     2016-01-12T17:36:25.473        9   \n",
       "1     2016-07-23T16:15:43.967       40   \n",
       "2     2017-01-20T15:22:08.063       11   \n",
       "3     2017-01-25T20:45:35.297        8   \n",
       "4     2017-01-29T18:31:24.687       65   \n",
       "...                       ...      ...   \n",
       "7553  2022-12-01T16:18:26.423        0   \n",
       "7554  2022-12-02T02:15:48.957        0   \n",
       "7555  2022-12-02T10:32:00.940        2   \n",
       "7556  2022-12-03T06:17:15.340        1   \n",
       "7557  2022-12-03T17:28:14.337        1   \n",
       "\n",
       "                                               pt_title  \\\n",
       "0     Extracting the top-k value-indices from a 1-D ...   \n",
       "1     How to Display Custom Images in Tensorboard (e...   \n",
       "2                   Python wheels: cp27mu not supported   \n",
       "3        Loading Torch7 trained models (.t7) in PyTorch   \n",
       "4     PyTorch: How to use DataLoaders for custom Dat...   \n",
       "...                                                 ...   \n",
       "7553    FashionMNIST Dataset not transforming to Tensor   \n",
       "7554  conv2d() received an invalid combination of ar...   \n",
       "7555                    Load and Retrain PyTorch model…   \n",
       "7556  In pytorch torchscript, how to define mutiple ...   \n",
       "7557  Pytorch lightning logger doesn't work as expected   \n",
       "\n",
       "                                                pt_body  \\\n",
       "0     <p>Given a 1-D tensor in Torch (<code>torch.Te...   \n",
       "1     <p>The <a href=\"https://github.com/tensorflow/...   \n",
       "2     <p>I'm trying to install pytorch (<a href=\"htt...   \n",
       "3     <p>I am using Torch7 library for implementing ...   \n",
       "4     <p>How to make use of the <code>torch.utils.da...   \n",
       "...                                                 ...   \n",
       "7553  <p>Trying to calculate the mean and standard d...   \n",
       "7554  <p>After resnet convolution, I want to further...   \n",
       "7555  <p><strong>Hi all!</strong>  Can you help me? ...   \n",
       "7556  <p>Have a torch model as follow :</p>\\n<pre><c...   \n",
       "7557  <p>Good evening,</p>\\n<p>I am a beginner in Py...   \n",
       "\n",
       "                                                pt_tags pt_parent_id  \\\n",
       "0                         <python><lua><pytorch><torch>         None   \n",
       "1     <python><tensorflow><matplotlib><pytorch><tens...         None   \n",
       "2                     <python><linux><unicode><pytorch>         None   \n",
       "3      <python><lua><pytorch><torch><pre-trained-model>         None   \n",
       "4                              <python><torch><pytorch>         None   \n",
       "...                                                 ...          ...   \n",
       "7553      <python><pytorch><tensor><mnist><torchvision>         None   \n",
       "7554                                          <pytorch>         None   \n",
       "7555         <python><pytorch><artificial-intelligence>         None   \n",
       "7556          <pytorch><onnx><onnxruntime><torchscript>         None   \n",
       "7557  <machine-learning><deep-learning><pytorch><neu...         None   \n",
       "\n",
       "                                                context  \\\n",
       "0     <p>Just loop through the tensor and run your c...   \n",
       "1     <p>It is quite easy to do if you have the imag...   \n",
       "2     <p>This is exactly that. \\nRecompile python un...   \n",
       "3     <p>The correct function is <code>load_lua</cod...   \n",
       "4     <p>Yes, that is possible. Just create the obje...   \n",
       "...                                                 ...   \n",
       "7553  <p><code>datasets.FashionMNIST</code> returns ...   \n",
       "7554  <p>The error is likely to be caused by the fol...   \n",
       "7555  <p>To retrain a PyTorch model with just a .pt ...   \n",
       "7556  <p>Yes, you can define multiple entry points i...   \n",
       "7557  <p>It looks like the test_step method is loggi...   \n",
       "\n",
       "                                              pt_answer  \\\n",
       "0     <p>As of pull request <a href=\"https://github....   \n",
       "1     <p>It is quite easy to do if you have the imag...   \n",
       "2     <p>This is exactly that. \\nRecompile python un...   \n",
       "3     <p>As of PyTorch 1.0 <code>torch.utils.seriali...   \n",
       "4     <p>Yes, that is possible. Just create the obje...   \n",
       "...                                                 ...   \n",
       "7553  <p><code>datasets.FashionMNIST</code> returns ...   \n",
       "7554  <p>The error is likely to be caused by the fol...   \n",
       "7555  <p>To retrain a PyTorch model with just a .pt ...   \n",
       "7556  <p>Yes, you can define multiple entry points i...   \n",
       "7557  <p>It looks like the test_step method is loggi...   \n",
       "\n",
       "                                               question  \n",
       "0     Extracting the top-k value-indices from a 1-D ...  \n",
       "1     How to Display Custom Images in Tensorboard (e...  \n",
       "2     Python wheels: cp27mu not supported <p>I'm try...  \n",
       "3     Loading Torch7 trained models (.t7) in PyTorch...  \n",
       "4     PyTorch: How to use DataLoaders for custom Dat...  \n",
       "...                                                 ...  \n",
       "7553  FashionMNIST Dataset not transforming to Tenso...  \n",
       "7554  conv2d() received an invalid combination of ar...  \n",
       "7555  Load and Retrain PyTorch model… <p><strong>Hi ...  \n",
       "7556  In pytorch torchscript, how to define mutiple ...  \n",
       "7557  Pytorch lightning logger doesn't work as expec...  \n",
       "\n",
       "[7558 rows x 12 columns]"
      ]
     },
     "execution_count": 103,
     "metadata": {},
     "output_type": "execute_result"
    }
   ],
   "source": [
    "questions_with_accepted_df"
   ]
  },
  {
   "cell_type": "code",
   "execution_count": 104,
   "metadata": {},
   "outputs": [],
   "source": [
    "questions_with_accepted_df.to_csv(\"questions_with_accepted_df_updated.csv\", index=False)"
   ]
  },
  {
   "cell_type": "code",
   "execution_count": null,
   "metadata": {},
   "outputs": [],
   "source": []
  },
  {
   "cell_type": "code",
   "execution_count": null,
   "metadata": {},
   "outputs": [],
   "source": []
  },
  {
   "cell_type": "code",
   "execution_count": null,
   "metadata": {},
   "outputs": [],
   "source": []
  },
  {
   "cell_type": "code",
   "execution_count": null,
   "metadata": {},
   "outputs": [],
   "source": []
  },
  {
   "cell_type": "code",
   "execution_count": null,
   "metadata": {},
   "outputs": [],
   "source": []
  },
  {
   "cell_type": "code",
   "execution_count": null,
   "metadata": {},
   "outputs": [],
   "source": []
  },
  {
   "cell_type": "code",
   "execution_count": null,
   "metadata": {},
   "outputs": [],
   "source": []
  },
  {
   "cell_type": "code",
   "execution_count": null,
   "metadata": {},
   "outputs": [],
   "source": []
  },
  {
   "cell_type": "code",
   "execution_count": null,
   "metadata": {},
   "outputs": [],
   "source": []
  },
  {
   "cell_type": "code",
   "execution_count": null,
   "metadata": {},
   "outputs": [],
   "source": []
  },
  {
   "cell_type": "code",
   "execution_count": null,
   "metadata": {},
   "outputs": [],
   "source": []
  },
  {
   "cell_type": "code",
   "execution_count": null,
   "metadata": {},
   "outputs": [],
   "source": []
  },
  {
   "cell_type": "markdown",
   "metadata": {},
   "source": [
    "### For questions without accepted answers"
   ]
  },
  {
   "cell_type": "markdown",
   "metadata": {},
   "source": [
    "#### From the whole dump lets extract the rows which contains only answers"
   ]
  },
  {
   "cell_type": "code",
   "execution_count": 105,
   "metadata": {},
   "outputs": [],
   "source": [
    "answers_df = questions_df[questions_df.pt_post_type_id == \"2\"]"
   ]
  },
  {
   "cell_type": "code",
   "execution_count": 106,
   "metadata": {},
   "outputs": [
    {
     "data": {
      "text/plain": [
       "(34337401, 9)"
      ]
     },
     "execution_count": 106,
     "metadata": {},
     "output_type": "execute_result"
    }
   ],
   "source": [
    "answers_df.shape"
   ]
  },
  {
   "cell_type": "markdown",
   "metadata": {},
   "source": [
    "#### Extract the rows where the parent id matches the post id of not accepted df"
   ]
  },
  {
   "cell_type": "code",
   "execution_count": 161,
   "metadata": {},
   "outputs": [
    {
     "data": {
      "text/plain": [
       "(12279, 9)"
      ]
     },
     "execution_count": 161,
     "metadata": {},
     "output_type": "execute_result"
    }
   ],
   "source": [
    "questions_without_accepted_df.shape"
   ]
  },
  {
   "cell_type": "code",
   "execution_count": 162,
   "metadata": {},
   "outputs": [],
   "source": [
    "answers_not_accepted_df = answers_df[answers_df.pt_parent_id.isin(questions_without_accepted_df.pt_post_id)]"
   ]
  },
  {
   "cell_type": "code",
   "execution_count": 163,
   "metadata": {},
   "outputs": [
    {
     "data": {
      "text/plain": [
       "(8596, 9)"
      ]
     },
     "execution_count": 163,
     "metadata": {},
     "output_type": "execute_result"
    }
   ],
   "source": [
    "answers_not_accepted_df.shape"
   ]
  },
  {
   "cell_type": "code",
   "execution_count": 164,
   "metadata": {},
   "outputs": [
    {
     "data": {
      "text/plain": [
       "6638"
      ]
     },
     "execution_count": 164,
     "metadata": {},
     "output_type": "execute_result"
    }
   ],
   "source": [
    "answers_not_accepted_df.pt_parent_id.nunique()"
   ]
  },
  {
   "cell_type": "code",
   "execution_count": 165,
   "metadata": {},
   "outputs": [
    {
     "name": "stderr",
     "output_type": "stream",
     "text": [
      "/tmp/ipykernel_4289/1522789096.py:1: SettingWithCopyWarning: \n",
      "A value is trying to be set on a copy of a slice from a DataFrame\n",
      "\n",
      "See the caveats in the documentation: https://pandas.pydata.org/pandas-docs/stable/user_guide/indexing.html#returning-a-view-versus-a-copy\n",
      "  answers_not_accepted_df.sort_values(by=[\"pt_score\"], inplace=True, ascending=False)\n"
     ]
    }
   ],
   "source": [
    "answers_not_accepted_df.sort_values(by=[\"pt_score\"], inplace=True, ascending=False)"
   ]
  },
  {
   "cell_type": "code",
   "execution_count": 166,
   "metadata": {},
   "outputs": [
    {
     "name": "stderr",
     "output_type": "stream",
     "text": [
      "/tmp/ipykernel_4289/2539725451.py:1: SettingWithCopyWarning: \n",
      "A value is trying to be set on a copy of a slice from a DataFrame.\n",
      "Try using .loc[row_indexer,col_indexer] = value instead\n",
      "\n",
      "See the caveats in the documentation: https://pandas.pydata.org/pandas-docs/stable/user_guide/indexing.html#returning-a-view-versus-a-copy\n",
      "  answers_not_accepted_df[\"pt_score\"] = answers_not_accepted_df[\"pt_score\"].astype(int)\n"
     ]
    }
   ],
   "source": [
    "answers_not_accepted_df[\"pt_score\"] = answers_not_accepted_df[\"pt_score\"].astype(int)"
   ]
  },
  {
   "cell_type": "code",
   "execution_count": 167,
   "metadata": {},
   "outputs": [],
   "source": [
    "parent_id_with_max_score_df = answers_not_accepted_df[answers_not_accepted_df.pt_score>=1].groupby(\"pt_parent_id\", sort=False)[\"pt_score\"].max().reset_index()\n",
    "\n"
   ]
  },
  {
   "cell_type": "code",
   "execution_count": 168,
   "metadata": {},
   "outputs": [
    {
     "data": {
      "text/plain": [
       "3205"
      ]
     },
     "execution_count": 168,
     "metadata": {},
     "output_type": "execute_result"
    }
   ],
   "source": [
    "parent_id_with_max_score_df.pt_parent_id.nunique()"
   ]
  },
  {
   "cell_type": "code",
   "execution_count": 169,
   "metadata": {},
   "outputs": [],
   "source": [
    "answers_not_accepted_df = answers_not_accepted_df.merge(parent_id_with_max_score_df, on=['pt_parent_id', 'pt_score'], how=\"inner\")[[\"pt_parent_id\", \"pt_body\"]]"
   ]
  },
  {
   "cell_type": "code",
   "execution_count": 170,
   "metadata": {},
   "outputs": [],
   "source": [
    "answers_not_accepted_df.rename(columns={\"pt_parent_id\": \"pt_post_id\", \"pt_body\": \"pt_answer\"}, inplace=True)"
   ]
  },
  {
   "cell_type": "code",
   "execution_count": 171,
   "metadata": {},
   "outputs": [
    {
     "data": {
      "text/plain": [
       "(3362, 2)"
      ]
     },
     "execution_count": 171,
     "metadata": {},
     "output_type": "execute_result"
    }
   ],
   "source": [
    "answers_not_accepted_df.shape"
   ]
  },
  {
   "cell_type": "code",
   "execution_count": 172,
   "metadata": {},
   "outputs": [],
   "source": [
    "answers_without_accepted_df = questions_without_accepted_df.merge(answers_not_accepted_df, on=\"pt_post_id\", how=\"inner\")"
   ]
  },
  {
   "cell_type": "code",
   "execution_count": 173,
   "metadata": {},
   "outputs": [
    {
     "data": {
      "text/plain": [
       "(3362, 10)"
      ]
     },
     "execution_count": 173,
     "metadata": {},
     "output_type": "execute_result"
    }
   ],
   "source": [
    "answers_without_accepted_df.shape"
   ]
  },
  {
   "cell_type": "code",
   "execution_count": 174,
   "metadata": {},
   "outputs": [
    {
     "data": {
      "text/plain": [
       "Index(['pt_post_id', 'pt_post_type_id', 'pt_accepted_answer_id',\n",
       "       'pt_creation_date', 'pt_score', 'pt_title', 'pt_body', 'pt_tags',\n",
       "       'pt_parent_id', 'context', 'pt_answer', 'question'],\n",
       "      dtype='object')"
      ]
     },
     "execution_count": 174,
     "metadata": {},
     "output_type": "execute_result"
    }
   ],
   "source": [
    "questions_with_accepted_df.columns"
   ]
  },
  {
   "cell_type": "code",
   "execution_count": 175,
   "metadata": {},
   "outputs": [
    {
     "data": {
      "text/plain": [
       "Index(['pt_post_id', 'pt_post_type_id', 'pt_accepted_answer_id',\n",
       "       'pt_creation_date', 'pt_score', 'pt_title', 'pt_body', 'pt_tags',\n",
       "       'pt_parent_id', 'pt_answer'],\n",
       "      dtype='object')"
      ]
     },
     "execution_count": 175,
     "metadata": {},
     "output_type": "execute_result"
    }
   ],
   "source": [
    "answers_without_accepted_df.columns"
   ]
  },
  {
   "cell_type": "code",
   "execution_count": 176,
   "metadata": {},
   "outputs": [
    {
     "data": {
      "text/html": [
       "<div>\n",
       "<style scoped>\n",
       "    .dataframe tbody tr th:only-of-type {\n",
       "        vertical-align: middle;\n",
       "    }\n",
       "\n",
       "    .dataframe tbody tr th {\n",
       "        vertical-align: top;\n",
       "    }\n",
       "\n",
       "    .dataframe thead th {\n",
       "        text-align: right;\n",
       "    }\n",
       "</style>\n",
       "<table border=\"1\" class=\"dataframe\">\n",
       "  <thead>\n",
       "    <tr style=\"text-align: right;\">\n",
       "      <th></th>\n",
       "      <th>pt_post_id</th>\n",
       "      <th>pt_title</th>\n",
       "      <th>pt_body</th>\n",
       "      <th>pt_answer</th>\n",
       "      <th>pt_score</th>\n",
       "    </tr>\n",
       "  </thead>\n",
       "  <tbody>\n",
       "    <tr>\n",
       "      <th>0</th>\n",
       "      <td>41818618</td>\n",
       "      <td>PyTorch doesn't import after installing Anaconda</td>\n",
       "      <td>&lt;p&gt;I just installed PyTorch after installing A...</td>\n",
       "      <td>&lt;p&gt;While the framework name is Pytorch, it mus...</td>\n",
       "      <td>0</td>\n",
       "    </tr>\n",
       "    <tr>\n",
       "      <th>1</th>\n",
       "      <td>42636323</td>\n",
       "      <td>Explanation behind actor-critic algorithm in p...</td>\n",
       "      <td>&lt;p&gt;Pytorch provides a good example of using ac...</td>\n",
       "      <td>&lt;ul&gt;\\n&lt;li&gt;&lt;p&gt;First the rewards a collected for...</td>\n",
       "      <td>0</td>\n",
       "    </tr>\n",
       "    <tr>\n",
       "      <th>2</th>\n",
       "      <td>42795226</td>\n",
       "      <td>Pytorch and Polynomial Linear Regression issue</td>\n",
       "      <td>&lt;p&gt;I have modified the code hat I found on the...</td>\n",
       "      <td>&lt;p&gt;There are a couple of things that contribut...</td>\n",
       "      <td>1</td>\n",
       "    </tr>\n",
       "    <tr>\n",
       "      <th>3</th>\n",
       "      <td>43104252</td>\n",
       "      <td>undefined symbol: PySlice_AdjustIndices when i...</td>\n",
       "      <td>&lt;p&gt;I am trying to use PyTorch, and I think the...</td>\n",
       "      <td>&lt;p&gt;I have the same problem, maybe the build is...</td>\n",
       "      <td>5</td>\n",
       "    </tr>\n",
       "    <tr>\n",
       "      <th>4</th>\n",
       "      <td>43367075</td>\n",
       "      <td>Pytorch .backward() method without CUDA</td>\n",
       "      <td>&lt;p&gt;I am trying to run the code in the &lt;a href=...</td>\n",
       "      <td>&lt;p&gt;You should transfer you network, inputs, an...</td>\n",
       "      <td>2</td>\n",
       "    </tr>\n",
       "    <tr>\n",
       "      <th>...</th>\n",
       "      <td>...</td>\n",
       "      <td>...</td>\n",
       "      <td>...</td>\n",
       "      <td>...</td>\n",
       "      <td>...</td>\n",
       "    </tr>\n",
       "    <tr>\n",
       "      <th>3357</th>\n",
       "      <td>74612146</td>\n",
       "      <td>Is it possible to perform quantization on dens...</td>\n",
       "      <td>&lt;p&gt;I have been trying to performing quantizati...</td>\n",
       "      <td>&lt;p&gt;Here's how to do this on DenseNet169 from t...</td>\n",
       "      <td>0</td>\n",
       "    </tr>\n",
       "    <tr>\n",
       "      <th>3358</th>\n",
       "      <td>74637151</td>\n",
       "      <td>Why when the batch size increased, the epoch t...</td>\n",
       "      <td>&lt;p&gt;Epoch time means the time required to train...</td>\n",
       "      <td>&lt;p&gt;As you already noticed, there are many fact...</td>\n",
       "      <td>1</td>\n",
       "    </tr>\n",
       "    <tr>\n",
       "      <th>3359</th>\n",
       "      <td>74642594</td>\n",
       "      <td>Why does StableDiffusionPipeline return black ...</td>\n",
       "      <td>&lt;p&gt;I am using the &lt;a href=\"https://github.com/...</td>\n",
       "      <td>&lt;p&gt;Apparently it is indeed an Apple Silicon (M...</td>\n",
       "      <td>0</td>\n",
       "    </tr>\n",
       "    <tr>\n",
       "      <th>3360</th>\n",
       "      <td>74671399</td>\n",
       "      <td>Locating tags in a string in PHP (with respect...</td>\n",
       "      <td>&lt;p&gt;I want to create a function that labels the...</td>\n",
       "      <td>&lt;p&gt;I think I've got something. How about this:...</td>\n",
       "      <td>1</td>\n",
       "    </tr>\n",
       "    <tr>\n",
       "      <th>3361</th>\n",
       "      <td>74679922</td>\n",
       "      <td>BGR to RGB for CUB_200 images by Image.split()</td>\n",
       "      <td>&lt;p&gt;I am creating a PyTorch dataset and dataloa...</td>\n",
       "      <td>&lt;p&gt;I would strongly recommend you use skimage....</td>\n",
       "      <td>0</td>\n",
       "    </tr>\n",
       "  </tbody>\n",
       "</table>\n",
       "<p>3362 rows × 5 columns</p>\n",
       "</div>"
      ],
      "text/plain": [
       "     pt_post_id                                           pt_title  \\\n",
       "0      41818618   PyTorch doesn't import after installing Anaconda   \n",
       "1      42636323  Explanation behind actor-critic algorithm in p...   \n",
       "2      42795226     Pytorch and Polynomial Linear Regression issue   \n",
       "3      43104252  undefined symbol: PySlice_AdjustIndices when i...   \n",
       "4      43367075            Pytorch .backward() method without CUDA   \n",
       "...         ...                                                ...   \n",
       "3357   74612146  Is it possible to perform quantization on dens...   \n",
       "3358   74637151  Why when the batch size increased, the epoch t...   \n",
       "3359   74642594  Why does StableDiffusionPipeline return black ...   \n",
       "3360   74671399  Locating tags in a string in PHP (with respect...   \n",
       "3361   74679922     BGR to RGB for CUB_200 images by Image.split()   \n",
       "\n",
       "                                                pt_body  \\\n",
       "0     <p>I just installed PyTorch after installing A...   \n",
       "1     <p>Pytorch provides a good example of using ac...   \n",
       "2     <p>I have modified the code hat I found on the...   \n",
       "3     <p>I am trying to use PyTorch, and I think the...   \n",
       "4     <p>I am trying to run the code in the <a href=...   \n",
       "...                                                 ...   \n",
       "3357  <p>I have been trying to performing quantizati...   \n",
       "3358  <p>Epoch time means the time required to train...   \n",
       "3359  <p>I am using the <a href=\"https://github.com/...   \n",
       "3360  <p>I want to create a function that labels the...   \n",
       "3361  <p>I am creating a PyTorch dataset and dataloa...   \n",
       "\n",
       "                                              pt_answer pt_score  \n",
       "0     <p>While the framework name is Pytorch, it mus...        0  \n",
       "1     <ul>\\n<li><p>First the rewards a collected for...        0  \n",
       "2     <p>There are a couple of things that contribut...        1  \n",
       "3     <p>I have the same problem, maybe the build is...        5  \n",
       "4     <p>You should transfer you network, inputs, an...        2  \n",
       "...                                                 ...      ...  \n",
       "3357  <p>Here's how to do this on DenseNet169 from t...        0  \n",
       "3358  <p>As you already noticed, there are many fact...        1  \n",
       "3359  <p>Apparently it is indeed an Apple Silicon (M...        0  \n",
       "3360  <p>I think I've got something. How about this:...        1  \n",
       "3361  <p>I would strongly recommend you use skimage....        0  \n",
       "\n",
       "[3362 rows x 5 columns]"
      ]
     },
     "execution_count": 176,
     "metadata": {},
     "output_type": "execute_result"
    }
   ],
   "source": [
    "answers_without_accepted_df[[\"pt_post_id\", \"pt_title\", \"pt_body\", \"pt_answer\", \"pt_score\"]]"
   ]
  },
  {
   "cell_type": "code",
   "execution_count": 182,
   "metadata": {},
   "outputs": [
    {
     "data": {
      "text/plain": [
       "(3362, 10)"
      ]
     },
     "execution_count": 182,
     "metadata": {},
     "output_type": "execute_result"
    }
   ],
   "source": [
    "answers_without_accepted_df.shape"
   ]
  },
  {
   "cell_type": "code",
   "execution_count": 183,
   "metadata": {},
   "outputs": [
    {
     "data": {
      "text/plain": [
       "3205"
      ]
     },
     "execution_count": 183,
     "metadata": {},
     "output_type": "execute_result"
    }
   ],
   "source": [
    "answers_without_accepted_df.pt_post_id.nunique()"
   ]
  },
  {
   "cell_type": "code",
   "execution_count": 187,
   "metadata": {},
   "outputs": [],
   "source": [
    "answers_without_accepted_df = answers_without_accepted_df.drop_duplicates(\"pt_post_id\", keep=\"first\")"
   ]
  },
  {
   "cell_type": "code",
   "execution_count": 189,
   "metadata": {},
   "outputs": [
    {
     "data": {
      "text/plain": [
       "(3205, 10)"
      ]
     },
     "execution_count": 189,
     "metadata": {},
     "output_type": "execute_result"
    }
   ],
   "source": [
    "answers_without_accepted_df.shape"
   ]
  },
  {
   "cell_type": "code",
   "execution_count": 196,
   "metadata": {},
   "outputs": [
    {
     "data": {
      "text/html": [
       "<div>\n",
       "<style scoped>\n",
       "    .dataframe tbody tr th:only-of-type {\n",
       "        vertical-align: middle;\n",
       "    }\n",
       "\n",
       "    .dataframe tbody tr th {\n",
       "        vertical-align: top;\n",
       "    }\n",
       "\n",
       "    .dataframe thead th {\n",
       "        text-align: right;\n",
       "    }\n",
       "</style>\n",
       "<table border=\"1\" class=\"dataframe\">\n",
       "  <thead>\n",
       "    <tr style=\"text-align: right;\">\n",
       "      <th></th>\n",
       "      <th>pt_post_id</th>\n",
       "      <th>pt_title</th>\n",
       "      <th>pt_body</th>\n",
       "      <th>pt_answer</th>\n",
       "    </tr>\n",
       "  </thead>\n",
       "  <tbody>\n",
       "    <tr>\n",
       "      <th>0</th>\n",
       "      <td>41818618</td>\n",
       "      <td>PyTorch doesn't import after installing Anaconda</td>\n",
       "      <td>&lt;p&gt;I just installed PyTorch after installing A...</td>\n",
       "      <td>&lt;p&gt;While the framework name is Pytorch, it mus...</td>\n",
       "    </tr>\n",
       "    <tr>\n",
       "      <th>1</th>\n",
       "      <td>42636323</td>\n",
       "      <td>Explanation behind actor-critic algorithm in p...</td>\n",
       "      <td>&lt;p&gt;Pytorch provides a good example of using ac...</td>\n",
       "      <td>&lt;ul&gt;\\n&lt;li&gt;&lt;p&gt;First the rewards a collected for...</td>\n",
       "    </tr>\n",
       "    <tr>\n",
       "      <th>2</th>\n",
       "      <td>42795226</td>\n",
       "      <td>Pytorch and Polynomial Linear Regression issue</td>\n",
       "      <td>&lt;p&gt;I have modified the code hat I found on the...</td>\n",
       "      <td>&lt;p&gt;There are a couple of things that contribut...</td>\n",
       "    </tr>\n",
       "    <tr>\n",
       "      <th>3</th>\n",
       "      <td>43104252</td>\n",
       "      <td>undefined symbol: PySlice_AdjustIndices when i...</td>\n",
       "      <td>&lt;p&gt;I am trying to use PyTorch, and I think the...</td>\n",
       "      <td>&lt;p&gt;I have the same problem, maybe the build is...</td>\n",
       "    </tr>\n",
       "    <tr>\n",
       "      <th>4</th>\n",
       "      <td>43367075</td>\n",
       "      <td>Pytorch .backward() method without CUDA</td>\n",
       "      <td>&lt;p&gt;I am trying to run the code in the &lt;a href=...</td>\n",
       "      <td>&lt;p&gt;You should transfer you network, inputs, an...</td>\n",
       "    </tr>\n",
       "    <tr>\n",
       "      <th>...</th>\n",
       "      <td>...</td>\n",
       "      <td>...</td>\n",
       "      <td>...</td>\n",
       "      <td>...</td>\n",
       "    </tr>\n",
       "    <tr>\n",
       "      <th>3357</th>\n",
       "      <td>74612146</td>\n",
       "      <td>Is it possible to perform quantization on dens...</td>\n",
       "      <td>&lt;p&gt;I have been trying to performing quantizati...</td>\n",
       "      <td>&lt;p&gt;Here's how to do this on DenseNet169 from t...</td>\n",
       "    </tr>\n",
       "    <tr>\n",
       "      <th>3358</th>\n",
       "      <td>74637151</td>\n",
       "      <td>Why when the batch size increased, the epoch t...</td>\n",
       "      <td>&lt;p&gt;Epoch time means the time required to train...</td>\n",
       "      <td>&lt;p&gt;As you already noticed, there are many fact...</td>\n",
       "    </tr>\n",
       "    <tr>\n",
       "      <th>3359</th>\n",
       "      <td>74642594</td>\n",
       "      <td>Why does StableDiffusionPipeline return black ...</td>\n",
       "      <td>&lt;p&gt;I am using the &lt;a href=\"https://github.com/...</td>\n",
       "      <td>&lt;p&gt;Apparently it is indeed an Apple Silicon (M...</td>\n",
       "    </tr>\n",
       "    <tr>\n",
       "      <th>3360</th>\n",
       "      <td>74671399</td>\n",
       "      <td>Locating tags in a string in PHP (with respect...</td>\n",
       "      <td>&lt;p&gt;I want to create a function that labels the...</td>\n",
       "      <td>&lt;p&gt;I think I've got something. How about this:...</td>\n",
       "    </tr>\n",
       "    <tr>\n",
       "      <th>3361</th>\n",
       "      <td>74679922</td>\n",
       "      <td>BGR to RGB for CUB_200 images by Image.split()</td>\n",
       "      <td>&lt;p&gt;I am creating a PyTorch dataset and dataloa...</td>\n",
       "      <td>&lt;p&gt;I would strongly recommend you use skimage....</td>\n",
       "    </tr>\n",
       "  </tbody>\n",
       "</table>\n",
       "<p>3205 rows × 4 columns</p>\n",
       "</div>"
      ],
      "text/plain": [
       "     pt_post_id                                           pt_title  \\\n",
       "0      41818618   PyTorch doesn't import after installing Anaconda   \n",
       "1      42636323  Explanation behind actor-critic algorithm in p...   \n",
       "2      42795226     Pytorch and Polynomial Linear Regression issue   \n",
       "3      43104252  undefined symbol: PySlice_AdjustIndices when i...   \n",
       "4      43367075            Pytorch .backward() method without CUDA   \n",
       "...         ...                                                ...   \n",
       "3357   74612146  Is it possible to perform quantization on dens...   \n",
       "3358   74637151  Why when the batch size increased, the epoch t...   \n",
       "3359   74642594  Why does StableDiffusionPipeline return black ...   \n",
       "3360   74671399  Locating tags in a string in PHP (with respect...   \n",
       "3361   74679922     BGR to RGB for CUB_200 images by Image.split()   \n",
       "\n",
       "                                                pt_body  \\\n",
       "0     <p>I just installed PyTorch after installing A...   \n",
       "1     <p>Pytorch provides a good example of using ac...   \n",
       "2     <p>I have modified the code hat I found on the...   \n",
       "3     <p>I am trying to use PyTorch, and I think the...   \n",
       "4     <p>I am trying to run the code in the <a href=...   \n",
       "...                                                 ...   \n",
       "3357  <p>I have been trying to performing quantizati...   \n",
       "3358  <p>Epoch time means the time required to train...   \n",
       "3359  <p>I am using the <a href=\"https://github.com/...   \n",
       "3360  <p>I want to create a function that labels the...   \n",
       "3361  <p>I am creating a PyTorch dataset and dataloa...   \n",
       "\n",
       "                                              pt_answer  \n",
       "0     <p>While the framework name is Pytorch, it mus...  \n",
       "1     <ul>\\n<li><p>First the rewards a collected for...  \n",
       "2     <p>There are a couple of things that contribut...  \n",
       "3     <p>I have the same problem, maybe the build is...  \n",
       "4     <p>You should transfer you network, inputs, an...  \n",
       "...                                                 ...  \n",
       "3357  <p>Here's how to do this on DenseNet169 from t...  \n",
       "3358  <p>As you already noticed, there are many fact...  \n",
       "3359  <p>Apparently it is indeed an Apple Silicon (M...  \n",
       "3360  <p>I think I've got something. How about this:...  \n",
       "3361  <p>I would strongly recommend you use skimage....  \n",
       "\n",
       "[3205 rows x 4 columns]"
      ]
     },
     "execution_count": 196,
     "metadata": {},
     "output_type": "execute_result"
    }
   ],
   "source": [
    "answers_without_accepted_df[[\"pt_post_id\", \"pt_title\", \"pt_body\", \"pt_answer\"]]"
   ]
  },
  {
   "cell_type": "code",
   "execution_count": 198,
   "metadata": {},
   "outputs": [
    {
     "data": {
      "text/plain": [
       "Index(['pt_post_id', 'pt_post_type_id', 'pt_accepted_answer_id',\n",
       "       'pt_creation_date', 'pt_score', 'pt_title', 'pt_body', 'pt_tags',\n",
       "       'pt_parent_id', 'pt_answer'],\n",
       "      dtype='object')"
      ]
     },
     "execution_count": 198,
     "metadata": {},
     "output_type": "execute_result"
    }
   ],
   "source": [
    "answers_without_accepted_df.columns"
   ]
  },
  {
   "cell_type": "code",
   "execution_count": 211,
   "metadata": {},
   "outputs": [],
   "source": [
    "relevant_answers_df = answers_df[answers_df.pt_parent_id.isin(answers_without_accepted_df.pt_post_id)]"
   ]
  },
  {
   "cell_type": "code",
   "execution_count": 212,
   "metadata": {},
   "outputs": [],
   "source": [
    "def concat_answers_for_not_accepted(row):\n",
    "    post_id = row[\"pt_post_id\"]\n",
    "    \n",
    "    answers = relevant_answers_df[relevant_answers_df[\"pt_parent_id\"] == post_id]\n",
    "    \n",
    "    answers_body = answers[\"pt_body\"]\n",
    "    \n",
    "    concat_answer = \"\"\n",
    "    for text in answers_body:\n",
    "        concat_answer += text\n",
    "        \n",
    "    return concat_answer\n",
    "        "
   ]
  },
  {
   "cell_type": "code",
   "execution_count": 213,
   "metadata": {},
   "outputs": [
    {
     "name": "stderr",
     "output_type": "stream",
     "text": [
      "100%|█████████████████████████████████████████████████████████████████████████████████████████████████████████████████████████████████████████████████████████████████| 3205/3205 [00:03<00:00, 1039.79it/s]\n",
      "/tmp/ipykernel_4289/1324009287.py:1: SettingWithCopyWarning: \n",
      "A value is trying to be set on a copy of a slice from a DataFrame.\n",
      "Try using .loc[row_indexer,col_indexer] = value instead\n",
      "\n",
      "See the caveats in the documentation: https://pandas.pydata.org/pandas-docs/stable/user_guide/indexing.html#returning-a-view-versus-a-copy\n",
      "  answers_without_accepted_df[\"context\"] = answers_without_accepted_df.progress_apply(lambda x: concat_answers_for_not_accepted(x), axis=1)\n"
     ]
    }
   ],
   "source": [
    "answers_without_accepted_df[\"context\"] = answers_without_accepted_df.progress_apply(lambda x: concat_answers_for_not_accepted(x), axis=1)"
   ]
  },
  {
   "cell_type": "code",
   "execution_count": 215,
   "metadata": {},
   "outputs": [
    {
     "data": {
      "text/html": [
       "<div>\n",
       "<style scoped>\n",
       "    .dataframe tbody tr th:only-of-type {\n",
       "        vertical-align: middle;\n",
       "    }\n",
       "\n",
       "    .dataframe tbody tr th {\n",
       "        vertical-align: top;\n",
       "    }\n",
       "\n",
       "    .dataframe thead th {\n",
       "        text-align: right;\n",
       "    }\n",
       "</style>\n",
       "<table border=\"1\" class=\"dataframe\">\n",
       "  <thead>\n",
       "    <tr style=\"text-align: right;\">\n",
       "      <th></th>\n",
       "      <th>pt_post_id</th>\n",
       "      <th>pt_title</th>\n",
       "      <th>pt_body</th>\n",
       "      <th>context</th>\n",
       "      <th>pt_answer</th>\n",
       "    </tr>\n",
       "  </thead>\n",
       "  <tbody>\n",
       "    <tr>\n",
       "      <th>0</th>\n",
       "      <td>41818618</td>\n",
       "      <td>PyTorch doesn't import after installing Anaconda</td>\n",
       "      <td>&lt;p&gt;I just installed PyTorch after installing A...</td>\n",
       "      <td>&lt;p&gt;The Py Torch package might have installed t...</td>\n",
       "      <td>&lt;p&gt;While the framework name is Pytorch, it mus...</td>\n",
       "    </tr>\n",
       "    <tr>\n",
       "      <th>1</th>\n",
       "      <td>42636323</td>\n",
       "      <td>Explanation behind actor-critic algorithm in p...</td>\n",
       "      <td>&lt;p&gt;Pytorch provides a good example of using ac...</td>\n",
       "      <td>&lt;ul&gt;\\n&lt;li&gt;&lt;p&gt;First the rewards a collected for...</td>\n",
       "      <td>&lt;ul&gt;\\n&lt;li&gt;&lt;p&gt;First the rewards a collected for...</td>\n",
       "    </tr>\n",
       "    <tr>\n",
       "      <th>2</th>\n",
       "      <td>42795226</td>\n",
       "      <td>Pytorch and Polynomial Linear Regression issue</td>\n",
       "      <td>&lt;p&gt;I have modified the code hat I found on the...</td>\n",
       "      <td>&lt;p&gt;There are a couple of things that contribut...</td>\n",
       "      <td>&lt;p&gt;There are a couple of things that contribut...</td>\n",
       "    </tr>\n",
       "    <tr>\n",
       "      <th>3</th>\n",
       "      <td>43104252</td>\n",
       "      <td>undefined symbol: PySlice_AdjustIndices when i...</td>\n",
       "      <td>&lt;p&gt;I am trying to use PyTorch, and I think the...</td>\n",
       "      <td>&lt;p&gt;I have the same problem, maybe the build is...</td>\n",
       "      <td>&lt;p&gt;I have the same problem, maybe the build is...</td>\n",
       "    </tr>\n",
       "    <tr>\n",
       "      <th>4</th>\n",
       "      <td>43367075</td>\n",
       "      <td>Pytorch .backward() method without CUDA</td>\n",
       "      <td>&lt;p&gt;I am trying to run the code in the &lt;a href=...</td>\n",
       "      <td>&lt;p&gt;You should transfer you network, inputs, an...</td>\n",
       "      <td>&lt;p&gt;You should transfer you network, inputs, an...</td>\n",
       "    </tr>\n",
       "    <tr>\n",
       "      <th>...</th>\n",
       "      <td>...</td>\n",
       "      <td>...</td>\n",
       "      <td>...</td>\n",
       "      <td>...</td>\n",
       "      <td>...</td>\n",
       "    </tr>\n",
       "    <tr>\n",
       "      <th>3357</th>\n",
       "      <td>74612146</td>\n",
       "      <td>Is it possible to perform quantization on dens...</td>\n",
       "      <td>&lt;p&gt;I have been trying to performing quantizati...</td>\n",
       "      <td>&lt;p&gt;Here's how to do this on DenseNet169 from t...</td>\n",
       "      <td>&lt;p&gt;Here's how to do this on DenseNet169 from t...</td>\n",
       "    </tr>\n",
       "    <tr>\n",
       "      <th>3358</th>\n",
       "      <td>74637151</td>\n",
       "      <td>Why when the batch size increased, the epoch t...</td>\n",
       "      <td>&lt;p&gt;Epoch time means the time required to train...</td>\n",
       "      <td>&lt;p&gt;As you already noticed, there are many fact...</td>\n",
       "      <td>&lt;p&gt;As you already noticed, there are many fact...</td>\n",
       "    </tr>\n",
       "    <tr>\n",
       "      <th>3359</th>\n",
       "      <td>74642594</td>\n",
       "      <td>Why does StableDiffusionPipeline return black ...</td>\n",
       "      <td>&lt;p&gt;I am using the &lt;a href=\"https://github.com/...</td>\n",
       "      <td>&lt;p&gt;Apparently it is indeed an Apple Silicon (M...</td>\n",
       "      <td>&lt;p&gt;Apparently it is indeed an Apple Silicon (M...</td>\n",
       "    </tr>\n",
       "    <tr>\n",
       "      <th>3360</th>\n",
       "      <td>74671399</td>\n",
       "      <td>Locating tags in a string in PHP (with respect...</td>\n",
       "      <td>&lt;p&gt;I want to create a function that labels the...</td>\n",
       "      <td>&lt;p&gt;I think I've got something. How about this:...</td>\n",
       "      <td>&lt;p&gt;I think I've got something. How about this:...</td>\n",
       "    </tr>\n",
       "    <tr>\n",
       "      <th>3361</th>\n",
       "      <td>74679922</td>\n",
       "      <td>BGR to RGB for CUB_200 images by Image.split()</td>\n",
       "      <td>&lt;p&gt;I am creating a PyTorch dataset and dataloa...</td>\n",
       "      <td>&lt;p&gt;I would strongly recommend you use skimage....</td>\n",
       "      <td>&lt;p&gt;I would strongly recommend you use skimage....</td>\n",
       "    </tr>\n",
       "  </tbody>\n",
       "</table>\n",
       "<p>3205 rows × 5 columns</p>\n",
       "</div>"
      ],
      "text/plain": [
       "     pt_post_id                                           pt_title  \\\n",
       "0      41818618   PyTorch doesn't import after installing Anaconda   \n",
       "1      42636323  Explanation behind actor-critic algorithm in p...   \n",
       "2      42795226     Pytorch and Polynomial Linear Regression issue   \n",
       "3      43104252  undefined symbol: PySlice_AdjustIndices when i...   \n",
       "4      43367075            Pytorch .backward() method without CUDA   \n",
       "...         ...                                                ...   \n",
       "3357   74612146  Is it possible to perform quantization on dens...   \n",
       "3358   74637151  Why when the batch size increased, the epoch t...   \n",
       "3359   74642594  Why does StableDiffusionPipeline return black ...   \n",
       "3360   74671399  Locating tags in a string in PHP (with respect...   \n",
       "3361   74679922     BGR to RGB for CUB_200 images by Image.split()   \n",
       "\n",
       "                                                pt_body  \\\n",
       "0     <p>I just installed PyTorch after installing A...   \n",
       "1     <p>Pytorch provides a good example of using ac...   \n",
       "2     <p>I have modified the code hat I found on the...   \n",
       "3     <p>I am trying to use PyTorch, and I think the...   \n",
       "4     <p>I am trying to run the code in the <a href=...   \n",
       "...                                                 ...   \n",
       "3357  <p>I have been trying to performing quantizati...   \n",
       "3358  <p>Epoch time means the time required to train...   \n",
       "3359  <p>I am using the <a href=\"https://github.com/...   \n",
       "3360  <p>I want to create a function that labels the...   \n",
       "3361  <p>I am creating a PyTorch dataset and dataloa...   \n",
       "\n",
       "                                                context  \\\n",
       "0     <p>The Py Torch package might have installed t...   \n",
       "1     <ul>\\n<li><p>First the rewards a collected for...   \n",
       "2     <p>There are a couple of things that contribut...   \n",
       "3     <p>I have the same problem, maybe the build is...   \n",
       "4     <p>You should transfer you network, inputs, an...   \n",
       "...                                                 ...   \n",
       "3357  <p>Here's how to do this on DenseNet169 from t...   \n",
       "3358  <p>As you already noticed, there are many fact...   \n",
       "3359  <p>Apparently it is indeed an Apple Silicon (M...   \n",
       "3360  <p>I think I've got something. How about this:...   \n",
       "3361  <p>I would strongly recommend you use skimage....   \n",
       "\n",
       "                                              pt_answer  \n",
       "0     <p>While the framework name is Pytorch, it mus...  \n",
       "1     <ul>\\n<li><p>First the rewards a collected for...  \n",
       "2     <p>There are a couple of things that contribut...  \n",
       "3     <p>I have the same problem, maybe the build is...  \n",
       "4     <p>You should transfer you network, inputs, an...  \n",
       "...                                                 ...  \n",
       "3357  <p>Here's how to do this on DenseNet169 from t...  \n",
       "3358  <p>As you already noticed, there are many fact...  \n",
       "3359  <p>Apparently it is indeed an Apple Silicon (M...  \n",
       "3360  <p>I think I've got something. How about this:...  \n",
       "3361  <p>I would strongly recommend you use skimage....  \n",
       "\n",
       "[3205 rows x 5 columns]"
      ]
     },
     "execution_count": 215,
     "metadata": {},
     "output_type": "execute_result"
    }
   ],
   "source": [
    "answers_without_accepted_df[[\"pt_post_id\", \"pt_title\", \"pt_body\", \"context\", \"pt_answer\"]]"
   ]
  },
  {
   "cell_type": "code",
   "execution_count": 221,
   "metadata": {},
   "outputs": [],
   "source": [
    "answers_without_accepted_df.to_csv(\"questions_without_accepted_df_updated.csv\", index=False)"
   ]
  },
  {
   "cell_type": "code",
   "execution_count": null,
   "metadata": {},
   "outputs": [],
   "source": []
  },
  {
   "cell_type": "code",
   "execution_count": null,
   "metadata": {},
   "outputs": [],
   "source": []
  },
  {
   "cell_type": "code",
   "execution_count": null,
   "metadata": {},
   "outputs": [],
   "source": []
  },
  {
   "cell_type": "code",
   "execution_count": null,
   "metadata": {},
   "outputs": [],
   "source": []
  },
  {
   "cell_type": "code",
   "execution_count": 222,
   "metadata": {},
   "outputs": [
    {
     "data": {
      "text/plain": [
       "Index(['pt_post_id', 'pt_post_type_id', 'pt_accepted_answer_id',\n",
       "       'pt_creation_date', 'pt_score', 'pt_title', 'pt_body', 'pt_tags',\n",
       "       'pt_parent_id', 'context', 'pt_answer', 'question'],\n",
       "      dtype='object')"
      ]
     },
     "execution_count": 222,
     "metadata": {},
     "output_type": "execute_result"
    }
   ],
   "source": [
    "questions_with_accepted_df.columns"
   ]
  },
  {
   "cell_type": "code",
   "execution_count": 223,
   "metadata": {},
   "outputs": [
    {
     "data": {
      "text/plain": [
       "Index(['pt_post_id', 'pt_post_type_id', 'pt_accepted_answer_id',\n",
       "       'pt_creation_date', 'pt_score', 'pt_title', 'pt_body', 'pt_tags',\n",
       "       'pt_parent_id', 'pt_answer', 'context'],\n",
       "      dtype='object')"
      ]
     },
     "execution_count": 223,
     "metadata": {},
     "output_type": "execute_result"
    }
   ],
   "source": [
    "answers_without_accepted_df.columns"
   ]
  },
  {
   "cell_type": "code",
   "execution_count": 224,
   "metadata": {},
   "outputs": [],
   "source": [
    "pt_question_answers_df = pd.concat([questions_with_accepted_df, answers_without_accepted_df], axis=0)"
   ]
  },
  {
   "cell_type": "code",
   "execution_count": 225,
   "metadata": {},
   "outputs": [],
   "source": [
    "pt_question_answers_df.to_csv(\"pt_question_answers.csv\", index=False)"
   ]
  },
  {
   "cell_type": "code",
   "execution_count": null,
   "metadata": {},
   "outputs": [],
   "source": []
  },
  {
   "cell_type": "code",
   "execution_count": null,
   "metadata": {},
   "outputs": [],
   "source": []
  }
 ],
 "metadata": {
  "kernelspec": {
   "display_name": "Python 3",
   "language": "python",
   "name": "python3"
  },
  "language_info": {
   "codemirror_mode": {
    "name": "ipython",
    "version": 3
   },
   "file_extension": ".py",
   "mimetype": "text/x-python",
   "name": "python",
   "nbconvert_exporter": "python",
   "pygments_lexer": "ipython3",
   "version": "3.8.2"
  }
 },
 "nbformat": 4,
 "nbformat_minor": 5
}
